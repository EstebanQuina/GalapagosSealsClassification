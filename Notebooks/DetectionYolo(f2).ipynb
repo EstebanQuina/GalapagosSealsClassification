{
  "nbformat": 4,
  "nbformat_minor": 0,
  "metadata": {
    "colab": {
      "provenance": [],
      "gpuType": "T4"
    },
    "kernelspec": {
      "name": "python3",
      "display_name": "Python 3"
    },
    "language_info": {
      "name": "python"
    },
    "accelerator": "GPU"
  },
  "cells": [
    {
      "cell_type": "code",
      "execution_count": null,
      "metadata": {
        "colab": {
          "base_uri": "https://localhost:8080/"
        },
        "id": "4QMV84xxBBeB",
        "outputId": "aa7767d2-0ae9-465b-bdfd-ea2ff4d6bb3c"
      },
      "outputs": [
        {
          "output_type": "stream",
          "name": "stdout",
          "text": [
            "Mounted at /content/drive\n"
          ]
        }
      ],
      "source": [
        "from google.colab import drive\n",
        "drive.mount('/content/drive')"
      ]
    },
    {
      "cell_type": "code",
      "source": [
        "!pip install ultralytics"
      ],
      "metadata": {
        "colab": {
          "base_uri": "https://localhost:8080/"
        },
        "id": "q0ggXPt5BPqN",
        "outputId": "0d1987fe-341e-4e66-8318-e27bdc79792a"
      },
      "execution_count": null,
      "outputs": [
        {
          "output_type": "stream",
          "name": "stdout",
          "text": [
            "Requirement already satisfied: ultralytics in /usr/local/lib/python3.12/dist-packages (8.3.188)\n",
            "Requirement already satisfied: numpy>=1.23.0 in /usr/local/lib/python3.12/dist-packages (from ultralytics) (2.0.2)\n",
            "Requirement already satisfied: matplotlib>=3.3.0 in /usr/local/lib/python3.12/dist-packages (from ultralytics) (3.10.0)\n",
            "Requirement already satisfied: opencv-python>=4.6.0 in /usr/local/lib/python3.12/dist-packages (from ultralytics) (4.12.0.88)\n",
            "Requirement already satisfied: pillow>=7.1.2 in /usr/local/lib/python3.12/dist-packages (from ultralytics) (11.3.0)\n",
            "Requirement already satisfied: pyyaml>=5.3.1 in /usr/local/lib/python3.12/dist-packages (from ultralytics) (6.0.2)\n",
            "Requirement already satisfied: requests>=2.23.0 in /usr/local/lib/python3.12/dist-packages (from ultralytics) (2.32.4)\n",
            "Requirement already satisfied: scipy>=1.4.1 in /usr/local/lib/python3.12/dist-packages (from ultralytics) (1.16.1)\n",
            "Requirement already satisfied: torch>=1.8.0 in /usr/local/lib/python3.12/dist-packages (from ultralytics) (2.8.0+cu126)\n",
            "Requirement already satisfied: torchvision>=0.9.0 in /usr/local/lib/python3.12/dist-packages (from ultralytics) (0.23.0+cu126)\n",
            "Requirement already satisfied: psutil in /usr/local/lib/python3.12/dist-packages (from ultralytics) (5.9.5)\n",
            "Requirement already satisfied: py-cpuinfo in /usr/local/lib/python3.12/dist-packages (from ultralytics) (9.0.0)\n",
            "Requirement already satisfied: polars in /usr/local/lib/python3.12/dist-packages (from ultralytics) (1.25.2)\n",
            "Requirement already satisfied: ultralytics-thop>=2.0.0 in /usr/local/lib/python3.12/dist-packages (from ultralytics) (2.0.16)\n",
            "Requirement already satisfied: contourpy>=1.0.1 in /usr/local/lib/python3.12/dist-packages (from matplotlib>=3.3.0->ultralytics) (1.3.3)\n",
            "Requirement already satisfied: cycler>=0.10 in /usr/local/lib/python3.12/dist-packages (from matplotlib>=3.3.0->ultralytics) (0.12.1)\n",
            "Requirement already satisfied: fonttools>=4.22.0 in /usr/local/lib/python3.12/dist-packages (from matplotlib>=3.3.0->ultralytics) (4.59.1)\n",
            "Requirement already satisfied: kiwisolver>=1.3.1 in /usr/local/lib/python3.12/dist-packages (from matplotlib>=3.3.0->ultralytics) (1.4.9)\n",
            "Requirement already satisfied: packaging>=20.0 in /usr/local/lib/python3.12/dist-packages (from matplotlib>=3.3.0->ultralytics) (25.0)\n",
            "Requirement already satisfied: pyparsing>=2.3.1 in /usr/local/lib/python3.12/dist-packages (from matplotlib>=3.3.0->ultralytics) (3.2.3)\n",
            "Requirement already satisfied: python-dateutil>=2.7 in /usr/local/lib/python3.12/dist-packages (from matplotlib>=3.3.0->ultralytics) (2.9.0.post0)\n",
            "Requirement already satisfied: charset_normalizer<4,>=2 in /usr/local/lib/python3.12/dist-packages (from requests>=2.23.0->ultralytics) (3.4.3)\n",
            "Requirement already satisfied: idna<4,>=2.5 in /usr/local/lib/python3.12/dist-packages (from requests>=2.23.0->ultralytics) (3.10)\n",
            "Requirement already satisfied: urllib3<3,>=1.21.1 in /usr/local/lib/python3.12/dist-packages (from requests>=2.23.0->ultralytics) (2.5.0)\n",
            "Requirement already satisfied: certifi>=2017.4.17 in /usr/local/lib/python3.12/dist-packages (from requests>=2.23.0->ultralytics) (2025.8.3)\n",
            "Requirement already satisfied: filelock in /usr/local/lib/python3.12/dist-packages (from torch>=1.8.0->ultralytics) (3.19.1)\n",
            "Requirement already satisfied: typing-extensions>=4.10.0 in /usr/local/lib/python3.12/dist-packages (from torch>=1.8.0->ultralytics) (4.15.0)\n",
            "Requirement already satisfied: setuptools in /usr/local/lib/python3.12/dist-packages (from torch>=1.8.0->ultralytics) (75.2.0)\n",
            "Requirement already satisfied: sympy>=1.13.3 in /usr/local/lib/python3.12/dist-packages (from torch>=1.8.0->ultralytics) (1.13.3)\n",
            "Requirement already satisfied: networkx in /usr/local/lib/python3.12/dist-packages (from torch>=1.8.0->ultralytics) (3.5)\n",
            "Requirement already satisfied: jinja2 in /usr/local/lib/python3.12/dist-packages (from torch>=1.8.0->ultralytics) (3.1.6)\n",
            "Requirement already satisfied: fsspec in /usr/local/lib/python3.12/dist-packages (from torch>=1.8.0->ultralytics) (2025.3.0)\n",
            "Requirement already satisfied: nvidia-cuda-nvrtc-cu12==12.6.77 in /usr/local/lib/python3.12/dist-packages (from torch>=1.8.0->ultralytics) (12.6.77)\n",
            "Requirement already satisfied: nvidia-cuda-runtime-cu12==12.6.77 in /usr/local/lib/python3.12/dist-packages (from torch>=1.8.0->ultralytics) (12.6.77)\n",
            "Requirement already satisfied: nvidia-cuda-cupti-cu12==12.6.80 in /usr/local/lib/python3.12/dist-packages (from torch>=1.8.0->ultralytics) (12.6.80)\n",
            "Requirement already satisfied: nvidia-cudnn-cu12==9.10.2.21 in /usr/local/lib/python3.12/dist-packages (from torch>=1.8.0->ultralytics) (9.10.2.21)\n",
            "Requirement already satisfied: nvidia-cublas-cu12==12.6.4.1 in /usr/local/lib/python3.12/dist-packages (from torch>=1.8.0->ultralytics) (12.6.4.1)\n",
            "Requirement already satisfied: nvidia-cufft-cu12==11.3.0.4 in /usr/local/lib/python3.12/dist-packages (from torch>=1.8.0->ultralytics) (11.3.0.4)\n",
            "Requirement already satisfied: nvidia-curand-cu12==10.3.7.77 in /usr/local/lib/python3.12/dist-packages (from torch>=1.8.0->ultralytics) (10.3.7.77)\n",
            "Requirement already satisfied: nvidia-cusolver-cu12==11.7.1.2 in /usr/local/lib/python3.12/dist-packages (from torch>=1.8.0->ultralytics) (11.7.1.2)\n",
            "Requirement already satisfied: nvidia-cusparse-cu12==12.5.4.2 in /usr/local/lib/python3.12/dist-packages (from torch>=1.8.0->ultralytics) (12.5.4.2)\n",
            "Requirement already satisfied: nvidia-cusparselt-cu12==0.7.1 in /usr/local/lib/python3.12/dist-packages (from torch>=1.8.0->ultralytics) (0.7.1)\n",
            "Requirement already satisfied: nvidia-nccl-cu12==2.27.3 in /usr/local/lib/python3.12/dist-packages (from torch>=1.8.0->ultralytics) (2.27.3)\n",
            "Requirement already satisfied: nvidia-nvtx-cu12==12.6.77 in /usr/local/lib/python3.12/dist-packages (from torch>=1.8.0->ultralytics) (12.6.77)\n",
            "Requirement already satisfied: nvidia-nvjitlink-cu12==12.6.85 in /usr/local/lib/python3.12/dist-packages (from torch>=1.8.0->ultralytics) (12.6.85)\n",
            "Requirement already satisfied: nvidia-cufile-cu12==1.11.1.6 in /usr/local/lib/python3.12/dist-packages (from torch>=1.8.0->ultralytics) (1.11.1.6)\n",
            "Requirement already satisfied: triton==3.4.0 in /usr/local/lib/python3.12/dist-packages (from torch>=1.8.0->ultralytics) (3.4.0)\n",
            "Requirement already satisfied: six>=1.5 in /usr/local/lib/python3.12/dist-packages (from python-dateutil>=2.7->matplotlib>=3.3.0->ultralytics) (1.17.0)\n",
            "Requirement already satisfied: mpmath<1.4,>=1.1.0 in /usr/local/lib/python3.12/dist-packages (from sympy>=1.13.3->torch>=1.8.0->ultralytics) (1.3.0)\n",
            "Requirement already satisfied: MarkupSafe>=2.0 in /usr/local/lib/python3.12/dist-packages (from jinja2->torch>=1.8.0->ultralytics) (3.0.2)\n"
          ]
        }
      ]
    },
    {
      "cell_type": "code",
      "source": [
        "%%writefile /content/drive/MyDrive/GalapagosSealsMerged/data.yaml\n",
        "train: /content/drive/MyDrive/GalapagosSealsMerged/train/images\n",
        "val: /content/drive/MyDrive/GalapagosSealsMerged/val/images\n",
        "test: /content/drive/MyDrive/GalapagosSealsMerged/test/images\n",
        "\n",
        "nc: 1\n",
        "names: ['sea-lion']"
      ],
      "metadata": {
        "colab": {
          "base_uri": "https://localhost:8080/"
        },
        "id": "b-_oJg2lBht5",
        "outputId": "89ca74b4-8c8d-4ab9-ee41-e3977e58574a"
      },
      "execution_count": null,
      "outputs": [
        {
          "output_type": "stream",
          "name": "stdout",
          "text": [
            "Overwriting /content/drive/MyDrive/GalapagosSealsMerged/data.yaml\n"
          ]
        }
      ]
    },
    {
      "cell_type": "code",
      "source": [
        "!yolo task=detect mode=train model=yolov8n.pt data=\"/content/drive/MyDrive/GalapagosSealsMerged/data.yaml\" epochs=100 imgsz=640 project=/content/drive/MyDrive/GalapagosSealsMerged/runs/detect"
      ],
      "metadata": {
        "colab": {
          "base_uri": "https://localhost:8080/"
        },
        "id": "w-N7ZWf9Cwfz",
        "outputId": "872afa7e-6081-4692-bd85-ffc84a868a39"
      },
      "execution_count": null,
      "outputs": [
        {
          "output_type": "stream",
          "name": "stdout",
          "text": [
            "Ultralytics 8.3.188 🚀 Python-3.12.11 torch-2.8.0+cu126 CUDA:0 (Tesla T4, 15095MiB)\n",
            "\u001b[34m\u001b[1mengine/trainer: \u001b[0magnostic_nms=False, amp=True, augment=False, auto_augment=randaugment, batch=16, bgr=0.0, box=7.5, cache=False, cfg=None, classes=None, close_mosaic=10, cls=0.5, conf=None, copy_paste=0.0, copy_paste_mode=flip, cos_lr=False, cutmix=0.0, data=/content/drive/MyDrive/GalapagosSealsMerged/data.yaml, degrees=0.0, deterministic=True, device=None, dfl=1.5, dnn=False, dropout=0.0, dynamic=False, embed=None, epochs=100, erasing=0.4, exist_ok=False, fliplr=0.5, flipud=0.0, format=torchscript, fraction=1.0, freeze=None, half=False, hsv_h=0.015, hsv_s=0.7, hsv_v=0.4, imgsz=640, int8=False, iou=0.7, keras=False, kobj=1.0, line_width=None, lr0=0.01, lrf=0.01, mask_ratio=4, max_det=300, mixup=0.0, mode=train, model=yolov8n.pt, momentum=0.937, mosaic=1.0, multi_scale=False, name=train, nbs=64, nms=False, opset=None, optimize=False, optimizer=auto, overlap_mask=True, patience=100, perspective=0.0, plots=True, pose=12.0, pretrained=True, profile=False, project=/content/drive/MyDrive/GalapagosSealsMerged/runs/detect, rect=False, resume=False, retina_masks=False, save=True, save_conf=False, save_crop=False, save_dir=/content/drive/MyDrive/GalapagosSealsMerged/runs/detect/train, save_frames=False, save_json=False, save_period=-1, save_txt=False, scale=0.5, seed=0, shear=0.0, show=False, show_boxes=True, show_conf=True, show_labels=True, simplify=True, single_cls=False, source=None, split=val, stream_buffer=False, task=detect, time=None, tracker=botsort.yaml, translate=0.1, val=True, verbose=True, vid_stride=1, visualize=False, warmup_bias_lr=0.1, warmup_epochs=3.0, warmup_momentum=0.8, weight_decay=0.0005, workers=8, workspace=None\n",
            "Overriding model.yaml nc=80 with nc=1\n",
            "\n",
            "                   from  n    params  module                                       arguments                     \n",
            "  0                  -1  1       464  ultralytics.nn.modules.conv.Conv             [3, 16, 3, 2]                 \n",
            "  1                  -1  1      4672  ultralytics.nn.modules.conv.Conv             [16, 32, 3, 2]                \n",
            "  2                  -1  1      7360  ultralytics.nn.modules.block.C2f             [32, 32, 1, True]             \n",
            "  3                  -1  1     18560  ultralytics.nn.modules.conv.Conv             [32, 64, 3, 2]                \n",
            "  4                  -1  2     49664  ultralytics.nn.modules.block.C2f             [64, 64, 2, True]             \n",
            "  5                  -1  1     73984  ultralytics.nn.modules.conv.Conv             [64, 128, 3, 2]               \n",
            "  6                  -1  2    197632  ultralytics.nn.modules.block.C2f             [128, 128, 2, True]           \n",
            "  7                  -1  1    295424  ultralytics.nn.modules.conv.Conv             [128, 256, 3, 2]              \n",
            "  8                  -1  1    460288  ultralytics.nn.modules.block.C2f             [256, 256, 1, True]           \n",
            "  9                  -1  1    164608  ultralytics.nn.modules.block.SPPF            [256, 256, 5]                 \n",
            " 10                  -1  1         0  torch.nn.modules.upsampling.Upsample         [None, 2, 'nearest']          \n",
            " 11             [-1, 6]  1         0  ultralytics.nn.modules.conv.Concat           [1]                           \n",
            " 12                  -1  1    148224  ultralytics.nn.modules.block.C2f             [384, 128, 1]                 \n",
            " 13                  -1  1         0  torch.nn.modules.upsampling.Upsample         [None, 2, 'nearest']          \n",
            " 14             [-1, 4]  1         0  ultralytics.nn.modules.conv.Concat           [1]                           \n",
            " 15                  -1  1     37248  ultralytics.nn.modules.block.C2f             [192, 64, 1]                  \n",
            " 16                  -1  1     36992  ultralytics.nn.modules.conv.Conv             [64, 64, 3, 2]                \n",
            " 17            [-1, 12]  1         0  ultralytics.nn.modules.conv.Concat           [1]                           \n",
            " 18                  -1  1    123648  ultralytics.nn.modules.block.C2f             [192, 128, 1]                 \n",
            " 19                  -1  1    147712  ultralytics.nn.modules.conv.Conv             [128, 128, 3, 2]              \n",
            " 20             [-1, 9]  1         0  ultralytics.nn.modules.conv.Concat           [1]                           \n",
            " 21                  -1  1    493056  ultralytics.nn.modules.block.C2f             [384, 256, 1]                 \n",
            " 22        [15, 18, 21]  1    751507  ultralytics.nn.modules.head.Detect           [1, [64, 128, 256]]           \n",
            "Model summary: 129 layers, 3,011,043 parameters, 3,011,027 gradients, 8.2 GFLOPs\n",
            "\n",
            "Transferred 319/355 items from pretrained weights\n",
            "Freezing layer 'model.22.dfl.conv.weight'\n",
            "\u001b[34m\u001b[1mAMP: \u001b[0mrunning Automatic Mixed Precision (AMP) checks...\n",
            "\u001b[34m\u001b[1mAMP: \u001b[0mchecks passed ✅\n",
            "\u001b[34m\u001b[1mtrain: \u001b[0mFast image access ✅ (ping: 0.8±1.0 ms, read: 53.8±46.7 MB/s, size: 166.1 KB)\n",
            "\u001b[K\u001b[34m\u001b[1mtrain: \u001b[0mScanning /content/drive/MyDrive/GalapagosSealsMerged/train/labels.cache... 314 images, 0 backgrounds, 0 corrupt: 100% ━━━━━━━━━━━━ 314/314 4541418.8it/s 0.0s\n",
            "\u001b[34m\u001b[1malbumentations: \u001b[0mBlur(p=0.01, blur_limit=(3, 7)), MedianBlur(p=0.01, blur_limit=(3, 7)), ToGray(p=0.01, method='weighted_average', num_output_channels=3), CLAHE(p=0.01, clip_limit=(1.0, 4.0), tile_grid_size=(8, 8))\n",
            "\u001b[34m\u001b[1mval: \u001b[0mFast image access ✅ (ping: 0.8±0.5 ms, read: 77.3±37.9 MB/s, size: 196.6 KB)\n",
            "\u001b[K\u001b[34m\u001b[1mval: \u001b[0mScanning /content/drive/MyDrive/GalapagosSealsMerged/val/labels.cache... 13 images, 0 backgrounds, 0 corrupt: 100% ━━━━━━━━━━━━ 13/13 111733.5it/s 0.0s\n",
            "Plotting labels to /content/drive/MyDrive/GalapagosSealsMerged/runs/detect/train/labels.jpg... \n",
            "\u001b[34m\u001b[1moptimizer:\u001b[0m 'optimizer=auto' found, ignoring 'lr0=0.01' and 'momentum=0.937' and determining best 'optimizer', 'lr0' and 'momentum' automatically... \n",
            "\u001b[34m\u001b[1moptimizer:\u001b[0m AdamW(lr=0.002, momentum=0.9) with parameter groups 57 weight(decay=0.0), 64 weight(decay=0.0005), 63 bias(decay=0.0)\n",
            "Image sizes 640 train, 640 val\n",
            "Using 2 dataloader workers\n",
            "Logging results to \u001b[1m/content/drive/MyDrive/GalapagosSealsMerged/runs/detect/train\u001b[0m\n",
            "Starting training for 100 epochs...\n",
            "\n",
            "      Epoch    GPU_mem   box_loss   cls_loss   dfl_loss  Instances       Size\n",
            "\u001b[K      1/100      2.01G      1.691      2.533      1.848         53        640:  70% ━━━━━━━━──── 14/20 3.0it/s 7.0sCorrupt JPEG data: 15635 extraneous bytes before marker 0xd9\n",
            "\u001b[K      1/100      2.02G      1.673      2.408      1.825         57        640:  90% ━━━━━━━━━━╸─ 18/20 3.7it/s 8.2sCorrupt JPEG data: 15635 extraneous bytes before marker 0xd9\n",
            "\u001b[K      1/100      2.02G      1.676      2.377      1.822         33        640: 100% ━━━━━━━━━━━━ 20/20 2.3it/s 8.9s\n",
            "\u001b[K                 Class     Images  Instances      Box(P          R      mAP50  mAP50-95): 100% ━━━━━━━━━━━━ 1/1 2.6it/s 0.4s\n",
            "                   all         13         17    0.00436          1      0.598      0.243\n",
            "\n",
            "      Epoch    GPU_mem   box_loss   cls_loss   dfl_loss  Instances       Size\n",
            "\u001b[K      2/100      2.03G      1.579      1.883      1.679         30        640: 100% ━━━━━━━━━━━━ 20/20 3.7it/s 5.4s\n",
            "\u001b[K                 Class     Images  Instances      Box(P          R      mAP50  mAP50-95): 100% ━━━━━━━━━━━━ 1/1 7.3it/s 0.1s\n",
            "                   all         13         17      0.837      0.304      0.683      0.311\n",
            "\n",
            "      Epoch    GPU_mem   box_loss   cls_loss   dfl_loss  Instances       Size\n",
            "\u001b[K      3/100      2.03G       1.68      1.884      1.753         49        640:  80% ━━━━━━━━━╸── 16/20 4.0it/s 6.1sCorrupt JPEG data: 15635 extraneous bytes before marker 0xd9\n",
            "\u001b[K      3/100      2.03G      1.679      1.871      1.755         28        640: 100% ━━━━━━━━━━━━ 20/20 2.6it/s 7.7s\n",
            "\u001b[K                 Class     Images  Instances      Box(P          R      mAP50  mAP50-95): 100% ━━━━━━━━━━━━ 1/1 5.9it/s 0.2s\n",
            "                   all         13         17      0.254      0.294      0.146     0.0382\n",
            "\n",
            "      Epoch    GPU_mem   box_loss   cls_loss   dfl_loss  Instances       Size\n",
            "\u001b[K      4/100      2.03G      1.605      1.784      1.696         37        640: 100% ━━━━━━━━━━━━ 20/20 3.6it/s 5.5s\n",
            "\u001b[K                 Class     Images  Instances      Box(P          R      mAP50  mAP50-95): 100% ━━━━━━━━━━━━ 1/1 4.5it/s 0.2s\n",
            "                   all         13         17     0.0988      0.471      0.106     0.0381\n",
            "\n",
            "      Epoch    GPU_mem   box_loss   cls_loss   dfl_loss  Instances       Size\n",
            "\u001b[K      5/100      2.03G      1.638      1.747      1.753         46        640:  20% ━━────────── 4/20 2.5it/s 1.5sCorrupt JPEG data: 15635 extraneous bytes before marker 0xd9\n",
            "\u001b[K      5/100      2.04G      1.622      1.745      1.731         42        640: 100% ━━━━━━━━━━━━ 20/20 3.0it/s 6.6s\n",
            "\u001b[K                 Class     Images  Instances      Box(P          R      mAP50  mAP50-95): 100% ━━━━━━━━━━━━ 1/1 4.9it/s 0.2s\n",
            "                   all         13         17      0.413      0.456       0.39      0.162\n",
            "Corrupt JPEG data: 15635 extraneous bytes before marker 0xd9\n",
            "\n",
            "      Epoch    GPU_mem   box_loss   cls_loss   dfl_loss  Instances       Size\n",
            "\u001b[K      6/100      2.04G      1.706      1.769      1.762         32        640: 100% ━━━━━━━━━━━━ 20/20 3.7it/s 5.4s\n",
            "\u001b[K                 Class     Images  Instances      Box(P          R      mAP50  mAP50-95): 100% ━━━━━━━━━━━━ 1/1 4.2it/s 0.2s\n",
            "                   all         13         17      0.462      0.529      0.383      0.188\n",
            "\n",
            "      Epoch    GPU_mem   box_loss   cls_loss   dfl_loss  Instances       Size\n",
            "\u001b[K      7/100      2.05G      1.668      1.755      1.766         61        640:  15% ━╸────────── 3/20 1.9it/s 1.3sCorrupt JPEG data: 15635 extraneous bytes before marker 0xd9\n",
            "\u001b[K      7/100      2.05G      1.671      1.715      1.772         34        640: 100% ━━━━━━━━━━━━ 20/20 3.1it/s 6.5s\n",
            "\u001b[K                 Class     Images  Instances      Box(P          R      mAP50  mAP50-95): 100% ━━━━━━━━━━━━ 1/1 11.5it/s 0.1s\n",
            "                   all         13         17      0.555      0.588      0.506      0.201\n",
            "\n",
            "      Epoch    GPU_mem   box_loss   cls_loss   dfl_loss  Instances       Size\n",
            "\u001b[K      8/100      2.05G      1.631      1.631      1.728         56        640:  35% ━━━━──────── 7/20 4.2it/s 1.8sCorrupt JPEG data: 15635 extraneous bytes before marker 0xd9\n",
            "\u001b[K      8/100      2.06G      1.635      1.652      1.739         26        640: 100% ━━━━━━━━━━━━ 20/20 3.3it/s 6.0s\n",
            "\u001b[K                 Class     Images  Instances      Box(P          R      mAP50  mAP50-95): 100% ━━━━━━━━━━━━ 1/1 3.5it/s 0.3s\n",
            "                   all         13         17      0.585      0.529        0.6      0.278\n",
            "Corrupt JPEG data: 15635 extraneous bytes before marker 0xd9\n",
            "\n",
            "      Epoch    GPU_mem   box_loss   cls_loss   dfl_loss  Instances       Size\n",
            "\u001b[K      9/100      2.06G      1.623      1.691      1.732         27        640: 100% ━━━━━━━━━━━━ 20/20 3.5it/s 5.7s\n",
            "\u001b[K                 Class     Images  Instances      Box(P          R      mAP50  mAP50-95): 100% ━━━━━━━━━━━━ 1/1 11.0it/s 0.1s\n",
            "                   all         13         17      0.342      0.588      0.432      0.162\n",
            "\n",
            "      Epoch    GPU_mem   box_loss   cls_loss   dfl_loss  Instances       Size\n",
            "\u001b[K     10/100      2.06G      1.514      1.484      1.627         69        640:  10% ━─────────── 2/20 3.0it/s 0.5sCorrupt JPEG data: 15635 extraneous bytes before marker 0xd9\n",
            "\u001b[K     10/100      2.06G       1.61      1.551      1.697         38        640: 100% ━━━━━━━━━━━━ 20/20 3.6it/s 5.5s\n",
            "\u001b[K                 Class     Images  Instances      Box(P          R      mAP50  mAP50-95): 100% ━━━━━━━━━━━━ 1/1 5.6it/s 0.2s\n",
            "                   all         13         17       0.43      0.353       0.31       0.12\n",
            "\n",
            "      Epoch    GPU_mem   box_loss   cls_loss   dfl_loss  Instances       Size\n",
            "\u001b[K     11/100      2.06G      1.594       1.53      1.681         35        640: 100% ━━━━━━━━━━━━ 20/20 3.3it/s 6.0s\n",
            "\u001b[K                 Class     Images  Instances      Box(P          R      mAP50  mAP50-95): 100% ━━━━━━━━━━━━ 1/1 7.7it/s 0.1s\n",
            "                   all         13         17      0.408      0.235      0.295      0.137\n",
            "\n",
            "      Epoch    GPU_mem   box_loss   cls_loss   dfl_loss  Instances       Size\n",
            "\u001b[K     12/100      2.06G      1.546      1.433      1.664         50        640:  80% ━━━━━━━━━╸── 16/20 3.7it/s 4.7sCorrupt JPEG data: 15635 extraneous bytes before marker 0xd9\n",
            "\u001b[K     12/100      2.06G      1.555      1.435      1.666         26        640: 100% ━━━━━━━━━━━━ 20/20 3.3it/s 6.0s\n",
            "\u001b[K                 Class     Images  Instances      Box(P          R      mAP50  mAP50-95): 100% ━━━━━━━━━━━━ 1/1 5.4it/s 0.2s\n",
            "                   all         13         17      0.261      0.118      0.152     0.0595\n",
            "\n",
            "      Epoch    GPU_mem   box_loss   cls_loss   dfl_loss  Instances       Size\n",
            "\u001b[K     13/100      2.06G      1.557      1.397      1.664         34        640: 100% ━━━━━━━━━━━━ 20/20 3.5it/s 5.6s\n",
            "\u001b[K                 Class     Images  Instances      Box(P          R      mAP50  mAP50-95): 100% ━━━━━━━━━━━━ 1/1 5.2it/s 0.2s\n",
            "                   all         13         17      0.655      0.706      0.702      0.328\n",
            "\n",
            "      Epoch    GPU_mem   box_loss   cls_loss   dfl_loss  Instances       Size\n",
            "\u001b[K     14/100      2.06G      1.467      1.386       1.56         45        640:  25% ━━━───────── 5/20 3.7it/s 1.2sCorrupt JPEG data: 15635 extraneous bytes before marker 0xd9\n",
            "\u001b[K     14/100      2.06G      1.507      1.382      1.612         35        640: 100% ━━━━━━━━━━━━ 20/20 3.0it/s 6.7s\n",
            "\u001b[K                 Class     Images  Instances      Box(P          R      mAP50  mAP50-95): 100% ━━━━━━━━━━━━ 1/1 3.1it/s 0.3s\n",
            "                   all         13         17      0.676      0.615      0.548      0.242\n",
            "\n",
            "      Epoch    GPU_mem   box_loss   cls_loss   dfl_loss  Instances       Size\n",
            "\u001b[K     15/100      2.06G      1.544      1.336      1.631         50        640:  65% ━━━━━━━╸──── 13/20 4.6it/s 3.6sCorrupt JPEG data: 15635 extraneous bytes before marker 0xd9\n",
            "\u001b[K     15/100      2.06G      1.575      1.345       1.65         34        640: 100% ━━━━━━━━━━━━ 20/20 3.7it/s 5.4s\n",
            "\u001b[K                 Class     Images  Instances      Box(P          R      mAP50  mAP50-95): 100% ━━━━━━━━━━━━ 1/1 4.6it/s 0.2s\n",
            "                   all         13         17      0.889      0.647        0.7        0.3\n",
            "\n",
            "      Epoch    GPU_mem   box_loss   cls_loss   dfl_loss  Instances       Size\n",
            "\u001b[K     16/100      2.06G       1.51      1.346      1.611         38        640:  30% ━━━╸──────── 6/20 4.5it/s 1.4sCorrupt JPEG data: 15635 extraneous bytes before marker 0xd9\n",
            "\u001b[K     16/100      2.06G      1.525      1.386      1.658         32        640: 100% ━━━━━━━━━━━━ 20/20 2.9it/s 6.8s\n",
            "\u001b[K                 Class     Images  Instances      Box(P          R      mAP50  mAP50-95): 100% ━━━━━━━━━━━━ 1/1 6.5it/s 0.2s\n",
            "                   all         13         17      0.706      0.706      0.798       0.33\n",
            "\n",
            "      Epoch    GPU_mem   box_loss   cls_loss   dfl_loss  Instances       Size\n",
            "\u001b[K     17/100      2.06G      1.488      1.324      1.586         58        640:  50% ━━━━━━────── 10/20 3.9it/s 2.4sCorrupt JPEG data: 15635 extraneous bytes before marker 0xd9\n",
            "\u001b[K     17/100      2.06G      1.493      1.344      1.596         54        640:  90% ━━━━━━━━━━╸─ 18/20 3.5it/s 5.0sCorrupt JPEG data: 15635 extraneous bytes before marker 0xd9\n",
            "\u001b[K     17/100      2.06G       1.49      1.345      1.601         35        640: 100% ━━━━━━━━━━━━ 20/20 3.8it/s 5.2s\n",
            "\u001b[K                 Class     Images  Instances      Box(P          R      mAP50  mAP50-95): 100% ━━━━━━━━━━━━ 1/1 5.3it/s 0.2s\n",
            "                   all         13         17      0.435      0.634      0.533      0.243\n",
            "\n",
            "      Epoch    GPU_mem   box_loss   cls_loss   dfl_loss  Instances       Size\n",
            "\u001b[K     18/100      2.07G        1.5      1.283      1.611         39        640: 100% ━━━━━━━━━━━━ 20/20 2.8it/s 7.0s\n",
            "\u001b[K                 Class     Images  Instances      Box(P          R      mAP50  mAP50-95): 100% ━━━━━━━━━━━━ 1/1 4.7it/s 0.2s\n",
            "                   all         13         17        0.7      0.706       0.74      0.296\n",
            "\n",
            "      Epoch    GPU_mem   box_loss   cls_loss   dfl_loss  Instances       Size\n",
            "\u001b[K     19/100      2.07G      1.551      1.301      1.631         66        640:  45% ━━━━━─────── 9/20 4.4it/s 2.3sCorrupt JPEG data: 15635 extraneous bytes before marker 0xd9\n",
            "\u001b[K     19/100      2.08G      1.506      1.268      1.609         30        640: 100% ━━━━━━━━━━━━ 20/20 3.8it/s 5.2s\n",
            "\u001b[K                 Class     Images  Instances      Box(P          R      mAP50  mAP50-95): 100% ━━━━━━━━━━━━ 1/1 12.4it/s 0.1s\n",
            "                   all         13         17      0.541      0.706      0.627      0.273\n",
            "\n",
            "      Epoch    GPU_mem   box_loss   cls_loss   dfl_loss  Instances       Size\n",
            "\u001b[K     20/100      2.08G      1.504      1.281       1.64         71        640:  65% ━━━━━━━╸──── 13/20 2.9it/s 5.4sCorrupt JPEG data: 15635 extraneous bytes before marker 0xd9\n",
            "\u001b[K     20/100      2.08G      1.504       1.27      1.639         32        640: 100% ━━━━━━━━━━━━ 20/20 2.6it/s 7.7s\n",
            "\u001b[K                 Class     Images  Instances      Box(P          R      mAP50  mAP50-95): 100% ━━━━━━━━━━━━ 1/1 5.0it/s 0.2s\n",
            "                   all         13         17      0.724      0.706       0.76      0.348\n",
            "\n",
            "      Epoch    GPU_mem   box_loss   cls_loss   dfl_loss  Instances       Size\n",
            "\u001b[K     21/100      2.08G      1.474      1.224      1.565         56        640:  40% ━━━━╸─────── 8/20 4.0it/s 1.9sCorrupt JPEG data: 15635 extraneous bytes before marker 0xd9\n",
            "\u001b[K     21/100       2.1G      1.466      1.274       1.57         37        640: 100% ━━━━━━━━━━━━ 20/20 4.0it/s 5.1s\n",
            "\u001b[K                 Class     Images  Instances      Box(P          R      mAP50  mAP50-95): 100% ━━━━━━━━━━━━ 1/1 6.2it/s 0.2s\n",
            "                   all         13         17      0.503      0.647      0.549      0.225\n",
            "\n",
            "      Epoch    GPU_mem   box_loss   cls_loss   dfl_loss  Instances       Size\n",
            "\u001b[K     22/100       2.1G      1.421       1.17      1.519         39        640: 100% ━━━━━━━━━━━━ 20/20 2.5it/s 8.0s\n",
            "\u001b[K                 Class     Images  Instances      Box(P          R      mAP50  mAP50-95): 100% ━━━━━━━━━━━━ 1/1 6.1it/s 0.2s\n",
            "                   all         13         17      0.579      0.647      0.506      0.242\n",
            "\n",
            "      Epoch    GPU_mem   box_loss   cls_loss   dfl_loss  Instances       Size\n",
            "\u001b[K     23/100       2.1G      1.474      1.226      1.571         37        640:  30% ━━━╸──────── 6/20 4.1it/s 1.4sCorrupt JPEG data: 15635 extraneous bytes before marker 0xd9\n",
            "\u001b[K     23/100      2.11G      1.447      1.202      1.559         37        640: 100% ━━━━━━━━━━━━ 20/20 3.9it/s 5.2s\n",
            "\u001b[K                 Class     Images  Instances      Box(P          R      mAP50  mAP50-95): 100% ━━━━━━━━━━━━ 1/1 4.4it/s 0.2s\n",
            "                   all         13         17      0.688      0.824      0.732      0.323\n",
            "\n",
            "      Epoch    GPU_mem   box_loss   cls_loss   dfl_loss  Instances       Size\n",
            "\u001b[K     24/100      2.11G      1.401      1.131      1.504         52        640:  45% ━━━━━─────── 9/20 3.6it/s 3.6sCorrupt JPEG data: 15635 extraneous bytes before marker 0xd9\n",
            "\u001b[K     24/100      2.11G      1.428       1.17      1.527         40        640: 100% ━━━━━━━━━━━━ 20/20 3.0it/s 6.8s\n",
            "\u001b[K                 Class     Images  Instances      Box(P          R      mAP50  mAP50-95): 100% ━━━━━━━━━━━━ 1/1 6.0it/s 0.2s\n",
            "                   all         13         17      0.657      0.824      0.663      0.249\n",
            "\n",
            "      Epoch    GPU_mem   box_loss   cls_loss   dfl_loss  Instances       Size\n",
            "\u001b[K     25/100      2.12G      1.381       1.15      1.542         32        640: 100% ━━━━━━━━━━━━ 20/20 3.7it/s 5.4s\n",
            "\u001b[K                 Class     Images  Instances      Box(P          R      mAP50  mAP50-95): 100% ━━━━━━━━━━━━ 1/1 6.3it/s 0.2s\n",
            "                   all         13         17      0.598      0.588      0.578      0.263\n",
            "\n",
            "      Epoch    GPU_mem   box_loss   cls_loss   dfl_loss  Instances       Size\n",
            "\u001b[K     26/100      2.12G       1.42      1.203       1.59         64        640:  10% ━─────────── 2/20 2.1it/s 0.7sCorrupt JPEG data: 15635 extraneous bytes before marker 0xd9\n",
            "\u001b[K     26/100      2.13G        1.4      1.159      1.553         26        640: 100% ━━━━━━━━━━━━ 20/20 2.9it/s 6.9s\n",
            "\u001b[K                 Class     Images  Instances      Box(P          R      mAP50  mAP50-95): 100% ━━━━━━━━━━━━ 1/1 4.8it/s 0.2s\n",
            "                   all         13         17      0.732      0.706      0.701      0.335\n",
            "\n",
            "      Epoch    GPU_mem   box_loss   cls_loss   dfl_loss  Instances       Size\n",
            "\u001b[K     27/100      2.13G      1.348      1.048      1.472         48        640:  75% ━━━━━━━━━─── 15/20 3.7it/s 4.2sCorrupt JPEG data: 15635 extraneous bytes before marker 0xd9\n",
            "\u001b[K     27/100      2.13G      1.347      1.059      1.477         21        640: 100% ━━━━━━━━━━━━ 20/20 3.7it/s 5.4s\n",
            "\u001b[K                 Class     Images  Instances      Box(P          R      mAP50  mAP50-95): 100% ━━━━━━━━━━━━ 1/1 3.4it/s 0.3s\n",
            "                   all         13         17       0.69      0.588      0.609      0.287\n",
            "\n",
            "      Epoch    GPU_mem   box_loss   cls_loss   dfl_loss  Instances       Size\n",
            "Corrupt JPEG data: 15635 extraneous bytes before marker 0xd9\n",
            "\u001b[K     28/100      2.13G      1.372      1.054      1.509         26        640: 100% ━━━━━━━━━━━━ 20/20 3.6it/s 5.6s\n",
            "\u001b[K                 Class     Images  Instances      Box(P          R      mAP50  mAP50-95): 100% ━━━━━━━━━━━━ 1/1 10.0it/s 0.1s\n",
            "                   all         13         17      0.764      0.761      0.792      0.371\n",
            "\n",
            "      Epoch    GPU_mem   box_loss   cls_loss   dfl_loss  Instances       Size\n",
            "\u001b[K     29/100      2.13G      1.453      1.121      1.537         47        640:  15% ━╸────────── 3/20 3.6it/s 0.7sCorrupt JPEG data: 15635 extraneous bytes before marker 0xd9\n",
            "\u001b[K     29/100      2.13G      1.397      1.118      1.501         42        640: 100% ━━━━━━━━━━━━ 20/20 2.5it/s 8.0s\n",
            "\u001b[K                 Class     Images  Instances      Box(P          R      mAP50  mAP50-95): 100% ━━━━━━━━━━━━ 1/1 3.9it/s 0.3s\n",
            "                   all         13         17      0.652      0.661      0.719      0.341\n",
            "\n",
            "      Epoch    GPU_mem   box_loss   cls_loss   dfl_loss  Instances       Size\n",
            "\u001b[K     30/100      2.13G      1.381        1.1      1.515         44        640:  30% ━━━╸──────── 6/20 4.0it/s 1.4sCorrupt JPEG data: 15635 extraneous bytes before marker 0xd9\n",
            "\u001b[K     30/100      2.13G      1.376      1.082      1.515         30        640: 100% ━━━━━━━━━━━━ 20/20 3.8it/s 5.3s\n",
            "\u001b[K                 Class     Images  Instances      Box(P          R      mAP50  mAP50-95): 100% ━━━━━━━━━━━━ 1/1 10.0it/s 0.1s\n",
            "                   all         13         17      0.781      0.882      0.822      0.404\n",
            "\n",
            "      Epoch    GPU_mem   box_loss   cls_loss   dfl_loss  Instances       Size\n",
            "\u001b[K     31/100      2.13G      1.317      1.045      1.457         52        640:  35% ━━━━──────── 7/20 3.7it/s 2.1sCorrupt JPEG data: 15635 extraneous bytes before marker 0xd9\n",
            "\u001b[K     31/100      2.13G      1.293      1.018      1.443         26        640: 100% ━━━━━━━━━━━━ 20/20 2.7it/s 7.4s\n",
            "\u001b[K                 Class     Images  Instances      Box(P          R      mAP50  mAP50-95): 100% ━━━━━━━━━━━━ 1/1 12.3it/s 0.1s\n",
            "                   all         13         17      0.763       0.76      0.676      0.369\n",
            "\n",
            "      Epoch    GPU_mem   box_loss   cls_loss   dfl_loss  Instances       Size\n",
            "\u001b[K     32/100      2.13G       1.36      1.026      1.476         32        640: 100% ━━━━━━━━━━━━ 20/20 3.5it/s 5.7s\n",
            "\u001b[K                 Class     Images  Instances      Box(P          R      mAP50  mAP50-95): 100% ━━━━━━━━━━━━ 1/1 12.3it/s 0.1s\n",
            "                   all         13         17      0.912      0.765      0.804      0.454\n",
            "\n",
            "      Epoch    GPU_mem   box_loss   cls_loss   dfl_loss  Instances       Size\n",
            "\u001b[K     33/100      2.13G      1.333      1.043      1.488         50        640:  55% ━━━━━━╸───── 11/20 2.7it/s 4.2sCorrupt JPEG data: 15635 extraneous bytes before marker 0xd9\n",
            "\u001b[K     33/100      2.13G      1.348      1.046      1.494         23        640: 100% ━━━━━━━━━━━━ 20/20 2.5it/s 7.9s\n",
            "\u001b[K                 Class     Images  Instances      Box(P          R      mAP50  mAP50-95): 100% ━━━━━━━━━━━━ 1/1 4.8it/s 0.2s\n",
            "                   all         13         17      0.828      0.647      0.694      0.294\n",
            "\n",
            "      Epoch    GPU_mem   box_loss   cls_loss   dfl_loss  Instances       Size\n",
            "\u001b[K     34/100      2.13G      1.329      1.023      1.453         48        640:  90% ━━━━━━━━━━╸─ 18/20 3.8it/s 5.3sCorrupt JPEG data: 15635 extraneous bytes before marker 0xd9\n",
            "\u001b[K     34/100      2.13G      1.328      1.025      1.455         29        640: 100% ━━━━━━━━━━━━ 20/20 3.6it/s 5.5s\n",
            "\u001b[K                 Class     Images  Instances      Box(P          R      mAP50  mAP50-95): 100% ━━━━━━━━━━━━ 1/1 6.0it/s 0.2s\n",
            "                   all         13         17      0.917      0.646       0.71      0.277\n",
            "\n",
            "      Epoch    GPU_mem   box_loss   cls_loss   dfl_loss  Instances       Size\n",
            "\u001b[K     35/100      2.13G      1.346     0.9949       1.48         37        640: 100% ━━━━━━━━━━━━ 20/20 2.8it/s 7.1s\n",
            "\u001b[K                 Class     Images  Instances      Box(P          R      mAP50  mAP50-95): 100% ━━━━━━━━━━━━ 1/1 5.8it/s 0.2s\n",
            "                   all         13         17       0.73      0.824      0.751      0.324\n",
            "\n",
            "      Epoch    GPU_mem   box_loss   cls_loss   dfl_loss  Instances       Size\n",
            "\u001b[K     36/100      2.13G      1.434      1.036      1.504         53        640:  10% ━─────────── 2/20 2.7it/s 0.5sCorrupt JPEG data: 15635 extraneous bytes before marker 0xd9\n",
            "\u001b[K     36/100      2.13G      1.354      1.019      1.468         67        640:  90% ━━━━━━━━━━╸─ 18/20 3.3it/s 5.2sCorrupt JPEG data: 15635 extraneous bytes before marker 0xd9\n",
            "\u001b[K     36/100      2.13G      1.352      1.018      1.463         35        640: 100% ━━━━━━━━━━━━ 20/20 3.6it/s 5.5s\n",
            "\u001b[K                 Class     Images  Instances      Box(P          R      mAP50  mAP50-95): 100% ━━━━━━━━━━━━ 1/1 4.4it/s 0.2s\n",
            "                   all         13         17      0.866      0.758      0.786       0.39\n",
            "\n",
            "      Epoch    GPU_mem   box_loss   cls_loss   dfl_loss  Instances       Size\n",
            "\u001b[K     37/100      2.13G      1.288     0.9833      1.409         34        640: 100% ━━━━━━━━━━━━ 20/20 3.0it/s 6.6s\n",
            "\u001b[K                 Class     Images  Instances      Box(P          R      mAP50  mAP50-95): 100% ━━━━━━━━━━━━ 1/1 4.5it/s 0.2s\n",
            "                   all         13         17      0.797      0.647      0.617      0.303\n",
            "\n",
            "      Epoch    GPU_mem   box_loss   cls_loss   dfl_loss  Instances       Size\n",
            "\u001b[K     38/100      2.13G      1.173      0.886      1.339         45        640:   0% ──────────── 0/20  0.1sCorrupt JPEG data: 15635 extraneous bytes before marker 0xd9\n",
            "\u001b[K     38/100      2.13G      1.307      1.015      1.428         30        640: 100% ━━━━━━━━━━━━ 20/20 3.7it/s 5.5s\n",
            "\u001b[K                 Class     Images  Instances      Box(P          R      mAP50  mAP50-95): 100% ━━━━━━━━━━━━ 1/1 4.9it/s 0.2s\n",
            "                   all         13         17        0.7      0.688      0.582      0.279\n",
            "\n",
            "      Epoch    GPU_mem   box_loss   cls_loss   dfl_loss  Instances       Size\n",
            "\u001b[K     39/100      2.13G      1.287     0.9909      1.421         60        640:  55% ━━━━━━╸───── 11/20 2.5it/s 4.3sCorrupt JPEG data: 15635 extraneous bytes before marker 0xd9\n",
            "\u001b[K     39/100      2.13G      1.291     0.9992      1.433         22        640: 100% ━━━━━━━━━━━━ 20/20 2.9it/s 6.9s\n",
            "\u001b[K                 Class     Images  Instances      Box(P          R      mAP50  mAP50-95): 100% ━━━━━━━━━━━━ 1/1 6.2it/s 0.2s\n",
            "                   all         13         17      0.748      0.699      0.628      0.293\n",
            "\n",
            "      Epoch    GPU_mem   box_loss   cls_loss   dfl_loss  Instances       Size\n",
            "\u001b[K     40/100      2.13G      1.232     0.9279      1.393         51        640:  60% ━━━━━━━───── 12/20 3.7it/s 3.2sCorrupt JPEG data: 15635 extraneous bytes before marker 0xd9\n",
            "\u001b[K     40/100      2.13G      1.232     0.9176      1.393         32        640: 100% ━━━━━━━━━━━━ 20/20 3.7it/s 5.4s\n",
            "\u001b[K                 Class     Images  Instances      Box(P          R      mAP50  mAP50-95): 100% ━━━━━━━━━━━━ 1/1 6.0it/s 0.2s\n",
            "                   all         13         17      0.765      0.824      0.745       0.36\n",
            "\n",
            "      Epoch    GPU_mem   box_loss   cls_loss   dfl_loss  Instances       Size\n",
            "\u001b[K     41/100      2.13G      1.312     0.9154      1.423         49        640:  55% ━━━━━━╸───── 11/20 2.6it/s 4.3sCorrupt JPEG data: 15635 extraneous bytes before marker 0xd9\n",
            "\u001b[K     41/100      2.13G      1.309     0.9597      1.432         27        640: 100% ━━━━━━━━━━━━ 20/20 2.9it/s 6.9s\n",
            "\u001b[K                 Class     Images  Instances      Box(P          R      mAP50  mAP50-95): 100% ━━━━━━━━━━━━ 1/1 7.0it/s 0.1s\n",
            "                   all         13         17      0.916      0.641      0.722      0.315\n",
            "\n",
            "      Epoch    GPU_mem   box_loss   cls_loss   dfl_loss  Instances       Size\n",
            "\u001b[K     42/100      2.13G      1.256     0.9207       1.39         52        640:  50% ━━━━━━────── 10/20 3.6it/s 2.6sCorrupt JPEG data: 15635 extraneous bytes before marker 0xd9\n",
            "\u001b[K     42/100      2.13G      1.265     0.9551      1.422         28        640: 100% ━━━━━━━━━━━━ 20/20 3.9it/s 5.2s\n",
            "\u001b[K                 Class     Images  Instances      Box(P          R      mAP50  mAP50-95): 100% ━━━━━━━━━━━━ 1/1 5.3it/s 0.2s\n",
            "                   all         13         17      0.776      0.824      0.785      0.323\n",
            "\n",
            "      Epoch    GPU_mem   box_loss   cls_loss   dfl_loss  Instances       Size\n",
            "\u001b[K     43/100      2.13G      1.265     0.9481      1.413         53        640:  60% ━━━━━━━───── 12/20 3.0it/s 5.1sCorrupt JPEG data: 15635 extraneous bytes before marker 0xd9\n",
            "\u001b[K     43/100      2.13G      1.283      0.959      1.432         24        640: 100% ━━━━━━━━━━━━ 20/20 2.7it/s 7.4s\n",
            "\u001b[K                 Class     Images  Instances      Box(P          R      mAP50  mAP50-95): 100% ━━━━━━━━━━━━ 1/1 4.9it/s 0.2s\n",
            "                   all         13         17      0.839      0.765      0.768      0.339\n",
            "\n",
            "      Epoch    GPU_mem   box_loss   cls_loss   dfl_loss  Instances       Size\n",
            "\u001b[K     44/100      2.13G        1.2     0.9014      1.378         37        640: 100% ━━━━━━━━━━━━ 20/20 3.7it/s 5.3s\n",
            "\u001b[K                 Class     Images  Instances      Box(P          R      mAP50  mAP50-95): 100% ━━━━━━━━━━━━ 1/1 6.8it/s 0.1s\n",
            "                   all         13         17      0.908      0.824      0.802      0.417\n",
            "Corrupt JPEG data: 15635 extraneous bytes before marker 0xd9\n",
            "\n",
            "      Epoch    GPU_mem   box_loss   cls_loss   dfl_loss  Instances       Size\n",
            "\u001b[K     45/100      2.14G      1.214     0.8975      1.399         38        640: 100% ━━━━━━━━━━━━ 20/20 3.0it/s 6.7s\n",
            "\u001b[K                 Class     Images  Instances      Box(P          R      mAP50  mAP50-95): 100% ━━━━━━━━━━━━ 1/1 7.0it/s 0.1s\n",
            "                   all         13         17      0.818      0.882      0.867      0.482\n",
            "\n",
            "      Epoch    GPU_mem   box_loss   cls_loss   dfl_loss  Instances       Size\n",
            "\u001b[K     46/100      2.14G      1.221     0.9066      1.391         47        640:  75% ━━━━━━━━━─── 15/20 4.1it/s 3.9sCorrupt JPEG data: 15635 extraneous bytes before marker 0xd9\n",
            "\u001b[K     46/100      2.14G      1.215     0.9017      1.387         30        640: 100% ━━━━━━━━━━━━ 20/20 3.8it/s 5.2s\n",
            "\u001b[K                 Class     Images  Instances      Box(P          R      mAP50  mAP50-95): 100% ━━━━━━━━━━━━ 1/1 5.1it/s 0.2s\n",
            "                   all         13         17      0.872      0.824      0.848      0.371\n",
            "Corrupt JPEG data: 15635 extraneous bytes before marker 0xd9\n",
            "\n",
            "      Epoch    GPU_mem   box_loss   cls_loss   dfl_loss  Instances       Size\n",
            "\u001b[K     47/100      2.14G      1.211      0.885      1.365         36        640: 100% ━━━━━━━━━━━━ 20/20 2.9it/s 6.9s\n",
            "\u001b[K                 Class     Images  Instances      Box(P          R      mAP50  mAP50-95): 100% ━━━━━━━━━━━━ 1/1 9.5it/s 0.1s\n",
            "                   all         13         17      0.881      0.874      0.897      0.436\n",
            "\n",
            "      Epoch    GPU_mem   box_loss   cls_loss   dfl_loss  Instances       Size\n",
            "\u001b[K     48/100      2.14G      1.246     0.8598      1.387         54        640:  15% ━╸────────── 3/20 3.5it/s 0.7sCorrupt JPEG data: 15635 extraneous bytes before marker 0xd9\n",
            "\u001b[K     48/100      2.14G      1.198     0.8362      1.363         30        640: 100% ━━━━━━━━━━━━ 20/20 3.8it/s 5.3s\n",
            "\u001b[K                 Class     Images  Instances      Box(P          R      mAP50  mAP50-95): 100% ━━━━━━━━━━━━ 1/1 4.2it/s 0.2s\n",
            "                   all         13         17      0.822      0.824       0.81      0.395\n",
            "\n",
            "      Epoch    GPU_mem   box_loss   cls_loss   dfl_loss  Instances       Size\n",
            "\u001b[K     49/100      2.14G      1.167     0.8913      1.344         68        640:  35% ━━━━──────── 7/20 3.0it/s 3.0sCorrupt JPEG data: 15635 extraneous bytes before marker 0xd9\n",
            "\u001b[K     49/100      2.14G      1.166     0.8762      1.365         40        640: 100% ━━━━━━━━━━━━ 20/20 3.0it/s 6.6s\n",
            "\u001b[K                 Class     Images  Instances      Box(P          R      mAP50  mAP50-95): 100% ━━━━━━━━━━━━ 1/1 4.3it/s 0.2s\n",
            "                   all         13         17       0.86      0.824      0.871      0.431\n",
            "\n",
            "      Epoch    GPU_mem   box_loss   cls_loss   dfl_loss  Instances       Size\n",
            "\u001b[K     50/100      2.14G      1.174     0.8376      1.339         44        640: 100% ━━━━━━━━━━━━ 20/20 3.8it/s 5.2s\n",
            "\u001b[K                 Class     Images  Instances      Box(P          R      mAP50  mAP50-95): 100% ━━━━━━━━━━━━ 1/1 3.7it/s 0.3s\n",
            "                   all         13         17      0.772      0.824      0.828      0.457\n",
            "\n",
            "      Epoch    GPU_mem   box_loss   cls_loss   dfl_loss  Instances       Size\n",
            "\u001b[K     51/100      2.14G      1.167     0.8238      1.336         47        640:  75% ━━━━━━━━━─── 15/20 4.0it/s 5.5sCorrupt JPEG data: 15635 extraneous bytes before marker 0xd9\n",
            "\u001b[K     51/100      2.14G      1.157     0.8197      1.333         30        640: 100% ━━━━━━━━━━━━ 20/20 2.9it/s 6.9s\n",
            "\u001b[K                 Class     Images  Instances      Box(P          R      mAP50  mAP50-95): 100% ━━━━━━━━━━━━ 1/1 4.3it/s 0.2s\n",
            "                   all         13         17      0.748      0.647      0.796      0.434\n",
            "\n",
            "      Epoch    GPU_mem   box_loss   cls_loss   dfl_loss  Instances       Size\n",
            "\u001b[K     52/100      2.14G      1.127     0.8242      1.327         29        640: 100% ━━━━━━━━━━━━ 20/20 3.5it/s 5.7s\n",
            "\u001b[K                 Class     Images  Instances      Box(P          R      mAP50  mAP50-95): 100% ━━━━━━━━━━━━ 1/1 3.8it/s 0.3s\n",
            "                   all         13         17      0.802      0.824      0.818      0.444\n",
            "Corrupt JPEG data: 15635 extraneous bytes before marker 0xd9\n",
            "\n",
            "      Epoch    GPU_mem   box_loss   cls_loss   dfl_loss  Instances       Size\n",
            "\u001b[K     53/100      2.14G      1.111     0.8179      1.329         25        640: 100% ━━━━━━━━━━━━ 20/20 3.2it/s 6.2s\n",
            "\u001b[K                 Class     Images  Instances      Box(P          R      mAP50  mAP50-95): 100% ━━━━━━━━━━━━ 1/1 5.8it/s 0.2s\n",
            "                   all         13         17      0.928      0.757      0.798      0.449\n",
            "\n",
            "      Epoch    GPU_mem   box_loss   cls_loss   dfl_loss  Instances       Size\n",
            "\u001b[K     54/100      2.14G      1.123     0.8514      1.308         52        640:  50% ━━━━━━────── 10/20 3.6it/s 2.7sCorrupt JPEG data: 15635 extraneous bytes before marker 0xd9\n",
            "\u001b[K     54/100      2.14G      1.127     0.8259      1.311         31        640: 100% ━━━━━━━━━━━━ 20/20 3.8it/s 5.3s\n",
            "\u001b[K                 Class     Images  Instances      Box(P          R      mAP50  mAP50-95): 100% ━━━━━━━━━━━━ 1/1 6.0it/s 0.2s\n",
            "                   all         13         17      0.893      0.706      0.803      0.438\n",
            "\n",
            "      Epoch    GPU_mem   box_loss   cls_loss   dfl_loss  Instances       Size\n",
            "\u001b[K     55/100      2.14G      1.118     0.8321      1.337         62        640:  80% ━━━━━━━━━╸── 16/20 3.6it/s 5.4sCorrupt JPEG data: 15635 extraneous bytes before marker 0xd9\n",
            "\u001b[K     55/100      2.14G      1.115     0.8278      1.335         26        640: 100% ━━━━━━━━━━━━ 20/20 3.2it/s 6.2s\n",
            "\u001b[K                 Class     Images  Instances      Box(P          R      mAP50  mAP50-95): 100% ━━━━━━━━━━━━ 1/1 4.6it/s 0.2s\n",
            "                   all         13         17      0.864      0.824      0.841      0.397\n",
            "\n",
            "      Epoch    GPU_mem   box_loss   cls_loss   dfl_loss  Instances       Size\n",
            "\u001b[K     56/100      2.14G      1.072     0.7851      1.299         47        640:  75% ━━━━━━━━━─── 15/20 3.5it/s 4.4sCorrupt JPEG data: 15635 extraneous bytes before marker 0xd9\n",
            "\u001b[K     56/100      2.14G       1.08     0.7901      1.307         27        640: 100% ━━━━━━━━━━━━ 20/20 3.5it/s 5.8s\n",
            "\u001b[K                 Class     Images  Instances      Box(P          R      mAP50  mAP50-95): 100% ━━━━━━━━━━━━ 1/1 3.4it/s 0.3s\n",
            "                   all         13         17      0.933       0.82      0.893      0.508\n",
            "\n",
            "      Epoch    GPU_mem   box_loss   cls_loss   dfl_loss  Instances       Size\n",
            "\u001b[K     57/100      2.14G      1.018     0.7215      1.257         51        640:  25% ━━━───────── 5/20 2.6it/s 1.8sCorrupt JPEG data: 15635 extraneous bytes before marker 0xd9\n",
            "\u001b[K     57/100      2.14G      1.112     0.8031      1.337         24        640: 100% ━━━━━━━━━━━━ 20/20 3.4it/s 5.9s\n",
            "\u001b[K                 Class     Images  Instances      Box(P          R      mAP50  mAP50-95): 100% ━━━━━━━━━━━━ 1/1 6.0it/s 0.2s\n",
            "                   all         13         17      0.764      0.882      0.829      0.397\n",
            "\n",
            "      Epoch    GPU_mem   box_loss   cls_loss   dfl_loss  Instances       Size\n",
            "\u001b[K     58/100      2.14G      1.158     0.7801      1.318         50        640:   0% ──────────── 0/20  0.1sCorrupt JPEG data: 15635 extraneous bytes before marker 0xd9\n",
            "\u001b[K     58/100      2.14G      1.093     0.7574      1.305         30        640: 100% ━━━━━━━━━━━━ 20/20 3.0it/s 6.6s\n",
            "\u001b[K                 Class     Images  Instances      Box(P          R      mAP50  mAP50-95): 100% ━━━━━━━━━━━━ 1/1 4.8it/s 0.2s\n",
            "                   all         13         17      0.787      0.882      0.837      0.406\n",
            "\n",
            "      Epoch    GPU_mem   box_loss   cls_loss   dfl_loss  Instances       Size\n",
            "\u001b[K     59/100      2.14G      1.082      0.735      1.282         50        640:   5% ╸─────────── 1/20 1.0it/s 0.5sCorrupt JPEG data: 15635 extraneous bytes before marker 0xd9\n",
            "\u001b[K     59/100      2.14G      1.072     0.7537      1.286         41        640: 100% ━━━━━━━━━━━━ 20/20 3.5it/s 5.6s\n",
            "\u001b[K                 Class     Images  Instances      Box(P          R      mAP50  mAP50-95): 100% ━━━━━━━━━━━━ 1/1 4.2it/s 0.2s\n",
            "                   all         13         17      0.845      0.706      0.825      0.449\n",
            "\n",
            "      Epoch    GPU_mem   box_loss   cls_loss   dfl_loss  Instances       Size\n",
            "\u001b[K     60/100      2.14G      1.054     0.7602      1.296         47        640:  25% ━━━───────── 5/20 4.4it/s 1.2sCorrupt JPEG data: 15635 extraneous bytes before marker 0xd9\n",
            "\u001b[K     60/100      2.14G      1.111     0.7769      1.319         35        640: 100% ━━━━━━━━━━━━ 20/20 3.3it/s 6.1s\n",
            "\u001b[K                 Class     Images  Instances      Box(P          R      mAP50  mAP50-95): 100% ━━━━━━━━━━━━ 1/1 5.4it/s 0.2s\n",
            "                   all         13         17      0.747      0.765       0.78      0.428\n",
            "\n",
            "      Epoch    GPU_mem   box_loss   cls_loss   dfl_loss  Instances       Size\n",
            "\u001b[K     61/100      2.14G      1.085     0.7466      1.277         45        640:  75% ━━━━━━━━━─── 15/20 4.5it/s 4.6sCorrupt JPEG data: 15635 extraneous bytes before marker 0xd9\n",
            "\u001b[K     61/100      2.14G      1.081      0.753      1.275         38        640: 100% ━━━━━━━━━━━━ 20/20 3.4it/s 5.8s\n",
            "\u001b[K                 Class     Images  Instances      Box(P          R      mAP50  mAP50-95): 100% ━━━━━━━━━━━━ 1/1 6.2it/s 0.2s\n",
            "                   all         13         17      0.874      0.824      0.795      0.387\n",
            "\n",
            "      Epoch    GPU_mem   box_loss   cls_loss   dfl_loss  Instances       Size\n",
            "\u001b[K     62/100      2.14G      1.001     0.7038      1.235         32        640: 100% ━━━━━━━━━━━━ 20/20 2.9it/s 6.9s\n",
            "\u001b[K                 Class     Images  Instances      Box(P          R      mAP50  mAP50-95): 100% ━━━━━━━━━━━━ 1/1 3.1it/s 0.3s\n",
            "                   all         13         17      0.909      0.824       0.82       0.39\n",
            "Corrupt JPEG data: 15635 extraneous bytes before marker 0xd9\n",
            "\n",
            "      Epoch    GPU_mem   box_loss   cls_loss   dfl_loss  Instances       Size\n",
            "\u001b[K     63/100      2.14G      1.089     0.7852      1.284         27        640: 100% ━━━━━━━━━━━━ 20/20 3.8it/s 5.3s\n",
            "\u001b[K                 Class     Images  Instances      Box(P          R      mAP50  mAP50-95): 100% ━━━━━━━━━━━━ 1/1 7.1it/s 0.1s\n",
            "                   all         13         17      0.912      0.765      0.807      0.426\n",
            "\n",
            "      Epoch    GPU_mem   box_loss   cls_loss   dfl_loss  Instances       Size\n",
            "\u001b[K     64/100      2.14G      1.055     0.7505      1.265         51        640:  65% ━━━━━━━╸──── 13/20 3.6it/s 3.9sCorrupt JPEG data: 15635 extraneous bytes before marker 0xd9\n",
            "\u001b[K     64/100      2.14G      1.044     0.7596      1.267         37        640: 100% ━━━━━━━━━━━━ 20/20 2.8it/s 7.2s\n",
            "\u001b[K                 Class     Images  Instances      Box(P          R      mAP50  mAP50-95): 100% ━━━━━━━━━━━━ 1/1 4.4it/s 0.2s\n",
            "                   all         13         17      0.875      0.821      0.872      0.455\n",
            "\n",
            "      Epoch    GPU_mem   box_loss   cls_loss   dfl_loss  Instances       Size\n",
            "\u001b[K     65/100      2.14G      1.047     0.7285      1.269         63        640:  50% ━━━━━━────── 10/20 3.7it/s 2.6sCorrupt JPEG data: 15635 extraneous bytes before marker 0xd9\n",
            "\u001b[K     65/100      2.14G      1.018     0.7114      1.255         42        640: 100% ━━━━━━━━━━━━ 20/20 3.8it/s 5.3s\n",
            "\u001b[K                 Class     Images  Instances      Box(P          R      mAP50  mAP50-95): 100% ━━━━━━━━━━━━ 1/1 12.5it/s 0.1s\n",
            "                   all         13         17       0.79      0.706      0.798      0.464\n",
            "\n",
            "      Epoch    GPU_mem   box_loss   cls_loss   dfl_loss  Instances       Size\n",
            "\u001b[K     66/100      2.14G       1.02     0.7117      1.266         24        640: 100% ━━━━━━━━━━━━ 20/20 2.7it/s 7.5s\n",
            "\u001b[K                 Class     Images  Instances      Box(P          R      mAP50  mAP50-95): 100% ━━━━━━━━━━━━ 1/1 6.0it/s 0.2s\n",
            "                   all         13         17      0.822      0.824      0.828       0.43\n",
            "\n",
            "      Epoch    GPU_mem   box_loss   cls_loss   dfl_loss  Instances       Size\n",
            "\u001b[K     67/100      2.14G     0.9907     0.6803      1.314         51        640:   0% ──────────── 0/20  0.2sCorrupt JPEG data: 15635 extraneous bytes before marker 0xd9\n",
            "\u001b[K     67/100      2.14G     0.9789     0.7016       1.23         38        640: 100% ━━━━━━━━━━━━ 20/20 3.8it/s 5.2s\n",
            "\u001b[K                 Class     Images  Instances      Box(P          R      mAP50  mAP50-95): 100% ━━━━━━━━━━━━ 1/1 5.7it/s 0.2s\n",
            "                   all         13         17      0.811      0.765      0.736      0.401\n",
            "\n",
            "      Epoch    GPU_mem   box_loss   cls_loss   dfl_loss  Instances       Size\n",
            "\u001b[K     68/100      2.14G     0.9908     0.7148      1.252         57        640:  30% ━━━╸──────── 6/20 4.0it/s 1.5sCorrupt JPEG data: 15635 extraneous bytes before marker 0xd9\n",
            "\u001b[K     68/100      2.14G     0.9774     0.6926      1.221         30        640: 100% ━━━━━━━━━━━━ 20/20 2.8it/s 7.2s\n",
            "\u001b[K                 Class     Images  Instances      Box(P          R      mAP50  mAP50-95): 100% ━━━━━━━━━━━━ 1/1 4.5it/s 0.2s\n",
            "                   all         13         17      0.922      0.824      0.844      0.408\n",
            "\n",
            "      Epoch    GPU_mem   box_loss   cls_loss   dfl_loss  Instances       Size\n",
            "\u001b[K     69/100      2.14G      1.026     0.7513      1.245         51        640:  80% ━━━━━━━━━╸── 16/20 3.8it/s 4.5sCorrupt JPEG data: 15635 extraneous bytes before marker 0xd9\n",
            "\u001b[K     69/100      2.14G      1.024     0.7433      1.243         40        640: 100% ━━━━━━━━━━━━ 20/20 3.8it/s 5.3s\n",
            "\u001b[K                 Class     Images  Instances      Box(P          R      mAP50  mAP50-95): 100% ━━━━━━━━━━━━ 1/1 5.9it/s 0.2s\n",
            "                   all         13         17      0.853      0.824      0.835      0.384\n",
            "\n",
            "      Epoch    GPU_mem   box_loss   cls_loss   dfl_loss  Instances       Size\n",
            "\u001b[K     70/100      2.14G     0.9792     0.6914      1.244         40        640: 100% ━━━━━━━━━━━━ 20/20 2.7it/s 7.4s\n",
            "\u001b[K                 Class     Images  Instances      Box(P          R      mAP50  mAP50-95): 100% ━━━━━━━━━━━━ 1/1 5.1it/s 0.2s\n",
            "                   all         13         17      0.835      0.941      0.955      0.442\n",
            "\n",
            "      Epoch    GPU_mem   box_loss   cls_loss   dfl_loss  Instances       Size\n",
            "\u001b[K     71/100      2.14G     0.9521     0.6725      1.216         56        640:  50% ━━━━━━────── 10/20 4.0it/s 2.5sCorrupt JPEG data: 15635 extraneous bytes before marker 0xd9\n",
            "\u001b[K     71/100      2.14G      0.977     0.6928      1.232         41        640: 100% ━━━━━━━━━━━━ 20/20 3.8it/s 5.3s\n",
            "\u001b[K                 Class     Images  Instances      Box(P          R      mAP50  mAP50-95): 100% ━━━━━━━━━━━━ 1/1 5.0it/s 0.2s\n",
            "                   all         13         17      0.937      0.874      0.975      0.451\n",
            "\n",
            "      Epoch    GPU_mem   box_loss   cls_loss   dfl_loss  Instances       Size\n",
            "\u001b[K     72/100      2.14G     0.9641     0.6866      1.226         50        640:  60% ━━━━━━━───── 12/20 2.8it/s 4.0sCorrupt JPEG data: 15635 extraneous bytes before marker 0xd9\n",
            "\u001b[K     72/100      2.14G     0.9801       0.69      1.237         35        640: 100% ━━━━━━━━━━━━ 20/20 2.9it/s 7.0s\n",
            "\u001b[K                 Class     Images  Instances      Box(P          R      mAP50  mAP50-95): 100% ━━━━━━━━━━━━ 1/1 5.2it/s 0.2s\n",
            "                   all         13         17       0.93      0.941      0.926      0.456\n",
            "\n",
            "      Epoch    GPU_mem   box_loss   cls_loss   dfl_loss  Instances       Size\n",
            "\u001b[K     73/100      2.14G     0.9895      0.695      1.241         33        640: 100% ━━━━━━━━━━━━ 20/20 3.7it/s 5.4s\n",
            "\u001b[K                 Class     Images  Instances      Box(P          R      mAP50  mAP50-95): 100% ━━━━━━━━━━━━ 1/1 7.6it/s 0.1s\n",
            "                   all         13         17      0.876      0.882       0.93       0.45\n",
            "\n",
            "      Epoch    GPU_mem   box_loss   cls_loss   dfl_loss  Instances       Size\n",
            "\u001b[K     74/100      2.14G     0.8856     0.6928       1.18         45        640:  10% ━─────────── 2/20 2.8it/s 0.5sCorrupt JPEG data: 15635 extraneous bytes before marker 0xd9\n",
            "\u001b[K     74/100      2.14G     0.9403     0.6904      1.199         28        640: 100% ━━━━━━━━━━━━ 20/20 2.9it/s 6.9s\n",
            "\u001b[K                 Class     Images  Instances      Box(P          R      mAP50  mAP50-95): 100% ━━━━━━━━━━━━ 1/1 5.6it/s 0.2s\n",
            "                   all         13         17      0.885      0.765      0.863      0.482\n",
            "\n",
            "      Epoch    GPU_mem   box_loss   cls_loss   dfl_loss  Instances       Size\n",
            "\u001b[K     75/100      2.14G      0.951     0.6658      1.251         47        640:  25% ━━━───────── 5/20 4.1it/s 1.3sCorrupt JPEG data: 15635 extraneous bytes before marker 0xd9\n",
            "\u001b[K     75/100      2.14G     0.9482     0.6624      1.198         39        640: 100% ━━━━━━━━━━━━ 20/20 3.6it/s 5.6s\n",
            "\u001b[K                 Class     Images  Instances      Box(P          R      mAP50  mAP50-95): 100% ━━━━━━━━━━━━ 1/1 5.0it/s 0.2s\n",
            "                   all         13         17      0.841      0.935       0.91      0.467\n",
            "\n",
            "      Epoch    GPU_mem   box_loss   cls_loss   dfl_loss  Instances       Size\n",
            "\u001b[K     76/100      2.14G     0.9285     0.6764      1.193         32        640: 100% ━━━━━━━━━━━━ 20/20 2.7it/s 7.3s\n",
            "\u001b[K                 Class     Images  Instances      Box(P          R      mAP50  mAP50-95): 100% ━━━━━━━━━━━━ 1/1 5.9it/s 0.2s\n",
            "                   all         13         17      0.906      0.647       0.82      0.425\n",
            "\n",
            "      Epoch    GPU_mem   box_loss   cls_loss   dfl_loss  Instances       Size\n",
            "Corrupt JPEG data: 15635 extraneous bytes before marker 0xd9\n",
            "\u001b[K     77/100      2.14G     0.9155     0.6468      1.189         31        640: 100% ━━━━━━━━━━━━ 20/20 3.7it/s 5.4s\n",
            "\u001b[K                 Class     Images  Instances      Box(P          R      mAP50  mAP50-95): 100% ━━━━━━━━━━━━ 1/1 5.1it/s 0.2s\n",
            "                   all         13         17      0.928      0.882      0.853      0.369\n",
            "\n",
            "      Epoch    GPU_mem   box_loss   cls_loss   dfl_loss  Instances       Size\n",
            "\u001b[K     78/100      2.14G     0.9134     0.6367      1.178         61        640:  20% ━━────────── 4/20 4.6it/s 0.9sCorrupt JPEG data: 15635 extraneous bytes before marker 0xd9\n",
            "\u001b[K     78/100      2.14G     0.9157     0.6474      1.188         31        640: 100% ━━━━━━━━━━━━ 20/20 2.9it/s 6.9s\n",
            "\u001b[K                 Class     Images  Instances      Box(P          R      mAP50  mAP50-95): 100% ━━━━━━━━━━━━ 1/1 5.9it/s 0.2s\n",
            "                   all         13         17      0.863      0.824      0.882      0.439\n",
            "\n",
            "      Epoch    GPU_mem   box_loss   cls_loss   dfl_loss  Instances       Size\n",
            "\u001b[K     79/100      2.14G     0.9067     0.6329       1.18         54        640:  45% ━━━━━─────── 9/20 4.5it/s 2.3sCorrupt JPEG data: 15635 extraneous bytes before marker 0xd9\n",
            "\u001b[K     79/100      2.15G     0.8952     0.6416      1.179         20        640: 100% ━━━━━━━━━━━━ 20/20 3.6it/s 5.5s\n",
            "\u001b[K                 Class     Images  Instances      Box(P          R      mAP50  mAP50-95): 100% ━━━━━━━━━━━━ 1/1 5.5it/s 0.2s\n",
            "                   all         13         17      0.929      0.824      0.891       0.43\n",
            "\n",
            "      Epoch    GPU_mem   box_loss   cls_loss   dfl_loss  Instances       Size\n",
            "\u001b[K     80/100      2.15G     0.9144     0.6429      1.185         27        640: 100% ━━━━━━━━━━━━ 20/20 2.9it/s 6.9s\n",
            "\u001b[K                 Class     Images  Instances      Box(P          R      mAP50  mAP50-95): 100% ━━━━━━━━━━━━ 1/1 5.5it/s 0.2s\n",
            "                   all         13         17      0.889      0.939      0.884      0.445\n",
            "\n",
            "      Epoch    GPU_mem   box_loss   cls_loss   dfl_loss  Instances       Size\n",
            "\u001b[K     81/100      2.15G     0.8947     0.6282      1.197         45        640:  80% ━━━━━━━━━╸── 16/20 3.6it/s 4.3sCorrupt JPEG data: 15635 extraneous bytes before marker 0xd9\n",
            "\u001b[K     81/100      2.15G     0.8979     0.6282      1.191         39        640: 100% ━━━━━━━━━━━━ 20/20 3.9it/s 5.1s\n",
            "\u001b[K                 Class     Images  Instances      Box(P          R      mAP50  mAP50-95): 100% ━━━━━━━━━━━━ 1/1 5.0it/s 0.2s\n",
            "                   all         13         17      0.888      0.932      0.887      0.363\n",
            "\n",
            "      Epoch    GPU_mem   box_loss   cls_loss   dfl_loss  Instances       Size\n",
            "\u001b[K     82/100      2.15G       0.89     0.6465      1.188         54        640:  45% ━━━━━─────── 9/20 3.0it/s 3.3sCorrupt JPEG data: 15635 extraneous bytes before marker 0xd9\n",
            "\u001b[K     82/100      2.15G     0.9064     0.6616        1.2         34        640: 100% ━━━━━━━━━━━━ 20/20 2.7it/s 7.3s\n",
            "\u001b[K                 Class     Images  Instances      Box(P          R      mAP50  mAP50-95): 100% ━━━━━━━━━━━━ 1/1 6.4it/s 0.2s\n",
            "                   all         13         17      0.922      0.824      0.849      0.378\n",
            "\n",
            "      Epoch    GPU_mem   box_loss   cls_loss   dfl_loss  Instances       Size\n",
            "\u001b[K     83/100      2.15G     0.8853     0.6235       1.18         26        640: 100% ━━━━━━━━━━━━ 20/20 3.7it/s 5.4s\n",
            "\u001b[K                 Class     Images  Instances      Box(P          R      mAP50  mAP50-95): 100% ━━━━━━━━━━━━ 1/1 4.4it/s 0.2s\n",
            "                   all         13         17      0.932      0.882      0.885      0.389\n",
            "\n",
            "      Epoch    GPU_mem   box_loss   cls_loss   dfl_loss  Instances       Size\n",
            "\u001b[K     84/100      2.15G     0.8563     0.6188      1.154         64        640:  55% ━━━━━━╸───── 11/20 3.0it/s 4.0sCorrupt JPEG data: 15635 extraneous bytes before marker 0xd9\n",
            "\u001b[K     84/100      2.15G     0.8313     0.5989      1.148         24        640: 100% ━━━━━━━━━━━━ 20/20 2.8it/s 7.2s\n",
            "\u001b[K                 Class     Images  Instances      Box(P          R      mAP50  mAP50-95): 100% ━━━━━━━━━━━━ 1/1 6.9it/s 0.1s\n",
            "                   all         13         17      0.931      0.824      0.858      0.393\n",
            "\n",
            "      Epoch    GPU_mem   box_loss   cls_loss   dfl_loss  Instances       Size\n",
            "\u001b[K     85/100      2.15G     0.8502     0.5975       1.16         28        640: 100% ━━━━━━━━━━━━ 20/20 3.5it/s 5.7s\n",
            "\u001b[K                 Class     Images  Instances      Box(P          R      mAP50  mAP50-95): 100% ━━━━━━━━━━━━ 1/1 5.8it/s 0.2s\n",
            "                   all         13         17      0.937      0.876      0.937      0.422\n",
            "\n",
            "      Epoch    GPU_mem   box_loss   cls_loss   dfl_loss  Instances       Size\n",
            "\u001b[K     86/100      2.15G      0.893     0.6339      1.191         47        640:  45% ━━━━━─────── 9/20 2.3it/s 3.5sCorrupt JPEG data: 15635 extraneous bytes before marker 0xd9\n",
            "\u001b[K     86/100      2.15G     0.8568     0.6101      1.175         31        640: 100% ━━━━━━━━━━━━ 20/20 2.9it/s 6.9s\n",
            "\u001b[K                 Class     Images  Instances      Box(P          R      mAP50  mAP50-95): 100% ━━━━━━━━━━━━ 1/1 10.6it/s 0.1s\n",
            "                   all         13         17      0.941      0.936       0.94      0.426\n",
            "\n",
            "      Epoch    GPU_mem   box_loss   cls_loss   dfl_loss  Instances       Size\n",
            "\u001b[K     87/100      2.15G     0.8041     0.5663      1.148         50        640:  80% ━━━━━━━━━╸── 16/20 3.6it/s 4.7sCorrupt JPEG data: 15635 extraneous bytes before marker 0xd9\n",
            "\u001b[K     87/100      2.15G     0.8024     0.5693      1.143         36        640: 100% ━━━━━━━━━━━━ 20/20 3.7it/s 5.4s\n",
            "\u001b[K                 Class     Images  Instances      Box(P          R      mAP50  mAP50-95): 100% ━━━━━━━━━━━━ 1/1 5.5it/s 0.2s\n",
            "                   all         13         17      0.933      0.941      0.943      0.435\n",
            "\n",
            "      Epoch    GPU_mem   box_loss   cls_loss   dfl_loss  Instances       Size\n",
            "\u001b[K     88/100      2.15G     0.8621     0.6565      1.173         47        640:  25% ━━━───────── 5/20 3.4it/s 1.7sCorrupt JPEG data: 15635 extraneous bytes before marker 0xd9\n",
            "\u001b[K     88/100      2.15G     0.8589     0.6237      1.177         54        640:  85% ━━━━━━━━━━── 17/20 3.9it/s 6.7sCorrupt JPEG data: 15635 extraneous bytes before marker 0xd9\n",
            "\u001b[K     88/100      2.15G     0.8541     0.6212      1.178         22        640: 100% ━━━━━━━━━━━━ 20/20 2.8it/s 7.2s\n",
            "\u001b[K                 Class     Images  Instances      Box(P          R      mAP50  mAP50-95): 100% ━━━━━━━━━━━━ 1/1 5.5it/s 0.2s\n",
            "                   all         13         17      0.934      0.826       0.92      0.433\n",
            "\n",
            "      Epoch    GPU_mem   box_loss   cls_loss   dfl_loss  Instances       Size\n",
            "\u001b[K     89/100      2.15G     0.8359     0.6049      1.149         35        640: 100% ━━━━━━━━━━━━ 20/20 3.7it/s 5.5s\n",
            "\u001b[K                 Class     Images  Instances      Box(P          R      mAP50  mAP50-95): 100% ━━━━━━━━━━━━ 1/1 6.8it/s 0.1s\n",
            "                   all         13         17      0.881      0.869      0.909      0.402\n",
            "\n",
            "      Epoch    GPU_mem   box_loss   cls_loss   dfl_loss  Instances       Size\n",
            "\u001b[K     90/100      2.15G     0.8135     0.5581      1.149         50        640:  50% ━━━━━━────── 10/20 2.4it/s 3.9sCorrupt JPEG data: 15635 extraneous bytes before marker 0xd9\n",
            "\u001b[K     90/100      2.15G     0.8064     0.5613       1.13         30        640: 100% ━━━━━━━━━━━━ 20/20 2.8it/s 7.1s\n",
            "\u001b[K                 Class     Images  Instances      Box(P          R      mAP50  mAP50-95): 100% ━━━━━━━━━━━━ 1/1 4.6it/s 0.2s\n",
            "                   all         13         17      0.829      0.941      0.929      0.419\n",
            "Closing dataloader mosaic\n",
            "\u001b[34m\u001b[1malbumentations: \u001b[0mBlur(p=0.01, blur_limit=(3, 7)), MedianBlur(p=0.01, blur_limit=(3, 7)), ToGray(p=0.01, method='weighted_average', num_output_channels=3), CLAHE(p=0.01, clip_limit=(1.0, 4.0), tile_grid_size=(8, 8))\n",
            "\n",
            "      Epoch    GPU_mem   box_loss   cls_loss   dfl_loss  Instances       Size\n",
            "Corrupt JPEG data: 15635 extraneous bytes before marker 0xd9\n",
            "\u001b[K     91/100      2.15G     0.7799     0.5797      1.122         17        640: 100% ━━━━━━━━━━━━ 20/20 2.7it/s 7.5s\n",
            "\u001b[K                 Class     Images  Instances      Box(P          R      mAP50  mAP50-95): 100% ━━━━━━━━━━━━ 1/1 3.1it/s 0.3s\n",
            "                   all         13         17      0.927      0.824      0.857      0.366\n",
            "\n",
            "      Epoch    GPU_mem   box_loss   cls_loss   dfl_loss  Instances       Size\n",
            "\u001b[K     92/100      2.15G     0.7363     0.4897      1.091         31        640:  45% ━━━━━─────── 9/20 3.9it/s 3.0sCorrupt JPEG data: 15635 extraneous bytes before marker 0xd9\n",
            "\u001b[K     92/100      2.15G     0.7399     0.4845      1.106         15        640: 100% ━━━━━━━━━━━━ 20/20 3.4it/s 6.0s\n",
            "\u001b[K                 Class     Images  Instances      Box(P          R      mAP50  mAP50-95): 100% ━━━━━━━━━━━━ 1/1 4.5it/s 0.2s\n",
            "                   all         13         17      0.925      0.824      0.879      0.411\n",
            "\n",
            "      Epoch    GPU_mem   box_loss   cls_loss   dfl_loss  Instances       Size\n",
            "\u001b[K     93/100      2.15G     0.7171     0.4521      1.077         11        640: 100% ━━━━━━━━━━━━ 20/20 3.8it/s 5.2s\n",
            "\u001b[K                 Class     Images  Instances      Box(P          R      mAP50  mAP50-95): 100% ━━━━━━━━━━━━ 1/1 4.9it/s 0.2s\n",
            "                   all         13         17      0.924      0.882      0.921       0.43\n",
            "Corrupt JPEG data: 15635 extraneous bytes before marker 0xd9\n",
            "\n",
            "      Epoch    GPU_mem   box_loss   cls_loss   dfl_loss  Instances       Size\n",
            "\u001b[K     94/100      2.15G     0.7184     0.4517      1.093         13        640: 100% ━━━━━━━━━━━━ 20/20 3.1it/s 6.3s\n",
            "\u001b[K                 Class     Images  Instances      Box(P          R      mAP50  mAP50-95): 100% ━━━━━━━━━━━━ 1/1 5.8it/s 0.2s\n",
            "                   all         13         17       0.97      0.824      0.955      0.464\n",
            "Corrupt JPEG data: 15635 extraneous bytes before marker 0xd9\n",
            "\n",
            "      Epoch    GPU_mem   box_loss   cls_loss   dfl_loss  Instances       Size\n",
            "\u001b[K     95/100      2.15G      0.684     0.4298      1.058         13        640: 100% ━━━━━━━━━━━━ 20/20 3.7it/s 5.4s\n",
            "\u001b[K                 Class     Images  Instances      Box(P          R      mAP50  mAP50-95): 100% ━━━━━━━━━━━━ 1/1 3.3it/s 0.3s\n",
            "                   all         13         17      0.979      0.824       0.93      0.477\n",
            "\n",
            "      Epoch    GPU_mem   box_loss   cls_loss   dfl_loss  Instances       Size\n",
            "\u001b[K     96/100      2.15G     0.6402     0.3954      1.042         21        640:  30% ━━━╸──────── 6/20 2.8it/s 2.4sCorrupt JPEG data: 15635 extraneous bytes before marker 0xd9\n",
            "\u001b[K     96/100      2.15G     0.6684     0.4152      1.045         17        640: 100% ━━━━━━━━━━━━ 20/20 3.2it/s 6.3s\n",
            "\u001b[K                 Class     Images  Instances      Box(P          R      mAP50  mAP50-95): 100% ━━━━━━━━━━━━ 1/1 11.7it/s 0.1s\n",
            "                   all         13         17      0.932      0.824      0.905      0.448\n",
            "\n",
            "      Epoch    GPU_mem   box_loss   cls_loss   dfl_loss  Instances       Size\n",
            "\u001b[K     97/100      2.15G     0.6385     0.4273       1.03         28        640:  55% ━━━━━━╸───── 11/20 3.3it/s 3.1sCorrupt JPEG data: 15635 extraneous bytes before marker 0xd9\n",
            "\u001b[K     97/100      2.15G     0.6554     0.4282      1.049         13        640: 100% ━━━━━━━━━━━━ 20/20 3.8it/s 5.3s\n",
            "\u001b[K                 Class     Images  Instances      Box(P          R      mAP50  mAP50-95): 100% ━━━━━━━━━━━━ 1/1 4.2it/s 0.2s\n",
            "                   all         13         17      0.881      0.874      0.903      0.443\n",
            "\n",
            "      Epoch    GPU_mem   box_loss   cls_loss   dfl_loss  Instances       Size\n",
            "\u001b[K     98/100      2.15G     0.6111     0.3886      1.018         17        640:  45% ━━━━━─────── 9/20 4.4it/s 2.9sCorrupt JPEG data: 15635 extraneous bytes before marker 0xd9\n",
            "\u001b[K     98/100      2.15G     0.6231     0.4011      1.023         11        640: 100% ━━━━━━━━━━━━ 20/20 3.4it/s 5.8s\n",
            "\u001b[K                 Class     Images  Instances      Box(P          R      mAP50  mAP50-95): 100% ━━━━━━━━━━━━ 1/1 4.3it/s 0.2s\n",
            "                   all         13         17      0.921      0.765      0.866      0.402\n",
            "\n",
            "      Epoch    GPU_mem   box_loss   cls_loss   dfl_loss  Instances       Size\n",
            "\u001b[K     99/100      2.15G     0.6352       0.41      1.035         14        640: 100% ━━━━━━━━━━━━ 20/20 3.8it/s 5.3s\n",
            "Corrupt JPEG data: 15635 extraneous bytes before marker 0xd9\n",
            "\u001b[K                 Class     Images  Instances      Box(P          R      mAP50  mAP50-95): 100% ━━━━━━━━━━━━ 1/1 4.0it/s 0.3s\n",
            "                   all         13         17       0.92      0.765      0.848      0.393\n",
            "\n",
            "      Epoch    GPU_mem   box_loss   cls_loss   dfl_loss  Instances       Size\n",
            "\u001b[K    100/100      2.15G     0.6289     0.4076      1.041         16        640: 100% ━━━━━━━━━━━━ 20/20 2.9it/s 7.0s\n",
            "\u001b[K                 Class     Images  Instances      Box(P          R      mAP50  mAP50-95): 100% ━━━━━━━━━━━━ 1/1 7.6it/s 0.1s\n",
            "                   all         13         17       0.92      0.765      0.873      0.418\n",
            "\n",
            "100 epochs completed in 0.199 hours.\n",
            "Optimizer stripped from /content/drive/MyDrive/GalapagosSealsMerged/runs/detect/train/weights/last.pt, 6.3MB\n",
            "Optimizer stripped from /content/drive/MyDrive/GalapagosSealsMerged/runs/detect/train/weights/best.pt, 6.3MB\n",
            "\n",
            "Validating /content/drive/MyDrive/GalapagosSealsMerged/runs/detect/train/weights/best.pt...\n",
            "Ultralytics 8.3.188 🚀 Python-3.12.11 torch-2.8.0+cu126 CUDA:0 (Tesla T4, 15095MiB)\n",
            "Model summary (fused): 72 layers, 3,005,843 parameters, 0 gradients, 8.1 GFLOPs\n",
            "\u001b[K                 Class     Images  Instances      Box(P          R      mAP50  mAP50-95): 100% ━━━━━━━━━━━━ 1/1 10.0it/s 0.1s\n",
            "                   all         13         17      0.933       0.82      0.893       0.51\n",
            "Speed: 0.2ms preprocess, 2.1ms inference, 0.0ms loss, 1.5ms postprocess per image\n",
            "Results saved to \u001b[1m/content/drive/MyDrive/GalapagosSealsMerged/runs/detect/train\u001b[0m\n",
            "💡 Learn more at https://docs.ultralytics.com/modes/train\n"
          ]
        }
      ]
    },
    {
      "cell_type": "code",
      "source": [],
      "metadata": {
        "id": "5O_jzoKN2Y8d"
      },
      "execution_count": null,
      "outputs": []
    },
    {
      "cell_type": "code",
      "metadata": {
        "id": "3dfa24c2"
      },
      "source": [],
      "execution_count": null,
      "outputs": []
    },
    {
      "cell_type": "code",
      "metadata": {
        "colab": {
          "base_uri": "https://localhost:8080/"
        },
        "id": "85c2ac62",
        "outputId": "f5d9459e-c5ab-4ac7-bba9-872c84258800"
      },
      "source": [
        "from ultralytics import YOLO\n",
        "\n",
        "# Define the path to your trained model weights in Google Drive\n",
        "model_path = '/content/drive/MyDrive/GalapagosSealsMerged/runs/detect/train/weights/best.pt' # Assuming 'best.pt' is the saved model\n",
        "\n",
        "# Load the trained YOLOv8 model\n",
        "model = YOLO(model_path)\n",
        "\n",
        "print(f\"Model loaded successfully from {model_path}\")"
      ],
      "execution_count": null,
      "outputs": [
        {
          "output_type": "stream",
          "name": "stdout",
          "text": [
            "Model loaded successfully from /content/drive/MyDrive/GalapagosSealsMerged/runs/detect/train/weights/best.pt\n"
          ]
        }
      ]
    },
    {
      "cell_type": "code",
      "metadata": {
        "colab": {
          "base_uri": "https://localhost:8080/"
        },
        "id": "ed6ff066",
        "outputId": "2dfac118-58b2-4e6e-e180-445a9336c5a4"
      },
      "source": [
        "import os\n",
        "\n",
        "# Define the path to the directory where the model should be\n",
        "model_dir = '/content/drive/MyDrive/GalapagosSealsMerged/runs/detect/train/weights/'\n",
        "\n",
        "# Check if the directory exists\n",
        "if os.path.exists(model_dir):\n",
        "    print(f\"Contents of {model_dir}:\")\n",
        "    # List the contents of the directory\n",
        "    print(os.listdir(model_dir))\n",
        "else:\n",
        "    print(f\"Directory not found: {model_dir}\")"
      ],
      "execution_count": null,
      "outputs": [
        {
          "output_type": "stream",
          "name": "stdout",
          "text": [
            "Contents of /content/drive/MyDrive/GalapagosSealsMerged/runs/detect/train/weights/:\n",
            "['last.pt', 'best.pt']\n"
          ]
        }
      ]
    },
    {
      "cell_type": "code",
      "metadata": {
        "colab": {
          "base_uri": "https://localhost:8080/"
        },
        "id": "de3ef8de",
        "outputId": "89271762-74aa-4fd7-920b-2910bf8e5d5e"
      },
      "source": [
        "import os\n",
        "from PIL import Image\n",
        "\n",
        "# Define the base path to your dataset in Google Drive\n",
        "dataset_base_path = '/content/drive/MyDrive/my_galapagos_seals_dataset'\n",
        "\n",
        "# Define the directories for train, validation, and test sets\n",
        "subsets = ['train', 'validation', 'test']\n",
        "classes = ['Zalophus_wollebaeki', 'Arctocephalus_galapagoensis']\n",
        "\n",
        "# Dictionary to store image paths\n",
        "image_paths = {}\n",
        "\n",
        "for subset in subsets:\n",
        "    image_paths[subset] = []\n",
        "    for seal_class in classes:\n",
        "        # Updated path: removed 'images' subfolder\n",
        "        class_path = os.path.join(dataset_base_path, subset, seal_class)\n",
        "        if os.path.exists(class_path):\n",
        "            for img_name in os.listdir(class_path):\n",
        "                if img_name.lower().endswith(('.png', '.jpg', '.jpeg')):\n",
        "                    image_paths[subset].append(os.path.join(class_path, img_name))\n",
        "        else:\n",
        "            print(f\"Directory not found: {class_path}\")\n",
        "\n",
        "\n",
        "# Perform inference on each image\n",
        "results = {}\n",
        "for subset in subsets:\n",
        "    results[subset] = []\n",
        "    print(f\"Running inference on {subset} set...\")\n",
        "    for img_path in image_paths[subset]:\n",
        "        try:\n",
        "            # Run inference\n",
        "            detection_results = model(img_path)\n",
        "            results[subset].append({'image_path': img_path, 'detections': detection_results})\n",
        "        except Exception as e:\n",
        "            print(f\"Error processing image {img_path}: {e}\")\n",
        "\n",
        "print(\"Inference complete.\")"
      ],
      "execution_count": null,
      "outputs": [
        {
          "output_type": "stream",
          "name": "stdout",
          "text": [
            "Running inference on train set...\n",
            "\n",
            "image 1/1 /content/drive/MyDrive/my_galapagos_seals_dataset/train/Zalophus_wollebaeki/12465703.jpg: 416x640 2 sea-lions, 41.8ms\n",
            "Speed: 2.4ms preprocess, 41.8ms inference, 102.0ms postprocess per image at shape (1, 3, 416, 640)\n",
            "\n",
            "image 1/1 /content/drive/MyDrive/my_galapagos_seals_dataset/train/Zalophus_wollebaeki/7842941.jpg: 480x640 1 sea-lion, 66.9ms\n",
            "Speed: 8.8ms preprocess, 66.9ms inference, 70.3ms postprocess per image at shape (1, 3, 480, 640)\n",
            "\n",
            "image 1/1 /content/drive/MyDrive/my_galapagos_seals_dataset/train/Zalophus_wollebaeki/32680757.jpg: 448x640 1 sea-lion, 223.3ms\n",
            "Speed: 8.3ms preprocess, 223.3ms inference, 1.8ms postprocess per image at shape (1, 3, 448, 640)\n",
            "\n",
            "image 1/1 /content/drive/MyDrive/my_galapagos_seals_dataset/train/Zalophus_wollebaeki/62389458.jpg: 640x448 2 sea-lions, 62.2ms\n",
            "Speed: 3.3ms preprocess, 62.2ms inference, 2.2ms postprocess per image at shape (1, 3, 640, 448)\n",
            "\n",
            "image 1/1 /content/drive/MyDrive/my_galapagos_seals_dataset/train/Zalophus_wollebaeki/12465701.jpg: 448x640 1 sea-lion, 10.4ms\n",
            "Speed: 3.3ms preprocess, 10.4ms inference, 2.0ms postprocess per image at shape (1, 3, 448, 640)\n",
            "\n",
            "image 1/1 /content/drive/MyDrive/my_galapagos_seals_dataset/train/Zalophus_wollebaeki/62389482.jpg: 448x640 1 sea-lion, 9.5ms\n",
            "Speed: 3.4ms preprocess, 9.5ms inference, 1.9ms postprocess per image at shape (1, 3, 448, 640)\n",
            "\n",
            "image 1/1 /content/drive/MyDrive/my_galapagos_seals_dataset/train/Zalophus_wollebaeki/11392259.jpg: 384x640 1 sea-lion, 66.8ms\n",
            "Speed: 3.0ms preprocess, 66.8ms inference, 2.5ms postprocess per image at shape (1, 3, 384, 640)\n",
            "\n",
            "image 1/1 /content/drive/MyDrive/my_galapagos_seals_dataset/train/Zalophus_wollebaeki/original.png: 352x640 2 sea-lions, 46.6ms\n",
            "Speed: 1.9ms preprocess, 46.6ms inference, 1.5ms postprocess per image at shape (1, 3, 352, 640)\n",
            "\n",
            "image 1/1 /content/drive/MyDrive/my_galapagos_seals_dataset/train/Zalophus_wollebaeki/11392639.jpg: 384x640 1 sea-lion, 6.6ms\n",
            "Speed: 1.5ms preprocess, 6.6ms inference, 1.3ms postprocess per image at shape (1, 3, 384, 640)\n",
            "\n",
            "image 1/1 /content/drive/MyDrive/my_galapagos_seals_dataset/train/Zalophus_wollebaeki/24905377.jpg: 448x640 1 sea-lion, 11.6ms\n",
            "Speed: 2.7ms preprocess, 11.6ms inference, 1.4ms postprocess per image at shape (1, 3, 448, 640)\n",
            "\n",
            "image 1/1 /content/drive/MyDrive/my_galapagos_seals_dataset/train/Zalophus_wollebaeki/24870369.jpg: 448x640 1 sea-lion, 5.7ms\n",
            "Speed: 1.7ms preprocess, 5.7ms inference, 1.3ms postprocess per image at shape (1, 3, 448, 640)\n",
            "\n",
            "image 1/1 /content/drive/MyDrive/my_galapagos_seals_dataset/train/Zalophus_wollebaeki/62302832.jpg: 448x640 2 sea-lions, 5.7ms\n",
            "Speed: 1.8ms preprocess, 5.7ms inference, 1.3ms postprocess per image at shape (1, 3, 448, 640)\n",
            "\n",
            "image 1/1 /content/drive/MyDrive/my_galapagos_seals_dataset/train/Zalophus_wollebaeki/30161054.jpg: 448x640 2 sea-lions, 5.7ms\n",
            "Speed: 1.7ms preprocess, 5.7ms inference, 1.3ms postprocess per image at shape (1, 3, 448, 640)\n",
            "\n",
            "image 1/1 /content/drive/MyDrive/my_galapagos_seals_dataset/train/Zalophus_wollebaeki/27232453.jpg: 448x640 2 sea-lions, 5.7ms\n",
            "Speed: 1.7ms preprocess, 5.7ms inference, 1.3ms postprocess per image at shape (1, 3, 448, 640)\n",
            "\n",
            "image 1/1 /content/drive/MyDrive/my_galapagos_seals_dataset/train/Zalophus_wollebaeki/14920886.jpg: 480x640 1 sea-lion, 6.5ms\n",
            "Speed: 1.8ms preprocess, 6.5ms inference, 1.3ms postprocess per image at shape (1, 3, 480, 640)\n",
            "\n",
            "image 1/1 /content/drive/MyDrive/my_galapagos_seals_dataset/train/Zalophus_wollebaeki/48830184078_f104078ff8_b.jpg: 416x640 1 sea-lion, 6.7ms\n",
            "Speed: 1.7ms preprocess, 6.7ms inference, 1.2ms postprocess per image at shape (1, 3, 416, 640)\n",
            "\n",
            "image 1/1 /content/drive/MyDrive/my_galapagos_seals_dataset/train/Zalophus_wollebaeki/14920876.jpg: 384x640 3 sea-lions, 6.1ms\n",
            "Speed: 1.5ms preprocess, 6.1ms inference, 1.4ms postprocess per image at shape (1, 3, 384, 640)\n",
            "\n",
            "image 1/1 /content/drive/MyDrive/my_galapagos_seals_dataset/train/Zalophus_wollebaeki/11392743.jpg: 384x640 3 sea-lions, 5.6ms\n",
            "Speed: 1.6ms preprocess, 5.6ms inference, 1.3ms postprocess per image at shape (1, 3, 384, 640)\n",
            "\n",
            "image 1/1 /content/drive/MyDrive/my_galapagos_seals_dataset/train/Zalophus_wollebaeki/47906467.jpg: 640x480 3 sea-lions, 35.9ms\n",
            "Speed: 2.1ms preprocess, 35.9ms inference, 1.3ms postprocess per image at shape (1, 3, 640, 480)\n",
            "\n",
            "image 1/1 /content/drive/MyDrive/my_galapagos_seals_dataset/train/Zalophus_wollebaeki/original.jpeg: 480x640 4 sea-lions, 6.5ms\n",
            "Speed: 2.2ms preprocess, 6.5ms inference, 1.3ms postprocess per image at shape (1, 3, 480, 640)\n",
            "\n",
            "image 1/1 /content/drive/MyDrive/my_galapagos_seals_dataset/train/Zalophus_wollebaeki/32668858.jpg: 448x640 1 sea-lion, 6.4ms\n",
            "Speed: 1.8ms preprocess, 6.4ms inference, 1.3ms postprocess per image at shape (1, 3, 448, 640)\n",
            "\n",
            "image 1/1 /content/drive/MyDrive/my_galapagos_seals_dataset/train/Zalophus_wollebaeki/12507690.jpg: 416x640 1 sea-lion, 6.3ms\n",
            "Speed: 1.6ms preprocess, 6.3ms inference, 1.3ms postprocess per image at shape (1, 3, 416, 640)\n",
            "\n",
            "image 1/1 /content/drive/MyDrive/my_galapagos_seals_dataset/train/Zalophus_wollebaeki/53799566.jpg: 384x640 1 sea-lion, 6.3ms\n",
            "Speed: 1.6ms preprocess, 6.3ms inference, 1.3ms postprocess per image at shape (1, 3, 384, 640)\n",
            "\n",
            "image 1/1 /content/drive/MyDrive/my_galapagos_seals_dataset/train/Zalophus_wollebaeki/33159908.jpg: 448x640 1 sea-lion, 6.3ms\n",
            "Speed: 1.8ms preprocess, 6.3ms inference, 1.2ms postprocess per image at shape (1, 3, 448, 640)\n",
            "\n",
            "image 1/1 /content/drive/MyDrive/my_galapagos_seals_dataset/train/Zalophus_wollebaeki/37895037296_11d29ecf1e_b.jpg: 448x640 1 sea-lion, 5.7ms\n",
            "Speed: 1.8ms preprocess, 5.7ms inference, 1.6ms postprocess per image at shape (1, 3, 448, 640)\n",
            "\n",
            "image 1/1 /content/drive/MyDrive/my_galapagos_seals_dataset/train/Zalophus_wollebaeki/61465122.jpg: 480x640 5 sea-lions, 6.5ms\n",
            "Speed: 2.1ms preprocess, 6.5ms inference, 1.4ms postprocess per image at shape (1, 3, 480, 640)\n",
            "\n",
            "image 1/1 /content/drive/MyDrive/my_galapagos_seals_dataset/train/Zalophus_wollebaeki/12486062.jpg: 416x640 2 sea-lions, 6.4ms\n",
            "Speed: 1.6ms preprocess, 6.4ms inference, 1.3ms postprocess per image at shape (1, 3, 416, 640)\n",
            "\n",
            "image 1/1 /content/drive/MyDrive/my_galapagos_seals_dataset/train/Zalophus_wollebaeki/32676356.jpg: 448x640 2 sea-lions, 7.6ms\n",
            "Speed: 2.2ms preprocess, 7.6ms inference, 1.5ms postprocess per image at shape (1, 3, 448, 640)\n",
            "\n",
            "image 1/1 /content/drive/MyDrive/my_galapagos_seals_dataset/train/Zalophus_wollebaeki/3784215.jpg: 640x448 2 sea-lions, 6.4ms\n",
            "Speed: 1.7ms preprocess, 6.4ms inference, 1.2ms postprocess per image at shape (1, 3, 640, 448)\n",
            "\n",
            "image 1/1 /content/drive/MyDrive/my_galapagos_seals_dataset/train/Zalophus_wollebaeki/33170741.jpg: 448x640 2 sea-lions, 6.4ms\n",
            "Speed: 1.8ms preprocess, 6.4ms inference, 1.3ms postprocess per image at shape (1, 3, 448, 640)\n",
            "\n",
            "image 1/1 /content/drive/MyDrive/my_galapagos_seals_dataset/train/Zalophus_wollebaeki/25538927.jpg: 384x640 1 sea-lion, 6.1ms\n",
            "Speed: 1.5ms preprocess, 6.1ms inference, 1.2ms postprocess per image at shape (1, 3, 384, 640)\n",
            "\n",
            "image 1/1 /content/drive/MyDrive/my_galapagos_seals_dataset/train/Zalophus_wollebaeki/24870333.jpg: 640x480 2 sea-lions, 6.5ms\n",
            "Speed: 1.8ms preprocess, 6.5ms inference, 1.2ms postprocess per image at shape (1, 3, 640, 480)\n",
            "\n",
            "image 1/1 /content/drive/MyDrive/my_galapagos_seals_dataset/train/Zalophus_wollebaeki/12477965.jpg: 448x640 2 sea-lions, 6.4ms\n",
            "Speed: 1.7ms preprocess, 6.4ms inference, 1.3ms postprocess per image at shape (1, 3, 448, 640)\n",
            "\n",
            "image 1/1 /content/drive/MyDrive/my_galapagos_seals_dataset/train/Zalophus_wollebaeki/14922554.jpg: 480x640 1 sea-lion, 6.4ms\n",
            "Speed: 1.9ms preprocess, 6.4ms inference, 1.3ms postprocess per image at shape (1, 3, 480, 640)\n",
            "\n",
            "image 1/1 /content/drive/MyDrive/my_galapagos_seals_dataset/train/Zalophus_wollebaeki/14920872.jpg: 384x640 1 sea-lion, 6.2ms\n",
            "Speed: 1.5ms preprocess, 6.2ms inference, 1.3ms postprocess per image at shape (1, 3, 384, 640)\n",
            "\n",
            "image 1/1 /content/drive/MyDrive/my_galapagos_seals_dataset/train/Zalophus_wollebaeki/51875073623_043d493d21_b.jpg: 480x640 1 sea-lion, 6.4ms\n",
            "Speed: 2.0ms preprocess, 6.4ms inference, 1.3ms postprocess per image at shape (1, 3, 480, 640)\n",
            "\n",
            "image 1/1 /content/drive/MyDrive/my_galapagos_seals_dataset/train/Zalophus_wollebaeki/5774442.jpg: 544x640 3 sea-lions, 37.2ms\n",
            "Speed: 2.0ms preprocess, 37.2ms inference, 1.4ms postprocess per image at shape (1, 3, 544, 640)\n",
            "\n",
            "image 1/1 /content/drive/MyDrive/my_galapagos_seals_dataset/train/Zalophus_wollebaeki/62056702.jpg: 640x640 1 sea-lion, 7.8ms\n",
            "Speed: 2.6ms preprocess, 7.8ms inference, 1.2ms postprocess per image at shape (1, 3, 640, 640)\n",
            "\n",
            "image 1/1 /content/drive/MyDrive/my_galapagos_seals_dataset/train/Zalophus_wollebaeki/5840101.jpg: 640x640 1 sea-lion, 7.2ms\n",
            "Speed: 3.2ms preprocess, 7.2ms inference, 1.3ms postprocess per image at shape (1, 3, 640, 640)\n",
            "\n",
            "image 1/1 /content/drive/MyDrive/my_galapagos_seals_dataset/train/Zalophus_wollebaeki/24870368.jpg: 448x640 1 sea-lion, 7.8ms\n",
            "Speed: 1.9ms preprocess, 7.8ms inference, 1.7ms postprocess per image at shape (1, 3, 448, 640)\n",
            "\n",
            "image 1/1 /content/drive/MyDrive/my_galapagos_seals_dataset/train/Zalophus_wollebaeki/109695698.jpg: 384x640 2 sea-lions, 6.7ms\n",
            "Speed: 1.8ms preprocess, 6.7ms inference, 1.4ms postprocess per image at shape (1, 3, 384, 640)\n",
            "\n",
            "image 1/1 /content/drive/MyDrive/my_galapagos_seals_dataset/train/Zalophus_wollebaeki/3784219.jpg: 448x640 2 sea-lions, 10.1ms\n",
            "Speed: 2.0ms preprocess, 10.1ms inference, 1.4ms postprocess per image at shape (1, 3, 448, 640)\n",
            "\n",
            "image 1/1 /content/drive/MyDrive/my_galapagos_seals_dataset/train/Zalophus_wollebaeki/32668859.jpg: 448x640 2 sea-lions, 5.8ms\n",
            "Speed: 1.8ms preprocess, 5.8ms inference, 1.4ms postprocess per image at shape (1, 3, 448, 640)\n",
            "\n",
            "image 1/1 /content/drive/MyDrive/my_galapagos_seals_dataset/train/Zalophus_wollebaeki/109478999.jpg: 416x640 2 sea-lions, 6.3ms\n",
            "Speed: 1.7ms preprocess, 6.3ms inference, 1.3ms postprocess per image at shape (1, 3, 416, 640)\n",
            "\n",
            "image 1/1 /content/drive/MyDrive/my_galapagos_seals_dataset/train/Zalophus_wollebaeki/100093731.jpg: 416x640 9 sea-lions, 146.4ms\n",
            "Speed: 1.7ms preprocess, 146.4ms inference, 1.8ms postprocess per image at shape (1, 3, 416, 640)\n",
            "\n",
            "image 1/1 /content/drive/MyDrive/my_galapagos_seals_dataset/train/Zalophus_wollebaeki/100093733.jpg: 416x640 1 sea-lion, 6.2ms\n",
            "Speed: 1.9ms preprocess, 6.2ms inference, 1.3ms postprocess per image at shape (1, 3, 416, 640)\n",
            "\n",
            "image 1/1 /content/drive/MyDrive/my_galapagos_seals_dataset/train/Zalophus_wollebaeki/5294712.jpg: 448x640 1 sea-lion, 6.4ms\n",
            "Speed: 1.7ms preprocess, 6.4ms inference, 1.3ms postprocess per image at shape (1, 3, 448, 640)\n",
            "\n",
            "image 1/1 /content/drive/MyDrive/my_galapagos_seals_dataset/train/Zalophus_wollebaeki/32659331.jpg: 448x640 1 sea-lion, 5.8ms\n",
            "Speed: 1.9ms preprocess, 5.8ms inference, 1.3ms postprocess per image at shape (1, 3, 448, 640)\n",
            "\n",
            "image 1/1 /content/drive/MyDrive/my_galapagos_seals_dataset/train/Zalophus_wollebaeki/32676362.jpg: 448x640 4 sea-lions, 6.0ms\n",
            "Speed: 1.9ms preprocess, 6.0ms inference, 1.4ms postprocess per image at shape (1, 3, 448, 640)\n",
            "\n",
            "image 1/1 /content/drive/MyDrive/my_galapagos_seals_dataset/train/Zalophus_wollebaeki/32661160.jpg: 448x640 2 sea-lions, 5.7ms\n",
            "Speed: 1.8ms preprocess, 5.7ms inference, 1.3ms postprocess per image at shape (1, 3, 448, 640)\n",
            "\n",
            "image 1/1 /content/drive/MyDrive/my_galapagos_seals_dataset/train/Zalophus_wollebaeki/12486063.jpg: 448x640 2 sea-lions, 5.7ms\n",
            "Speed: 1.7ms preprocess, 5.7ms inference, 1.3ms postprocess per image at shape (1, 3, 448, 640)\n",
            "\n",
            "image 1/1 /content/drive/MyDrive/my_galapagos_seals_dataset/train/Zalophus_wollebaeki/12507790.jpg: 416x640 2 sea-lions, 6.3ms\n",
            "Speed: 1.7ms preprocess, 6.3ms inference, 1.2ms postprocess per image at shape (1, 3, 416, 640)\n",
            "\n",
            "image 1/1 /content/drive/MyDrive/my_galapagos_seals_dataset/train/Zalophus_wollebaeki/14928063.jpg: 640x384 2 sea-lions, 36.2ms\n",
            "Speed: 1.5ms preprocess, 36.2ms inference, 1.4ms postprocess per image at shape (1, 3, 640, 384)\n",
            "\n",
            "image 1/1 /content/drive/MyDrive/my_galapagos_seals_dataset/train/Zalophus_wollebaeki/5280878.jpg: 448x640 2 sea-lions, 6.4ms\n",
            "Speed: 1.7ms preprocess, 6.4ms inference, 1.3ms postprocess per image at shape (1, 3, 448, 640)\n",
            "\n",
            "image 1/1 /content/drive/MyDrive/my_galapagos_seals_dataset/train/Zalophus_wollebaeki/104460178.jpg: 384x640 3 sea-lions, 6.2ms\n",
            "Speed: 1.6ms preprocess, 6.2ms inference, 1.3ms postprocess per image at shape (1, 3, 384, 640)\n",
            "\n",
            "image 1/1 /content/drive/MyDrive/my_galapagos_seals_dataset/train/Zalophus_wollebaeki/14920874.jpg: 384x640 1 sea-lion, 5.6ms\n",
            "Speed: 1.5ms preprocess, 5.6ms inference, 1.4ms postprocess per image at shape (1, 3, 384, 640)\n",
            "\n",
            "image 1/1 /content/drive/MyDrive/my_galapagos_seals_dataset/train/Zalophus_wollebaeki/50195088.jpg: 448x640 1 sea-lion, 8.1ms\n",
            "Speed: 2.1ms preprocess, 8.1ms inference, 1.5ms postprocess per image at shape (1, 3, 448, 640)\n",
            "\n",
            "image 1/1 /content/drive/MyDrive/my_galapagos_seals_dataset/train/Zalophus_wollebaeki/25538327.jpg: 640x448 1 sea-lion, 6.4ms\n",
            "Speed: 1.7ms preprocess, 6.4ms inference, 1.2ms postprocess per image at shape (1, 3, 640, 448)\n",
            "\n",
            "image 1/1 /content/drive/MyDrive/my_galapagos_seals_dataset/train/Zalophus_wollebaeki/7900973.jpg: 416x640 1 sea-lion, 6.4ms\n",
            "Speed: 1.6ms preprocess, 6.4ms inference, 1.3ms postprocess per image at shape (1, 3, 416, 640)\n",
            "\n",
            "image 1/1 /content/drive/MyDrive/my_galapagos_seals_dataset/train/Zalophus_wollebaeki/25538947.jpg: 416x640 1 sea-lion, 5.7ms\n",
            "Speed: 1.6ms preprocess, 5.7ms inference, 1.3ms postprocess per image at shape (1, 3, 416, 640)\n",
            "\n",
            "image 1/1 /content/drive/MyDrive/my_galapagos_seals_dataset/train/Zalophus_wollebaeki/12486065.jpg: 640x480 1 sea-lion, 6.4ms\n",
            "Speed: 1.9ms preprocess, 6.4ms inference, 1.2ms postprocess per image at shape (1, 3, 640, 480)\n",
            "\n",
            "image 1/1 /content/drive/MyDrive/my_galapagos_seals_dataset/train/Zalophus_wollebaeki/5279807.jpg: 448x640 2 sea-lions, 6.4ms\n",
            "Speed: 1.8ms preprocess, 6.4ms inference, 1.3ms postprocess per image at shape (1, 3, 448, 640)\n",
            "\n",
            "image 1/1 /content/drive/MyDrive/my_galapagos_seals_dataset/train/Zalophus_wollebaeki/48826673976_ee6e24a830_b.jpg: 416x640 1 sea-lion, 6.4ms\n",
            "Speed: 1.8ms preprocess, 6.4ms inference, 1.3ms postprocess per image at shape (1, 3, 416, 640)\n",
            "\n",
            "image 1/1 /content/drive/MyDrive/my_galapagos_seals_dataset/train/Zalophus_wollebaeki/32676358.jpg: 448x640 1 sea-lion, 6.3ms\n",
            "Speed: 1.9ms preprocess, 6.3ms inference, 1.3ms postprocess per image at shape (1, 3, 448, 640)\n",
            "\n",
            "image 1/1 /content/drive/MyDrive/my_galapagos_seals_dataset/train/Zalophus_wollebaeki/original.JPG: 448x640 4 sea-lions, 5.7ms\n",
            "Speed: 2.0ms preprocess, 5.7ms inference, 1.3ms postprocess per image at shape (1, 3, 448, 640)\n",
            "\n",
            "image 1/1 /content/drive/MyDrive/my_galapagos_seals_dataset/train/Zalophus_wollebaeki/5280874.jpg: 448x640 1 sea-lion, 5.9ms\n",
            "Speed: 1.7ms preprocess, 5.9ms inference, 1.3ms postprocess per image at shape (1, 3, 448, 640)\n",
            "\n",
            "image 1/1 /content/drive/MyDrive/my_galapagos_seals_dataset/train/Zalophus_wollebaeki/14920871.jpg: 640x384 1 sea-lion, 6.2ms\n",
            "Speed: 1.6ms preprocess, 6.2ms inference, 1.4ms postprocess per image at shape (1, 3, 640, 384)\n",
            "\n",
            "image 1/1 /content/drive/MyDrive/my_galapagos_seals_dataset/train/Zalophus_wollebaeki/3784211.jpg: 640x448 1 sea-lion, 6.4ms\n",
            "Speed: 1.7ms preprocess, 6.4ms inference, 1.2ms postprocess per image at shape (1, 3, 640, 448)\n",
            "\n",
            "image 1/1 /content/drive/MyDrive/my_galapagos_seals_dataset/train/Zalophus_wollebaeki/12485993.jpg: 416x640 2 sea-lions, 6.3ms\n",
            "Speed: 1.6ms preprocess, 6.3ms inference, 1.2ms postprocess per image at shape (1, 3, 416, 640)\n",
            "\n",
            "image 1/1 /content/drive/MyDrive/my_galapagos_seals_dataset/train/Zalophus_wollebaeki/26940022.jpg: 448x640 2 sea-lions, 6.3ms\n",
            "Speed: 1.7ms preprocess, 6.3ms inference, 1.3ms postprocess per image at shape (1, 3, 448, 640)\n",
            "\n",
            "image 1/1 /content/drive/MyDrive/my_galapagos_seals_dataset/train/Zalophus_wollebaeki/24905375.jpg: 448x640 1 sea-lion, 5.7ms\n",
            "Speed: 1.7ms preprocess, 5.7ms inference, 1.4ms postprocess per image at shape (1, 3, 448, 640)\n",
            "\n",
            "image 1/1 /content/drive/MyDrive/my_galapagos_seals_dataset/train/Zalophus_wollebaeki/14920899.jpg: 384x640 2 sea-lions, 6.3ms\n",
            "Speed: 1.5ms preprocess, 6.3ms inference, 1.3ms postprocess per image at shape (1, 3, 384, 640)\n",
            "\n",
            "image 1/1 /content/drive/MyDrive/my_galapagos_seals_dataset/train/Zalophus_wollebaeki/11392258.jpg: 384x640 2 sea-lions, 5.6ms\n",
            "Speed: 1.5ms preprocess, 5.6ms inference, 1.3ms postprocess per image at shape (1, 3, 384, 640)\n",
            "\n",
            "image 1/1 /content/drive/MyDrive/my_galapagos_seals_dataset/train/Zalophus_wollebaeki/3784227.jpg: 640x448 1 sea-lion, 6.5ms\n",
            "Speed: 1.7ms preprocess, 6.5ms inference, 1.3ms postprocess per image at shape (1, 3, 640, 448)\n",
            "\n",
            "image 1/1 /content/drive/MyDrive/my_galapagos_seals_dataset/train/Zalophus_wollebaeki/24903854.jpg: 480x640 1 sea-lion, 8.0ms\n",
            "Speed: 1.8ms preprocess, 8.0ms inference, 1.3ms postprocess per image at shape (1, 3, 480, 640)\n",
            "\n",
            "image 1/1 /content/drive/MyDrive/my_galapagos_seals_dataset/train/Zalophus_wollebaeki/32659335.jpg: 448x640 1 sea-lion, 6.4ms\n",
            "Speed: 1.8ms preprocess, 6.4ms inference, 1.2ms postprocess per image at shape (1, 3, 448, 640)\n",
            "\n",
            "image 1/1 /content/drive/MyDrive/my_galapagos_seals_dataset/train/Zalophus_wollebaeki/7842977.jpg: 480x640 4 sea-lions, 6.4ms\n",
            "Speed: 1.9ms preprocess, 6.4ms inference, 1.3ms postprocess per image at shape (1, 3, 480, 640)\n",
            "\n",
            "image 1/1 /content/drive/MyDrive/my_galapagos_seals_dataset/train/Zalophus_wollebaeki/57982755.jpg: 640x448 1 sea-lion, 6.4ms\n",
            "Speed: 1.8ms preprocess, 6.4ms inference, 1.3ms postprocess per image at shape (1, 3, 640, 448)\n",
            "\n",
            "image 1/1 /content/drive/MyDrive/my_galapagos_seals_dataset/train/Zalophus_wollebaeki/43479328.jpg: 544x640 3 sea-lions, 7.6ms\n",
            "Speed: 2.2ms preprocess, 7.6ms inference, 1.3ms postprocess per image at shape (1, 3, 544, 640)\n",
            "\n",
            "image 1/1 /content/drive/MyDrive/my_galapagos_seals_dataset/train/Zalophus_wollebaeki/32679356.jpg: 448x640 2 sea-lions, 10.3ms\n",
            "Speed: 2.8ms preprocess, 10.3ms inference, 2.0ms postprocess per image at shape (1, 3, 448, 640)\n",
            "\n",
            "image 1/1 /content/drive/MyDrive/my_galapagos_seals_dataset/train/Zalophus_wollebaeki/32661192.jpg: 448x640 4 sea-lions, 11.0ms\n",
            "Speed: 3.9ms preprocess, 11.0ms inference, 2.2ms postprocess per image at shape (1, 3, 448, 640)\n",
            "\n",
            "image 1/1 /content/drive/MyDrive/my_galapagos_seals_dataset/train/Zalophus_wollebaeki/7842940.jpg: 480x640 1 sea-lion, 10.8ms\n",
            "Speed: 2.9ms preprocess, 10.8ms inference, 1.4ms postprocess per image at shape (1, 3, 480, 640)\n",
            "\n",
            "image 1/1 /content/drive/MyDrive/my_galapagos_seals_dataset/train/Zalophus_wollebaeki/33159659.jpg: 448x640 3 sea-lions, 6.5ms\n",
            "Speed: 1.8ms preprocess, 6.5ms inference, 1.3ms postprocess per image at shape (1, 3, 448, 640)\n",
            "\n",
            "image 1/1 /content/drive/MyDrive/my_galapagos_seals_dataset/train/Zalophus_wollebaeki/26536920628_e8c16472ed_b.jpg: 448x640 1 sea-lion, 5.8ms\n",
            "Speed: 1.9ms preprocess, 5.8ms inference, 1.4ms postprocess per image at shape (1, 3, 448, 640)\n",
            "\n",
            "image 1/1 /content/drive/MyDrive/my_galapagos_seals_dataset/train/Zalophus_wollebaeki/32680749.jpg: 448x640 5 sea-lions, 5.7ms\n",
            "Speed: 1.9ms preprocess, 5.7ms inference, 1.4ms postprocess per image at shape (1, 3, 448, 640)\n",
            "\n",
            "image 1/1 /content/drive/MyDrive/my_galapagos_seals_dataset/train/Zalophus_wollebaeki/19591177.jpg: 480x640 3 sea-lions, 12.6ms\n",
            "Speed: 2.9ms preprocess, 12.6ms inference, 2.2ms postprocess per image at shape (1, 3, 480, 640)\n",
            "\n",
            "image 1/1 /content/drive/MyDrive/my_galapagos_seals_dataset/train/Zalophus_wollebaeki/49295392.jpg: 480x640 2 sea-lions, 6.5ms\n",
            "Speed: 3.2ms preprocess, 6.5ms inference, 1.4ms postprocess per image at shape (1, 3, 480, 640)\n",
            "\n",
            "image 1/1 /content/drive/MyDrive/my_galapagos_seals_dataset/train/Zalophus_wollebaeki/11392744.jpg: 384x640 3 sea-lions, 6.3ms\n",
            "Speed: 1.7ms preprocess, 6.3ms inference, 1.3ms postprocess per image at shape (1, 3, 384, 640)\n",
            "\n",
            "image 1/1 /content/drive/MyDrive/my_galapagos_seals_dataset/train/Zalophus_wollebaeki/43479327.jpg: 512x640 3 sea-lions, 39.1ms\n",
            "Speed: 2.2ms preprocess, 39.1ms inference, 1.5ms postprocess per image at shape (1, 3, 512, 640)\n",
            "\n",
            "image 1/1 /content/drive/MyDrive/my_galapagos_seals_dataset/train/Zalophus_wollebaeki/39511369265_19297da14b_b.jpg: 448x640 1 sea-lion, 6.6ms\n",
            "Speed: 2.0ms preprocess, 6.6ms inference, 1.3ms postprocess per image at shape (1, 3, 448, 640)\n",
            "\n",
            "image 1/1 /content/drive/MyDrive/my_galapagos_seals_dataset/train/Zalophus_wollebaeki/43219448.jpg: 448x640 1 sea-lion, 5.7ms\n",
            "Speed: 1.9ms preprocess, 5.7ms inference, 1.3ms postprocess per image at shape (1, 3, 448, 640)\n",
            "\n",
            "image 1/1 /content/drive/MyDrive/my_galapagos_seals_dataset/train/Zalophus_wollebaeki/24923741.jpg: 448x640 2 sea-lions, 5.7ms\n",
            "Speed: 1.7ms preprocess, 5.7ms inference, 1.3ms postprocess per image at shape (1, 3, 448, 640)\n",
            "\n",
            "image 1/1 /content/drive/MyDrive/my_galapagos_seals_dataset/train/Zalophus_wollebaeki/2772749.jpg: 448x640 6 sea-lions, 5.7ms\n",
            "Speed: 1.9ms preprocess, 5.7ms inference, 1.3ms postprocess per image at shape (1, 3, 448, 640)\n",
            "\n",
            "image 1/1 /content/drive/MyDrive/my_galapagos_seals_dataset/train/Zalophus_wollebaeki/85052584.jpg: 480x640 2 sea-lions, 6.5ms\n",
            "Speed: 1.9ms preprocess, 6.5ms inference, 1.3ms postprocess per image at shape (1, 3, 480, 640)\n",
            "\n",
            "image 1/1 /content/drive/MyDrive/my_galapagos_seals_dataset/train/Zalophus_wollebaeki/62389457.jpg: 448x640 1 sea-lion, 6.7ms\n",
            "Speed: 2.0ms preprocess, 6.7ms inference, 2.0ms postprocess per image at shape (1, 3, 448, 640)\n",
            "\n",
            "image 1/1 /content/drive/MyDrive/my_galapagos_seals_dataset/train/Zalophus_wollebaeki/32680748.jpg: 448x640 1 sea-lion, 5.8ms\n",
            "Speed: 1.9ms preprocess, 5.8ms inference, 1.3ms postprocess per image at shape (1, 3, 448, 640)\n",
            "\n",
            "image 1/1 /content/drive/MyDrive/my_galapagos_seals_dataset/train/Zalophus_wollebaeki/33159660.jpg: 448x640 2 sea-lions, 5.7ms\n",
            "Speed: 1.9ms preprocess, 5.7ms inference, 1.3ms postprocess per image at shape (1, 3, 448, 640)\n",
            "\n",
            "image 1/1 /content/drive/MyDrive/my_galapagos_seals_dataset/train/Zalophus_wollebaeki/32676354.jpg: 448x640 4 sea-lions, 5.7ms\n",
            "Speed: 1.8ms preprocess, 5.7ms inference, 1.3ms postprocess per image at shape (1, 3, 448, 640)\n",
            "\n",
            "image 1/1 /content/drive/MyDrive/my_galapagos_seals_dataset/train/Zalophus_wollebaeki/5294714.jpg: 448x640 2 sea-lions, 6.7ms\n",
            "Speed: 2.1ms preprocess, 6.7ms inference, 1.6ms postprocess per image at shape (1, 3, 448, 640)\n",
            "\n",
            "image 1/1 /content/drive/MyDrive/my_galapagos_seals_dataset/train/Zalophus_wollebaeki/14920870.jpg: 640x384 1 sea-lion, 7.1ms\n",
            "Speed: 1.6ms preprocess, 7.1ms inference, 1.3ms postprocess per image at shape (1, 3, 640, 384)\n",
            "\n",
            "image 1/1 /content/drive/MyDrive/my_galapagos_seals_dataset/train/Zalophus_wollebaeki/32679357.jpg: 448x640 4 sea-lions, 6.4ms\n",
            "Speed: 2.0ms preprocess, 6.4ms inference, 1.3ms postprocess per image at shape (1, 3, 448, 640)\n",
            "\n",
            "image 1/1 /content/drive/MyDrive/my_galapagos_seals_dataset/train/Zalophus_wollebaeki/26939823.jpg: 448x640 1 sea-lion, 5.7ms\n",
            "Speed: 1.7ms preprocess, 5.7ms inference, 1.3ms postprocess per image at shape (1, 3, 448, 640)\n",
            "\n",
            "image 1/1 /content/drive/MyDrive/my_galapagos_seals_dataset/train/Zalophus_wollebaeki/11399526.jpg: 384x640 1 sea-lion, 6.3ms\n",
            "Speed: 1.5ms preprocess, 6.3ms inference, 1.3ms postprocess per image at shape (1, 3, 384, 640)\n",
            "\n",
            "image 1/1 /content/drive/MyDrive/my_galapagos_seals_dataset/train/Zalophus_wollebaeki/49317875.jpg: 448x640 4 sea-lions, 6.4ms\n",
            "Speed: 2.0ms preprocess, 6.4ms inference, 1.4ms postprocess per image at shape (1, 3, 448, 640)\n",
            "\n",
            "image 1/1 /content/drive/MyDrive/my_galapagos_seals_dataset/train/Zalophus_wollebaeki/62997531.jpg: 480x640 1 sea-lion, 6.6ms\n",
            "Speed: 2.0ms preprocess, 6.6ms inference, 1.3ms postprocess per image at shape (1, 3, 480, 640)\n",
            "\n",
            "image 1/1 /content/drive/MyDrive/my_galapagos_seals_dataset/train/Zalophus_wollebaeki/32659210.jpg: 448x640 1 sea-lion, 6.5ms\n",
            "Speed: 1.8ms preprocess, 6.5ms inference, 1.2ms postprocess per image at shape (1, 3, 448, 640)\n",
            "\n",
            "image 1/1 /content/drive/MyDrive/my_galapagos_seals_dataset/train/Zalophus_wollebaeki/49923261.jpg: 448x640 1 sea-lion, 5.7ms\n",
            "Speed: 1.9ms preprocess, 5.7ms inference, 1.3ms postprocess per image at shape (1, 3, 448, 640)\n",
            "\n",
            "image 1/1 /content/drive/MyDrive/my_galapagos_seals_dataset/train/Zalophus_wollebaeki/11399306.jpg: 384x640 1 sea-lion, 6.2ms\n",
            "Speed: 1.6ms preprocess, 6.2ms inference, 1.3ms postprocess per image at shape (1, 3, 384, 640)\n",
            "\n",
            "image 1/1 /content/drive/MyDrive/my_galapagos_seals_dataset/train/Zalophus_wollebaeki/5840518.jpg: 640x640 4 sea-lions, 7.8ms\n",
            "Speed: 3.0ms preprocess, 7.8ms inference, 1.2ms postprocess per image at shape (1, 3, 640, 640)\n",
            "\n",
            "image 1/1 /content/drive/MyDrive/my_galapagos_seals_dataset/train/Zalophus_wollebaeki/39373354945_0f75e789ab_b.jpg: 448x640 2 sea-lions, 6.3ms\n",
            "Speed: 1.9ms preprocess, 6.3ms inference, 1.2ms postprocess per image at shape (1, 3, 448, 640)\n",
            "\n",
            "image 1/1 /content/drive/MyDrive/my_galapagos_seals_dataset/train/Zalophus_wollebaeki/original.jpg: 448x640 1 sea-lion, 5.7ms\n",
            "Speed: 1.8ms preprocess, 5.7ms inference, 1.2ms postprocess per image at shape (1, 3, 448, 640)\n",
            "\n",
            "image 1/1 /content/drive/MyDrive/my_galapagos_seals_dataset/train/Zalophus_wollebaeki/81668149.jpg: 448x640 3 sea-lions, 5.8ms\n",
            "Speed: 2.0ms preprocess, 5.8ms inference, 1.3ms postprocess per image at shape (1, 3, 448, 640)\n",
            "\n",
            "image 1/1 /content/drive/MyDrive/my_galapagos_seals_dataset/train/Zalophus_wollebaeki/27131841.jpg: 448x640 1 sea-lion, 6.3ms\n",
            "Speed: 1.8ms preprocess, 6.3ms inference, 1.4ms postprocess per image at shape (1, 3, 448, 640)\n",
            "\n",
            "image 1/1 /content/drive/MyDrive/my_galapagos_seals_dataset/train/Zalophus_wollebaeki/14927811.jpg: 384x640 1 sea-lion, 6.5ms\n",
            "Speed: 1.6ms preprocess, 6.5ms inference, 1.3ms postprocess per image at shape (1, 3, 384, 640)\n",
            "\n",
            "image 1/1 /content/drive/MyDrive/my_galapagos_seals_dataset/train/Zalophus_wollebaeki/12486067.jpg: 448x640 1 sea-lion, 6.3ms\n",
            "Speed: 1.7ms preprocess, 6.3ms inference, 1.3ms postprocess per image at shape (1, 3, 448, 640)\n",
            "\n",
            "image 1/1 /content/drive/MyDrive/my_galapagos_seals_dataset/train/Zalophus_wollebaeki/14927812.jpg: 384x640 1 sea-lion, 7.8ms\n",
            "Speed: 1.9ms preprocess, 7.8ms inference, 1.3ms postprocess per image at shape (1, 3, 384, 640)\n",
            "\n",
            "image 1/1 /content/drive/MyDrive/my_galapagos_seals_dataset/train/Zalophus_wollebaeki/32681413.jpg: 448x640 2 sea-lions, 6.8ms\n",
            "Speed: 1.9ms preprocess, 6.8ms inference, 1.3ms postprocess per image at shape (1, 3, 448, 640)\n",
            "\n",
            "image 1/1 /content/drive/MyDrive/my_galapagos_seals_dataset/train/Zalophus_wollebaeki/26940047.jpg: 448x640 1 sea-lion, 6.3ms\n",
            "Speed: 1.9ms preprocess, 6.3ms inference, 1.4ms postprocess per image at shape (1, 3, 448, 640)\n",
            "\n",
            "image 1/1 /content/drive/MyDrive/my_galapagos_seals_dataset/train/Zalophus_wollebaeki/7442832826_1c04c8b02d_b.jpg: 448x640 2 sea-lions, 6.1ms\n",
            "Speed: 1.2ms preprocess, 6.1ms inference, 1.3ms postprocess per image at shape (1, 3, 448, 640)\n",
            "\n",
            "image 1/1 /content/drive/MyDrive/my_galapagos_seals_dataset/train/Zalophus_wollebaeki/7457348524_20efcf3059_b.jpg: 448x640 2 sea-lions, 5.8ms\n",
            "Speed: 1.3ms preprocess, 5.8ms inference, 1.3ms postprocess per image at shape (1, 3, 448, 640)\n",
            "\n",
            "image 1/1 /content/drive/MyDrive/my_galapagos_seals_dataset/train/Zalophus_wollebaeki/32659334.jpg: 448x640 2 sea-lions, 6.8ms\n",
            "Speed: 2.9ms preprocess, 6.8ms inference, 1.3ms postprocess per image at shape (1, 3, 448, 640)\n",
            "\n",
            "image 1/1 /content/drive/MyDrive/my_galapagos_seals_dataset/train/Zalophus_wollebaeki/26172734619_f1b88a7023_b.jpg: 448x640 2 sea-lions, 5.7ms\n",
            "Speed: 1.9ms preprocess, 5.7ms inference, 1.3ms postprocess per image at shape (1, 3, 448, 640)\n",
            "\n",
            "image 1/1 /content/drive/MyDrive/my_galapagos_seals_dataset/train/Zalophus_wollebaeki/5280876.jpg: 448x640 2 sea-lions, 5.7ms\n",
            "Speed: 1.7ms preprocess, 5.7ms inference, 1.3ms postprocess per image at shape (1, 3, 448, 640)\n",
            "\n",
            "image 1/1 /content/drive/MyDrive/my_galapagos_seals_dataset/train/Zalophus_wollebaeki/5774189.jpg: 640x640 1 sea-lion, 7.9ms\n",
            "Speed: 3.0ms preprocess, 7.9ms inference, 1.4ms postprocess per image at shape (1, 3, 640, 640)\n",
            "\n",
            "image 1/1 /content/drive/MyDrive/my_galapagos_seals_dataset/train/Zalophus_wollebaeki/14920878.jpg: 384x640 1 sea-lion, 6.0ms\n",
            "Speed: 1.6ms preprocess, 6.0ms inference, 1.3ms postprocess per image at shape (1, 3, 384, 640)\n",
            "\n",
            "image 1/1 /content/drive/MyDrive/my_galapagos_seals_dataset/train/Zalophus_wollebaeki/24870371.jpg: 448x640 1 sea-lion, 6.3ms\n",
            "Speed: 1.7ms preprocess, 6.3ms inference, 1.4ms postprocess per image at shape (1, 3, 448, 640)\n",
            "\n",
            "image 1/1 /content/drive/MyDrive/my_galapagos_seals_dataset/train/Zalophus_wollebaeki/32676355.jpg: 448x640 2 sea-lions, 5.7ms\n",
            "Speed: 1.8ms preprocess, 5.7ms inference, 1.4ms postprocess per image at shape (1, 3, 448, 640)\n",
            "\n",
            "image 1/1 /content/drive/MyDrive/my_galapagos_seals_dataset/train/Zalophus_wollebaeki/7842939.jpg: 480x640 3 sea-lions, 6.5ms\n",
            "Speed: 1.9ms preprocess, 6.5ms inference, 1.4ms postprocess per image at shape (1, 3, 480, 640)\n",
            "\n",
            "image 1/1 /content/drive/MyDrive/my_galapagos_seals_dataset/train/Zalophus_wollebaeki/48826917451_58da0fb738_b.jpg: 416x640 3 sea-lions, 6.3ms\n",
            "Speed: 1.8ms preprocess, 6.3ms inference, 1.3ms postprocess per image at shape (1, 3, 416, 640)\n",
            "\n",
            "image 1/1 /content/drive/MyDrive/my_galapagos_seals_dataset/train/Zalophus_wollebaeki/5294716.jpg: 448x640 1 sea-lion, 11.8ms\n",
            "Speed: 2.7ms preprocess, 11.8ms inference, 1.5ms postprocess per image at shape (1, 3, 448, 640)\n",
            "\n",
            "image 1/1 /content/drive/MyDrive/my_galapagos_seals_dataset/train/Zalophus_wollebaeki/50067826.jpg: 384x640 1 sea-lion, 6.4ms\n",
            "Speed: 1.7ms preprocess, 6.4ms inference, 1.3ms postprocess per image at shape (1, 3, 384, 640)\n",
            "\n",
            "image 1/1 /content/drive/MyDrive/my_galapagos_seals_dataset/train/Zalophus_wollebaeki/53168175262_8cc3af2432_b.jpg: 448x640 3 sea-lions, 6.3ms\n",
            "Speed: 2.0ms preprocess, 6.3ms inference, 1.4ms postprocess per image at shape (1, 3, 448, 640)\n",
            "\n",
            "image 1/1 /content/drive/MyDrive/my_galapagos_seals_dataset/train/Zalophus_wollebaeki/32659333.jpg: 448x640 2 sea-lions, 5.7ms\n",
            "Speed: 2.0ms preprocess, 5.7ms inference, 1.3ms postprocess per image at shape (1, 3, 448, 640)\n",
            "\n",
            "image 1/1 /content/drive/MyDrive/my_galapagos_seals_dataset/train/Zalophus_wollebaeki/62389420.jpg: 448x640 1 sea-lion, 5.8ms\n",
            "Speed: 1.8ms preprocess, 5.8ms inference, 1.2ms postprocess per image at shape (1, 3, 448, 640)\n",
            "\n",
            "image 1/1 /content/drive/MyDrive/my_galapagos_seals_dataset/train/Zalophus_wollebaeki/62389419.jpg: 448x640 2 sea-lions, 5.7ms\n",
            "Speed: 1.9ms preprocess, 5.7ms inference, 1.3ms postprocess per image at shape (1, 3, 448, 640)\n",
            "\n",
            "image 1/1 /content/drive/MyDrive/my_galapagos_seals_dataset/train/Zalophus_wollebaeki/62389459.jpg: 448x640 2 sea-lions, 5.7ms\n",
            "Speed: 1.9ms preprocess, 5.7ms inference, 1.3ms postprocess per image at shape (1, 3, 448, 640)\n",
            "\n",
            "image 1/1 /content/drive/MyDrive/my_galapagos_seals_dataset/train/Zalophus_wollebaeki/34154199.jpg: 480x640 1 sea-lion, 6.5ms\n",
            "Speed: 2.0ms preprocess, 6.5ms inference, 1.3ms postprocess per image at shape (1, 3, 480, 640)\n",
            "\n",
            "image 1/1 /content/drive/MyDrive/my_galapagos_seals_dataset/train/Zalophus_wollebaeki/12507689.jpg: 448x640 1 sea-lion, 6.4ms\n",
            "Speed: 1.7ms preprocess, 6.4ms inference, 1.4ms postprocess per image at shape (1, 3, 448, 640)\n",
            "\n",
            "image 1/1 /content/drive/MyDrive/my_galapagos_seals_dataset/train/Zalophus_wollebaeki/97365047.jpg: 640x608 1 sea-lion, 36.9ms\n",
            "Speed: 2.8ms preprocess, 36.9ms inference, 1.3ms postprocess per image at shape (1, 3, 640, 608)\n",
            "\n",
            "image 1/1 /content/drive/MyDrive/my_galapagos_seals_dataset/train/Zalophus_wollebaeki/7701887.jpg: 384x640 2 sea-lions, 6.4ms\n",
            "Speed: 1.9ms preprocess, 6.4ms inference, 1.4ms postprocess per image at shape (1, 3, 384, 640)\n",
            "\n",
            "image 1/1 /content/drive/MyDrive/my_galapagos_seals_dataset/train/Zalophus_wollebaeki/3784225.jpg: 448x640 3 sea-lions, 12.7ms\n",
            "Speed: 3.9ms preprocess, 12.7ms inference, 2.1ms postprocess per image at shape (1, 3, 448, 640)\n",
            "\n",
            "image 1/1 /content/drive/MyDrive/my_galapagos_seals_dataset/train/Zalophus_wollebaeki/33159909.jpg: 448x640 1 sea-lion, 9.7ms\n",
            "Speed: 3.3ms preprocess, 9.7ms inference, 2.4ms postprocess per image at shape (1, 3, 448, 640)\n",
            "\n",
            "image 1/1 /content/drive/MyDrive/my_galapagos_seals_dataset/train/Zalophus_wollebaeki/27000690.jpg: 448x640 1 sea-lion, 6.0ms\n",
            "Speed: 1.7ms preprocess, 6.0ms inference, 1.3ms postprocess per image at shape (1, 3, 448, 640)\n",
            "\n",
            "image 1/1 /content/drive/MyDrive/my_galapagos_seals_dataset/train/Zalophus_wollebaeki/48826299373_603b2f7187_b.jpg: 416x640 2 sea-lions, 6.5ms\n",
            "Speed: 1.8ms preprocess, 6.5ms inference, 1.3ms postprocess per image at shape (1, 3, 416, 640)\n",
            "\n",
            "image 1/1 /content/drive/MyDrive/my_galapagos_seals_dataset/train/Zalophus_wollebaeki/12486066.jpg: 448x640 1 sea-lion, 6.4ms\n",
            "Speed: 1.8ms preprocess, 6.4ms inference, 1.3ms postprocess per image at shape (1, 3, 448, 640)\n",
            "\n",
            "image 1/1 /content/drive/MyDrive/my_galapagos_seals_dataset/train/Zalophus_wollebaeki/26398450608_17db66f065_b.jpg: 448x640 1 sea-lion, 5.7ms\n",
            "Speed: 1.9ms preprocess, 5.7ms inference, 1.3ms postprocess per image at shape (1, 3, 448, 640)\n",
            "\n",
            "image 1/1 /content/drive/MyDrive/my_galapagos_seals_dataset/train/Zalophus_wollebaeki/27232473.jpg: 448x640 1 sea-lion, 5.7ms\n",
            "Speed: 1.8ms preprocess, 5.7ms inference, 1.3ms postprocess per image at shape (1, 3, 448, 640)\n",
            "\n",
            "image 1/1 /content/drive/MyDrive/my_galapagos_seals_dataset/train/Zalophus_wollebaeki/26939975.jpg: 448x640 1 sea-lion, 5.7ms\n",
            "Speed: 1.7ms preprocess, 5.7ms inference, 1.2ms postprocess per image at shape (1, 3, 448, 640)\n",
            "\n",
            "image 1/1 /content/drive/MyDrive/my_galapagos_seals_dataset/train/Zalophus_wollebaeki/25538936.jpg: 448x640 1 sea-lion, 5.7ms\n",
            "Speed: 1.7ms preprocess, 5.7ms inference, 1.5ms postprocess per image at shape (1, 3, 448, 640)\n",
            "\n",
            "image 1/1 /content/drive/MyDrive/my_galapagos_seals_dataset/train/Zalophus_wollebaeki/11399305.jpg: 384x640 1 sea-lion, 6.4ms\n",
            "Speed: 1.7ms preprocess, 6.4ms inference, 1.3ms postprocess per image at shape (1, 3, 384, 640)\n",
            "\n",
            "image 1/1 /content/drive/MyDrive/my_galapagos_seals_dataset/train/Zalophus_wollebaeki/11392641.jpg: 384x640 1 sea-lion, 5.6ms\n",
            "Speed: 1.5ms preprocess, 5.6ms inference, 1.4ms postprocess per image at shape (1, 3, 384, 640)\n",
            "\n",
            "image 1/1 /content/drive/MyDrive/my_galapagos_seals_dataset/train/Zalophus_wollebaeki/104432234.jpg: 480x640 1 sea-lion, 6.4ms\n",
            "Speed: 2.0ms preprocess, 6.4ms inference, 1.2ms postprocess per image at shape (1, 3, 480, 640)\n",
            "\n",
            "image 1/1 /content/drive/MyDrive/my_galapagos_seals_dataset/train/Zalophus_wollebaeki/51814904417_4b5036ed6f_b.jpg: 480x640 1 sea-lion, 6.8ms\n",
            "Speed: 2.0ms preprocess, 6.8ms inference, 1.3ms postprocess per image at shape (1, 3, 480, 640)\n",
            "\n",
            "image 1/1 /content/drive/MyDrive/my_galapagos_seals_dataset/train/Zalophus_wollebaeki/62389421.jpg: 448x640 1 sea-lion, 6.4ms\n",
            "Speed: 2.2ms preprocess, 6.4ms inference, 1.2ms postprocess per image at shape (1, 3, 448, 640)\n",
            "\n",
            "image 1/1 /content/drive/MyDrive/my_galapagos_seals_dataset/train/Zalophus_wollebaeki/11399524.jpg: 384x640 3 sea-lions, 6.3ms\n",
            "Speed: 1.6ms preprocess, 6.3ms inference, 1.3ms postprocess per image at shape (1, 3, 384, 640)\n",
            "\n",
            "image 1/1 /content/drive/MyDrive/my_galapagos_seals_dataset/train/Zalophus_wollebaeki/24924920.jpg: 448x640 1 sea-lion, 7.9ms\n",
            "Speed: 1.7ms preprocess, 7.9ms inference, 1.3ms postprocess per image at shape (1, 3, 448, 640)\n",
            "\n",
            "image 1/1 /content/drive/MyDrive/my_galapagos_seals_dataset/train/Zalophus_wollebaeki/96496943.jpg: 544x640 2 sea-lions, 7.8ms\n",
            "Speed: 2.2ms preprocess, 7.8ms inference, 1.3ms postprocess per image at shape (1, 3, 544, 640)\n",
            "\n",
            "image 1/1 /content/drive/MyDrive/my_galapagos_seals_dataset/train/Zalophus_wollebaeki/49317228.jpg: 384x640 3 sea-lions, 7.9ms\n",
            "Speed: 2.1ms preprocess, 7.9ms inference, 1.3ms postprocess per image at shape (1, 3, 384, 640)\n",
            "\n",
            "image 1/1 /content/drive/MyDrive/my_galapagos_seals_dataset/train/Zalophus_wollebaeki/27232562.jpg: 448x640 2 sea-lions, 6.3ms\n",
            "Speed: 1.7ms preprocess, 6.3ms inference, 1.3ms postprocess per image at shape (1, 3, 448, 640)\n",
            "\n",
            "image 1/1 /content/drive/MyDrive/my_galapagos_seals_dataset/train/Zalophus_wollebaeki/3784213.jpg: 640x448 1 sea-lion, 6.4ms\n",
            "Speed: 1.7ms preprocess, 6.4ms inference, 1.3ms postprocess per image at shape (1, 3, 640, 448)\n",
            "\n",
            "image 1/1 /content/drive/MyDrive/my_galapagos_seals_dataset/train/Zalophus_wollebaeki/32676360.jpg: 448x640 1 sea-lion, 6.5ms\n",
            "Speed: 2.0ms preprocess, 6.5ms inference, 1.4ms postprocess per image at shape (1, 3, 448, 640)\n",
            "\n",
            "image 1/1 /content/drive/MyDrive/my_galapagos_seals_dataset/train/Zalophus_wollebaeki/12507702.jpg: 448x640 1 sea-lion, 5.8ms\n",
            "Speed: 1.8ms preprocess, 5.8ms inference, 1.3ms postprocess per image at shape (1, 3, 448, 640)\n",
            "\n",
            "image 1/1 /content/drive/MyDrive/my_galapagos_seals_dataset/train/Zalophus_wollebaeki/85052586.jpg: 384x640 1 sea-lion, 6.6ms\n",
            "Speed: 1.7ms preprocess, 6.6ms inference, 1.3ms postprocess per image at shape (1, 3, 384, 640)\n",
            "\n",
            "image 1/1 /content/drive/MyDrive/my_galapagos_seals_dataset/train/Zalophus_wollebaeki/12465699.jpg: 448x640 1 sea-lion, 6.4ms\n",
            "Speed: 1.8ms preprocess, 6.4ms inference, 1.3ms postprocess per image at shape (1, 3, 448, 640)\n",
            "\n",
            "image 1/1 /content/drive/MyDrive/my_galapagos_seals_dataset/train/Zalophus_wollebaeki/34605377.jpg: 480x640 2 sea-lions, 6.4ms\n",
            "Speed: 2.1ms preprocess, 6.4ms inference, 1.3ms postprocess per image at shape (1, 3, 480, 640)\n",
            "\n",
            "image 1/1 /content/drive/MyDrive/my_galapagos_seals_dataset/train/Zalophus_wollebaeki/32659209.jpg: 448x640 1 sea-lion, 6.3ms\n",
            "Speed: 1.9ms preprocess, 6.3ms inference, 1.2ms postprocess per image at shape (1, 3, 448, 640)\n",
            "\n",
            "image 1/1 /content/drive/MyDrive/my_galapagos_seals_dataset/train/Zalophus_wollebaeki/26172763119_830acd3358_b.jpg: 448x640 3 sea-lions, 5.9ms\n",
            "Speed: 2.0ms preprocess, 5.9ms inference, 1.3ms postprocess per image at shape (1, 3, 448, 640)\n",
            "\n",
            "image 1/1 /content/drive/MyDrive/my_galapagos_seals_dataset/train/Zalophus_wollebaeki/32676361.jpg: 448x640 3 sea-lions, 5.7ms\n",
            "Speed: 1.9ms preprocess, 5.7ms inference, 1.4ms postprocess per image at shape (1, 3, 448, 640)\n",
            "\n",
            "image 1/1 /content/drive/MyDrive/my_galapagos_seals_dataset/train/Zalophus_wollebaeki/12465760.jpg: 640x480 1 sea-lion, 6.6ms\n",
            "Speed: 1.9ms preprocess, 6.6ms inference, 1.2ms postprocess per image at shape (1, 3, 640, 480)\n",
            "\n",
            "image 1/1 /content/drive/MyDrive/my_galapagos_seals_dataset/train/Zalophus_wollebaeki/51801287131_af8bb7ded7_b.jpg: 480x640 1 sea-lion, 6.5ms\n",
            "Speed: 2.0ms preprocess, 6.5ms inference, 1.4ms postprocess per image at shape (1, 3, 480, 640)\n",
            "\n",
            "image 1/1 /content/drive/MyDrive/my_galapagos_seals_dataset/train/Zalophus_wollebaeki/24874400.jpg: 640x480 1 sea-lion, 11.9ms\n",
            "Speed: 3.0ms preprocess, 11.9ms inference, 1.6ms postprocess per image at shape (1, 3, 640, 480)\n",
            "\n",
            "image 1/1 /content/drive/MyDrive/my_galapagos_seals_dataset/train/Zalophus_wollebaeki/12465700.jpg: 448x640 1 sea-lion, 6.3ms\n",
            "Speed: 1.8ms preprocess, 6.3ms inference, 1.3ms postprocess per image at shape (1, 3, 448, 640)\n",
            "\n",
            "image 1/1 /content/drive/MyDrive/my_galapagos_seals_dataset/train/Zalophus_wollebaeki/38439663310_8a4c738c1e_b.jpg: 448x640 1 sea-lion, 5.7ms\n",
            "Speed: 1.8ms preprocess, 5.7ms inference, 1.3ms postprocess per image at shape (1, 3, 448, 640)\n",
            "\n",
            "image 1/1 /content/drive/MyDrive/my_galapagos_seals_dataset/train/Zalophus_wollebaeki/51777673232_67eede64eb_b.jpg: 480x640 1 sea-lion, 6.4ms\n",
            "Speed: 2.0ms preprocess, 6.4ms inference, 1.3ms postprocess per image at shape (1, 3, 480, 640)\n",
            "\n",
            "image 1/1 /content/drive/MyDrive/my_galapagos_seals_dataset/train/Zalophus_wollebaeki/32661194.jpg: 448x640 1 sea-lion, 6.4ms\n",
            "Speed: 1.8ms preprocess, 6.4ms inference, 1.3ms postprocess per image at shape (1, 3, 448, 640)\n",
            "\n",
            "image 1/1 /content/drive/MyDrive/my_galapagos_seals_dataset/train/Zalophus_wollebaeki/24905517.jpg: 448x640 2 sea-lions, 5.7ms\n",
            "Speed: 1.7ms preprocess, 5.7ms inference, 1.3ms postprocess per image at shape (1, 3, 448, 640)\n",
            "\n",
            "image 1/1 /content/drive/MyDrive/my_galapagos_seals_dataset/train/Zalophus_wollebaeki/14927879.jpg: 480x640 2 sea-lions, 6.5ms\n",
            "Speed: 1.8ms preprocess, 6.5ms inference, 1.3ms postprocess per image at shape (1, 3, 480, 640)\n",
            "\n",
            "image 1/1 /content/drive/MyDrive/my_galapagos_seals_dataset/train/Zalophus_wollebaeki/32668810.jpg: 448x640 1 sea-lion, 6.4ms\n",
            "Speed: 1.9ms preprocess, 6.4ms inference, 1.3ms postprocess per image at shape (1, 3, 448, 640)\n",
            "\n",
            "image 1/1 /content/drive/MyDrive/my_galapagos_seals_dataset/train/Zalophus_wollebaeki/7842980.jpg: 480x640 3 sea-lions, 6.6ms\n",
            "Speed: 2.1ms preprocess, 6.6ms inference, 1.3ms postprocess per image at shape (1, 3, 480, 640)\n",
            "\n",
            "image 1/1 /content/drive/MyDrive/my_galapagos_seals_dataset/train/Zalophus_wollebaeki/104428500.jpg: 480x640 1 sea-lion, 6.0ms\n",
            "Speed: 2.0ms preprocess, 6.0ms inference, 1.3ms postprocess per image at shape (1, 3, 480, 640)\n",
            "\n",
            "image 1/1 /content/drive/MyDrive/my_galapagos_seals_dataset/train/Zalophus_wollebaeki/52956479.jpg: 480x640 1 sea-lion, 6.0ms\n",
            "Speed: 2.0ms preprocess, 6.0ms inference, 1.3ms postprocess per image at shape (1, 3, 480, 640)\n",
            "\n",
            "image 1/1 /content/drive/MyDrive/my_galapagos_seals_dataset/train/Zalophus_wollebaeki/12485992.jpg: 416x640 2 sea-lions, 6.6ms\n",
            "Speed: 1.7ms preprocess, 6.6ms inference, 1.3ms postprocess per image at shape (1, 3, 416, 640)\n",
            "\n",
            "image 1/1 /content/drive/MyDrive/my_galapagos_seals_dataset/train/Zalophus_wollebaeki/24870334.jpg: 640x480 2 sea-lions, 6.7ms\n",
            "Speed: 1.9ms preprocess, 6.7ms inference, 1.2ms postprocess per image at shape (1, 3, 640, 480)\n",
            "\n",
            "image 1/1 /content/drive/MyDrive/my_galapagos_seals_dataset/train/Zalophus_wollebaeki/109479000.jpg: 416x640 (no detections), 6.4ms\n",
            "Speed: 1.7ms preprocess, 6.4ms inference, 0.6ms postprocess per image at shape (1, 3, 416, 640)\n",
            "\n",
            "image 1/1 /content/drive/MyDrive/my_galapagos_seals_dataset/train/Zalophus_wollebaeki/109307063.jpg: 384x640 2 sea-lions, 8.3ms\n",
            "Speed: 2.0ms preprocess, 8.3ms inference, 1.6ms postprocess per image at shape (1, 3, 384, 640)\n",
            "\n",
            "image 1/1 /content/drive/MyDrive/my_galapagos_seals_dataset/train/Zalophus_wollebaeki/11392260.jpg: 384x640 2 sea-lions, 5.5ms\n",
            "Speed: 1.5ms preprocess, 5.5ms inference, 1.4ms postprocess per image at shape (1, 3, 384, 640)\n",
            "\n",
            "image 1/1 /content/drive/MyDrive/my_galapagos_seals_dataset/train/Zalophus_wollebaeki/104466183.jpg: 480x640 2 sea-lions, 6.5ms\n",
            "Speed: 2.1ms preprocess, 6.5ms inference, 1.3ms postprocess per image at shape (1, 3, 480, 640)\n",
            "\n",
            "image 1/1 /content/drive/MyDrive/my_galapagos_seals_dataset/train/Zalophus_wollebaeki/11392747.jpg: 384x640 1 sea-lion, 6.3ms\n",
            "Speed: 1.5ms preprocess, 6.3ms inference, 1.3ms postprocess per image at shape (1, 3, 384, 640)\n",
            "\n",
            "image 1/1 /content/drive/MyDrive/my_galapagos_seals_dataset/train/Zalophus_wollebaeki/104430148.jpg: 480x640 2 sea-lions, 6.4ms\n",
            "Speed: 2.0ms preprocess, 6.4ms inference, 1.3ms postprocess per image at shape (1, 3, 480, 640)\n",
            "\n",
            "image 1/1 /content/drive/MyDrive/my_galapagos_seals_dataset/train/Zalophus_wollebaeki/14925300.jpg: 384x640 1 sea-lion, 6.3ms\n",
            "Speed: 1.5ms preprocess, 6.3ms inference, 1.2ms postprocess per image at shape (1, 3, 384, 640)\n",
            "\n",
            "image 1/1 /content/drive/MyDrive/my_galapagos_seals_dataset/train/Zalophus_wollebaeki/11392746.jpg: 384x640 1 sea-lion, 5.6ms\n",
            "Speed: 1.6ms preprocess, 5.6ms inference, 1.5ms postprocess per image at shape (1, 3, 384, 640)\n",
            "\n",
            "image 1/1 /content/drive/MyDrive/my_galapagos_seals_dataset/train/Zalophus_wollebaeki/12507792.jpg: 448x640 2 sea-lions, 6.4ms\n",
            "Speed: 1.9ms preprocess, 6.4ms inference, 1.2ms postprocess per image at shape (1, 3, 448, 640)\n",
            "\n",
            "image 1/1 /content/drive/MyDrive/my_galapagos_seals_dataset/train/Zalophus_wollebaeki/27232559.jpg: 448x640 1 sea-lion, 5.7ms\n",
            "Speed: 1.7ms preprocess, 5.7ms inference, 1.2ms postprocess per image at shape (1, 3, 448, 640)\n",
            "\n",
            "image 1/1 /content/drive/MyDrive/my_galapagos_seals_dataset/train/Zalophus_wollebaeki/7442879274_6e7f9c9239_b.jpg: 448x640 1 sea-lion, 5.8ms\n",
            "Speed: 1.0ms preprocess, 5.8ms inference, 1.4ms postprocess per image at shape (1, 3, 448, 640)\n",
            "\n",
            "image 1/1 /content/drive/MyDrive/my_galapagos_seals_dataset/train/Zalophus_wollebaeki/108896377.jpg: 480x640 1 sea-lion, 6.6ms\n",
            "Speed: 2.0ms preprocess, 6.6ms inference, 1.3ms postprocess per image at shape (1, 3, 480, 640)\n",
            "\n",
            "image 1/1 /content/drive/MyDrive/my_galapagos_seals_dataset/train/Zalophus_wollebaeki/52287450304_e86867ac33_b.jpg: 448x640 1 sea-lion, 8.6ms\n",
            "Speed: 2.9ms preprocess, 8.6ms inference, 1.6ms postprocess per image at shape (1, 3, 448, 640)\n",
            "\n",
            "image 1/1 /content/drive/MyDrive/my_galapagos_seals_dataset/train/Zalophus_wollebaeki/34576348.jpg: 480x640 1 sea-lion, 7.6ms\n",
            "Speed: 2.5ms preprocess, 7.6ms inference, 1.3ms postprocess per image at shape (1, 3, 480, 640)\n",
            "\n",
            "image 1/1 /content/drive/MyDrive/my_galapagos_seals_dataset/train/Zalophus_wollebaeki/5280869.jpg: 384x640 1 sea-lion, 7.3ms\n",
            "Speed: 1.6ms preprocess, 7.3ms inference, 1.2ms postprocess per image at shape (1, 3, 384, 640)\n",
            "\n",
            "image 1/1 /content/drive/MyDrive/my_galapagos_seals_dataset/train/Zalophus_wollebaeki/49313427.jpg: 448x640 1 sea-lion, 7.1ms\n",
            "Speed: 2.9ms preprocess, 7.1ms inference, 1.7ms postprocess per image at shape (1, 3, 448, 640)\n",
            "\n",
            "image 1/1 /content/drive/MyDrive/my_galapagos_seals_dataset/train/Zalophus_wollebaeki/12486040.jpg: 448x640 1 sea-lion, 6.8ms\n",
            "Speed: 2.0ms preprocess, 6.8ms inference, 1.3ms postprocess per image at shape (1, 3, 448, 640)\n",
            "\n",
            "image 1/1 /content/drive/MyDrive/my_galapagos_seals_dataset/train/Zalophus_wollebaeki/7457382000_b8d590dff9_b.jpg: 448x640 2 sea-lions, 6.1ms\n",
            "Speed: 1.2ms preprocess, 6.1ms inference, 1.3ms postprocess per image at shape (1, 3, 448, 640)\n",
            "\n",
            "image 1/1 /content/drive/MyDrive/my_galapagos_seals_dataset/train/Zalophus_wollebaeki/32668857.jpg: 640x448 2 sea-lions, 6.5ms\n",
            "Speed: 2.0ms preprocess, 6.5ms inference, 1.3ms postprocess per image at shape (1, 3, 640, 448)\n",
            "\n",
            "image 1/1 /content/drive/MyDrive/my_galapagos_seals_dataset/train/Zalophus_wollebaeki/25493846667_43ea3a5c0a_b.jpg: 448x640 1 sea-lion, 7.6ms\n",
            "Speed: 2.3ms preprocess, 7.6ms inference, 1.6ms postprocess per image at shape (1, 3, 448, 640)\n",
            "\n",
            "image 1/1 /content/drive/MyDrive/my_galapagos_seals_dataset/train/Zalophus_wollebaeki/12465702.jpg: 640x448 2 sea-lions, 6.4ms\n",
            "Speed: 1.7ms preprocess, 6.4ms inference, 1.3ms postprocess per image at shape (1, 3, 640, 448)\n",
            "\n",
            "image 1/1 /content/drive/MyDrive/my_galapagos_seals_dataset/train/Zalophus_wollebaeki/62302675.jpg: 640x640 2 sea-lions, 7.9ms\n",
            "Speed: 2.9ms preprocess, 7.9ms inference, 1.3ms postprocess per image at shape (1, 3, 640, 640)\n",
            "\n",
            "image 1/1 /content/drive/MyDrive/my_galapagos_seals_dataset/train/Zalophus_wollebaeki/77692372.jpg: 480x640 1 sea-lion, 6.4ms\n",
            "Speed: 1.9ms preprocess, 6.4ms inference, 1.2ms postprocess per image at shape (1, 3, 480, 640)\n",
            "\n",
            "image 1/1 /content/drive/MyDrive/my_galapagos_seals_dataset/train/Zalophus_wollebaeki/12507791.jpg: 448x640 4 sea-lions, 6.3ms\n",
            "Speed: 1.9ms preprocess, 6.3ms inference, 1.3ms postprocess per image at shape (1, 3, 448, 640)\n",
            "\n",
            "image 1/1 /content/drive/MyDrive/my_galapagos_seals_dataset/train/Zalophus_wollebaeki/32661159.jpg: 448x640 1 sea-lion, 5.8ms\n",
            "Speed: 1.8ms preprocess, 5.8ms inference, 1.3ms postprocess per image at shape (1, 3, 448, 640)\n",
            "\n",
            "image 1/1 /content/drive/MyDrive/my_galapagos_seals_dataset/train/Zalophus_wollebaeki/5279779.jpg: 448x640 2 sea-lions, 5.7ms\n",
            "Speed: 1.7ms preprocess, 5.7ms inference, 1.3ms postprocess per image at shape (1, 3, 448, 640)\n",
            "\n",
            "image 1/1 /content/drive/MyDrive/my_galapagos_seals_dataset/train/Zalophus_wollebaeki/49317877.jpg: 384x640 6 sea-lions, 6.9ms\n",
            "Speed: 2.6ms preprocess, 6.9ms inference, 1.3ms postprocess per image at shape (1, 3, 384, 640)\n",
            "\n",
            "image 1/1 /content/drive/MyDrive/my_galapagos_seals_dataset/train/Zalophus_wollebaeki/12510969.jpg: 640x448 1 sea-lion, 6.4ms\n",
            "Speed: 1.9ms preprocess, 6.4ms inference, 1.4ms postprocess per image at shape (1, 3, 640, 448)\n",
            "\n",
            "image 1/1 /content/drive/MyDrive/my_galapagos_seals_dataset/train/Zalophus_wollebaeki/32666413.jpg: 448x640 1 sea-lion, 8.0ms\n",
            "Speed: 1.9ms preprocess, 8.0ms inference, 1.3ms postprocess per image at shape (1, 3, 448, 640)\n",
            "\n",
            "image 1/1 /content/drive/MyDrive/my_galapagos_seals_dataset/train/Zalophus_wollebaeki/5280871.jpg: 448x640 5 sea-lions, 5.8ms\n",
            "Speed: 1.7ms preprocess, 5.8ms inference, 1.4ms postprocess per image at shape (1, 3, 448, 640)\n",
            "\n",
            "image 1/1 /content/drive/MyDrive/my_galapagos_seals_dataset/train/Zalophus_wollebaeki/85052585.jpg: 384x640 2 sea-lions, 10.3ms\n",
            "Speed: 2.8ms preprocess, 10.3ms inference, 2.1ms postprocess per image at shape (1, 3, 384, 640)\n",
            "\n",
            "image 1/1 /content/drive/MyDrive/my_galapagos_seals_dataset/train/Zalophus_wollebaeki/12475790.jpg: 448x640 1 sea-lion, 7.5ms\n",
            "Speed: 2.8ms preprocess, 7.5ms inference, 1.3ms postprocess per image at shape (1, 3, 448, 640)\n",
            "\n",
            "image 1/1 /content/drive/MyDrive/my_galapagos_seals_dataset/train/Zalophus_wollebaeki/33159661.jpg: 448x640 1 sea-lion, 5.9ms\n",
            "Speed: 1.9ms preprocess, 5.9ms inference, 1.2ms postprocess per image at shape (1, 3, 448, 640)\n",
            "\n",
            "image 1/1 /content/drive/MyDrive/my_galapagos_seals_dataset/train/Zalophus_wollebaeki/32680750.jpg: 448x640 1 sea-lion, 5.8ms\n",
            "Speed: 1.9ms preprocess, 5.8ms inference, 1.3ms postprocess per image at shape (1, 3, 448, 640)\n",
            "\n",
            "image 1/1 /content/drive/MyDrive/my_galapagos_seals_dataset/train/Zalophus_wollebaeki/100093730.jpg: 640x416 2 sea-lions, 36.8ms\n",
            "Speed: 1.7ms preprocess, 36.8ms inference, 1.3ms postprocess per image at shape (1, 3, 640, 416)\n",
            "\n",
            "image 1/1 /content/drive/MyDrive/my_galapagos_seals_dataset/train/Zalophus_wollebaeki/5839898.jpg: 640x640 1 sea-lion, 7.9ms\n",
            "Speed: 2.5ms preprocess, 7.9ms inference, 1.3ms postprocess per image at shape (1, 3, 640, 640)\n",
            "\n",
            "image 1/1 /content/drive/MyDrive/my_galapagos_seals_dataset/train/Zalophus_wollebaeki/12932060.jpg: 512x640 2 sea-lions, 6.5ms\n",
            "Speed: 2.1ms preprocess, 6.5ms inference, 1.3ms postprocess per image at shape (1, 3, 512, 640)\n",
            "\n",
            "image 1/1 /content/drive/MyDrive/my_galapagos_seals_dataset/train/Zalophus_wollebaeki/27232526.jpg: 448x640 2 sea-lions, 6.3ms\n",
            "Speed: 1.7ms preprocess, 6.3ms inference, 1.2ms postprocess per image at shape (1, 3, 448, 640)\n",
            "\n",
            "image 1/1 /content/drive/MyDrive/my_galapagos_seals_dataset/train/Zalophus_wollebaeki/14920887.jpg: 480x640 1 sea-lion, 6.4ms\n",
            "Speed: 1.9ms preprocess, 6.4ms inference, 1.3ms postprocess per image at shape (1, 3, 480, 640)\n",
            "\n",
            "image 1/1 /content/drive/MyDrive/my_galapagos_seals_dataset/train/Zalophus_wollebaeki/32676359.jpg: 448x640 1 sea-lion, 6.7ms\n",
            "Speed: 1.8ms preprocess, 6.7ms inference, 1.3ms postprocess per image at shape (1, 3, 448, 640)\n",
            "\n",
            "image 1/1 /content/drive/MyDrive/my_galapagos_seals_dataset/train/Zalophus_wollebaeki/38439669360_1e16592f41_b.jpg: 448x640 1 sea-lion, 5.7ms\n",
            "Speed: 1.9ms preprocess, 5.7ms inference, 1.3ms postprocess per image at shape (1, 3, 448, 640)\n",
            "\n",
            "image 1/1 /content/drive/MyDrive/my_galapagos_seals_dataset/train/Zalophus_wollebaeki/51785484889_918fe4e8ed_b.jpg: 480x640 1 sea-lion, 6.5ms\n",
            "Speed: 2.2ms preprocess, 6.5ms inference, 1.2ms postprocess per image at shape (1, 3, 480, 640)\n",
            "\n",
            "image 1/1 /content/drive/MyDrive/my_galapagos_seals_dataset/train/Zalophus_wollebaeki/32666343.jpg: 448x640 1 sea-lion, 6.3ms\n",
            "Speed: 1.9ms preprocess, 6.3ms inference, 1.3ms postprocess per image at shape (1, 3, 448, 640)\n",
            "\n",
            "image 1/1 /content/drive/MyDrive/my_galapagos_seals_dataset/train/Zalophus_wollebaeki/5774459.jpg: 640x640 1 sea-lion, 8.2ms\n",
            "Speed: 2.8ms preprocess, 8.2ms inference, 1.6ms postprocess per image at shape (1, 3, 640, 640)\n",
            "\n",
            "image 1/1 /content/drive/MyDrive/my_galapagos_seals_dataset/train/Zalophus_wollebaeki/33170012.jpg: 448x640 1 sea-lion, 6.4ms\n",
            "Speed: 1.9ms preprocess, 6.4ms inference, 1.3ms postprocess per image at shape (1, 3, 448, 640)\n",
            "\n",
            "image 1/1 /content/drive/MyDrive/my_galapagos_seals_dataset/train/Zalophus_wollebaeki/100093732.jpg: 416x640 3 sea-lions, 6.3ms\n",
            "Speed: 1.8ms preprocess, 6.3ms inference, 1.2ms postprocess per image at shape (1, 3, 416, 640)\n",
            "\n",
            "image 1/1 /content/drive/MyDrive/my_galapagos_seals_dataset/train/Zalophus_wollebaeki/11392261.jpg: 384x640 2 sea-lions, 6.4ms\n",
            "Speed: 1.6ms preprocess, 6.4ms inference, 1.3ms postprocess per image at shape (1, 3, 384, 640)\n",
            "\n",
            "image 1/1 /content/drive/MyDrive/my_galapagos_seals_dataset/train/Zalophus_wollebaeki/3784229.jpg: 640x448 2 sea-lions, 6.4ms\n",
            "Speed: 1.8ms preprocess, 6.4ms inference, 1.3ms postprocess per image at shape (1, 3, 640, 448)\n",
            "\n",
            "image 1/1 /content/drive/MyDrive/my_galapagos_seals_dataset/train/Zalophus_wollebaeki/12507688.jpg: 448x640 1 sea-lion, 6.5ms\n",
            "Speed: 1.8ms preprocess, 6.5ms inference, 1.3ms postprocess per image at shape (1, 3, 448, 640)\n",
            "\n",
            "image 1/1 /content/drive/MyDrive/my_galapagos_seals_dataset/train/Zalophus_wollebaeki/32661193.jpg: 448x640 4 sea-lions, 5.7ms\n",
            "Speed: 1.8ms preprocess, 5.7ms inference, 1.3ms postprocess per image at shape (1, 3, 448, 640)\n",
            "\n",
            "image 1/1 /content/drive/MyDrive/my_galapagos_seals_dataset/train/Zalophus_wollebaeki/25719972.jpg: 416x640 1 sea-lion, 6.6ms\n",
            "Speed: 1.7ms preprocess, 6.6ms inference, 1.3ms postprocess per image at shape (1, 3, 416, 640)\n",
            "\n",
            "image 1/1 /content/drive/MyDrive/my_galapagos_seals_dataset/train/Zalophus_wollebaeki/100093729.jpg: 416x640 4 sea-lions, 5.8ms\n",
            "Speed: 1.9ms preprocess, 5.8ms inference, 1.3ms postprocess per image at shape (1, 3, 416, 640)\n",
            "\n",
            "image 1/1 /content/drive/MyDrive/my_galapagos_seals_dataset/train/Zalophus_wollebaeki/62389397.jpg: 448x640 1 sea-lion, 6.5ms\n",
            "Speed: 1.9ms preprocess, 6.5ms inference, 1.4ms postprocess per image at shape (1, 3, 448, 640)\n",
            "\n",
            "image 1/1 /content/drive/MyDrive/my_galapagos_seals_dataset/train/Arctocephalus_galapagoensis/12478199.jpg: 448x640 1 sea-lion, 6.1ms\n",
            "Speed: 2.1ms preprocess, 6.1ms inference, 1.5ms postprocess per image at shape (1, 3, 448, 640)\n",
            "\n",
            "image 1/1 /content/drive/MyDrive/my_galapagos_seals_dataset/train/Arctocephalus_galapagoensis/32666408.jpg: 448x640 1 sea-lion, 6.2ms\n",
            "Speed: 2.2ms preprocess, 6.2ms inference, 1.6ms postprocess per image at shape (1, 3, 448, 640)\n",
            "\n",
            "image 1/1 /content/drive/MyDrive/my_galapagos_seals_dataset/train/Arctocephalus_galapagoensis/12478203.jpg: 480x640 1 sea-lion, 6.8ms\n",
            "Speed: 2.3ms preprocess, 6.8ms inference, 1.8ms postprocess per image at shape (1, 3, 480, 640)\n",
            "\n",
            "image 1/1 /content/drive/MyDrive/my_galapagos_seals_dataset/train/Arctocephalus_galapagoensis/12478193.jpg: 640x544 1 sea-lion, 37.1ms\n",
            "Speed: 2.4ms preprocess, 37.1ms inference, 1.4ms postprocess per image at shape (1, 3, 640, 544)\n",
            "\n",
            "image 1/1 /content/drive/MyDrive/my_galapagos_seals_dataset/train/Arctocephalus_galapagoensis/12478200.jpg: 448x640 1 sea-lion, 7.0ms\n",
            "Speed: 2.1ms preprocess, 7.0ms inference, 1.4ms postprocess per image at shape (1, 3, 448, 640)\n",
            "\n",
            "image 1/1 /content/drive/MyDrive/my_galapagos_seals_dataset/train/Arctocephalus_galapagoensis/32666407.jpg: 448x640 1 sea-lion, 6.1ms\n",
            "Speed: 2.1ms preprocess, 6.1ms inference, 2.3ms postprocess per image at shape (1, 3, 448, 640)\n",
            "\n",
            "image 1/1 /content/drive/MyDrive/my_galapagos_seals_dataset/train/Arctocephalus_galapagoensis/32666323.jpg: 448x640 1 sea-lion, 7.3ms\n",
            "Speed: 3.4ms preprocess, 7.3ms inference, 1.8ms postprocess per image at shape (1, 3, 448, 640)\n",
            "\n",
            "image 1/1 /content/drive/MyDrive/my_galapagos_seals_dataset/train/Arctocephalus_galapagoensis/original.jpg: 448x640 1 sea-lion, 10.5ms\n",
            "Speed: 3.4ms preprocess, 10.5ms inference, 2.4ms postprocess per image at shape (1, 3, 448, 640)\n",
            "\n",
            "image 1/1 /content/drive/MyDrive/my_galapagos_seals_dataset/train/Arctocephalus_galapagoensis/12478180.jpg: 448x640 1 sea-lion, 10.4ms\n",
            "Speed: 3.3ms preprocess, 10.4ms inference, 2.3ms postprocess per image at shape (1, 3, 448, 640)\n",
            "\n",
            "image 1/1 /content/drive/MyDrive/my_galapagos_seals_dataset/train/Arctocephalus_galapagoensis/50313597.jpg: 448x640 1 sea-lion, 6.0ms\n",
            "Speed: 2.2ms preprocess, 6.0ms inference, 1.6ms postprocess per image at shape (1, 3, 448, 640)\n",
            "\n",
            "image 1/1 /content/drive/MyDrive/my_galapagos_seals_dataset/train/Arctocephalus_galapagoensis/32666405.jpg: 448x640 1 sea-lion, 6.1ms\n",
            "Speed: 2.2ms preprocess, 6.1ms inference, 1.4ms postprocess per image at shape (1, 3, 448, 640)\n",
            "\n",
            "image 1/1 /content/drive/MyDrive/my_galapagos_seals_dataset/train/Arctocephalus_galapagoensis/50313599.jpg: 448x640 1 sea-lion, 6.0ms\n",
            "Speed: 2.2ms preprocess, 6.0ms inference, 1.5ms postprocess per image at shape (1, 3, 448, 640)\n",
            "\n",
            "image 1/1 /content/drive/MyDrive/my_galapagos_seals_dataset/train/Arctocephalus_galapagoensis/26347056.jpg: 384x640 1 sea-lion, 6.9ms\n",
            "Speed: 1.7ms preprocess, 6.9ms inference, 1.4ms postprocess per image at shape (1, 3, 384, 640)\n",
            "\n",
            "image 1/1 /content/drive/MyDrive/my_galapagos_seals_dataset/train/Arctocephalus_galapagoensis/62389550.jpg: 448x640 2 sea-lions, 6.8ms\n",
            "Speed: 2.2ms preprocess, 6.8ms inference, 1.4ms postprocess per image at shape (1, 3, 448, 640)\n",
            "\n",
            "image 1/1 /content/drive/MyDrive/my_galapagos_seals_dataset/train/Arctocephalus_galapagoensis/50313466.jpg: 448x640 1 sea-lion, 6.0ms\n",
            "Speed: 2.2ms preprocess, 6.0ms inference, 1.5ms postprocess per image at shape (1, 3, 448, 640)\n",
            "\n",
            "image 1/1 /content/drive/MyDrive/my_galapagos_seals_dataset/train/Arctocephalus_galapagoensis/3180781.jpg: 448x640 1 sea-lion, 5.9ms\n",
            "Speed: 1.9ms preprocess, 5.9ms inference, 1.4ms postprocess per image at shape (1, 3, 448, 640)\n",
            "\n",
            "image 1/1 /content/drive/MyDrive/my_galapagos_seals_dataset/train/Arctocephalus_galapagoensis/5839890.jpg: 640x640 1 sea-lion, 8.7ms\n",
            "Speed: 3.4ms preprocess, 8.7ms inference, 1.6ms postprocess per image at shape (1, 3, 640, 640)\n",
            "\n",
            "image 1/1 /content/drive/MyDrive/my_galapagos_seals_dataset/train/Arctocephalus_galapagoensis/12478191.jpg: 480x640 2 sea-lions, 6.8ms\n",
            "Speed: 2.4ms preprocess, 6.8ms inference, 1.4ms postprocess per image at shape (1, 3, 480, 640)\n",
            "\n",
            "image 1/1 /content/drive/MyDrive/my_galapagos_seals_dataset/train/Arctocephalus_galapagoensis/50313600.jpg: 448x640 1 sea-lion, 6.6ms\n",
            "Speed: 2.2ms preprocess, 6.6ms inference, 1.4ms postprocess per image at shape (1, 3, 448, 640)\n",
            "\n",
            "image 1/1 /content/drive/MyDrive/my_galapagos_seals_dataset/train/Arctocephalus_galapagoensis/43219441.jpg: 448x640 1 sea-lion, 6.1ms\n",
            "Speed: 2.2ms preprocess, 6.1ms inference, 1.5ms postprocess per image at shape (1, 3, 448, 640)\n",
            "\n",
            "image 1/1 /content/drive/MyDrive/my_galapagos_seals_dataset/train/Arctocephalus_galapagoensis/12478182.jpg: 448x640 1 sea-lion, 7.1ms\n",
            "Speed: 2.1ms preprocess, 7.1ms inference, 1.5ms postprocess per image at shape (1, 3, 448, 640)\n",
            "\n",
            "image 1/1 /content/drive/MyDrive/my_galapagos_seals_dataset/train/Arctocephalus_galapagoensis/26347055.jpg: 640x640 4 sea-lions, 8.0ms\n",
            "Speed: 2.6ms preprocess, 8.0ms inference, 1.4ms postprocess per image at shape (1, 3, 640, 640)\n",
            "\n",
            "image 1/1 /content/drive/MyDrive/my_galapagos_seals_dataset/train/Arctocephalus_galapagoensis/original.JPG: 448x640 (no detections), 6.7ms\n",
            "Speed: 2.4ms preprocess, 6.7ms inference, 0.7ms postprocess per image at shape (1, 3, 448, 640)\n",
            "\n",
            "image 1/1 /content/drive/MyDrive/my_galapagos_seals_dataset/train/Arctocephalus_galapagoensis/62389531.jpg: 640x448 2 sea-lions, 6.7ms\n",
            "Speed: 2.3ms preprocess, 6.7ms inference, 1.4ms postprocess per image at shape (1, 3, 640, 448)\n",
            "\n",
            "image 1/1 /content/drive/MyDrive/my_galapagos_seals_dataset/train/Arctocephalus_galapagoensis/62389529.jpg: 448x640 1 sea-lion, 8.6ms\n",
            "Speed: 3.5ms preprocess, 8.6ms inference, 1.8ms postprocess per image at shape (1, 3, 448, 640)\n",
            "\n",
            "image 1/1 /content/drive/MyDrive/my_galapagos_seals_dataset/train/Arctocephalus_galapagoensis/50313467.jpg: 448x640 1 sea-lion, 7.7ms\n",
            "Speed: 3.5ms preprocess, 7.7ms inference, 1.8ms postprocess per image at shape (1, 3, 448, 640)\n",
            "\n",
            "image 1/1 /content/drive/MyDrive/my_galapagos_seals_dataset/train/Arctocephalus_galapagoensis/50313619.jpg: 448x640 1 sea-lion, 10.5ms\n",
            "Speed: 3.3ms preprocess, 10.5ms inference, 2.3ms postprocess per image at shape (1, 3, 448, 640)\n",
            "\n",
            "image 1/1 /content/drive/MyDrive/my_galapagos_seals_dataset/train/Arctocephalus_galapagoensis/48830579486_3e5247367c_b.jpg: 416x640 1 sea-lion, 7.4ms\n",
            "Speed: 2.3ms preprocess, 7.4ms inference, 2.2ms postprocess per image at shape (1, 3, 416, 640)\n",
            "\n",
            "image 1/1 /content/drive/MyDrive/my_galapagos_seals_dataset/train/Arctocephalus_galapagoensis/48830203628_9d3a668a12_b.jpg: 640x448 1 sea-lion, 6.6ms\n",
            "Speed: 2.2ms preprocess, 6.6ms inference, 1.4ms postprocess per image at shape (1, 3, 640, 448)\n",
            "\n",
            "image 1/1 /content/drive/MyDrive/my_galapagos_seals_dataset/train/Arctocephalus_galapagoensis/50313468.jpg: 448x640 1 sea-lion, 7.0ms\n",
            "Speed: 2.2ms preprocess, 7.0ms inference, 1.4ms postprocess per image at shape (1, 3, 448, 640)\n",
            "\n",
            "image 1/1 /content/drive/MyDrive/my_galapagos_seals_dataset/train/Arctocephalus_galapagoensis/12478183.jpg: 448x640 1 sea-lion, 6.0ms\n",
            "Speed: 2.2ms preprocess, 6.0ms inference, 1.5ms postprocess per image at shape (1, 3, 448, 640)\n",
            "\n",
            "image 1/1 /content/drive/MyDrive/my_galapagos_seals_dataset/train/Arctocephalus_galapagoensis/12478184.jpg: 640x512 2 sea-lions, 36.3ms\n",
            "Speed: 2.3ms preprocess, 36.3ms inference, 1.5ms postprocess per image at shape (1, 3, 640, 512)\n",
            "\n",
            "image 1/1 /content/drive/MyDrive/my_galapagos_seals_dataset/train/Arctocephalus_galapagoensis/62389530.jpg: 448x640 1 sea-lion, 7.1ms\n",
            "Speed: 2.2ms preprocess, 7.1ms inference, 1.5ms postprocess per image at shape (1, 3, 448, 640)\n",
            "\n",
            "image 1/1 /content/drive/MyDrive/my_galapagos_seals_dataset/train/Arctocephalus_galapagoensis/50313469.jpg: 448x640 1 sea-lion, 6.4ms\n",
            "Speed: 2.3ms preprocess, 6.4ms inference, 1.5ms postprocess per image at shape (1, 3, 448, 640)\n",
            "\n",
            "image 1/1 /content/drive/MyDrive/my_galapagos_seals_dataset/train/Arctocephalus_galapagoensis/62389551.jpg: 448x640 1 sea-lion, 6.1ms\n",
            "Speed: 2.2ms preprocess, 6.1ms inference, 1.5ms postprocess per image at shape (1, 3, 448, 640)\n",
            "\n",
            "image 1/1 /content/drive/MyDrive/my_galapagos_seals_dataset/train/Arctocephalus_galapagoensis/50313601.jpg: 448x640 1 sea-lion, 6.3ms\n",
            "Speed: 2.2ms preprocess, 6.3ms inference, 2.1ms postprocess per image at shape (1, 3, 448, 640)\n",
            "\n",
            "image 1/1 /content/drive/MyDrive/my_galapagos_seals_dataset/train/Arctocephalus_galapagoensis/62389552.jpg: 448x640 1 sea-lion, 6.3ms\n",
            "Speed: 2.2ms preprocess, 6.3ms inference, 1.5ms postprocess per image at shape (1, 3, 448, 640)\n",
            "\n",
            "image 1/1 /content/drive/MyDrive/my_galapagos_seals_dataset/train/Arctocephalus_galapagoensis/12478192.jpg: 448x640 2 sea-lions, 6.2ms\n",
            "Speed: 2.1ms preprocess, 6.2ms inference, 1.5ms postprocess per image at shape (1, 3, 448, 640)\n",
            "Running inference on validation set...\n",
            "\n",
            "image 1/1 /content/drive/MyDrive/my_galapagos_seals_dataset/validation/Zalophus_wollebaeki/48826362513_5824236ebf_b.jpg: 416x640 4 sea-lions, 12.8ms\n",
            "Speed: 3.2ms preprocess, 12.8ms inference, 2.0ms postprocess per image at shape (1, 3, 416, 640)\n",
            "\n",
            "image 1/1 /content/drive/MyDrive/my_galapagos_seals_dataset/validation/Zalophus_wollebaeki/26377972938_e5f414621a_b.jpg: 448x640 1 sea-lion, 7.1ms\n",
            "Speed: 2.3ms preprocess, 7.1ms inference, 1.5ms postprocess per image at shape (1, 3, 448, 640)\n",
            "\n",
            "image 1/1 /content/drive/MyDrive/my_galapagos_seals_dataset/validation/Zalophus_wollebaeki/48830679372_dcebfb4e6c_b.jpg: 416x640 2 sea-lions, 6.7ms\n",
            "Speed: 2.1ms preprocess, 6.7ms inference, 1.5ms postprocess per image at shape (1, 3, 416, 640)\n",
            "\n",
            "image 1/1 /content/drive/MyDrive/my_galapagos_seals_dataset/validation/Zalophus_wollebaeki/12485991.jpg: 416x640 1 sea-lion, 6.1ms\n",
            "Speed: 2.0ms preprocess, 6.1ms inference, 1.5ms postprocess per image at shape (1, 3, 416, 640)\n",
            "\n",
            "image 1/1 /content/drive/MyDrive/my_galapagos_seals_dataset/validation/Zalophus_wollebaeki/32676357.jpg: 448x640 1 sea-lion, 11.3ms\n",
            "Speed: 3.4ms preprocess, 11.3ms inference, 2.2ms postprocess per image at shape (1, 3, 448, 640)\n",
            "\n",
            "image 1/1 /content/drive/MyDrive/my_galapagos_seals_dataset/validation/Zalophus_wollebaeki/49295395.jpg: 640x448 3 sea-lions, 13.9ms\n",
            "Speed: 3.4ms preprocess, 13.9ms inference, 2.2ms postprocess per image at shape (1, 3, 640, 448)\n",
            "\n",
            "image 1/1 /content/drive/MyDrive/my_galapagos_seals_dataset/validation/Zalophus_wollebaeki/11397390.jpg: 384x640 1 sea-lion, 8.4ms\n",
            "Speed: 2.9ms preprocess, 8.4ms inference, 1.8ms postprocess per image at shape (1, 3, 384, 640)\n",
            "\n",
            "image 1/1 /content/drive/MyDrive/my_galapagos_seals_dataset/validation/Zalophus_wollebaeki/11392640.jpg: 384x640 1 sea-lion, 10.4ms\n",
            "Speed: 2.8ms preprocess, 10.4ms inference, 2.2ms postprocess per image at shape (1, 3, 384, 640)\n",
            "\n",
            "image 1/1 /content/drive/MyDrive/my_galapagos_seals_dataset/validation/Zalophus_wollebaeki/12486064.jpg: 416x640 2 sea-lions, 6.7ms\n",
            "Speed: 2.0ms preprocess, 6.7ms inference, 1.5ms postprocess per image at shape (1, 3, 416, 640)\n",
            "\n",
            "image 1/1 /content/drive/MyDrive/my_galapagos_seals_dataset/validation/Zalophus_wollebaeki/109479001.jpg: 416x640 1 sea-lion, 6.1ms\n",
            "Speed: 1.9ms preprocess, 6.1ms inference, 1.5ms postprocess per image at shape (1, 3, 416, 640)\n",
            "\n",
            "image 1/1 /content/drive/MyDrive/my_galapagos_seals_dataset/validation/Zalophus_wollebaeki/85019928.jpg: 448x640 1 sea-lion, 6.6ms\n",
            "Speed: 2.1ms preprocess, 6.6ms inference, 1.4ms postprocess per image at shape (1, 3, 448, 640)\n",
            "\n",
            "image 1/1 /content/drive/MyDrive/my_galapagos_seals_dataset/validation/Zalophus_wollebaeki/85099274.jpg: 480x640 5 sea-lions, 6.7ms\n",
            "Speed: 2.2ms preprocess, 6.7ms inference, 1.4ms postprocess per image at shape (1, 3, 480, 640)\n",
            "\n",
            "image 1/1 /content/drive/MyDrive/my_galapagos_seals_dataset/validation/Zalophus_wollebaeki/33159662.jpg: 448x640 1 sea-lion, 6.6ms\n",
            "Speed: 2.3ms preprocess, 6.6ms inference, 1.4ms postprocess per image at shape (1, 3, 448, 640)\n",
            "\n",
            "image 1/1 /content/drive/MyDrive/my_galapagos_seals_dataset/validation/Zalophus_wollebaeki/26172750269_9b712cd846_b.jpg: 448x640 2 sea-lions, 6.1ms\n",
            "Speed: 2.3ms preprocess, 6.1ms inference, 1.6ms postprocess per image at shape (1, 3, 448, 640)\n",
            "\n",
            "image 1/1 /content/drive/MyDrive/my_galapagos_seals_dataset/validation/Zalophus_wollebaeki/49923260.jpg: 448x640 1 sea-lion, 6.0ms\n",
            "Speed: 2.2ms preprocess, 6.0ms inference, 1.5ms postprocess per image at shape (1, 3, 448, 640)\n",
            "\n",
            "image 1/1 /content/drive/MyDrive/my_galapagos_seals_dataset/validation/Zalophus_wollebaeki/30161037.jpg: 480x640 3 sea-lions, 6.8ms\n",
            "Speed: 2.2ms preprocess, 6.8ms inference, 1.5ms postprocess per image at shape (1, 3, 480, 640)\n",
            "\n",
            "image 1/1 /content/drive/MyDrive/my_galapagos_seals_dataset/validation/Zalophus_wollebaeki/24905516.jpg: 448x640 1 sea-lion, 6.8ms\n",
            "Speed: 1.9ms preprocess, 6.8ms inference, 1.5ms postprocess per image at shape (1, 3, 448, 640)\n",
            "\n",
            "image 1/1 /content/drive/MyDrive/my_galapagos_seals_dataset/validation/Zalophus_wollebaeki/85052817.jpg: 448x640 1 sea-lion, 6.0ms\n",
            "Speed: 2.4ms preprocess, 6.0ms inference, 1.6ms postprocess per image at shape (1, 3, 448, 640)\n",
            "\n",
            "image 1/1 /content/drive/MyDrive/my_galapagos_seals_dataset/validation/Zalophus_wollebaeki/32668812.jpg: 448x640 1 sea-lion, 10.2ms\n",
            "Speed: 3.5ms preprocess, 10.2ms inference, 2.2ms postprocess per image at shape (1, 3, 448, 640)\n",
            "\n",
            "image 1/1 /content/drive/MyDrive/my_galapagos_seals_dataset/validation/Zalophus_wollebaeki/32679355.jpg: 448x640 5 sea-lions, 6.1ms\n",
            "Speed: 2.3ms preprocess, 6.1ms inference, 1.5ms postprocess per image at shape (1, 3, 448, 640)\n",
            "\n",
            "image 1/1 /content/drive/MyDrive/my_galapagos_seals_dataset/validation/Zalophus_wollebaeki/62389461.jpg: 448x640 2 sea-lions, 6.2ms\n",
            "Speed: 2.3ms preprocess, 6.2ms inference, 1.5ms postprocess per image at shape (1, 3, 448, 640)\n",
            "\n",
            "image 1/1 /content/drive/MyDrive/my_galapagos_seals_dataset/validation/Zalophus_wollebaeki/108896378.jpg: 384x640 1 sea-lion, 6.6ms\n",
            "Speed: 2.0ms preprocess, 6.6ms inference, 1.4ms postprocess per image at shape (1, 3, 384, 640)\n",
            "\n",
            "image 1/1 /content/drive/MyDrive/my_galapagos_seals_dataset/validation/Zalophus_wollebaeki/3784221.jpg: 448x640 3 sea-lions, 11.1ms\n",
            "Speed: 3.3ms preprocess, 11.1ms inference, 2.6ms postprocess per image at shape (1, 3, 448, 640)\n",
            "\n",
            "image 1/1 /content/drive/MyDrive/my_galapagos_seals_dataset/validation/Zalophus_wollebaeki/3784223.jpg: 448x640 4 sea-lions, 13.1ms\n",
            "Speed: 3.1ms preprocess, 13.1ms inference, 2.3ms postprocess per image at shape (1, 3, 448, 640)\n",
            "\n",
            "image 1/1 /content/drive/MyDrive/my_galapagos_seals_dataset/validation/Zalophus_wollebaeki/24925014.jpg: 448x640 1 sea-lion, 9.6ms\n",
            "Speed: 3.1ms preprocess, 9.6ms inference, 2.6ms postprocess per image at shape (1, 3, 448, 640)\n",
            "\n",
            "image 1/1 /content/drive/MyDrive/my_galapagos_seals_dataset/validation/Zalophus_wollebaeki/32666344.jpg: 448x640 1 sea-lion, 10.4ms\n",
            "Speed: 3.4ms preprocess, 10.4ms inference, 2.3ms postprocess per image at shape (1, 3, 448, 640)\n",
            "\n",
            "image 1/1 /content/drive/MyDrive/my_galapagos_seals_dataset/validation/Zalophus_wollebaeki/52303279596_9b5d175658_b.jpg: 352x640 1 sea-lion, 6.7ms\n",
            "Speed: 1.9ms preprocess, 6.7ms inference, 1.4ms postprocess per image at shape (1, 3, 352, 640)\n",
            "\n",
            "image 1/1 /content/drive/MyDrive/my_galapagos_seals_dataset/validation/Zalophus_wollebaeki/12932569.jpg: 480x640 2 sea-lions, 6.7ms\n",
            "Speed: 2.2ms preprocess, 6.7ms inference, 1.5ms postprocess per image at shape (1, 3, 480, 640)\n",
            "\n",
            "image 1/1 /content/drive/MyDrive/my_galapagos_seals_dataset/validation/Zalophus_wollebaeki/97140040.jpg: 480x640 2 sea-lions, 6.0ms\n",
            "Speed: 2.2ms preprocess, 6.0ms inference, 1.5ms postprocess per image at shape (1, 3, 480, 640)\n",
            "\n",
            "image 1/1 /content/drive/MyDrive/my_galapagos_seals_dataset/validation/Zalophus_wollebaeki/5279772.jpg: 448x640 1 sea-lion, 6.7ms\n",
            "Speed: 2.2ms preprocess, 6.7ms inference, 1.4ms postprocess per image at shape (1, 3, 448, 640)\n",
            "\n",
            "image 1/1 /content/drive/MyDrive/my_galapagos_seals_dataset/validation/Arctocephalus_galapagoensis/34604232.jpg: 448x640 1 sea-lion, 6.2ms\n",
            "Speed: 2.1ms preprocess, 6.2ms inference, 1.5ms postprocess per image at shape (1, 3, 448, 640)\n",
            "\n",
            "image 1/1 /content/drive/MyDrive/my_galapagos_seals_dataset/validation/Arctocephalus_galapagoensis/32666404.jpg: 448x640 1 sea-lion, 12.0ms\n",
            "Speed: 3.6ms preprocess, 12.0ms inference, 2.3ms postprocess per image at shape (1, 3, 448, 640)\n",
            "\n",
            "image 1/1 /content/drive/MyDrive/my_galapagos_seals_dataset/validation/Arctocephalus_galapagoensis/50313602.jpg: 448x640 1 sea-lion, 6.1ms\n",
            "Speed: 2.2ms preprocess, 6.1ms inference, 1.5ms postprocess per image at shape (1, 3, 448, 640)\n",
            "\n",
            "image 1/1 /content/drive/MyDrive/my_galapagos_seals_dataset/validation/Arctocephalus_galapagoensis/32666322.jpg: 448x640 1 sea-lion, 6.1ms\n",
            "Speed: 2.2ms preprocess, 6.1ms inference, 1.5ms postprocess per image at shape (1, 3, 448, 640)\n",
            "Running inference on test set...\n",
            "\n",
            "image 1/1 /content/drive/MyDrive/my_galapagos_seals_dataset/test/Zalophus_wollebaeki/12932061.jpg: 640x512 1 sea-lion, 7.1ms\n",
            "Speed: 2.3ms preprocess, 7.1ms inference, 1.4ms postprocess per image at shape (1, 3, 640, 512)\n",
            "\n",
            "image 1/1 /content/drive/MyDrive/my_galapagos_seals_dataset/test/Zalophus_wollebaeki/32659332.jpg: 448x640 1 sea-lion, 6.8ms\n",
            "Speed: 2.2ms preprocess, 6.8ms inference, 1.4ms postprocess per image at shape (1, 3, 448, 640)\n",
            "\n",
            "image 1/1 /content/drive/MyDrive/my_galapagos_seals_dataset/test/Zalophus_wollebaeki/1553628.jpg: 448x640 3 sea-lions, 6.0ms\n",
            "Speed: 2.1ms preprocess, 6.0ms inference, 1.5ms postprocess per image at shape (1, 3, 448, 640)\n",
            "\n",
            "image 1/1 /content/drive/MyDrive/my_galapagos_seals_dataset/test/Zalophus_wollebaeki/55612107.jpg: 480x640 3 sea-lions, 6.6ms\n",
            "Speed: 2.3ms preprocess, 6.6ms inference, 1.4ms postprocess per image at shape (1, 3, 480, 640)\n",
            "\n",
            "image 1/1 /content/drive/MyDrive/my_galapagos_seals_dataset/test/Zalophus_wollebaeki/62389460.jpg: 448x640 1 sea-lion, 6.7ms\n",
            "Speed: 2.2ms preprocess, 6.7ms inference, 1.4ms postprocess per image at shape (1, 3, 448, 640)\n",
            "\n",
            "image 1/1 /content/drive/MyDrive/my_galapagos_seals_dataset/test/Zalophus_wollebaeki/11399525.jpg: 384x640 1 sea-lion, 6.7ms\n",
            "Speed: 1.8ms preprocess, 6.7ms inference, 1.7ms postprocess per image at shape (1, 3, 384, 640)\n",
            "\n",
            "image 1/1 /content/drive/MyDrive/my_galapagos_seals_dataset/test/Zalophus_wollebaeki/101808339.jpg: 640x640 2 sea-lions, 8.0ms\n",
            "Speed: 2.9ms preprocess, 8.0ms inference, 1.4ms postprocess per image at shape (1, 3, 640, 640)\n",
            "\n",
            "image 1/1 /content/drive/MyDrive/my_galapagos_seals_dataset/test/Zalophus_wollebaeki/109306750.jpg: 448x640 1 sea-lion, 8.5ms\n",
            "Speed: 3.3ms preprocess, 8.5ms inference, 1.8ms postprocess per image at shape (1, 3, 448, 640)\n",
            "\n",
            "image 1/1 /content/drive/MyDrive/my_galapagos_seals_dataset/test/Zalophus_wollebaeki/24874394.jpg: 640x480 1 sea-lion, 8.0ms\n",
            "Speed: 3.5ms preprocess, 8.0ms inference, 1.8ms postprocess per image at shape (1, 3, 640, 480)\n",
            "\n",
            "image 1/1 /content/drive/MyDrive/my_galapagos_seals_dataset/test/Zalophus_wollebaeki/12932568.jpg: 480x640 2 sea-lions, 7.3ms\n",
            "Speed: 2.5ms preprocess, 7.3ms inference, 1.6ms postprocess per image at shape (1, 3, 480, 640)\n",
            "\n",
            "image 1/1 /content/drive/MyDrive/my_galapagos_seals_dataset/test/Zalophus_wollebaeki/104427004.jpg: 384x640 1 sea-lion, 11.4ms\n",
            "Speed: 2.1ms preprocess, 11.4ms inference, 2.3ms postprocess per image at shape (1, 3, 384, 640)\n",
            "\n",
            "image 1/1 /content/drive/MyDrive/my_galapagos_seals_dataset/test/Zalophus_wollebaeki/34576347.jpg: 416x640 1 sea-lion, 10.3ms\n",
            "Speed: 3.2ms preprocess, 10.3ms inference, 1.7ms postprocess per image at shape (1, 3, 416, 640)\n",
            "\n",
            "image 1/1 /content/drive/MyDrive/my_galapagos_seals_dataset/test/Zalophus_wollebaeki/37917577892_2425f23ec2_b.jpg: 448x640 1 sea-lion, 6.8ms\n",
            "Speed: 2.2ms preprocess, 6.8ms inference, 1.4ms postprocess per image at shape (1, 3, 448, 640)\n",
            "\n",
            "image 1/1 /content/drive/MyDrive/my_galapagos_seals_dataset/test/Zalophus_wollebaeki/85019929.jpg: 448x640 4 sea-lions, 6.0ms\n",
            "Speed: 2.2ms preprocess, 6.0ms inference, 1.5ms postprocess per image at shape (1, 3, 448, 640)\n",
            "\n",
            "image 1/1 /content/drive/MyDrive/my_galapagos_seals_dataset/test/Zalophus_wollebaeki/40365829911_0d91ca60fb_b.jpg: 480x640 2 sea-lions, 6.8ms\n",
            "Speed: 2.3ms preprocess, 6.8ms inference, 1.4ms postprocess per image at shape (1, 3, 480, 640)\n",
            "\n",
            "image 1/1 /content/drive/MyDrive/my_galapagos_seals_dataset/test/Zalophus_wollebaeki/39697246714_c1c3914137_b.jpg: 448x640 1 sea-lion, 6.6ms\n",
            "Speed: 2.2ms preprocess, 6.6ms inference, 1.4ms postprocess per image at shape (1, 3, 448, 640)\n",
            "\n",
            "image 1/1 /content/drive/MyDrive/my_galapagos_seals_dataset/test/Zalophus_wollebaeki/33159267.jpg: 448x640 2 sea-lions, 5.9ms\n",
            "Speed: 2.2ms preprocess, 5.9ms inference, 1.5ms postprocess per image at shape (1, 3, 448, 640)\n",
            "\n",
            "image 1/1 /content/drive/MyDrive/my_galapagos_seals_dataset/test/Zalophus_wollebaeki/49317874.jpg: 384x640 7 sea-lions, 6.7ms\n",
            "Speed: 2.1ms preprocess, 6.7ms inference, 1.4ms postprocess per image at shape (1, 3, 384, 640)\n",
            "\n",
            "image 1/1 /content/drive/MyDrive/my_galapagos_seals_dataset/test/Zalophus_wollebaeki/49295394.jpg: 448x640 2 sea-lions, 6.6ms\n",
            "Speed: 2.1ms preprocess, 6.6ms inference, 1.4ms postprocess per image at shape (1, 3, 448, 640)\n",
            "\n",
            "image 1/1 /content/drive/MyDrive/my_galapagos_seals_dataset/test/Zalophus_wollebaeki/49923259.jpg: 448x640 1 sea-lion, 6.1ms\n",
            "Speed: 2.3ms preprocess, 6.1ms inference, 1.5ms postprocess per image at shape (1, 3, 448, 640)\n",
            "\n",
            "image 1/1 /content/drive/MyDrive/my_galapagos_seals_dataset/test/Zalophus_wollebaeki/104429900.jpg: 480x640 2 sea-lions, 7.1ms\n",
            "Speed: 2.4ms preprocess, 7.1ms inference, 1.4ms postprocess per image at shape (1, 3, 480, 640)\n",
            "\n",
            "image 1/1 /content/drive/MyDrive/my_galapagos_seals_dataset/test/Zalophus_wollebaeki/11397787.jpg: 384x640 3 sea-lions, 6.9ms\n",
            "Speed: 1.8ms preprocess, 6.9ms inference, 1.5ms postprocess per image at shape (1, 3, 384, 640)\n",
            "\n",
            "image 1/1 /content/drive/MyDrive/my_galapagos_seals_dataset/test/Zalophus_wollebaeki/32676363.jpg: 448x640 1 sea-lion, 6.7ms\n",
            "Speed: 2.2ms preprocess, 6.7ms inference, 1.4ms postprocess per image at shape (1, 3, 448, 640)\n",
            "\n",
            "image 1/1 /content/drive/MyDrive/my_galapagos_seals_dataset/test/Zalophus_wollebaeki/11392745.jpg: 384x640 4 sea-lions, 8.2ms\n",
            "Speed: 2.9ms preprocess, 8.2ms inference, 1.8ms postprocess per image at shape (1, 3, 384, 640)\n",
            "\n",
            "image 1/1 /content/drive/MyDrive/my_galapagos_seals_dataset/test/Zalophus_wollebaeki/24905553.jpg: 448x640 (no detections), 8.6ms\n",
            "Speed: 3.1ms preprocess, 8.6ms inference, 0.9ms postprocess per image at shape (1, 3, 448, 640)\n",
            "\n",
            "image 1/1 /content/drive/MyDrive/my_galapagos_seals_dataset/test/Zalophus_wollebaeki/12486050.jpg: 448x640 2 sea-lions, 10.7ms\n",
            "Speed: 3.4ms preprocess, 10.7ms inference, 2.2ms postprocess per image at shape (1, 3, 448, 640)\n",
            "\n",
            "image 1/1 /content/drive/MyDrive/my_galapagos_seals_dataset/test/Zalophus_wollebaeki/14927878.jpg: 640x480 2 sea-lions, 6.6ms\n",
            "Speed: 2.1ms preprocess, 6.6ms inference, 1.4ms postprocess per image at shape (1, 3, 640, 480)\n",
            "\n",
            "image 1/1 /content/drive/MyDrive/my_galapagos_seals_dataset/test/Zalophus_wollebaeki/33159663.jpg: 448x640 2 sea-lions, 8.0ms\n",
            "Speed: 2.2ms preprocess, 8.0ms inference, 1.5ms postprocess per image at shape (1, 3, 448, 640)\n",
            "\n",
            "image 1/1 /content/drive/MyDrive/my_galapagos_seals_dataset/test/Zalophus_wollebaeki/33159268.jpg: 448x640 1 sea-lion, 6.0ms\n",
            "Speed: 2.1ms preprocess, 6.0ms inference, 1.5ms postprocess per image at shape (1, 3, 448, 640)\n",
            "\n",
            "image 1/1 /content/drive/MyDrive/my_galapagos_seals_dataset/test/Arctocephalus_galapagoensis/32666406.jpg: 448x640 1 sea-lion, 6.0ms\n",
            "Speed: 2.2ms preprocess, 6.0ms inference, 1.7ms postprocess per image at shape (1, 3, 448, 640)\n",
            "\n",
            "image 1/1 /content/drive/MyDrive/my_galapagos_seals_dataset/test/Arctocephalus_galapagoensis/12478185.jpg: 448x640 1 sea-lion, 6.2ms\n",
            "Speed: 2.3ms preprocess, 6.2ms inference, 1.6ms postprocess per image at shape (1, 3, 448, 640)\n",
            "\n",
            "image 1/1 /content/drive/MyDrive/my_galapagos_seals_dataset/test/Arctocephalus_galapagoensis/62389553.jpg: 448x640 1 sea-lion, 6.3ms\n",
            "Speed: 2.2ms preprocess, 6.3ms inference, 1.5ms postprocess per image at shape (1, 3, 448, 640)\n",
            "\n",
            "image 1/1 /content/drive/MyDrive/my_galapagos_seals_dataset/test/Arctocephalus_galapagoensis/12930578.jpg: 512x640 2 sea-lions, 6.7ms\n",
            "Speed: 2.3ms preprocess, 6.7ms inference, 1.5ms postprocess per image at shape (1, 3, 512, 640)\n",
            "\n",
            "image 1/1 /content/drive/MyDrive/my_galapagos_seals_dataset/test/Arctocephalus_galapagoensis/12478181.jpg: 448x640 1 sea-lion, 6.8ms\n",
            "Speed: 2.2ms preprocess, 6.8ms inference, 1.5ms postprocess per image at shape (1, 3, 448, 640)\n",
            "Inference complete.\n"
          ]
        }
      ]
    },
    {
      "cell_type": "code",
      "metadata": {
        "colab": {
          "base_uri": "https://localhost:8080/"
        },
        "id": "3de95bc1",
        "outputId": "14338621-5958-4200-8e57-3f621b8cc988"
      },
      "source": [
        "import os\n",
        "from PIL import Image\n",
        "\n",
        "# Define the base path for saving the cropped dataset in Google Drive\n",
        "cropped_dataset_base_path = '/content/drive/MyDrive/my_galapagos_seals_cropped_dataset'\n",
        "\n",
        "# Create the base directory for the cropped dataset\n",
        "os.makedirs(cropped_dataset_base_path, exist_ok=True)\n",
        "\n",
        "# Iterate through the inference results\n",
        "for subset, results_list in results.items():\n",
        "    print(f\"Processing {subset} set for cropping...\")\n",
        "    subset_output_path = os.path.join(cropped_dataset_base_path, subset)\n",
        "    os.makedirs(subset_output_path, exist_ok=True)\n",
        "\n",
        "    for item in results_list:\n",
        "        img_path = item['image_path']\n",
        "        detections = item['detections']\n",
        "\n",
        "        try:\n",
        "            # Open the original image\n",
        "            img = Image.open(img_path).convert('RGB')\n",
        "\n",
        "            # Process each detection in the image\n",
        "            for i, det in enumerate(detections[0].boxes):\n",
        "                # Get bounding box coordinates\n",
        "                x1, y1, x2, y2 = det.xyxy[0].cpu().numpy().astype(int)\n",
        "\n",
        "                # Get the class label (assuming your model predicts the single 'sea-lion' class)\n",
        "                # Since we only trained for one class, we can assign the original class based on the input path\n",
        "                original_class = os.path.basename(os.path.dirname(img_path))\n",
        "\n",
        "                # Define the output directory for the cropped image based on the original class and subset\n",
        "                class_output_path = os.path.join(subset_output_path, original_class)\n",
        "                os.makedirs(class_output_path, exist_ok=True)\n",
        "\n",
        "                # Define the filename for the cropped image\n",
        "                original_filename = os.path.basename(img_path)\n",
        "                cropped_filename = f\"{os.path.splitext(original_filename)[0]}_crop_{i}.jpg\"\n",
        "                cropped_img_path = os.path.join(class_output_path, cropped_filename)\n",
        "\n",
        "                # Crop the image using the bounding box\n",
        "                cropped_img = img.crop((x1, y1, x2, y2))\n",
        "\n",
        "                # Save the cropped image\n",
        "                cropped_img.save(cropped_img_path)\n",
        "\n",
        "        except Exception as e:\n",
        "            print(f\"Error cropping image {img_path}: {e}\")\n",
        "\n",
        "print(\"Cropping and saving complete. The new dataset is located at:\", cropped_dataset_base_path)"
      ],
      "execution_count": null,
      "outputs": [
        {
          "output_type": "stream",
          "name": "stdout",
          "text": [
            "Processing train set for cropping...\n",
            "Processing validation set for cropping...\n",
            "Processing test set for cropping...\n",
            "Cropping and saving complete. The new dataset is located at: /content/drive/MyDrive/my_galapagos_seals_cropped_dataset\n"
          ]
        }
      ]
    },
    {
      "cell_type": "code",
      "metadata": {
        "colab": {
          "base_uri": "https://localhost:8080/"
        },
        "id": "de35b6d4",
        "outputId": "6a97b0aa-5d12-4ad3-a3fe-babab2370350"
      },
      "source": [
        "import tensorflow as tf\n",
        "\n",
        "# Define the base path to the cropped dataset in Google Drive\n",
        "cropped_dataset_base_path = '/content/drive/MyDrive/my_galapagos_seals_cropped_dataset'\n",
        "\n",
        "# Define image dimensions\n",
        "img_height = 224  # VGG16, ResNet50V2 and InceptionV3 typically use 224x224 or larger\n",
        "img_width = 224\n",
        "\n",
        "# Define batch size\n",
        "batch_size = 32\n",
        "\n",
        "# Load the training dataset\n",
        "train_ds = tf.keras.utils.image_dataset_from_directory(\n",
        "    os.path.join(cropped_dataset_base_path, 'train'),\n",
        "    labels='inferred',\n",
        "    label_mode='categorical',\n",
        "    image_size=(img_height, img_width),\n",
        "    interpolation='nearest',\n",
        "    batch_size=batch_size,\n",
        "    shuffle=True\n",
        ")\n",
        "\n",
        "# Load the validation dataset\n",
        "val_ds = tf.keras.utils.image_dataset_from_directory(\n",
        "    os.path.join(cropped_dataset_base_path, 'validation'),\n",
        "    labels='inferred',\n",
        "    label_mode='categorical',\n",
        "    image_size=(img_height, img_width),\n",
        "    interpolation='nearest',\n",
        "    batch_size=batch_size,\n",
        "    shuffle=False # No need to shuffle validation data\n",
        ")\n",
        "\n",
        "# Load the test dataset\n",
        "test_ds = tf.keras.utils.image_dataset_from_directory(\n",
        "    os.path.join(cropped_dataset_base_path, 'test'),\n",
        "    labels='inferred',\n",
        "    label_mode='categorical',\n",
        "    image_size=(img_height, img_width),\n",
        "    interpolation='nearest',\n",
        "    batch_size=batch_size,\n",
        "    shuffle=False # No need to shuffle test data\n",
        ")\n",
        "\n",
        "print(\"Datasets loaded successfully.\")"
      ],
      "execution_count": null,
      "outputs": [
        {
          "output_type": "stream",
          "name": "stdout",
          "text": [
            "Found 449 files belonging to 2 classes.\n",
            "Found 60 files belonging to 2 classes.\n",
            "Found 61 files belonging to 2 classes.\n",
            "Datasets loaded successfully.\n"
          ]
        }
      ]
    },
    {
      "cell_type": "code",
      "metadata": {
        "colab": {
          "base_uri": "https://localhost:8080/"
        },
        "id": "5d4bc3e3",
        "outputId": "02a7ddea-b1c4-40f4-8c90-59edd260c3e3"
      },
      "source": [
        "import numpy as np\n",
        "\n",
        "# Get the class names from the training dataset\n",
        "class_names = train_ds.class_names\n",
        "print(f\"Class names: {class_names}\")\n",
        "\n",
        "# Count the number of images in each class in the training set\n",
        "train_counts = {class_name: 0 for class_name in class_names}\n",
        "for images, labels in train_ds:\n",
        "    for label in labels.numpy():\n",
        "        class_index = np.argmax(label)\n",
        "        train_counts[class_names[class_index]] += 1\n",
        "\n",
        "print(\"\\nTraining set class distribution:\")\n",
        "total_train_images = sum(train_counts.values())\n",
        "for class_name, count in train_counts.items():\n",
        "    percentage = (count / total_train_images) * 100\n",
        "    print(f\"{class_name}: {count} images ({percentage:.2f}%)\")\n",
        "\n",
        "# You can do the same for validation and test sets if needed\n",
        "# val_counts = {class_name: 0 for class_name in class_names}\n",
        "# for images, labels in val_ds:\n",
        "#     for label in labels.numpy():\n",
        "#         class_index = np.argmax(label)\n",
        "#         val_counts[class_names[class_index]] += 1\n",
        "\n",
        "# test_counts = {class_name: 0 for class_name in class_names}\n",
        "# for images, labels in test_ds:\n",
        "#     for label in labels.numpy():\n",
        "#         class_index = np.argmax(label)\n",
        "#         test_counts[class_names[class_index]] += 1\n",
        "\n",
        "# print(\"\\nValidation set class distribution:\")\n",
        "# for class_name, count in val_counts.items():\n",
        "#     percentage = (count / sum(val_counts.values())) * 100\n",
        "#     print(f\"{class_name}: {count} images ({percentage:.2f}%)\")\n",
        "\n",
        "# print(\"\\nTest set class distribution:\")\n",
        "# for class_name, count in test_counts.items():\n",
        "#     percentage = (count / sum(test_counts.values())) * 100\n",
        "#     print(f\"{class_name}: {count} images ({percentage:.2f}%)\")"
      ],
      "execution_count": null,
      "outputs": [
        {
          "output_type": "stream",
          "name": "stdout",
          "text": [
            "Class names: ['Arctocephalus_galapagoensis', 'Zalophus_wollebaeki']\n",
            "\n",
            "Training set class distribution:\n",
            "Arctocephalus_galapagoensis: 45 images (10.02%)\n",
            "Zalophus_wollebaeki: 404 images (89.98%)\n"
          ]
        }
      ]
    },
    {
      "cell_type": "code",
      "metadata": {
        "id": "dc3bf5f7"
      },
      "source": [],
      "execution_count": null,
      "outputs": []
    },
    {
      "cell_type": "code",
      "metadata": {
        "colab": {
          "base_uri": "https://localhost:8080/",
          "height": 360
        },
        "id": "a3716b89",
        "outputId": "cd019ca1-5013-4b1f-9429-d7b4d5f5a66d"
      },
      "source": [
        "import tensorflow as tf\n",
        "from tensorflow.keras.models import Sequential\n",
        "from tensorflow.keras.layers import Dense, Flatten, Dropout\n",
        "from tensorflow.keras.applications import VGG16\n",
        "from tensorflow.keras.optimizers import Adam\n",
        "\n",
        "# Define the number of classes\n",
        "num_classes = len(class_names)\n",
        "\n",
        "# Load the VGG16 model with pre-trained weights (excluding the top classification layer)\n",
        "vgg16_base = VGG16(weights='imagenet', include_top=False, input_shape=(img_height, img_width, 3))\n",
        "\n",
        "# Freeze the convolutional base\n",
        "vgg16_base.trainable = False\n",
        "\n",
        "# Create the VGG16 classification model\n",
        "vgg16_model_imbalanced = Sequential([\n",
        "    vgg16_base,\n",
        "    Flatten(),\n",
        "    Dense(256, activation='relu'),\n",
        "    Dropout(0.5),\n",
        "    Dense(num_classes, activation='softmax') # Output layer with softmax for classification\n",
        "])\n",
        "\n",
        "# Compile the model\n",
        "vgg16_model_imbalanced.compile(optimizer=Adam(learning_rate=0.001),\n",
        "                               loss='categorical_crossentropy',\n",
        "                               metrics=['accuracy'])\n",
        "\n",
        "# Print the model summary\n",
        "vgg16_model_imbalanced.summary()\n",
        "\n",
        "print(\"VGG16 model for imbalanced dataset compiled.\")"
      ],
      "execution_count": null,
      "outputs": [
        {
          "output_type": "stream",
          "name": "stdout",
          "text": [
            "Downloading data from https://storage.googleapis.com/tensorflow/keras-applications/vgg16/vgg16_weights_tf_dim_ordering_tf_kernels_notop.h5\n",
            "\u001b[1m58889256/58889256\u001b[0m \u001b[32m━━━━━━━━━━━━━━━━━━━━\u001b[0m\u001b[37m\u001b[0m \u001b[1m0s\u001b[0m 0us/step\n"
          ]
        },
        {
          "output_type": "display_data",
          "data": {
            "text/plain": [
              "\u001b[1mModel: \"sequential\"\u001b[0m\n"
            ],
            "text/html": [
              "<pre style=\"white-space:pre;overflow-x:auto;line-height:normal;font-family:Menlo,'DejaVu Sans Mono',consolas,'Courier New',monospace\"><span style=\"font-weight: bold\">Model: \"sequential\"</span>\n",
              "</pre>\n"
            ]
          },
          "metadata": {}
        },
        {
          "output_type": "display_data",
          "data": {
            "text/plain": [
              "┏━━━━━━━━━━━━━━━━━━━━━━━━━━━━━━━━━┳━━━━━━━━━━━━━━━━━━━━━━━━┳━━━━━━━━━━━━━━━┓\n",
              "┃\u001b[1m \u001b[0m\u001b[1mLayer (type)                   \u001b[0m\u001b[1m \u001b[0m┃\u001b[1m \u001b[0m\u001b[1mOutput Shape          \u001b[0m\u001b[1m \u001b[0m┃\u001b[1m \u001b[0m\u001b[1m      Param #\u001b[0m\u001b[1m \u001b[0m┃\n",
              "┡━━━━━━━━━━━━━━━━━━━━━━━━━━━━━━━━━╇━━━━━━━━━━━━━━━━━━━━━━━━╇━━━━━━━━━━━━━━━┩\n",
              "│ vgg16 (\u001b[38;5;33mFunctional\u001b[0m)              │ (\u001b[38;5;45mNone\u001b[0m, \u001b[38;5;34m7\u001b[0m, \u001b[38;5;34m7\u001b[0m, \u001b[38;5;34m512\u001b[0m)      │    \u001b[38;5;34m14,714,688\u001b[0m │\n",
              "├─────────────────────────────────┼────────────────────────┼───────────────┤\n",
              "│ flatten (\u001b[38;5;33mFlatten\u001b[0m)               │ (\u001b[38;5;45mNone\u001b[0m, \u001b[38;5;34m25088\u001b[0m)          │             \u001b[38;5;34m0\u001b[0m │\n",
              "├─────────────────────────────────┼────────────────────────┼───────────────┤\n",
              "│ dense (\u001b[38;5;33mDense\u001b[0m)                   │ (\u001b[38;5;45mNone\u001b[0m, \u001b[38;5;34m256\u001b[0m)            │     \u001b[38;5;34m6,422,784\u001b[0m │\n",
              "├─────────────────────────────────┼────────────────────────┼───────────────┤\n",
              "│ dropout (\u001b[38;5;33mDropout\u001b[0m)               │ (\u001b[38;5;45mNone\u001b[0m, \u001b[38;5;34m256\u001b[0m)            │             \u001b[38;5;34m0\u001b[0m │\n",
              "├─────────────────────────────────┼────────────────────────┼───────────────┤\n",
              "│ dense_1 (\u001b[38;5;33mDense\u001b[0m)                 │ (\u001b[38;5;45mNone\u001b[0m, \u001b[38;5;34m2\u001b[0m)              │           \u001b[38;5;34m514\u001b[0m │\n",
              "└─────────────────────────────────┴────────────────────────┴───────────────┘\n"
            ],
            "text/html": [
              "<pre style=\"white-space:pre;overflow-x:auto;line-height:normal;font-family:Menlo,'DejaVu Sans Mono',consolas,'Courier New',monospace\">┏━━━━━━━━━━━━━━━━━━━━━━━━━━━━━━━━━┳━━━━━━━━━━━━━━━━━━━━━━━━┳━━━━━━━━━━━━━━━┓\n",
              "┃<span style=\"font-weight: bold\"> Layer (type)                    </span>┃<span style=\"font-weight: bold\"> Output Shape           </span>┃<span style=\"font-weight: bold\">       Param # </span>┃\n",
              "┡━━━━━━━━━━━━━━━━━━━━━━━━━━━━━━━━━╇━━━━━━━━━━━━━━━━━━━━━━━━╇━━━━━━━━━━━━━━━┩\n",
              "│ vgg16 (<span style=\"color: #0087ff; text-decoration-color: #0087ff\">Functional</span>)              │ (<span style=\"color: #00d7ff; text-decoration-color: #00d7ff\">None</span>, <span style=\"color: #00af00; text-decoration-color: #00af00\">7</span>, <span style=\"color: #00af00; text-decoration-color: #00af00\">7</span>, <span style=\"color: #00af00; text-decoration-color: #00af00\">512</span>)      │    <span style=\"color: #00af00; text-decoration-color: #00af00\">14,714,688</span> │\n",
              "├─────────────────────────────────┼────────────────────────┼───────────────┤\n",
              "│ flatten (<span style=\"color: #0087ff; text-decoration-color: #0087ff\">Flatten</span>)               │ (<span style=\"color: #00d7ff; text-decoration-color: #00d7ff\">None</span>, <span style=\"color: #00af00; text-decoration-color: #00af00\">25088</span>)          │             <span style=\"color: #00af00; text-decoration-color: #00af00\">0</span> │\n",
              "├─────────────────────────────────┼────────────────────────┼───────────────┤\n",
              "│ dense (<span style=\"color: #0087ff; text-decoration-color: #0087ff\">Dense</span>)                   │ (<span style=\"color: #00d7ff; text-decoration-color: #00d7ff\">None</span>, <span style=\"color: #00af00; text-decoration-color: #00af00\">256</span>)            │     <span style=\"color: #00af00; text-decoration-color: #00af00\">6,422,784</span> │\n",
              "├─────────────────────────────────┼────────────────────────┼───────────────┤\n",
              "│ dropout (<span style=\"color: #0087ff; text-decoration-color: #0087ff\">Dropout</span>)               │ (<span style=\"color: #00d7ff; text-decoration-color: #00d7ff\">None</span>, <span style=\"color: #00af00; text-decoration-color: #00af00\">256</span>)            │             <span style=\"color: #00af00; text-decoration-color: #00af00\">0</span> │\n",
              "├─────────────────────────────────┼────────────────────────┼───────────────┤\n",
              "│ dense_1 (<span style=\"color: #0087ff; text-decoration-color: #0087ff\">Dense</span>)                 │ (<span style=\"color: #00d7ff; text-decoration-color: #00d7ff\">None</span>, <span style=\"color: #00af00; text-decoration-color: #00af00\">2</span>)              │           <span style=\"color: #00af00; text-decoration-color: #00af00\">514</span> │\n",
              "└─────────────────────────────────┴────────────────────────┴───────────────┘\n",
              "</pre>\n"
            ]
          },
          "metadata": {}
        },
        {
          "output_type": "display_data",
          "data": {
            "text/plain": [
              "\u001b[1m Total params: \u001b[0m\u001b[38;5;34m21,137,986\u001b[0m (80.64 MB)\n"
            ],
            "text/html": [
              "<pre style=\"white-space:pre;overflow-x:auto;line-height:normal;font-family:Menlo,'DejaVu Sans Mono',consolas,'Courier New',monospace\"><span style=\"font-weight: bold\"> Total params: </span><span style=\"color: #00af00; text-decoration-color: #00af00\">21,137,986</span> (80.64 MB)\n",
              "</pre>\n"
            ]
          },
          "metadata": {}
        },
        {
          "output_type": "display_data",
          "data": {
            "text/plain": [
              "\u001b[1m Trainable params: \u001b[0m\u001b[38;5;34m6,423,298\u001b[0m (24.50 MB)\n"
            ],
            "text/html": [
              "<pre style=\"white-space:pre;overflow-x:auto;line-height:normal;font-family:Menlo,'DejaVu Sans Mono',consolas,'Courier New',monospace\"><span style=\"font-weight: bold\"> Trainable params: </span><span style=\"color: #00af00; text-decoration-color: #00af00\">6,423,298</span> (24.50 MB)\n",
              "</pre>\n"
            ]
          },
          "metadata": {}
        },
        {
          "output_type": "display_data",
          "data": {
            "text/plain": [
              "\u001b[1m Non-trainable params: \u001b[0m\u001b[38;5;34m14,714,688\u001b[0m (56.13 MB)\n"
            ],
            "text/html": [
              "<pre style=\"white-space:pre;overflow-x:auto;line-height:normal;font-family:Menlo,'DejaVu Sans Mono',consolas,'Courier New',monospace\"><span style=\"font-weight: bold\"> Non-trainable params: </span><span style=\"color: #00af00; text-decoration-color: #00af00\">14,714,688</span> (56.13 MB)\n",
              "</pre>\n"
            ]
          },
          "metadata": {}
        },
        {
          "output_type": "stream",
          "name": "stdout",
          "text": [
            "VGG16 model for imbalanced dataset compiled.\n"
          ]
        }
      ]
    },
    {
      "cell_type": "code",
      "metadata": {
        "colab": {
          "base_uri": "https://localhost:8080/"
        },
        "id": "a9d43507",
        "outputId": "1a13ee66-74b5-416c-ea04-f3b91f6e4181"
      },
      "source": [
        "import json\n",
        "import os\n",
        "\n",
        "# Define the path to save the model and configuration\n",
        "save_dir = '/content/drive/MyDrive/GalapagosSealsMerged/classification_models/vgg16_imbalanced'\n",
        "os.makedirs(save_dir, exist_ok=True)\n",
        "\n",
        "# Define callbacks for training (optional but recommended)\n",
        "callbacks = [\n",
        "    tf.keras.callbacks.EarlyStopping(monitor='val_loss', patience=10, restore_best_weights=True),\n",
        "    tf.keras.callbacks.ModelCheckpoint(filepath=os.path.join(save_dir, 'best_vgg16_imbalanced_model.h5'),\n",
        "                                       monitor='val_loss',\n",
        "                                       save_best_only=True)\n",
        "]\n",
        "\n",
        "# Train the VGG16 model on the imbalanced dataset\n",
        "history_vgg16_imbalanced = vgg16_model_imbalanced.fit(\n",
        "    train_ds,\n",
        "    epochs=50, # You can adjust the number of epochs\n",
        "    validation_data=val_ds,\n",
        "    callbacks=callbacks\n",
        ")\n",
        "\n",
        "# Save the trained model (best weights)\n",
        "# The ModelCheckpoint callback already saved the best model, but we can also save the final model\n",
        "vgg16_model_imbalanced.save(os.path.join(save_dir, 'final_vgg16_imbalanced_model.h5'))\n",
        "\n",
        "# Save the model configuration\n",
        "model_config = vgg16_model_imbalanced.to_json()\n",
        "with open(os.path.join(save_dir, 'vgg16_imbalanced_config.json'), 'w') as f:\n",
        "    json.dump(json.loads(model_config), f, indent=4)\n",
        "\n",
        "print(f\"\\nVGG16 model for imbalanced dataset trained and saved to {save_dir}\")"
      ],
      "execution_count": null,
      "outputs": [
        {
          "output_type": "stream",
          "name": "stdout",
          "text": [
            "Epoch 1/50\n",
            "\u001b[1m15/15\u001b[0m \u001b[32m━━━━━━━━━━━━━━━━━━━━\u001b[0m\u001b[37m\u001b[0m \u001b[1m0s\u001b[0m 311ms/step - accuracy: 0.7691 - loss: 14.2045"
          ]
        },
        {
          "output_type": "stream",
          "name": "stderr",
          "text": [
            "WARNING:absl:You are saving your model as an HDF5 file via `model.save()` or `keras.saving.save_model(model)`. This file format is considered legacy. We recommend using instead the native Keras format, e.g. `model.save('my_model.keras')` or `keras.saving.save_model(model, 'my_model.keras')`. \n"
          ]
        },
        {
          "output_type": "stream",
          "name": "stdout",
          "text": [
            "\b\b\b\b\b\b\b\b\b\b\b\b\b\b\b\b\b\b\b\b\b\b\b\b\b\b\b\b\b\b\b\b\b\b\b\b\b\b\b\b\b\b\b\b\b\b\b\b\b\b\b\b\b\b\b\b\b\b\b\b\b\b\b\b\b\b\b\b\b\b\b\b\b\b\b\r\u001b[1m15/15\u001b[0m \u001b[32m━━━━━━━━━━━━━━━━━━━━\u001b[0m\u001b[37m\u001b[0m \u001b[1m32s\u001b[0m 1s/step - accuracy: 0.7732 - loss: 14.1576 - val_accuracy: 0.9333 - val_loss: 13.9730\n",
            "Epoch 2/50\n",
            "\u001b[1m14/15\u001b[0m \u001b[32m━━━━━━━━━━━━━━━━━━\u001b[0m\u001b[37m━━\u001b[0m \u001b[1m0s\u001b[0m 147ms/step - accuracy: 0.9670 - loss: 2.4586"
          ]
        },
        {
          "output_type": "stream",
          "name": "stderr",
          "text": [
            "WARNING:absl:You are saving your model as an HDF5 file via `model.save()` or `keras.saving.save_model(model)`. This file format is considered legacy. We recommend using instead the native Keras format, e.g. `model.save('my_model.keras')` or `keras.saving.save_model(model, 'my_model.keras')`. \n"
          ]
        },
        {
          "output_type": "stream",
          "name": "stdout",
          "text": [
            "\b\b\b\b\b\b\b\b\b\b\b\b\b\b\b\b\b\b\b\b\b\b\b\b\b\b\b\b\b\b\b\b\b\b\b\b\b\b\b\b\b\b\b\b\b\b\b\b\b\b\b\b\b\b\b\b\b\b\b\b\b\b\b\b\b\b\b\b\b\b\b\b\b\b\r\u001b[1m15/15\u001b[0m \u001b[32m━━━━━━━━━━━━━━━━━━━━\u001b[0m\u001b[37m\u001b[0m \u001b[1m13s\u001b[0m 198ms/step - accuracy: 0.9647 - loss: 2.4797 - val_accuracy: 0.9333 - val_loss: 9.2899\n",
            "Epoch 3/50\n",
            "\u001b[1m14/15\u001b[0m \u001b[32m━━━━━━━━━━━━━━━━━━\u001b[0m\u001b[37m━━\u001b[0m \u001b[1m0s\u001b[0m 145ms/step - accuracy: 0.9895 - loss: 0.9207"
          ]
        },
        {
          "output_type": "stream",
          "name": "stderr",
          "text": [
            "WARNING:absl:You are saving your model as an HDF5 file via `model.save()` or `keras.saving.save_model(model)`. This file format is considered legacy. We recommend using instead the native Keras format, e.g. `model.save('my_model.keras')` or `keras.saving.save_model(model, 'my_model.keras')`. \n"
          ]
        },
        {
          "output_type": "stream",
          "name": "stdout",
          "text": [
            "\b\b\b\b\b\b\b\b\b\b\b\b\b\b\b\b\b\b\b\b\b\b\b\b\b\b\b\b\b\b\b\b\b\b\b\b\b\b\b\b\b\b\b\b\b\b\b\b\b\b\b\b\b\b\b\b\b\b\b\b\b\b\b\b\b\b\b\b\b\b\b\b\b\b\r\u001b[1m15/15\u001b[0m \u001b[32m━━━━━━━━━━━━━━━━━━━━\u001b[0m\u001b[37m\u001b[0m \u001b[1m5s\u001b[0m 219ms/step - accuracy: 0.9883 - loss: 0.9723 - val_accuracy: 0.9333 - val_loss: 7.9584\n",
            "Epoch 4/50\n",
            "\u001b[1m15/15\u001b[0m \u001b[32m━━━━━━━━━━━━━━━━━━━━\u001b[0m\u001b[37m\u001b[0m \u001b[1m3s\u001b[0m 214ms/step - accuracy: 0.9766 - loss: 0.6636 - val_accuracy: 0.9333 - val_loss: 13.0804\n",
            "Epoch 5/50\n",
            "\u001b[1m15/15\u001b[0m \u001b[32m━━━━━━━━━━━━━━━━━━━━\u001b[0m\u001b[37m\u001b[0m \u001b[1m4s\u001b[0m 163ms/step - accuracy: 0.9861 - loss: 0.4918 - val_accuracy: 0.9333 - val_loss: 8.9150\n",
            "Epoch 6/50\n",
            "\u001b[1m15/15\u001b[0m \u001b[32m━━━━━━━━━━━━━━━━━━━━\u001b[0m\u001b[37m\u001b[0m \u001b[1m7s\u001b[0m 180ms/step - accuracy: 0.9918 - loss: 0.2088 - val_accuracy: 0.9333 - val_loss: 14.7298\n",
            "Epoch 7/50\n",
            "\u001b[1m15/15\u001b[0m \u001b[32m━━━━━━━━━━━━━━━━━━━━\u001b[0m\u001b[37m\u001b[0m \u001b[1m3s\u001b[0m 165ms/step - accuracy: 0.9974 - loss: 0.0455 - val_accuracy: 0.9333 - val_loss: 13.8788\n",
            "Epoch 8/50\n",
            "\u001b[1m15/15\u001b[0m \u001b[32m━━━━━━━━━━━━━━━━━━━━\u001b[0m\u001b[37m\u001b[0m \u001b[1m3s\u001b[0m 165ms/step - accuracy: 0.9926 - loss: 0.1754 - val_accuracy: 0.9333 - val_loss: 12.9082\n",
            "Epoch 9/50\n",
            "\u001b[1m15/15\u001b[0m \u001b[32m━━━━━━━━━━━━━━━━━━━━\u001b[0m\u001b[37m\u001b[0m \u001b[1m5s\u001b[0m 168ms/step - accuracy: 0.9978 - loss: 0.2390 - val_accuracy: 0.9167 - val_loss: 11.7980\n",
            "Epoch 10/50\n",
            "\u001b[1m15/15\u001b[0m \u001b[32m━━━━━━━━━━━━━━━━━━━━\u001b[0m\u001b[37m\u001b[0m \u001b[1m5s\u001b[0m 164ms/step - accuracy: 0.9969 - loss: 0.0894 - val_accuracy: 0.9333 - val_loss: 12.3123\n",
            "Epoch 11/50\n",
            "\u001b[1m15/15\u001b[0m \u001b[32m━━━━━━━━━━━━━━━━━━━━\u001b[0m\u001b[37m\u001b[0m \u001b[1m5s\u001b[0m 168ms/step - accuracy: 0.9974 - loss: 0.0363 - val_accuracy: 0.9333 - val_loss: 14.3310\n",
            "Epoch 12/50\n",
            "\u001b[1m15/15\u001b[0m \u001b[32m━━━━━━━━━━━━━━━━━━━━\u001b[0m\u001b[37m\u001b[0m \u001b[1m3s\u001b[0m 174ms/step - accuracy: 1.0000 - loss: 4.8015e-04 - val_accuracy: 0.9333 - val_loss: 14.4216\n",
            "Epoch 13/50\n",
            "\u001b[1m15/15\u001b[0m \u001b[32m━━━━━━━━━━━━━━━━━━━━\u001b[0m\u001b[37m\u001b[0m \u001b[1m5s\u001b[0m 165ms/step - accuracy: 0.9978 - loss: 0.3303 - val_accuracy: 0.9167 - val_loss: 9.9508\n"
          ]
        },
        {
          "output_type": "stream",
          "name": "stderr",
          "text": [
            "WARNING:absl:You are saving your model as an HDF5 file via `model.save()` or `keras.saving.save_model(model)`. This file format is considered legacy. We recommend using instead the native Keras format, e.g. `model.save('my_model.keras')` or `keras.saving.save_model(model, 'my_model.keras')`. \n"
          ]
        },
        {
          "output_type": "stream",
          "name": "stdout",
          "text": [
            "\n",
            "VGG16 model for imbalanced dataset trained and saved to /content/drive/MyDrive/GalapagosSealsMerged/classification_models/vgg16_imbalanced\n"
          ]
        }
      ]
    },
    {
      "cell_type": "code",
      "metadata": {
        "colab": {
          "base_uri": "https://localhost:8080/"
        },
        "id": "332bd524",
        "outputId": "21633aa9-7f9a-4a61-ee8e-05f289c2428c"
      },
      "source": [
        "# Evaluate the VGG16 model on the imbalanced validation set\n",
        "print(\"Evaluating VGG16 model on the imbalanced validation set:\")\n",
        "val_loss_imbalanced, val_accuracy_imbalanced = vgg16_model_imbalanced.evaluate(val_ds)\n",
        "print(f\"Validation Loss (Imbalanced): {val_loss_imbalanced:.4f}\")\n",
        "print(f\"Validation Accuracy (Imbalanced): {val_accuracy_imbalanced:.4f}\")\n",
        "\n",
        "# Evaluate the VGG16 model on the imbalanced test set\n",
        "print(\"\\nEvaluating VGG16 model on the imbalanced test set:\")\n",
        "test_loss_imbalanced, test_accuracy_imbalanced = vgg16_model_imbalanced.evaluate(test_ds)\n",
        "print(f\"Test Loss (Imbalanced): {test_loss_imbalanced:.4f}\")\n",
        "print(f\"Test Accuracy (Imbalanced): {test_accuracy_imbalanced:.4f}\")"
      ],
      "execution_count": null,
      "outputs": [
        {
          "output_type": "stream",
          "name": "stdout",
          "text": [
            "Evaluating VGG16 model on the imbalanced validation set:\n",
            "\u001b[1m2/2\u001b[0m \u001b[32m━━━━━━━━━━━━━━━━━━━━\u001b[0m\u001b[37m\u001b[0m \u001b[1m0s\u001b[0m 148ms/step - accuracy: 0.9139 - loss: 10.2796\n",
            "Validation Loss (Imbalanced): 7.9584\n",
            "Validation Accuracy (Imbalanced): 0.9333\n",
            "\n",
            "Evaluating VGG16 model on the imbalanced test set:\n",
            "\u001b[1m2/2\u001b[0m \u001b[32m━━━━━━━━━━━━━━━━━━━━\u001b[0m\u001b[37m\u001b[0m \u001b[1m11s\u001b[0m 10s/step - accuracy: 0.8933 - loss: 7.7916\n",
            "Test Loss (Imbalanced): 5.9839\n",
            "Test Accuracy (Imbalanced): 0.9180\n"
          ]
        }
      ]
    },
    {
      "cell_type": "code",
      "metadata": {
        "colab": {
          "base_uri": "https://localhost:8080/",
          "height": 1000
        },
        "id": "616248f7",
        "outputId": "cf2536ec-6ec1-4ab7-b9a6-8d9f3bd9c5ec"
      },
      "source": [
        "from sklearn.metrics import classification_report, confusion_matrix\n",
        "import numpy as np\n",
        "import seaborn as sns\n",
        "import matplotlib.pyplot as plt\n",
        "\n",
        "# Get class names\n",
        "class_names = test_ds.class_names\n",
        "\n",
        "# --- Evaluate on Test Set ---\n",
        "# Get true labels from the test dataset\n",
        "test_true_labels = []\n",
        "for images, labels in test_ds:\n",
        "    test_true_labels.extend(np.argmax(labels.numpy(), axis=1))\n",
        "test_true_labels = np.array(test_true_labels)\n",
        "\n",
        "# Get predicted labels from the VGG16 model on the test dataset\n",
        "test_predictions = vgg16_model_imbalanced.predict(test_ds)\n",
        "test_predicted_labels = np.argmax(test_predictions, axis=1)\n",
        "\n",
        "# Generate and print the classification report for the test set\n",
        "print(\"Classification Report for VGG16 model on Imbalanced Test Set:\")\n",
        "print(classification_report(test_true_labels, test_predicted_labels, target_names=class_names))\n",
        "\n",
        "# Generate confusion matrix for the test set\n",
        "test_cm = confusion_matrix(test_true_labels, test_predicted_labels)\n",
        "\n",
        "# Plot confusion matrix for the test set using seaborn\n",
        "plt.figure(figsize=(8, 6))\n",
        "sns.heatmap(test_cm, annot=True, fmt='d', cmap='Blues', xticklabels=class_names, yticklabels=class_names)\n",
        "plt.title('Confusion Matrix - VGG16 on Imbalanced Test Set')\n",
        "plt.xlabel('Predicted Label')\n",
        "plt.ylabel('True Label')\n",
        "plt.show()\n",
        "\n",
        "\n",
        "# --- Evaluate on Validation Set ---\n",
        "# Get true labels from the validation dataset\n",
        "val_true_labels = []\n",
        "for images, labels in val_ds:\n",
        "    val_true_labels.extend(np.argmax(labels.numpy(), axis=1))\n",
        "val_true_labels = np.array(val_true_labels)\n",
        "\n",
        "# Get predicted labels from the VGG16 model on the validation dataset\n",
        "val_predictions = vgg16_model_imbalanced.predict(val_ds)\n",
        "val_predicted_labels = np.argmax(val_predictions, axis=1)\n",
        "\n",
        "# Generate and print the classification report for the validation set\n",
        "print(\"\\nClassification Report for VGG16 model on Imbalanced Validation Set:\")\n",
        "print(classification_report(val_true_labels, val_predicted_labels, target_names=class_names))\n",
        "\n",
        "# Generate confusion matrix for the validation set\n",
        "val_cm = confusion_matrix(val_true_labels, val_predicted_labels)\n",
        "\n",
        "# Plot confusion matrix for the validation set using seaborn\n",
        "plt.figure(figsize=(8, 6))\n",
        "sns.heatmap(val_cm, annot=True, fmt='d', cmap='Blues', xticklabels=class_names, yticklabels=class_names)\n",
        "plt.title('Confusion Matrix - VGG16 on Imbalanced Validation Set')\n",
        "plt.xlabel('Predicted Label')\n",
        "plt.ylabel('True Label')\n",
        "plt.show()"
      ],
      "execution_count": null,
      "outputs": [
        {
          "output_type": "stream",
          "name": "stdout",
          "text": [
            "\u001b[1m2/2\u001b[0m \u001b[32m━━━━━━━━━━━━━━━━━━━━\u001b[0m\u001b[37m\u001b[0m \u001b[1m0s\u001b[0m 144ms/step\n",
            "Classification Report for VGG16 model on Imbalanced Test Set:\n",
            "                             precision    recall  f1-score   support\n",
            "\n",
            "Arctocephalus_galapagoensis       1.00      0.17      0.29         6\n",
            "        Zalophus_wollebaeki       0.92      1.00      0.96        55\n",
            "\n",
            "                   accuracy                           0.92        61\n",
            "                  macro avg       0.96      0.58      0.62        61\n",
            "               weighted avg       0.92      0.92      0.89        61\n",
            "\n"
          ]
        },
        {
          "output_type": "display_data",
          "data": {
            "text/plain": [
              "<Figure size 800x600 with 2 Axes>"
            ],
            "image/png": "[encoded data removed]"
          },
          "metadata": {}
        },
        {
          "output_type": "stream",
          "name": "stdout",
          "text": [
            "\u001b[1m2/2\u001b[0m \u001b[32m━━━━━━━━━━━━━━━━━━━━\u001b[0m\u001b[37m\u001b[0m \u001b[1m1s\u001b[0m 568ms/step\n",
            "\n",
            "Classification Report for VGG16 model on Imbalanced Validation Set:\n",
            "                             precision    recall  f1-score   support\n",
            "\n",
            "Arctocephalus_galapagoensis       0.50      0.25      0.33         4\n",
            "        Zalophus_wollebaeki       0.95      0.98      0.96        56\n",
            "\n",
            "                   accuracy                           0.93        60\n",
            "                  macro avg       0.72      0.62      0.65        60\n",
            "               weighted avg       0.92      0.93      0.92        60\n",
            "\n"
          ]
        },
        {
          "output_type": "display_data",
          "data": {
            "text/plain": [
              "<Figure size 800x600 with 2 Axes>"
            ],
            "image/png": "[encoded data removed]"
          },
          "metadata": {}
        }
      ]
    },
    {
      "cell_type": "code",
      "metadata": {
        "colab": {
          "base_uri": "https://localhost:8080/",
          "height": 360
        },
        "id": "60e9c0d9",
        "outputId": "9bffb138-3b6d-4e43-f5cc-7c9825df56d3"
      },
      "source": [
        "import tensorflow as tf\n",
        "from tensorflow.keras.models import Sequential\n",
        "from tensorflow.keras.layers import Dense, Flatten, Dropout\n",
        "from tensorflow.keras.applications import ResNet50V2\n",
        "from tensorflow.keras.optimizers import Adam\n",
        "\n",
        "# Define the number of classes\n",
        "num_classes = len(class_names)\n",
        "\n",
        "# Load the ResNet50V2 model with pre-trained weights (excluding the top classification layer)\n",
        "resnet_base = ResNet50V2(weights='imagenet', include_top=False, input_shape=(img_height, img_width, 3))\n",
        "\n",
        "# Freeze the convolutional base\n",
        "resnet_base.trainable = False\n",
        "\n",
        "# Create the ResNet50V2 classification model\n",
        "resnet_model_imbalanced = Sequential([\n",
        "    resnet_base,\n",
        "    Flatten(),\n",
        "    Dense(256, activation='relu'),\n",
        "    Dropout(0.5),\n",
        "    Dense(num_classes, activation='softmax') # Output layer with softmax for classification\n",
        "])\n",
        "\n",
        "# Compile the model\n",
        "resnet_model_imbalanced.compile(optimizer=Adam(learning_rate=0.001),\n",
        "                                loss='categorical_crossentropy',\n",
        "                                metrics=['accuracy'])\n",
        "\n",
        "# Print the model summary\n",
        "resnet_model_imbalanced.summary()\n",
        "\n",
        "print(\"ResNet50V2 model for imbalanced dataset compiled.\")"
      ],
      "execution_count": null,
      "outputs": [
        {
          "output_type": "stream",
          "name": "stdout",
          "text": [
            "Downloading data from https://storage.googleapis.com/tensorflow/keras-applications/resnet/resnet50v2_weights_tf_dim_ordering_tf_kernels_notop.h5\n",
            "\u001b[1m94668760/94668760\u001b[0m \u001b[32m━━━━━━━━━━━━━━━━━━━━\u001b[0m\u001b[37m\u001b[0m \u001b[1m1s\u001b[0m 0us/step\n"
          ]
        },
        {
          "output_type": "display_data",
          "data": {
            "text/plain": [
              "\u001b[1mModel: \"sequential_1\"\u001b[0m\n"
            ],
            "text/html": [
              "<pre style=\"white-space:pre;overflow-x:auto;line-height:normal;font-family:Menlo,'DejaVu Sans Mono',consolas,'Courier New',monospace\"><span style=\"font-weight: bold\">Model: \"sequential_1\"</span>\n",
              "</pre>\n"
            ]
          },
          "metadata": {}
        },
        {
          "output_type": "display_data",
          "data": {
            "text/plain": [
              "┏━━━━━━━━━━━━━━━━━━━━━━━━━━━━━━━━━┳━━━━━━━━━━━━━━━━━━━━━━━━┳━━━━━━━━━━━━━━━┓\n",
              "┃\u001b[1m \u001b[0m\u001b[1mLayer (type)                   \u001b[0m\u001b[1m \u001b[0m┃\u001b[1m \u001b[0m\u001b[1mOutput Shape          \u001b[0m\u001b[1m \u001b[0m┃\u001b[1m \u001b[0m\u001b[1m      Param #\u001b[0m\u001b[1m \u001b[0m┃\n",
              "┡━━━━━━━━━━━━━━━━━━━━━━━━━━━━━━━━━╇━━━━━━━━━━━━━━━━━━━━━━━━╇━━━━━━━━━━━━━━━┩\n",
              "│ resnet50v2 (\u001b[38;5;33mFunctional\u001b[0m)         │ (\u001b[38;5;45mNone\u001b[0m, \u001b[38;5;34m7\u001b[0m, \u001b[38;5;34m7\u001b[0m, \u001b[38;5;34m2048\u001b[0m)     │    \u001b[38;5;34m23,564,800\u001b[0m │\n",
              "├─────────────────────────────────┼────────────────────────┼───────────────┤\n",
              "│ flatten_1 (\u001b[38;5;33mFlatten\u001b[0m)             │ (\u001b[38;5;45mNone\u001b[0m, \u001b[38;5;34m100352\u001b[0m)         │             \u001b[38;5;34m0\u001b[0m │\n",
              "├─────────────────────────────────┼────────────────────────┼───────────────┤\n",
              "│ dense_2 (\u001b[38;5;33mDense\u001b[0m)                 │ (\u001b[38;5;45mNone\u001b[0m, \u001b[38;5;34m256\u001b[0m)            │    \u001b[38;5;34m25,690,368\u001b[0m │\n",
              "├─────────────────────────────────┼────────────────────────┼───────────────┤\n",
              "│ dropout_1 (\u001b[38;5;33mDropout\u001b[0m)             │ (\u001b[38;5;45mNone\u001b[0m, \u001b[38;5;34m256\u001b[0m)            │             \u001b[38;5;34m0\u001b[0m │\n",
              "├─────────────────────────────────┼────────────────────────┼───────────────┤\n",
              "│ dense_3 (\u001b[38;5;33mDense\u001b[0m)                 │ (\u001b[38;5;45mNone\u001b[0m, \u001b[38;5;34m2\u001b[0m)              │           \u001b[38;5;34m514\u001b[0m │\n",
              "└─────────────────────────────────┴────────────────────────┴───────────────┘\n"
            ],
            "text/html": [
              "<pre style=\"white-space:pre;overflow-x:auto;line-height:normal;font-family:Menlo,'DejaVu Sans Mono',consolas,'Courier New',monospace\">┏━━━━━━━━━━━━━━━━━━━━━━━━━━━━━━━━━┳━━━━━━━━━━━━━━━━━━━━━━━━┳━━━━━━━━━━━━━━━┓\n",
              "┃<span style=\"font-weight: bold\"> Layer (type)                    </span>┃<span style=\"font-weight: bold\"> Output Shape           </span>┃<span style=\"font-weight: bold\">       Param # </span>┃\n",
              "┡━━━━━━━━━━━━━━━━━━━━━━━━━━━━━━━━━╇━━━━━━━━━━━━━━━━━━━━━━━━╇━━━━━━━━━━━━━━━┩\n",
              "│ resnet50v2 (<span style=\"color: #0087ff; text-decoration-color: #0087ff\">Functional</span>)         │ (<span style=\"color: #00d7ff; text-decoration-color: #00d7ff\">None</span>, <span style=\"color: #00af00; text-decoration-color: #00af00\">7</span>, <span style=\"color: #00af00; text-decoration-color: #00af00\">7</span>, <span style=\"color: #00af00; text-decoration-color: #00af00\">2048</span>)     │    <span style=\"color: #00af00; text-decoration-color: #00af00\">23,564,800</span> │\n",
              "├─────────────────────────────────┼────────────────────────┼───────────────┤\n",
              "│ flatten_1 (<span style=\"color: #0087ff; text-decoration-color: #0087ff\">Flatten</span>)             │ (<span style=\"color: #00d7ff; text-decoration-color: #00d7ff\">None</span>, <span style=\"color: #00af00; text-decoration-color: #00af00\">100352</span>)         │             <span style=\"color: #00af00; text-decoration-color: #00af00\">0</span> │\n",
              "├─────────────────────────────────┼────────────────────────┼───────────────┤\n",
              "│ dense_2 (<span style=\"color: #0087ff; text-decoration-color: #0087ff\">Dense</span>)                 │ (<span style=\"color: #00d7ff; text-decoration-color: #00d7ff\">None</span>, <span style=\"color: #00af00; text-decoration-color: #00af00\">256</span>)            │    <span style=\"color: #00af00; text-decoration-color: #00af00\">25,690,368</span> │\n",
              "├─────────────────────────────────┼────────────────────────┼───────────────┤\n",
              "│ dropout_1 (<span style=\"color: #0087ff; text-decoration-color: #0087ff\">Dropout</span>)             │ (<span style=\"color: #00d7ff; text-decoration-color: #00d7ff\">None</span>, <span style=\"color: #00af00; text-decoration-color: #00af00\">256</span>)            │             <span style=\"color: #00af00; text-decoration-color: #00af00\">0</span> │\n",
              "├─────────────────────────────────┼────────────────────────┼───────────────┤\n",
              "│ dense_3 (<span style=\"color: #0087ff; text-decoration-color: #0087ff\">Dense</span>)                 │ (<span style=\"color: #00d7ff; text-decoration-color: #00d7ff\">None</span>, <span style=\"color: #00af00; text-decoration-color: #00af00\">2</span>)              │           <span style=\"color: #00af00; text-decoration-color: #00af00\">514</span> │\n",
              "└─────────────────────────────────┴────────────────────────┴───────────────┘\n",
              "</pre>\n"
            ]
          },
          "metadata": {}
        },
        {
          "output_type": "display_data",
          "data": {
            "text/plain": [
              "\u001b[1m Total params: \u001b[0m\u001b[38;5;34m49,255,682\u001b[0m (187.90 MB)\n"
            ],
            "text/html": [
              "<pre style=\"white-space:pre;overflow-x:auto;line-height:normal;font-family:Menlo,'DejaVu Sans Mono',consolas,'Courier New',monospace\"><span style=\"font-weight: bold\"> Total params: </span><span style=\"color: #00af00; text-decoration-color: #00af00\">49,255,682</span> (187.90 MB)\n",
              "</pre>\n"
            ]
          },
          "metadata": {}
        },
        {
          "output_type": "display_data",
          "data": {
            "text/plain": [
              "\u001b[1m Trainable params: \u001b[0m\u001b[38;5;34m25,690,882\u001b[0m (98.00 MB)\n"
            ],
            "text/html": [
              "<pre style=\"white-space:pre;overflow-x:auto;line-height:normal;font-family:Menlo,'DejaVu Sans Mono',consolas,'Courier New',monospace\"><span style=\"font-weight: bold\"> Trainable params: </span><span style=\"color: #00af00; text-decoration-color: #00af00\">25,690,882</span> (98.00 MB)\n",
              "</pre>\n"
            ]
          },
          "metadata": {}
        },
        {
          "output_type": "display_data",
          "data": {
            "text/plain": [
              "\u001b[1m Non-trainable params: \u001b[0m\u001b[38;5;34m23,564,800\u001b[0m (89.89 MB)\n"
            ],
            "text/html": [
              "<pre style=\"white-space:pre;overflow-x:auto;line-height:normal;font-family:Menlo,'DejaVu Sans Mono',consolas,'Courier New',monospace\"><span style=\"font-weight: bold\"> Non-trainable params: </span><span style=\"color: #00af00; text-decoration-color: #00af00\">23,564,800</span> (89.89 MB)\n",
              "</pre>\n"
            ]
          },
          "metadata": {}
        },
        {
          "output_type": "stream",
          "name": "stdout",
          "text": [
            "ResNet50V2 model for imbalanced dataset compiled.\n"
          ]
        }
      ]
    },
    {
      "cell_type": "code",
      "metadata": {
        "colab": {
          "base_uri": "https://localhost:8080/"
        },
        "id": "126e1ad2",
        "outputId": "f2353502-4b6c-49e4-adca-98f255ddbea5"
      },
      "source": [
        "import json\n",
        "import os\n",
        "\n",
        "# Define the path to save the ResNet50V2 model and configuration\n",
        "save_dir_resnet = '/content/drive/MyDrive/GalapagosSealsMerged/classification_models/resnet50v2_imbalanced'\n",
        "os.makedirs(save_dir_resnet, exist_ok=True)\n",
        "\n",
        "# Define callbacks for training (optional but recommended)\n",
        "callbacks_resnet = [\n",
        "    tf.keras.callbacks.EarlyStopping(monitor='val_loss', patience=10, restore_best_weights=True),\n",
        "    tf.keras.callbacks.ModelCheckpoint(filepath=os.path.join(save_dir_resnet, 'best_resnet50v2_imbalanced_model.h5'),\n",
        "                                       monitor='val_loss',\n",
        "                                       save_best_only=True)\n",
        "]\n",
        "\n",
        "# Train the ResNet50V2 model on the imbalanced dataset\n",
        "history_resnet_imbalanced = resnet_model_imbalanced.fit(\n",
        "    train_ds,\n",
        "    epochs=50, # You can adjust the number of epochs\n",
        "    validation_data=val_ds,\n",
        "    callbacks=callbacks_resnet\n",
        ")\n",
        "\n",
        "# Save the trained model (best weights)\n",
        "resnet_model_imbalanced.save(os.path.join(save_dir_resnet, 'final_resnet50v2_imbalanced_model.h5'))\n",
        "\n",
        "# Save the model configuration\n",
        "model_config_resnet = resnet_model_imbalanced.to_json()\n",
        "with open(os.path.join(save_dir_resnet, 'resnet50v2_imbalanced_config.json'), 'w') as f:\n",
        "    json.dump(json.loads(model_config_resnet), f, indent=4)\n",
        "\n",
        "print(f\"\\nResNet50V2 model for imbalanced dataset trained and saved to {save_dir_resnet}\")"
      ],
      "execution_count": null,
      "outputs": [
        {
          "output_type": "stream",
          "name": "stdout",
          "text": [
            "Epoch 1/50\n",
            "\u001b[1m15/15\u001b[0m \u001b[32m━━━━━━━━━━━━━━━━━━━━\u001b[0m\u001b[37m\u001b[0m \u001b[1m0s\u001b[0m 372ms/step - accuracy: 0.7604 - loss: 991.0201"
          ]
        },
        {
          "output_type": "stream",
          "name": "stderr",
          "text": [
            "WARNING:absl:You are saving your model as an HDF5 file via `model.save()` or `keras.saving.save_model(model)`. This file format is considered legacy. We recommend using instead the native Keras format, e.g. `model.save('my_model.keras')` or `keras.saving.save_model(model, 'my_model.keras')`. \n"
          ]
        },
        {
          "output_type": "stream",
          "name": "stdout",
          "text": [
            "\b\b\b\b\b\b\b\b\b\b\b\b\b\b\b\b\b\b\b\b\b\b\b\b\b\b\b\b\b\b\b\b\b\b\b\b\b\b\b\b\b\b\b\b\b\b\b\b\b\b\b\b\b\b\b\b\b\b\b\b\b\b\b\b\b\b\b\b\b\b\b\b\b\b\b\b\r\u001b[1m15/15\u001b[0m \u001b[32m━━━━━━━━━━━━━━━━━━━━\u001b[0m\u001b[37m\u001b[0m \u001b[1m30s\u001b[0m 1s/step - accuracy: 0.7657 - loss: 986.8154 - val_accuracy: 0.9333 - val_loss: 166.2641\n",
            "Epoch 2/50\n",
            "\u001b[1m15/15\u001b[0m \u001b[32m━━━━━━━━━━━━━━━━━━━━\u001b[0m\u001b[37m\u001b[0m \u001b[1m3s\u001b[0m 115ms/step - accuracy: 0.8705 - loss: 377.8876 - val_accuracy: 0.9333 - val_loss: 213.2602\n",
            "Epoch 3/50\n",
            "\u001b[1m14/15\u001b[0m \u001b[32m━━━━━━━━━━━━━━━━━━\u001b[0m\u001b[37m━━\u001b[0m \u001b[1m0s\u001b[0m 99ms/step - accuracy: 0.8853 - loss: 227.3781 "
          ]
        },
        {
          "output_type": "stream",
          "name": "stderr",
          "text": [
            "WARNING:absl:You are saving your model as an HDF5 file via `model.save()` or `keras.saving.save_model(model)`. This file format is considered legacy. We recommend using instead the native Keras format, e.g. `model.save('my_model.keras')` or `keras.saving.save_model(model, 'my_model.keras')`. \n"
          ]
        },
        {
          "output_type": "stream",
          "name": "stdout",
          "text": [
            "\b\b\b\b\b\b\b\b\b\b\b\b\b\b\b\b\b\b\b\b\b\b\b\b\b\b\b\b\b\b\b\b\b\b\b\b\b\b\b\b\b\b\b\b\b\b\b\b\b\b\b\b\b\b\b\b\b\b\b\b\b\b\b\b\b\b\b\b\b\b\b\b\b\b\b\r\u001b[1m15/15\u001b[0m \u001b[32m━━━━━━━━━━━━━━━━━━━━\u001b[0m\u001b[37m\u001b[0m \u001b[1m4s\u001b[0m 278ms/step - accuracy: 0.8846 - loss: 222.7176 - val_accuracy: 0.9500 - val_loss: 72.1543\n",
            "Epoch 4/50\n",
            "\u001b[1m14/15\u001b[0m \u001b[32m━━━━━━━━━━━━━━━━━━\u001b[0m\u001b[37m━━\u001b[0m \u001b[1m0s\u001b[0m 97ms/step - accuracy: 0.9056 - loss: 109.0097"
          ]
        },
        {
          "output_type": "stream",
          "name": "stderr",
          "text": [
            "WARNING:absl:You are saving your model as an HDF5 file via `model.save()` or `keras.saving.save_model(model)`. This file format is considered legacy. We recommend using instead the native Keras format, e.g. `model.save('my_model.keras')` or `keras.saving.save_model(model, 'my_model.keras')`. \n"
          ]
        },
        {
          "output_type": "stream",
          "name": "stdout",
          "text": [
            "\b\b\b\b\b\b\b\b\b\b\b\b\b\b\b\b\b\b\b\b\b\b\b\b\b\b\b\b\b\b\b\b\b\b\b\b\b\b\b\b\b\b\b\b\b\b\b\b\b\b\b\b\b\b\b\b\b\b\b\b\b\b\b\b\b\b\b\b\b\b\b\b\b\b\b\r\u001b[1m15/15\u001b[0m \u001b[32m━━━━━━━━━━━━━━━━━━━━\u001b[0m\u001b[37m\u001b[0m \u001b[1m6s\u001b[0m 255ms/step - accuracy: 0.9049 - loss: 107.7115 - val_accuracy: 0.9333 - val_loss: 24.2824\n",
            "Epoch 5/50\n",
            "\u001b[1m14/15\u001b[0m \u001b[32m━━━━━━━━━━━━━━━━━━\u001b[0m\u001b[37m━━\u001b[0m \u001b[1m0s\u001b[0m 138ms/step - accuracy: 0.9162 - loss: 24.2508"
          ]
        },
        {
          "output_type": "stream",
          "name": "stderr",
          "text": [
            "WARNING:absl:You are saving your model as an HDF5 file via `model.save()` or `keras.saving.save_model(model)`. This file format is considered legacy. We recommend using instead the native Keras format, e.g. `model.save('my_model.keras')` or `keras.saving.save_model(model, 'my_model.keras')`. \n"
          ]
        },
        {
          "output_type": "stream",
          "name": "stdout",
          "text": [
            "\b\b\b\b\b\b\b\b\b\b\b\b\b\b\b\b\b\b\b\b\b\b\b\b\b\b\b\b\b\b\b\b\b\b\b\b\b\b\b\b\b\b\b\b\b\b\b\b\b\b\b\b\b\b\b\b\b\b\b\b\b\b\b\b\b\b\b\b\b\b\b\b\b\b\b\r\u001b[1m15/15\u001b[0m \u001b[32m━━━━━━━━━━━━━━━━━━━━\u001b[0m\u001b[37m\u001b[0m \u001b[1m4s\u001b[0m 295ms/step - accuracy: 0.9139 - loss: 24.0156 - val_accuracy: 0.9333 - val_loss: 13.8637\n",
            "Epoch 6/50\n",
            "\u001b[1m14/15\u001b[0m \u001b[32m━━━━━━━━━━━━━━━━━━\u001b[0m\u001b[37m━━\u001b[0m \u001b[1m0s\u001b[0m 118ms/step - accuracy: 0.9269 - loss: 11.0212"
          ]
        },
        {
          "output_type": "stream",
          "name": "stderr",
          "text": [
            "WARNING:absl:You are saving your model as an HDF5 file via `model.save()` or `keras.saving.save_model(model)`. This file format is considered legacy. We recommend using instead the native Keras format, e.g. `model.save('my_model.keras')` or `keras.saving.save_model(model, 'my_model.keras')`. \n"
          ]
        },
        {
          "output_type": "stream",
          "name": "stdout",
          "text": [
            "\b\b\b\b\b\b\b\b\b\b\b\b\b\b\b\b\b\b\b\b\b\b\b\b\b\b\b\b\b\b\b\b\b\b\b\b\b\b\b\b\b\b\b\b\b\b\b\b\b\b\b\b\b\b\b\b\b\b\b\b\b\b\b\b\b\b\b\b\b\b\b\b\b\b\b\r\u001b[1m15/15\u001b[0m \u001b[32m━━━━━━━━━━━━━━━━━━━━\u001b[0m\u001b[37m\u001b[0m \u001b[1m6s\u001b[0m 278ms/step - accuracy: 0.9274 - loss: 11.2028 - val_accuracy: 0.9333 - val_loss: 11.3960\n",
            "Epoch 7/50\n",
            "\u001b[1m15/15\u001b[0m \u001b[32m━━━━━━━━━━━━━━━━━━━━\u001b[0m\u001b[37m\u001b[0m \u001b[1m6s\u001b[0m 115ms/step - accuracy: 0.9357 - loss: 4.2056 - val_accuracy: 0.7000 - val_loss: 12.9645\n",
            "Epoch 8/50\n",
            "\u001b[1m14/15\u001b[0m \u001b[32m━━━━━━━━━━━━━━━━━━\u001b[0m\u001b[37m━━\u001b[0m \u001b[1m0s\u001b[0m 219ms/step - accuracy: 0.7462 - loss: 24.1070"
          ]
        },
        {
          "output_type": "stream",
          "name": "stderr",
          "text": [
            "WARNING:absl:You are saving your model as an HDF5 file via `model.save()` or `keras.saving.save_model(model)`. This file format is considered legacy. We recommend using instead the native Keras format, e.g. `model.save('my_model.keras')` or `keras.saving.save_model(model, 'my_model.keras')`. \n"
          ]
        },
        {
          "output_type": "stream",
          "name": "stdout",
          "text": [
            "\b\b\b\b\b\b\b\b\b\b\b\b\b\b\b\b\b\b\b\b\b\b\b\b\b\b\b\b\b\b\b\b\b\b\b\b\b\b\b\b\b\b\b\b\b\b\b\b\b\b\b\b\b\b\b\b\b\b\b\b\b\b\b\b\b\b\b\b\b\b\b\b\b\b\b\r\u001b[1m15/15\u001b[0m \u001b[32m━━━━━━━━━━━━━━━━━━━━\u001b[0m\u001b[37m\u001b[0m \u001b[1m11s\u001b[0m 685ms/step - accuracy: 0.7579 - loss: 23.2003 - val_accuracy: 0.9333 - val_loss: 6.2349\n",
            "Epoch 9/50\n",
            "\u001b[1m14/15\u001b[0m \u001b[32m━━━━━━━━━━━━━━━━━━\u001b[0m\u001b[37m━━\u001b[0m \u001b[1m0s\u001b[0m 99ms/step - accuracy: 0.9331 - loss: 4.3877"
          ]
        },
        {
          "output_type": "stream",
          "name": "stderr",
          "text": [
            "WARNING:absl:You are saving your model as an HDF5 file via `model.save()` or `keras.saving.save_model(model)`. This file format is considered legacy. We recommend using instead the native Keras format, e.g. `model.save('my_model.keras')` or `keras.saving.save_model(model, 'my_model.keras')`. \n"
          ]
        },
        {
          "output_type": "stream",
          "name": "stdout",
          "text": [
            "\b\b\b\b\b\b\b\b\b\b\b\b\b\b\b\b\b\b\b\b\b\b\b\b\b\b\b\b\b\b\b\b\b\b\b\b\b\b\b\b\b\b\b\b\b\b\b\b\b\b\b\b\b\b\b\b\b\b\b\b\b\b\b\b\b\b\b\b\b\b\b\b\b\r\u001b[1m15/15\u001b[0m \u001b[32m━━━━━━━━━━━━━━━━━━━━\u001b[0m\u001b[37m\u001b[0m \u001b[1m4s\u001b[0m 282ms/step - accuracy: 0.9309 - loss: 4.3758 - val_accuracy: 0.9333 - val_loss: 1.2914\n",
            "Epoch 10/50\n",
            "\u001b[1m14/15\u001b[0m \u001b[32m━━━━━━━━━━━━━━━━━━\u001b[0m\u001b[37m━━\u001b[0m \u001b[1m0s\u001b[0m 121ms/step - accuracy: 0.9151 - loss: 1.6774"
          ]
        },
        {
          "output_type": "stream",
          "name": "stderr",
          "text": [
            "WARNING:absl:You are saving your model as an HDF5 file via `model.save()` or `keras.saving.save_model(model)`. This file format is considered legacy. We recommend using instead the native Keras format, e.g. `model.save('my_model.keras')` or `keras.saving.save_model(model, 'my_model.keras')`. \n"
          ]
        },
        {
          "output_type": "stream",
          "name": "stdout",
          "text": [
            "\b\b\b\b\b\b\b\b\b\b\b\b\b\b\b\b\b\b\b\b\b\b\b\b\b\b\b\b\b\b\b\b\b\b\b\b\b\b\b\b\b\b\b\b\b\b\b\b\b\b\b\b\b\b\b\b\b\b\b\b\b\b\b\b\b\b\b\b\b\b\b\b\b\b\r\u001b[1m15/15\u001b[0m \u001b[32m━━━━━━━━━━━━━━━━━━━━\u001b[0m\u001b[37m\u001b[0m \u001b[1m5s\u001b[0m 289ms/step - accuracy: 0.9129 - loss: 1.7059 - val_accuracy: 0.9167 - val_loss: 0.6026\n",
            "Epoch 11/50\n",
            "\u001b[1m15/15\u001b[0m \u001b[32m━━━━━━━━━━━━━━━━━━━━\u001b[0m\u001b[37m\u001b[0m \u001b[1m2s\u001b[0m 155ms/step - accuracy: 0.8815 - loss: 0.2995 - val_accuracy: 0.9333 - val_loss: 0.9365\n",
            "Epoch 12/50\n",
            "\u001b[1m14/15\u001b[0m \u001b[32m━━━━━━━━━━━━━━━━━━\u001b[0m\u001b[37m━━\u001b[0m \u001b[1m0s\u001b[0m 102ms/step - accuracy: 0.8654 - loss: 0.5988"
          ]
        },
        {
          "output_type": "stream",
          "name": "stderr",
          "text": [
            "WARNING:absl:You are saving your model as an HDF5 file via `model.save()` or `keras.saving.save_model(model)`. This file format is considered legacy. We recommend using instead the native Keras format, e.g. `model.save('my_model.keras')` or `keras.saving.save_model(model, 'my_model.keras')`. \n"
          ]
        },
        {
          "output_type": "stream",
          "name": "stdout",
          "text": [
            "\b\b\b\b\b\b\b\b\b\b\b\b\b\b\b\b\b\b\b\b\b\b\b\b\b\b\b\b\b\b\b\b\b\b\b\b\b\b\b\b\b\b\b\b\b\b\b\b\b\b\b\b\b\b\b\b\b\b\b\b\b\b\b\b\b\b\b\b\b\b\b\b\b\b\r\u001b[1m15/15\u001b[0m \u001b[32m━━━━━━━━━━━━━━━━━━━━\u001b[0m\u001b[37m\u001b[0m \u001b[1m4s\u001b[0m 255ms/step - accuracy: 0.8646 - loss: 0.5725 - val_accuracy: 0.9000 - val_loss: 0.1799\n",
            "Epoch 13/50\n",
            "\u001b[1m15/15\u001b[0m \u001b[32m━━━━━━━━━━━━━━━━━━━━\u001b[0m\u001b[37m\u001b[0m \u001b[1m3s\u001b[0m 205ms/step - accuracy: 0.8295 - loss: 0.3275 - val_accuracy: 0.9167 - val_loss: 0.2472\n",
            "Epoch 14/50\n",
            "\u001b[1m15/15\u001b[0m \u001b[32m━━━━━━━━━━━━━━━━━━━━\u001b[0m\u001b[37m\u001b[0m \u001b[1m4s\u001b[0m 117ms/step - accuracy: 0.9291 - loss: 0.5681 - val_accuracy: 0.9333 - val_loss: 0.2388\n",
            "Epoch 15/50\n",
            "\u001b[1m15/15\u001b[0m \u001b[32m━━━━━━━━━━━━━━━━━━━━\u001b[0m\u001b[37m\u001b[0m \u001b[1m3s\u001b[0m 119ms/step - accuracy: 0.9278 - loss: 0.1825 - val_accuracy: 0.9333 - val_loss: 0.2778\n",
            "Epoch 16/50\n",
            "\u001b[1m15/15\u001b[0m \u001b[32m━━━━━━━━━━━━━━━━━━━━\u001b[0m\u001b[37m\u001b[0m \u001b[1m3s\u001b[0m 173ms/step - accuracy: 0.9347 - loss: 0.1884 - val_accuracy: 0.9167 - val_loss: 0.2719\n",
            "Epoch 17/50\n",
            "\u001b[1m15/15\u001b[0m \u001b[32m━━━━━━━━━━━━━━━━━━━━\u001b[0m\u001b[37m\u001b[0m \u001b[1m5s\u001b[0m 145ms/step - accuracy: 0.9277 - loss: 0.1811 - val_accuracy: 0.9167 - val_loss: 0.2070\n",
            "Epoch 18/50\n",
            "\u001b[1m14/15\u001b[0m \u001b[32m━━━━━━━━━━━━━━━━━━\u001b[0m\u001b[37m━━\u001b[0m \u001b[1m0s\u001b[0m 106ms/step - accuracy: 0.9356 - loss: 0.1707"
          ]
        },
        {
          "output_type": "stream",
          "name": "stderr",
          "text": [
            "WARNING:absl:You are saving your model as an HDF5 file via `model.save()` or `keras.saving.save_model(model)`. This file format is considered legacy. We recommend using instead the native Keras format, e.g. `model.save('my_model.keras')` or `keras.saving.save_model(model, 'my_model.keras')`. \n"
          ]
        },
        {
          "output_type": "stream",
          "name": "stdout",
          "text": [
            "\b\b\b\b\b\b\b\b\b\b\b\b\b\b\b\b\b\b\b\b\b\b\b\b\b\b\b\b\b\b\b\b\b\b\b\b\b\b\b\b\b\b\b\b\b\b\b\b\b\b\b\b\b\b\b\b\b\b\b\b\b\b\b\b\b\b\b\b\b\b\b\b\b\b\r\u001b[1m15/15\u001b[0m \u001b[32m━━━━━━━━━━━━━━━━━━━━\u001b[0m\u001b[37m\u001b[0m \u001b[1m9s\u001b[0m 614ms/step - accuracy: 0.9356 - loss: 0.1770 - val_accuracy: 0.9333 - val_loss: 0.1529\n",
            "Epoch 19/50\n",
            "\u001b[1m15/15\u001b[0m \u001b[32m━━━━━━━━━━━━━━━━━━━━\u001b[0m\u001b[37m\u001b[0m \u001b[1m3s\u001b[0m 177ms/step - accuracy: 0.9305 - loss: 2.5181 - val_accuracy: 0.9333 - val_loss: 0.3278\n",
            "Epoch 20/50\n",
            "\u001b[1m15/15\u001b[0m \u001b[32m━━━━━━━━━━━━━━━━━━━━\u001b[0m\u001b[37m\u001b[0m \u001b[1m4s\u001b[0m 117ms/step - accuracy: 0.9115 - loss: 0.8680 - val_accuracy: 0.9333 - val_loss: 0.2035\n",
            "Epoch 21/50\n",
            "\u001b[1m14/15\u001b[0m \u001b[32m━━━━━━━━━━━━━━━━━━\u001b[0m\u001b[37m━━\u001b[0m \u001b[1m0s\u001b[0m 711ms/step - accuracy: 0.9050 - loss: 0.1784"
          ]
        },
        {
          "output_type": "stream",
          "name": "stderr",
          "text": [
            "WARNING:absl:You are saving your model as an HDF5 file via `model.save()` or `keras.saving.save_model(model)`. This file format is considered legacy. We recommend using instead the native Keras format, e.g. `model.save('my_model.keras')` or `keras.saving.save_model(model, 'my_model.keras')`. \n"
          ]
        },
        {
          "output_type": "stream",
          "name": "stdout",
          "text": [
            "\b\b\b\b\b\b\b\b\b\b\b\b\b\b\b\b\b\b\b\b\b\b\b\b\b\b\b\b\b\b\b\b\b\b\b\b\b\b\b\b\b\b\b\b\b\b\b\b\b\b\b\b\b\b\b\b\b\b\b\b\b\b\b\b\b\b\b\b\b\b\b\b\b\b\r\u001b[1m15/15\u001b[0m \u001b[32m━━━━━━━━━━━━━━━━━━━━\u001b[0m\u001b[37m\u001b[0m \u001b[1m12s\u001b[0m 848ms/step - accuracy: 0.9068 - loss: 0.1769 - val_accuracy: 0.9333 - val_loss: 0.1439\n",
            "Epoch 22/50\n",
            "\u001b[1m15/15\u001b[0m \u001b[32m━━━━━━━━━━━━━━━━━━━━\u001b[0m\u001b[37m\u001b[0m \u001b[1m3s\u001b[0m 124ms/step - accuracy: 0.9447 - loss: 0.1492 - val_accuracy: 0.9333 - val_loss: 0.1521\n",
            "Epoch 23/50\n",
            "\u001b[1m15/15\u001b[0m \u001b[32m━━━━━━━━━━━━━━━━━━━━\u001b[0m\u001b[37m\u001b[0m \u001b[1m2s\u001b[0m 124ms/step - accuracy: 0.9410 - loss: 0.1555 - val_accuracy: 0.9333 - val_loss: 0.1505\n",
            "Epoch 24/50\n",
            "\u001b[1m14/15\u001b[0m \u001b[32m━━━━━━━━━━━━━━━━━━\u001b[0m\u001b[37m━━\u001b[0m \u001b[1m0s\u001b[0m 108ms/step - accuracy: 0.9242 - loss: 0.1151"
          ]
        },
        {
          "output_type": "stream",
          "name": "stderr",
          "text": [
            "WARNING:absl:You are saving your model as an HDF5 file via `model.save()` or `keras.saving.save_model(model)`. This file format is considered legacy. We recommend using instead the native Keras format, e.g. `model.save('my_model.keras')` or `keras.saving.save_model(model, 'my_model.keras')`. \n"
          ]
        },
        {
          "output_type": "stream",
          "name": "stdout",
          "text": [
            "\b\b\b\b\b\b\b\b\b\b\b\b\b\b\b\b\b\b\b\b\b\b\b\b\b\b\b\b\b\b\b\b\b\b\b\b\b\b\b\b\b\b\b\b\b\b\b\b\b\b\b\b\b\b\b\b\b\b\b\b\b\b\b\b\b\b\b\b\b\b\b\b\b\b\r\u001b[1m15/15\u001b[0m \u001b[32m━━━━━━━━━━━━━━━━━━━━\u001b[0m\u001b[37m\u001b[0m \u001b[1m7s\u001b[0m 436ms/step - accuracy: 0.9237 - loss: 0.1187 - val_accuracy: 0.9333 - val_loss: 0.1075\n",
            "Epoch 25/50\n",
            "\u001b[1m15/15\u001b[0m \u001b[32m━━━━━━━━━━━━━━━━━━━━\u001b[0m\u001b[37m\u001b[0m \u001b[1m2s\u001b[0m 121ms/step - accuracy: 0.9232 - loss: 0.1967 - val_accuracy: 0.9333 - val_loss: 0.1935\n",
            "Epoch 26/50\n",
            "\u001b[1m15/15\u001b[0m \u001b[32m━━━━━━━━━━━━━━━━━━━━\u001b[0m\u001b[37m\u001b[0m \u001b[1m2s\u001b[0m 121ms/step - accuracy: 0.9173 - loss: 0.1637 - val_accuracy: 0.9333 - val_loss: 0.1314\n",
            "Epoch 27/50\n",
            "\u001b[1m15/15\u001b[0m \u001b[32m━━━━━━━━━━━━━━━━━━━━\u001b[0m\u001b[37m\u001b[0m \u001b[1m2s\u001b[0m 126ms/step - accuracy: 0.9385 - loss: 0.1288 - val_accuracy: 0.9333 - val_loss: 0.1941\n",
            "Epoch 28/50\n",
            "\u001b[1m15/15\u001b[0m \u001b[32m━━━━━━━━━━━━━━━━━━━━\u001b[0m\u001b[37m\u001b[0m \u001b[1m2s\u001b[0m 128ms/step - accuracy: 0.9303 - loss: 0.1338 - val_accuracy: 0.9333 - val_loss: 0.1688\n",
            "Epoch 29/50\n",
            "\u001b[1m15/15\u001b[0m \u001b[32m━━━━━━━━━━━━━━━━━━━━\u001b[0m\u001b[37m\u001b[0m \u001b[1m10s\u001b[0m 671ms/step - accuracy: 0.9314 - loss: 0.1303 - val_accuracy: 0.9333 - val_loss: 0.1677\n",
            "Epoch 30/50\n",
            "\u001b[1m14/15\u001b[0m \u001b[32m━━━━━━━━━━━━━━━━━━\u001b[0m\u001b[37m━━\u001b[0m \u001b[1m0s\u001b[0m 124ms/step - accuracy: 0.9201 - loss: 0.1262"
          ]
        },
        {
          "output_type": "stream",
          "name": "stderr",
          "text": [
            "WARNING:absl:You are saving your model as an HDF5 file via `model.save()` or `keras.saving.save_model(model)`. This file format is considered legacy. We recommend using instead the native Keras format, e.g. `model.save('my_model.keras')` or `keras.saving.save_model(model, 'my_model.keras')`. \n"
          ]
        },
        {
          "output_type": "stream",
          "name": "stdout",
          "text": [
            "\b\b\b\b\b\b\b\b\b\b\b\b\b\b\b\b\b\b\b\b\b\b\b\b\b\b\b\b\b\b\b\b\b\b\b\b\b\b\b\b\b\b\b\b\b\b\b\b\b\b\b\b\b\b\b\b\b\b\b\b\b\b\b\b\b\b\b\b\b\b\b\b\b\b\r\u001b[1m15/15\u001b[0m \u001b[32m━━━━━━━━━━━━━━━━━━━━\u001b[0m\u001b[37m\u001b[0m \u001b[1m4s\u001b[0m 280ms/step - accuracy: 0.9203 - loss: 0.1271 - val_accuracy: 0.9333 - val_loss: 0.1063\n",
            "Epoch 31/50\n",
            "\u001b[1m15/15\u001b[0m \u001b[32m━━━━━━━━━━━━━━━━━━━━\u001b[0m\u001b[37m\u001b[0m \u001b[1m4s\u001b[0m 164ms/step - accuracy: 0.9421 - loss: 0.1478 - val_accuracy: 0.9333 - val_loss: 0.1634\n",
            "Epoch 32/50\n",
            "\u001b[1m15/15\u001b[0m \u001b[32m━━━━━━━━━━━━━━━━━━━━\u001b[0m\u001b[37m\u001b[0m \u001b[1m2s\u001b[0m 122ms/step - accuracy: 0.9238 - loss: 0.1248 - val_accuracy: 0.9333 - val_loss: 0.1670\n",
            "Epoch 33/50\n",
            "\u001b[1m15/15\u001b[0m \u001b[32m━━━━━━━━━━━━━━━━━━━━\u001b[0m\u001b[37m\u001b[0m \u001b[1m10s\u001b[0m 641ms/step - accuracy: 0.9303 - loss: 0.1053 - val_accuracy: 0.9333 - val_loss: 0.2035\n",
            "Epoch 34/50\n",
            "\u001b[1m15/15\u001b[0m \u001b[32m━━━━━━━━━━━━━━━━━━━━\u001b[0m\u001b[37m\u001b[0m \u001b[1m3s\u001b[0m 133ms/step - accuracy: 0.9340 - loss: 0.1265 - val_accuracy: 0.9333 - val_loss: 0.2020\n",
            "Epoch 35/50\n",
            "\u001b[1m15/15\u001b[0m \u001b[32m━━━━━━━━━━━━━━━━━━━━\u001b[0m\u001b[37m\u001b[0m \u001b[1m2s\u001b[0m 119ms/step - accuracy: 0.9378 - loss: 0.1672 - val_accuracy: 0.9333 - val_loss: 0.1180\n",
            "Epoch 36/50\n",
            "\u001b[1m15/15\u001b[0m \u001b[32m━━━━━━━━━━━━━━━━━━━━\u001b[0m\u001b[37m\u001b[0m \u001b[1m2s\u001b[0m 134ms/step - accuracy: 0.9245 - loss: 0.1484 - val_accuracy: 0.9333 - val_loss: 0.1963\n",
            "Epoch 37/50\n",
            "\u001b[1m15/15\u001b[0m \u001b[32m━━━━━━━━━━━━━━━━━━━━\u001b[0m\u001b[37m\u001b[0m \u001b[1m2s\u001b[0m 127ms/step - accuracy: 0.9383 - loss: 0.1185 - val_accuracy: 0.9333 - val_loss: 0.1784\n",
            "Epoch 38/50\n",
            "\u001b[1m15/15\u001b[0m \u001b[32m━━━━━━━━━━━━━━━━━━━━\u001b[0m\u001b[37m\u001b[0m \u001b[1m3s\u001b[0m 185ms/step - accuracy: 0.9318 - loss: 0.1204 - val_accuracy: 0.9333 - val_loss: 0.1912\n",
            "Epoch 39/50\n",
            "\u001b[1m15/15\u001b[0m \u001b[32m━━━━━━━━━━━━━━━━━━━━\u001b[0m\u001b[37m\u001b[0m \u001b[1m5s\u001b[0m 347ms/step - accuracy: 0.9116 - loss: 0.1341 - val_accuracy: 0.9333 - val_loss: 0.1734\n",
            "Epoch 40/50\n",
            "\u001b[1m15/15\u001b[0m \u001b[32m━━━━━━━━━━━━━━━━━━━━\u001b[0m\u001b[37m\u001b[0m \u001b[1m2s\u001b[0m 121ms/step - accuracy: 0.9368 - loss: 0.1041 - val_accuracy: 0.9333 - val_loss: 0.2755\n"
          ]
        },
        {
          "output_type": "stream",
          "name": "stderr",
          "text": [
            "WARNING:absl:You are saving your model as an HDF5 file via `model.save()` or `keras.saving.save_model(model)`. This file format is considered legacy. We recommend using instead the native Keras format, e.g. `model.save('my_model.keras')` or `keras.saving.save_model(model, 'my_model.keras')`. \n"
          ]
        },
        {
          "output_type": "stream",
          "name": "stdout",
          "text": [
            "\n",
            "ResNet50V2 model for imbalanced dataset trained and saved to /content/drive/MyDrive/GalapagosSealsMerged/classification_models/resnet50v2_imbalanced\n"
          ]
        }
      ]
    },
    {
      "cell_type": "code",
      "metadata": {
        "colab": {
          "base_uri": "https://localhost:8080/"
        },
        "id": "0f72297f",
        "outputId": "ec9a35cb-7163-4512-81ea-64472a88b5dc"
      },
      "source": [
        "# Evaluate the ResNet50V2 model on the imbalanced validation set\n",
        "print(\"Evaluating ResNet50V2 model on the imbalanced validation set:\")\n",
        "val_loss_resnet_imbalanced, val_accuracy_resnet_imbalanced = resnet_model_imbalanced.evaluate(val_ds)\n",
        "print(f\"Validation Loss (Imbalanced): {val_loss_resnet_imbalanced:.4f}\")\n",
        "print(f\"Validation Accuracy (Imbalanced): {val_accuracy_resnet_imbalanced:.4f}\")\n",
        "\n",
        "# Evaluate the ResNet50V2 model on the imbalanced test set\n",
        "print(\"\\nEvaluating ResNet50V2 model on the imbalanced test set:\")\n",
        "test_loss_resnet_imbalanced, test_accuracy_resnet_imbalanced = resnet_model_imbalanced.evaluate(test_ds)\n",
        "print(f\"Test Loss (Imbalanced): {test_loss_resnet_imbalanced:.4f}\")\n",
        "print(f\"Test Accuracy (Imbalanced): {test_accuracy_resnet_imbalanced:.4f}\")"
      ],
      "execution_count": null,
      "outputs": [
        {
          "output_type": "stream",
          "name": "stdout",
          "text": [
            "Evaluating ResNet50V2 model on the imbalanced validation set:\n",
            "\u001b[1m2/2\u001b[0m \u001b[32m━━━━━━━━━━━━━━━━━━━━\u001b[0m\u001b[37m\u001b[0m \u001b[1m0s\u001b[0m 101ms/step - accuracy: 0.9139 - loss: 0.1261\n",
            "Validation Loss (Imbalanced): 0.1063\n",
            "Validation Accuracy (Imbalanced): 0.9333\n",
            "\n",
            "Evaluating ResNet50V2 model on the imbalanced test set:\n",
            "\u001b[1m2/2\u001b[0m \u001b[32m━━━━━━━━━━━━━━━━━━━━\u001b[0m\u001b[37m\u001b[0m \u001b[1m6s\u001b[0m 6s/step - accuracy: 0.8292 - loss: 0.4505\n",
            "Test Loss (Imbalanced): 0.3556\n",
            "Test Accuracy (Imbalanced): 0.8689\n"
          ]
        }
      ]
    },
    {
      "cell_type": "code",
      "metadata": {
        "colab": {
          "base_uri": "https://localhost:8080/",
          "height": 1000
        },
        "id": "82605d71",
        "outputId": "738d4218-8499-4b28-a6b5-a3dde8868f6c"
      },
      "source": [
        "from sklearn.metrics import classification_report, confusion_matrix\n",
        "import numpy as np\n",
        "import seaborn as sns\n",
        "import matplotlib.pyplot as plt\n",
        "\n",
        "# Get class names (assuming class_names is defined from previous steps)\n",
        "if 'class_names' not in locals():\n",
        "    class_names = ['Arctocephalus_galapagoensis', 'Zalophus_wollebaeki']\n",
        "    print(f\"Using default class names: {class_names}\")\n",
        "\n",
        "\n",
        "# --- Evaluate on Test Set ---\n",
        "# Get true labels from the test dataset\n",
        "test_true_labels = []\n",
        "for images, labels in test_ds:\n",
        "    test_true_labels.extend(np.argmax(labels.numpy(), axis=1))\n",
        "test_true_labels = np.array(test_true_labels)\n",
        "\n",
        "# Get predicted labels from the ResNet50V2 model on the test dataset\n",
        "test_predictions = resnet_model_imbalanced.predict(test_ds)\n",
        "test_predicted_labels = np.argmax(test_predictions, axis=1)\n",
        "\n",
        "# Generate and print the classification report for the test set\n",
        "print(\"Classification Report for ResNet50V2 model on Imbalanced Test Set:\")\n",
        "print(classification_report(test_true_labels, test_predicted_labels, target_names=class_names))\n",
        "\n",
        "# Generate confusion matrix for the test set\n",
        "test_cm = confusion_matrix(test_true_labels, test_predicted_labels)\n",
        "\n",
        "# Plot confusion matrix for the test set using seaborn\n",
        "plt.figure(figsize=(8, 6))\n",
        "sns.heatmap(test_cm, annot=True, fmt='d', cmap='Blues', xticklabels=class_names, yticklabels=class_names)\n",
        "plt.title('Confusion Matrix - ResNet50V2 on Imbalanced Test Set')\n",
        "plt.xlabel('Predicted Label')\n",
        "plt.ylabel('True Label')\n",
        "plt.show()\n",
        "\n",
        "\n",
        "# --- Evaluate on Validation Set ---\n",
        "# Get true labels from the validation dataset\n",
        "val_true_labels = []\n",
        "for images, labels in val_ds:\n",
        "    val_true_labels.extend(np.argmax(labels.numpy(), axis=1))\n",
        "val_true_labels = np.array(val_true_labels)\n",
        "\n",
        "# Get predicted labels from the ResNet50V2 model on the validation dataset\n",
        "val_predictions = resnet_model_imbalanced.predict(val_ds)\n",
        "val_predicted_labels = np.argmax(val_predictions, axis=1)\n",
        "\n",
        "# Generate and print the classification report for the validation set\n",
        "print(\"\\nClassification Report for ResNet50V2 model on Imbalanced Validation Set:\")\n",
        "print(classification_report(val_true_labels, val_predicted_labels, target_names=class_names))\n",
        "\n",
        "# Generate confusion matrix for the validation set\n",
        "val_cm = confusion_matrix(val_true_labels, val_predicted_labels)\n",
        "\n",
        "# Plot confusion matrix for the validation set using seaborn\n",
        "plt.figure(figsize=(8, 6))\n",
        "sns.heatmap(val_cm, annot=True, fmt='d', cmap='Blues', xticklabels=class_names, yticklabels=class_names)\n",
        "plt.title('Confusion Matrix - ResNet50V2 on Imbalanced Validation Set')\n",
        "plt.xlabel('Predicted Label')\n",
        "plt.ylabel('True Label')\n",
        "plt.show()"
      ],
      "execution_count": null,
      "outputs": [
        {
          "output_type": "stream",
          "name": "stdout",
          "text": [
            "\u001b[1m2/2\u001b[0m \u001b[32m━━━━━━━━━━━━━━━━━━━━\u001b[0m\u001b[37m\u001b[0m \u001b[1m8s\u001b[0m 3s/step\n",
            "Classification Report for ResNet50V2 model on Imbalanced Test Set:\n",
            "                             precision    recall  f1-score   support\n",
            "\n",
            "Arctocephalus_galapagoensis       0.00      0.00      0.00         6\n",
            "        Zalophus_wollebaeki       0.90      0.96      0.93        55\n",
            "\n",
            "                   accuracy                           0.87        61\n",
            "                  macro avg       0.45      0.48      0.46        61\n",
            "               weighted avg       0.81      0.87      0.84        61\n",
            "\n"
          ]
        },
        {
          "output_type": "display_data",
          "data": {
            "text/plain": [
              "<Figure size 800x600 with 2 Axes>"
            ],
            "image/png": "[encoded data removed]"
          },
          "metadata": {}
        },
        {
          "output_type": "stream",
          "name": "stdout",
          "text": [
            "\u001b[1m2/2\u001b[0m \u001b[32m━━━━━━━━━━━━━━━━━━━━\u001b[0m\u001b[37m\u001b[0m \u001b[1m2s\u001b[0m 2s/step\n",
            "\n",
            "Classification Report for ResNet50V2 model on Imbalanced Validation Set:\n",
            "                             precision    recall  f1-score   support\n",
            "\n",
            "Arctocephalus_galapagoensis       0.00      0.00      0.00         4\n",
            "        Zalophus_wollebaeki       0.93      1.00      0.97        56\n",
            "\n",
            "                   accuracy                           0.93        60\n",
            "                  macro avg       0.47      0.50      0.48        60\n",
            "               weighted avg       0.87      0.93      0.90        60\n",
            "\n"
          ]
        },
        {
          "output_type": "stream",
          "name": "stderr",
          "text": [
            "/usr/local/lib/python3.12/dist-packages/sklearn/metrics/_classification.py:1565: UndefinedMetricWarning: Precision is ill-defined and being set to 0.0 in labels with no predicted samples. Use `zero_division` parameter to control this behavior.\n",
            "  _warn_prf(average, modifier, f\"{metric.capitalize()} is\", len(result))\n",
            "/usr/local/lib/python3.12/dist-packages/sklearn/metrics/_classification.py:1565: UndefinedMetricWarning: Precision is ill-defined and being set to 0.0 in labels with no predicted samples. Use `zero_division` parameter to control this behavior.\n",
            "  _warn_prf(average, modifier, f\"{metric.capitalize()} is\", len(result))\n",
            "/usr/local/lib/python3.12/dist-packages/sklearn/metrics/_classification.py:1565: UndefinedMetricWarning: Precision is ill-defined and being set to 0.0 in labels with no predicted samples. Use `zero_division` parameter to control this behavior.\n",
            "  _warn_prf(average, modifier, f\"{metric.capitalize()} is\", len(result))\n"
          ]
        },
        {
          "output_type": "display_data",
          "data": {
            "text/plain": [
              "<Figure size 800x600 with 2 Axes>"
            ],
            "image/png": "[encoded data removed]"
          },
          "metadata": {}
        }
      ]
    },
    {
      "cell_type": "code",
      "metadata": {
        "colab": {
          "base_uri": "https://localhost:8080/",
          "height": 360
        },
        "id": "9eb5dfc5",
        "outputId": "539e4567-29e1-483a-f973-fc2c21997c48"
      },
      "source": [
        "import tensorflow as tf\n",
        "from tensorflow.keras.models import Sequential\n",
        "from tensorflow.keras.layers import Dense, Flatten, Dropout\n",
        "from tensorflow.keras.applications import InceptionV3\n",
        "from tensorflow.keras.optimizers import Adam\n",
        "\n",
        "# Define the number of classes\n",
        "num_classes = len(class_names)\n",
        "\n",
        "# Load the InceptionV3 model with pre-trained weights (excluding the top classification layer)\n",
        "# InceptionV3 expects input shape of at least 75x75\n",
        "inceptionv3_base = InceptionV3(weights='imagenet', include_top=False, input_shape=(img_height, img_width, 3))\n",
        "\n",
        "# Freeze the convolutional base\n",
        "inceptionv3_base.trainable = False\n",
        "\n",
        "# Create the InceptionV3 classification model\n",
        "inceptionv3_model_imbalanced = Sequential([\n",
        "    inceptionv3_base,\n",
        "    Flatten(),\n",
        "    Dense(256, activation='relu'),\n",
        "    Dropout(0.5),\n",
        "    Dense(num_classes, activation='softmax') # Output layer with softmax for classification\n",
        "])\n",
        "\n",
        "# Compile the model\n",
        "inceptionv3_model_imbalanced.compile(optimizer=Adam(learning_rate=0.001),\n",
        "                                     loss='categorical_crossentropy',\n",
        "                                     metrics=['accuracy'])\n",
        "\n",
        "# Print the model summary\n",
        "inceptionv3_model_imbalanced.summary()\n",
        "\n",
        "print(\"InceptionV3 model for imbalanced dataset compiled.\")"
      ],
      "execution_count": null,
      "outputs": [
        {
          "output_type": "stream",
          "name": "stdout",
          "text": [
            "Downloading data from https://storage.googleapis.com/tensorflow/keras-applications/inception_v3/inception_v3_weights_tf_dim_ordering_tf_kernels_notop.h5\n",
            "\u001b[1m87910968/87910968\u001b[0m \u001b[32m━━━━━━━━━━━━━━━━━━━━\u001b[0m\u001b[37m\u001b[0m \u001b[1m0s\u001b[0m 0us/step\n"
          ]
        },
        {
          "output_type": "display_data",
          "data": {
            "text/plain": [
              "\u001b[1mModel: \"sequential_2\"\u001b[0m\n"
            ],
            "text/html": [
              "<pre style=\"white-space:pre;overflow-x:auto;line-height:normal;font-family:Menlo,'DejaVu Sans Mono',consolas,'Courier New',monospace\"><span style=\"font-weight: bold\">Model: \"sequential_2\"</span>\n",
              "</pre>\n"
            ]
          },
          "metadata": {}
        },
        {
          "output_type": "display_data",
          "data": {
            "text/plain": [
              "┏━━━━━━━━━━━━━━━━━━━━━━━━━━━━━━━━━┳━━━━━━━━━━━━━━━━━━━━━━━━┳━━━━━━━━━━━━━━━┓\n",
              "┃\u001b[1m \u001b[0m\u001b[1mLayer (type)                   \u001b[0m\u001b[1m \u001b[0m┃\u001b[1m \u001b[0m\u001b[1mOutput Shape          \u001b[0m\u001b[1m \u001b[0m┃\u001b[1m \u001b[0m\u001b[1m      Param #\u001b[0m\u001b[1m \u001b[0m┃\n",
              "┡━━━━━━━━━━━━━━━━━━━━━━━━━━━━━━━━━╇━━━━━━━━━━━━━━━━━━━━━━━━╇━━━━━━━━━━━━━━━┩\n",
              "│ inception_v3 (\u001b[38;5;33mFunctional\u001b[0m)       │ (\u001b[38;5;45mNone\u001b[0m, \u001b[38;5;34m5\u001b[0m, \u001b[38;5;34m5\u001b[0m, \u001b[38;5;34m2048\u001b[0m)     │    \u001b[38;5;34m21,802,784\u001b[0m │\n",
              "├─────────────────────────────────┼────────────────────────┼───────────────┤\n",
              "│ flatten_2 (\u001b[38;5;33mFlatten\u001b[0m)             │ (\u001b[38;5;45mNone\u001b[0m, \u001b[38;5;34m51200\u001b[0m)          │             \u001b[38;5;34m0\u001b[0m │\n",
              "├─────────────────────────────────┼────────────────────────┼───────────────┤\n",
              "│ dense_4 (\u001b[38;5;33mDense\u001b[0m)                 │ (\u001b[38;5;45mNone\u001b[0m, \u001b[38;5;34m256\u001b[0m)            │    \u001b[38;5;34m13,107,456\u001b[0m │\n",
              "├─────────────────────────────────┼────────────────────────┼───────────────┤\n",
              "│ dropout_2 (\u001b[38;5;33mDropout\u001b[0m)             │ (\u001b[38;5;45mNone\u001b[0m, \u001b[38;5;34m256\u001b[0m)            │             \u001b[38;5;34m0\u001b[0m │\n",
              "├─────────────────────────────────┼────────────────────────┼───────────────┤\n",
              "│ dense_5 (\u001b[38;5;33mDense\u001b[0m)                 │ (\u001b[38;5;45mNone\u001b[0m, \u001b[38;5;34m2\u001b[0m)              │           \u001b[38;5;34m514\u001b[0m │\n",
              "└─────────────────────────────────┴────────────────────────┴───────────────┘\n"
            ],
            "text/html": [
              "<pre style=\"white-space:pre;overflow-x:auto;line-height:normal;font-family:Menlo,'DejaVu Sans Mono',consolas,'Courier New',monospace\">┏━━━━━━━━━━━━━━━━━━━━━━━━━━━━━━━━━┳━━━━━━━━━━━━━━━━━━━━━━━━┳━━━━━━━━━━━━━━━┓\n",
              "┃<span style=\"font-weight: bold\"> Layer (type)                    </span>┃<span style=\"font-weight: bold\"> Output Shape           </span>┃<span style=\"font-weight: bold\">       Param # </span>┃\n",
              "┡━━━━━━━━━━━━━━━━━━━━━━━━━━━━━━━━━╇━━━━━━━━━━━━━━━━━━━━━━━━╇━━━━━━━━━━━━━━━┩\n",
              "│ inception_v3 (<span style=\"color: #0087ff; text-decoration-color: #0087ff\">Functional</span>)       │ (<span style=\"color: #00d7ff; text-decoration-color: #00d7ff\">None</span>, <span style=\"color: #00af00; text-decoration-color: #00af00\">5</span>, <span style=\"color: #00af00; text-decoration-color: #00af00\">5</span>, <span style=\"color: #00af00; text-decoration-color: #00af00\">2048</span>)     │    <span style=\"color: #00af00; text-decoration-color: #00af00\">21,802,784</span> │\n",
              "├─────────────────────────────────┼────────────────────────┼───────────────┤\n",
              "│ flatten_2 (<span style=\"color: #0087ff; text-decoration-color: #0087ff\">Flatten</span>)             │ (<span style=\"color: #00d7ff; text-decoration-color: #00d7ff\">None</span>, <span style=\"color: #00af00; text-decoration-color: #00af00\">51200</span>)          │             <span style=\"color: #00af00; text-decoration-color: #00af00\">0</span> │\n",
              "├─────────────────────────────────┼────────────────────────┼───────────────┤\n",
              "│ dense_4 (<span style=\"color: #0087ff; text-decoration-color: #0087ff\">Dense</span>)                 │ (<span style=\"color: #00d7ff; text-decoration-color: #00d7ff\">None</span>, <span style=\"color: #00af00; text-decoration-color: #00af00\">256</span>)            │    <span style=\"color: #00af00; text-decoration-color: #00af00\">13,107,456</span> │\n",
              "├─────────────────────────────────┼────────────────────────┼───────────────┤\n",
              "│ dropout_2 (<span style=\"color: #0087ff; text-decoration-color: #0087ff\">Dropout</span>)             │ (<span style=\"color: #00d7ff; text-decoration-color: #00d7ff\">None</span>, <span style=\"color: #00af00; text-decoration-color: #00af00\">256</span>)            │             <span style=\"color: #00af00; text-decoration-color: #00af00\">0</span> │\n",
              "├─────────────────────────────────┼────────────────────────┼───────────────┤\n",
              "│ dense_5 (<span style=\"color: #0087ff; text-decoration-color: #0087ff\">Dense</span>)                 │ (<span style=\"color: #00d7ff; text-decoration-color: #00d7ff\">None</span>, <span style=\"color: #00af00; text-decoration-color: #00af00\">2</span>)              │           <span style=\"color: #00af00; text-decoration-color: #00af00\">514</span> │\n",
              "└─────────────────────────────────┴────────────────────────┴───────────────┘\n",
              "</pre>\n"
            ]
          },
          "metadata": {}
        },
        {
          "output_type": "display_data",
          "data": {
            "text/plain": [
              "\u001b[1m Total params: \u001b[0m\u001b[38;5;34m34,910,754\u001b[0m (133.17 MB)\n"
            ],
            "text/html": [
              "<pre style=\"white-space:pre;overflow-x:auto;line-height:normal;font-family:Menlo,'DejaVu Sans Mono',consolas,'Courier New',monospace\"><span style=\"font-weight: bold\"> Total params: </span><span style=\"color: #00af00; text-decoration-color: #00af00\">34,910,754</span> (133.17 MB)\n",
              "</pre>\n"
            ]
          },
          "metadata": {}
        },
        {
          "output_type": "display_data",
          "data": {
            "text/plain": [
              "\u001b[1m Trainable params: \u001b[0m\u001b[38;5;34m13,107,970\u001b[0m (50.00 MB)\n"
            ],
            "text/html": [
              "<pre style=\"white-space:pre;overflow-x:auto;line-height:normal;font-family:Menlo,'DejaVu Sans Mono',consolas,'Courier New',monospace\"><span style=\"font-weight: bold\"> Trainable params: </span><span style=\"color: #00af00; text-decoration-color: #00af00\">13,107,970</span> (50.00 MB)\n",
              "</pre>\n"
            ]
          },
          "metadata": {}
        },
        {
          "output_type": "display_data",
          "data": {
            "text/plain": [
              "\u001b[1m Non-trainable params: \u001b[0m\u001b[38;5;34m21,802,784\u001b[0m (83.17 MB)\n"
            ],
            "text/html": [
              "<pre style=\"white-space:pre;overflow-x:auto;line-height:normal;font-family:Menlo,'DejaVu Sans Mono',consolas,'Courier New',monospace\"><span style=\"font-weight: bold\"> Non-trainable params: </span><span style=\"color: #00af00; text-decoration-color: #00af00\">21,802,784</span> (83.17 MB)\n",
              "</pre>\n"
            ]
          },
          "metadata": {}
        },
        {
          "output_type": "stream",
          "name": "stdout",
          "text": [
            "InceptionV3 model for imbalanced dataset compiled.\n"
          ]
        }
      ]
    },
    {
      "cell_type": "code",
      "metadata": {
        "colab": {
          "base_uri": "https://localhost:8080/"
        },
        "id": "575422c9",
        "outputId": "c56a57bb-c368-4db5-fed0-c4e042c57ab8"
      },
      "source": [
        "import json\n",
        "import os\n",
        "\n",
        "# Define the path to save the InceptionV3 model and configuration\n",
        "save_dir_inceptionv3 = '/content/drive/MyDrive/GalapagosSealsMerged/classification_models/inceptionv3_imbalanced'\n",
        "os.makedirs(save_dir_inceptionv3, exist_ok=True)\n",
        "\n",
        "# Define callbacks for training (optional but recommended)\n",
        "callbacks_inceptionv3 = [\n",
        "    tf.keras.callbacks.EarlyStopping(monitor='val_loss', patience=10, restore_best_weights=True),\n",
        "    tf.keras.callbacks.ModelCheckpoint(filepath=os.path.join(save_dir_inceptionv3, 'best_inceptionv3_imbalanced_model.h5'),\n",
        "                                       monitor='val_loss',\n",
        "                                       save_best_only=True)\n",
        "]\n",
        "\n",
        "# Train the InceptionV3 model on the imbalanced dataset\n",
        "history_inceptionv3_imbalanced = inceptionv3_model_imbalanced.fit(\n",
        "    train_ds,\n",
        "    epochs=50, # You can adjust the number of epochs\n",
        "    validation_data=val_ds,\n",
        "    callbacks=callbacks_inceptionv3\n",
        ")\n",
        "\n",
        "# Save the trained model (best weights)\n",
        "inceptionv3_model_imbalanced.save(os.path.join(save_dir_inceptionv3, 'final_inceptionv3_imbalanced_model.h5'))\n",
        "\n",
        "# Save the model configuration\n",
        "model_config_inceptionv3 = inceptionv3_model_imbalanced.to_json()\n",
        "with open(os.path.join(save_dir_inceptionv3, 'inceptionv3_imbalanced_config.json'), 'w') as f:\n",
        "    json.dump(json.loads(model_config_inceptionv3), f, indent=4)\n",
        "\n",
        "print(f\"\\nInceptionV3 model for imbalanced dataset trained and saved to {save_dir_inceptionv3}\")"
      ],
      "execution_count": null,
      "outputs": [
        {
          "output_type": "stream",
          "name": "stdout",
          "text": [
            "Epoch 1/50\n",
            "\u001b[1m15/15\u001b[0m \u001b[32m━━━━━━━━━━━━━━━━━━━━\u001b[0m\u001b[37m\u001b[0m \u001b[1m0s\u001b[0m 619ms/step - accuracy: 0.7382 - loss: 336.2957"
          ]
        },
        {
          "output_type": "stream",
          "name": "stderr",
          "text": [
            "WARNING:absl:You are saving your model as an HDF5 file via `model.save()` or `keras.saving.save_model(model)`. This file format is considered legacy. We recommend using instead the native Keras format, e.g. `model.save('my_model.keras')` or `keras.saving.save_model(model, 'my_model.keras')`. \n"
          ]
        },
        {
          "output_type": "stream",
          "name": "stdout",
          "text": [
            "\b\b\b\b\b\b\b\b\b\b\b\b\b\b\b\b\b\b\b\b\b\b\b\b\b\b\b\b\b\b\b\b\b\b\b\b\b\b\b\b\b\b\b\b\b\b\b\b\b\b\b\b\b\b\b\b\b\b\b\b\b\b\b\b\b\b\b\b\b\b\b\b\b\b\b\b\r\u001b[1m15/15\u001b[0m \u001b[32m━━━━━━━━━━━━━━━━━━━━\u001b[0m\u001b[37m\u001b[0m \u001b[1m42s\u001b[0m 2s/step - accuracy: 0.7418 - loss: 335.6257 - val_accuracy: 0.9333 - val_loss: 101.1388\n",
            "Epoch 2/50\n",
            "\u001b[1m14/15\u001b[0m \u001b[32m━━━━━━━━━━━━━━━━━━\u001b[0m\u001b[37m━━\u001b[0m \u001b[1m0s\u001b[0m 177ms/step - accuracy: 0.8864 - loss: 137.7636"
          ]
        },
        {
          "output_type": "stream",
          "name": "stderr",
          "text": [
            "WARNING:absl:You are saving your model as an HDF5 file via `model.save()` or `keras.saving.save_model(model)`. This file format is considered legacy. We recommend using instead the native Keras format, e.g. `model.save('my_model.keras')` or `keras.saving.save_model(model, 'my_model.keras')`. \n"
          ]
        },
        {
          "output_type": "stream",
          "name": "stdout",
          "text": [
            "\b\b\b\b\b\b\b\b\b\b\b\b\b\b\b\b\b\b\b\b\b\b\b\b\b\b\b\b\b\b\b\b\b\b\b\b\b\b\b\b\b\b\b\b\b\b\b\b\b\b\b\b\b\b\b\b\b\b\b\b\b\b\b\b\b\b\b\b\b\b\b\b\b\b\b\b\r\u001b[1m15/15\u001b[0m \u001b[32m━━━━━━━━━━━━━━━━━━━━\u001b[0m\u001b[37m\u001b[0m \u001b[1m5s\u001b[0m 356ms/step - accuracy: 0.8856 - loss: 133.4099 - val_accuracy: 0.9500 - val_loss: 49.0219\n",
            "Epoch 3/50\n",
            "\u001b[1m14/15\u001b[0m \u001b[32m━━━━━━━━━━━━━━━━━━\u001b[0m\u001b[37m━━\u001b[0m \u001b[1m0s\u001b[0m 99ms/step - accuracy: 0.9094 - loss: 36.4521 "
          ]
        },
        {
          "output_type": "stream",
          "name": "stderr",
          "text": [
            "WARNING:absl:You are saving your model as an HDF5 file via `model.save()` or `keras.saving.save_model(model)`. This file format is considered legacy. We recommend using instead the native Keras format, e.g. `model.save('my_model.keras')` or `keras.saving.save_model(model, 'my_model.keras')`. \n"
          ]
        },
        {
          "output_type": "stream",
          "name": "stdout",
          "text": [
            "\b\b\b\b\b\b\b\b\b\b\b\b\b\b\b\b\b\b\b\b\b\b\b\b\b\b\b\b\b\b\b\b\b\b\b\b\b\b\b\b\b\b\b\b\b\b\b\b\b\b\b\b\b\b\b\b\b\b\b\b\b\b\b\b\b\b\b\b\b\b\b\b\b\b\r\u001b[1m15/15\u001b[0m \u001b[32m━━━━━━━━━━━━━━━━━━━━\u001b[0m\u001b[37m\u001b[0m \u001b[1m3s\u001b[0m 224ms/step - accuracy: 0.9068 - loss: 36.5642 - val_accuracy: 0.9167 - val_loss: 14.9071\n",
            "Epoch 4/50\n",
            "\u001b[1m14/15\u001b[0m \u001b[32m━━━━━━━━━━━━━━━━━━\u001b[0m\u001b[37m━━\u001b[0m \u001b[1m0s\u001b[0m 97ms/step - accuracy: 0.8620 - loss: 22.9441"
          ]
        },
        {
          "output_type": "stream",
          "name": "stderr",
          "text": [
            "WARNING:absl:You are saving your model as an HDF5 file via `model.save()` or `keras.saving.save_model(model)`. This file format is considered legacy. We recommend using instead the native Keras format, e.g. `model.save('my_model.keras')` or `keras.saving.save_model(model, 'my_model.keras')`. \n"
          ]
        },
        {
          "output_type": "stream",
          "name": "stdout",
          "text": [
            "\b\b\b\b\b\b\b\b\b\b\b\b\b\b\b\b\b\b\b\b\b\b\b\b\b\b\b\b\b\b\b\b\b\b\b\b\b\b\b\b\b\b\b\b\b\b\b\b\b\b\b\b\b\b\b\b\b\b\b\b\b\b\b\b\b\b\b\b\b\b\b\b\b\b\r\u001b[1m15/15\u001b[0m \u001b[32m━━━━━━━━━━━━━━━━━━━━\u001b[0m\u001b[37m\u001b[0m \u001b[1m6s\u001b[0m 231ms/step - accuracy: 0.8634 - loss: 22.5613 - val_accuracy: 0.9167 - val_loss: 13.2065\n",
            "Epoch 5/50\n",
            "\u001b[1m14/15\u001b[0m \u001b[32m━━━━━━━━━━━━━━━━━━\u001b[0m\u001b[37m━━\u001b[0m \u001b[1m0s\u001b[0m 110ms/step - accuracy: 0.9251 - loss: 9.8405"
          ]
        },
        {
          "output_type": "stream",
          "name": "stderr",
          "text": [
            "WARNING:absl:You are saving your model as an HDF5 file via `model.save()` or `keras.saving.save_model(model)`. This file format is considered legacy. We recommend using instead the native Keras format, e.g. `model.save('my_model.keras')` or `keras.saving.save_model(model, 'my_model.keras')`. \n"
          ]
        },
        {
          "output_type": "stream",
          "name": "stdout",
          "text": [
            "\b\b\b\b\b\b\b\b\b\b\b\b\b\b\b\b\b\b\b\b\b\b\b\b\b\b\b\b\b\b\b\b\b\b\b\b\b\b\b\b\b\b\b\b\b\b\b\b\b\b\b\b\b\b\b\b\b\b\b\b\b\b\b\b\b\b\b\b\b\b\b\b\b\b\r\u001b[1m15/15\u001b[0m \u001b[32m━━━━━━━━━━━━━━━━━━━━\u001b[0m\u001b[37m\u001b[0m \u001b[1m5s\u001b[0m 233ms/step - accuracy: 0.9247 - loss: 9.6806 - val_accuracy: 0.9167 - val_loss: 9.5091\n",
            "Epoch 6/50\n",
            "\u001b[1m14/15\u001b[0m \u001b[32m━━━━━━━━━━━━━━━━━━\u001b[0m\u001b[37m━━\u001b[0m \u001b[1m0s\u001b[0m 119ms/step - accuracy: 0.9214 - loss: 3.7445"
          ]
        },
        {
          "output_type": "stream",
          "name": "stderr",
          "text": [
            "WARNING:absl:You are saving your model as an HDF5 file via `model.save()` or `keras.saving.save_model(model)`. This file format is considered legacy. We recommend using instead the native Keras format, e.g. `model.save('my_model.keras')` or `keras.saving.save_model(model, 'my_model.keras')`. \n"
          ]
        },
        {
          "output_type": "stream",
          "name": "stdout",
          "text": [
            "\b\b\b\b\b\b\b\b\b\b\b\b\b\b\b\b\b\b\b\b\b\b\b\b\b\b\b\b\b\b\b\b\b\b\b\b\b\b\b\b\b\b\b\b\b\b\b\b\b\b\b\b\b\b\b\b\b\b\b\b\b\b\b\b\b\b\b\b\b\b\b\b\b\b\r\u001b[1m15/15\u001b[0m \u001b[32m━━━━━━━━━━━━━━━━━━━━\u001b[0m\u001b[37m\u001b[0m \u001b[1m4s\u001b[0m 242ms/step - accuracy: 0.9215 - loss: 3.8081 - val_accuracy: 0.9000 - val_loss: 6.3180\n",
            "Epoch 7/50\n",
            "\u001b[1m14/15\u001b[0m \u001b[32m━━━━━━━━━━━━━━━━━━\u001b[0m\u001b[37m━━\u001b[0m \u001b[1m0s\u001b[0m 127ms/step - accuracy: 0.9381 - loss: 1.8674"
          ]
        },
        {
          "output_type": "stream",
          "name": "stderr",
          "text": [
            "WARNING:absl:You are saving your model as an HDF5 file via `model.save()` or `keras.saving.save_model(model)`. This file format is considered legacy. We recommend using instead the native Keras format, e.g. `model.save('my_model.keras')` or `keras.saving.save_model(model, 'my_model.keras')`. \n"
          ]
        },
        {
          "output_type": "stream",
          "name": "stdout",
          "text": [
            "\b\b\b\b\b\b\b\b\b\b\b\b\b\b\b\b\b\b\b\b\b\b\b\b\b\b\b\b\b\b\b\b\b\b\b\b\b\b\b\b\b\b\b\b\b\b\b\b\b\b\b\b\b\b\b\b\b\b\b\b\b\b\b\b\b\b\b\b\b\b\b\b\b\b\r\u001b[1m15/15\u001b[0m \u001b[32m━━━━━━━━━━━━━━━━━━━━\u001b[0m\u001b[37m\u001b[0m \u001b[1m4s\u001b[0m 244ms/step - accuracy: 0.9384 - loss: 1.8797 - val_accuracy: 0.8833 - val_loss: 3.1998\n",
            "Epoch 8/50\n",
            "\u001b[1m14/15\u001b[0m \u001b[32m━━━━━━━━━━━━━━━━━━\u001b[0m\u001b[37m━━\u001b[0m \u001b[1m0s\u001b[0m 106ms/step - accuracy: 0.9158 - loss: 1.6869"
          ]
        },
        {
          "output_type": "stream",
          "name": "stderr",
          "text": [
            "WARNING:absl:You are saving your model as an HDF5 file via `model.save()` or `keras.saving.save_model(model)`. This file format is considered legacy. We recommend using instead the native Keras format, e.g. `model.save('my_model.keras')` or `keras.saving.save_model(model, 'my_model.keras')`. \n"
          ]
        },
        {
          "output_type": "stream",
          "name": "stdout",
          "text": [
            "\b\b\b\b\b\b\b\b\b\b\b\b\b\b\b\b\b\b\b\b\b\b\b\b\b\b\b\b\b\b\b\b\b\b\b\b\b\b\b\b\b\b\b\b\b\b\b\b\b\b\b\b\b\b\b\b\b\b\b\b\b\b\b\b\b\b\b\b\b\b\b\b\b\b\r\u001b[1m15/15\u001b[0m \u001b[32m━━━━━━━━━━━━━━━━━━━━\u001b[0m\u001b[37m\u001b[0m \u001b[1m5s\u001b[0m 222ms/step - accuracy: 0.9188 - loss: 1.7142 - val_accuracy: 0.9000 - val_loss: 1.2675\n",
            "Epoch 9/50\n",
            "\u001b[1m14/15\u001b[0m \u001b[32m━━━━━━━━━━━━━━━━━━\u001b[0m\u001b[37m━━\u001b[0m \u001b[1m0s\u001b[0m 122ms/step - accuracy: 0.9436 - loss: 0.4441"
          ]
        },
        {
          "output_type": "stream",
          "name": "stderr",
          "text": [
            "WARNING:absl:You are saving your model as an HDF5 file via `model.save()` or `keras.saving.save_model(model)`. This file format is considered legacy. We recommend using instead the native Keras format, e.g. `model.save('my_model.keras')` or `keras.saving.save_model(model, 'my_model.keras')`. \n"
          ]
        },
        {
          "output_type": "stream",
          "name": "stdout",
          "text": [
            "\b\b\b\b\b\b\b\b\b\b\b\b\b\b\b\b\b\b\b\b\b\b\b\b\b\b\b\b\b\b\b\b\b\b\b\b\b\b\b\b\b\b\b\b\b\b\b\b\b\b\b\b\b\b\b\b\b\b\b\b\b\b\b\b\b\b\b\b\b\b\b\b\b\b\r\u001b[1m15/15\u001b[0m \u001b[32m━━━━━━━━━━━━━━━━━━━━\u001b[0m\u001b[37m\u001b[0m \u001b[1m4s\u001b[0m 240ms/step - accuracy: 0.9445 - loss: 0.4372 - val_accuracy: 0.9500 - val_loss: 0.6440\n",
            "Epoch 10/50\n",
            "\u001b[1m14/15\u001b[0m \u001b[32m━━━━━━━━━━━━━━━━━━\u001b[0m\u001b[37m━━\u001b[0m \u001b[1m0s\u001b[0m 98ms/step - accuracy: 0.9412 - loss: 0.2496"
          ]
        },
        {
          "output_type": "stream",
          "name": "stderr",
          "text": [
            "WARNING:absl:You are saving your model as an HDF5 file via `model.save()` or `keras.saving.save_model(model)`. This file format is considered legacy. We recommend using instead the native Keras format, e.g. `model.save('my_model.keras')` or `keras.saving.save_model(model, 'my_model.keras')`. \n"
          ]
        },
        {
          "output_type": "stream",
          "name": "stdout",
          "text": [
            "\b\b\b\b\b\b\b\b\b\b\b\b\b\b\b\b\b\b\b\b\b\b\b\b\b\b\b\b\b\b\b\b\b\b\b\b\b\b\b\b\b\b\b\b\b\b\b\b\b\b\b\b\b\b\b\b\b\b\b\b\b\b\b\b\b\b\b\b\b\b\b\b\b\r\u001b[1m15/15\u001b[0m \u001b[32m━━━━━━━━━━━━━━━━━━━━\u001b[0m\u001b[37m\u001b[0m \u001b[1m4s\u001b[0m 221ms/step - accuracy: 0.9438 - loss: 0.2443 - val_accuracy: 0.9333 - val_loss: 0.4243\n",
            "Epoch 11/50\n",
            "\u001b[1m15/15\u001b[0m \u001b[32m━━━━━━━━━━━━━━━━━━━━\u001b[0m\u001b[37m\u001b[0m \u001b[1m3s\u001b[0m 123ms/step - accuracy: 0.9551 - loss: 0.1167 - val_accuracy: 0.9500 - val_loss: 0.4456\n",
            "Epoch 12/50\n",
            "\u001b[1m15/15\u001b[0m \u001b[32m━━━━━━━━━━━━━━━━━━━━\u001b[0m\u001b[37m\u001b[0m \u001b[1m2s\u001b[0m 119ms/step - accuracy: 0.9769 - loss: 0.0907 - val_accuracy: 0.9000 - val_loss: 0.4696\n",
            "Epoch 13/50\n",
            "\u001b[1m14/15\u001b[0m \u001b[32m━━━━━━━━━━━━━━━━━━\u001b[0m\u001b[37m━━\u001b[0m \u001b[1m0s\u001b[0m 151ms/step - accuracy: 0.9581 - loss: 0.1034"
          ]
        },
        {
          "output_type": "stream",
          "name": "stderr",
          "text": [
            "WARNING:absl:You are saving your model as an HDF5 file via `model.save()` or `keras.saving.save_model(model)`. This file format is considered legacy. We recommend using instead the native Keras format, e.g. `model.save('my_model.keras')` or `keras.saving.save_model(model, 'my_model.keras')`. \n"
          ]
        },
        {
          "output_type": "stream",
          "name": "stdout",
          "text": [
            "\b\b\b\b\b\b\b\b\b\b\b\b\b\b\b\b\b\b\b\b\b\b\b\b\b\b\b\b\b\b\b\b\b\b\b\b\b\b\b\b\b\b\b\b\b\b\b\b\b\b\b\b\b\b\b\b\b\b\b\b\b\b\b\b\b\b\b\b\b\b\b\b\b\b\r\u001b[1m15/15\u001b[0m \u001b[32m━━━━━━━━━━━━━━━━━━━━\u001b[0m\u001b[37m\u001b[0m \u001b[1m5s\u001b[0m 294ms/step - accuracy: 0.9586 - loss: 0.1022 - val_accuracy: 0.9333 - val_loss: 0.3536\n",
            "Epoch 14/50\n",
            "\u001b[1m15/15\u001b[0m \u001b[32m━━━━━━━━━━━━━━━━━━━━\u001b[0m\u001b[37m\u001b[0m \u001b[1m3s\u001b[0m 162ms/step - accuracy: 0.9621 - loss: 0.0963 - val_accuracy: 0.9167 - val_loss: 0.6218\n",
            "Epoch 15/50\n",
            "\u001b[1m15/15\u001b[0m \u001b[32m━━━━━━━━━━━━━━━━━━━━\u001b[0m\u001b[37m\u001b[0m \u001b[1m2s\u001b[0m 142ms/step - accuracy: 0.9613 - loss: 0.1530 - val_accuracy: 0.9167 - val_loss: 0.6738\n",
            "Epoch 16/50\n",
            "\u001b[1m15/15\u001b[0m \u001b[32m━━━━━━━━━━━━━━━━━━━━\u001b[0m\u001b[37m\u001b[0m \u001b[1m2s\u001b[0m 117ms/step - accuracy: 0.9687 - loss: 0.1083 - val_accuracy: 0.9333 - val_loss: 0.7521\n",
            "Epoch 17/50\n",
            "\u001b[1m15/15\u001b[0m \u001b[32m━━━━━━━━━━━━━━━━━━━━\u001b[0m\u001b[37m\u001b[0m \u001b[1m2s\u001b[0m 117ms/step - accuracy: 0.9712 - loss: 0.1316 - val_accuracy: 0.9500 - val_loss: 0.4548\n",
            "Epoch 18/50\n",
            "\u001b[1m15/15\u001b[0m \u001b[32m━━━━━━━━━━━━━━━━━━━━\u001b[0m\u001b[37m\u001b[0m \u001b[1m2s\u001b[0m 113ms/step - accuracy: 0.9758 - loss: 0.0845 - val_accuracy: 0.9500 - val_loss: 0.3759\n",
            "Epoch 19/50\n",
            "\u001b[1m15/15\u001b[0m \u001b[32m━━━━━━━━━━━━━━━━━━━━\u001b[0m\u001b[37m\u001b[0m \u001b[1m2s\u001b[0m 118ms/step - accuracy: 0.9632 - loss: 0.0888 - val_accuracy: 0.9500 - val_loss: 0.3767\n",
            "Epoch 20/50\n",
            "\u001b[1m15/15\u001b[0m \u001b[32m━━━━━━━━━━━━━━━━━━━━\u001b[0m\u001b[37m\u001b[0m \u001b[1m2s\u001b[0m 119ms/step - accuracy: 0.9818 - loss: 0.0545 - val_accuracy: 0.9500 - val_loss: 0.3745\n",
            "Epoch 21/50\n",
            "\u001b[1m15/15\u001b[0m \u001b[32m━━━━━━━━━━━━━━━━━━━━\u001b[0m\u001b[37m\u001b[0m \u001b[1m3s\u001b[0m 157ms/step - accuracy: 0.9815 - loss: 0.0584 - val_accuracy: 0.9500 - val_loss: 0.4848\n",
            "Epoch 22/50\n",
            "\u001b[1m15/15\u001b[0m \u001b[32m━━━━━━━━━━━━━━━━━━━━\u001b[0m\u001b[37m\u001b[0m \u001b[1m2s\u001b[0m 115ms/step - accuracy: 0.9738 - loss: 0.0594 - val_accuracy: 0.9500 - val_loss: 0.3703\n",
            "Epoch 23/50\n",
            "\u001b[1m15/15\u001b[0m \u001b[32m━━━━━━━━━━━━━━━━━━━━\u001b[0m\u001b[37m\u001b[0m \u001b[1m3s\u001b[0m 118ms/step - accuracy: 0.9813 - loss: 0.0554 - val_accuracy: 0.9500 - val_loss: 0.4514\n"
          ]
        },
        {
          "output_type": "stream",
          "name": "stderr",
          "text": [
            "WARNING:absl:You are saving your model as an HDF5 file via `model.save()` or `keras.saving.save_model(model)`. This file format is considered legacy. We recommend using instead the native Keras format, e.g. `model.save('my_model.keras')` or `keras.saving.save_model(model, 'my_model.keras')`. \n"
          ]
        },
        {
          "output_type": "stream",
          "name": "stdout",
          "text": [
            "\n",
            "InceptionV3 model for imbalanced dataset trained and saved to /content/drive/MyDrive/GalapagosSealsMerged/classification_models/inceptionv3_imbalanced\n"
          ]
        }
      ]
    },
    {
      "cell_type": "code",
      "metadata": {
        "colab": {
          "base_uri": "https://localhost:8080/"
        },
        "id": "dc2f6614",
        "outputId": "819ee2c0-9a68-4dcb-dd08-71f64d9b793c"
      },
      "source": [
        "# Evaluate the InceptionV3 model on the imbalanced validation set\n",
        "print(\"Evaluating InceptionV3 model on the imbalanced validation set:\")\n",
        "val_loss_inceptionv3_imbalanced, val_accuracy_inceptionv3_imbalanced = inceptionv3_model_imbalanced.evaluate(val_ds)\n",
        "print(f\"Validation Loss (Imbalanced): {val_loss_inceptionv3_imbalanced:.4f}\")\n",
        "print(f\"Validation Accuracy (Imbalanced): {val_accuracy_inceptionv3_imbalanced:.4f}\")\n",
        "\n",
        "# Evaluate the InceptionV3 model on the imbalanced test set\n",
        "print(\"\\nEvaluating InceptionV3 model on the imbalanced test set:\")\n",
        "test_loss_inceptionv3_imbalanced, test_accuracy_inceptionv3_imbalanced = inceptionv3_model_imbalanced.evaluate(test_ds)\n",
        "print(f\"Test Loss (Imbalanced): {test_loss_inceptionv3_imbalanced:.4f}\")\n",
        "print(f\"Test Accuracy (Imbalanced): {test_accuracy_inceptionv3_imbalanced:.4f}\")"
      ],
      "execution_count": null,
      "outputs": [
        {
          "output_type": "stream",
          "name": "stdout",
          "text": [
            "Evaluating InceptionV3 model on the imbalanced validation set:\n",
            "\u001b[1m2/2\u001b[0m \u001b[32m━━━━━━━━━━━━━━━━━━━━\u001b[0m\u001b[37m\u001b[0m \u001b[1m0s\u001b[0m 98ms/step - accuracy: 0.9139 - loss: 0.4522\n",
            "Validation Loss (Imbalanced): 0.3536\n",
            "Validation Accuracy (Imbalanced): 0.9333\n",
            "\n",
            "Evaluating InceptionV3 model on the imbalanced test set:\n",
            "\u001b[1m2/2\u001b[0m \u001b[32m━━━━━━━━━━━━━━━━━━━━\u001b[0m\u001b[37m\u001b[0m \u001b[1m7s\u001b[0m 7s/step - accuracy: 0.8183 - loss: 1.7516\n",
            "Test Loss (Imbalanced): 1.4409\n",
            "Test Accuracy (Imbalanced): 0.8525\n"
          ]
        }
      ]
    },
    {
      "cell_type": "code",
      "metadata": {
        "colab": {
          "base_uri": "https://localhost:8080/",
          "height": 1000
        },
        "id": "e7f8e76a",
        "outputId": "4e8bfdef-48de-428e-eee5-e51ebd469bfe"
      },
      "source": [
        "from sklearn.metrics import classification_report, confusion_matrix\n",
        "import numpy as np\n",
        "import seaborn as sns\n",
        "import matplotlib.pyplot as plt\n",
        "\n",
        "# Get class names (assuming class_names is defined from previous steps)\n",
        "if 'class_names' not in locals():\n",
        "    class_names = ['Arctocephalus_galapagoensis', 'Zalophus_wollebaeki']\n",
        "    print(f\"Using default class names: {class_names}\")\n",
        "\n",
        "\n",
        "# --- Evaluate on Test Set ---\n",
        "# Get true labels from the test dataset\n",
        "test_true_labels = []\n",
        "for images, labels in test_ds:\n",
        "    test_true_labels.extend(np.argmax(labels.numpy(), axis=1))\n",
        "test_true_labels = np.array(test_true_labels)\n",
        "\n",
        "# Get predicted labels from the InceptionV3 model on the test dataset\n",
        "test_predictions = inceptionv3_model_imbalanced.predict(test_ds)\n",
        "test_predicted_labels = np.argmax(test_predictions, axis=1)\n",
        "\n",
        "# Generate and print the classification report for the test set\n",
        "print(\"Classification Report for InceptionV3 model on Imbalanced Test Set:\")\n",
        "print(classification_report(test_true_labels, test_predicted_labels, target_names=class_names))\n",
        "\n",
        "# Generate confusion matrix for the test set\n",
        "test_cm = confusion_matrix(test_true_labels, test_predicted_labels)\n",
        "\n",
        "# Plot confusion matrix for the test set using seaborn\n",
        "plt.figure(figsize=(8, 6))\n",
        "sns.heatmap(test_cm, annot=True, fmt='d', cmap='Blues', xticklabels=class_names, yticklabels=class_names)\n",
        "plt.title('Confusion Matrix - InceptionV3 on Imbalanced Test Set')\n",
        "plt.xlabel('Predicted Label')\n",
        "plt.ylabel('True Label')\n",
        "plt.show()\n",
        "\n",
        "\n",
        "# --- Evaluate on Validation Set ---\n",
        "# Get true labels from the validation dataset\n",
        "val_true_labels = []\n",
        "for images, labels in val_ds:\n",
        "    val_true_labels.extend(np.argmax(labels.numpy(), axis=1))\n",
        "val_true_labels = np.array(val_true_labels)\n",
        "\n",
        "# Get predicted labels from the InceptionV3 model on the validation dataset\n",
        "val_predictions = inceptionv3_model_imbalanced.predict(val_ds)\n",
        "val_predicted_labels = np.argmax(val_predictions, axis=1)\n",
        "\n",
        "# Generate and print the classification report for the validation set\n",
        "print(\"\\nClassification Report for InceptionV3 model on Imbalanced Validation Set:\")\n",
        "print(classification_report(val_true_labels, val_predicted_labels, target_names=class_names))\n",
        "\n",
        "# Generate confusion matrix for the validation set\n",
        "val_cm = confusion_matrix(val_true_labels, val_predicted_labels)\n",
        "\n",
        "# Plot confusion matrix for the validation set using seaborn\n",
        "plt.figure(figsize=(8, 6))\n",
        "sns.heatmap(val_cm, annot=True, fmt='d', cmap='Blues', xticklabels=class_names, yticklabels=class_names)\n",
        "plt.title('Confusion Matrix - InceptionV3 on Imbalanced Validation Set')\n",
        "plt.xlabel('Predicted Label')\n",
        "plt.ylabel('True Label')\n",
        "plt.show()"
      ],
      "execution_count": null,
      "outputs": [
        {
          "output_type": "stream",
          "name": "stderr",
          "text": [
            "WARNING:tensorflow:5 out of the last 11 calls to <function TensorFlowTrainer.make_predict_function.<locals>.one_step_on_data_distributed at 0x78e7518f45e0> triggered tf.function retracing. Tracing is expensive and the excessive number of tracings could be due to (1) creating @tf.function repeatedly in a loop, (2) passing tensors with different shapes, (3) passing Python objects instead of tensors. For (1), please define your @tf.function outside of the loop. For (2), @tf.function has reduce_retracing=True option that can avoid unnecessary retracing. For (3), please refer to https://www.tensorflow.org/guide/function#controlling_retracing and https://www.tensorflow.org/api_docs/python/tf/function for  more details.\n"
          ]
        },
        {
          "output_type": "stream",
          "name": "stdout",
          "text": [
            "\r\u001b[1m1/2\u001b[0m \u001b[32m━━━━━━━━━━\u001b[0m\u001b[37m━━━━━━━━━━\u001b[0m \u001b[1m6s\u001b[0m 6s/step"
          ]
        },
        {
          "output_type": "stream",
          "name": "stderr",
          "text": [
            "WARNING:tensorflow:5 out of the last 11 calls to <function TensorFlowTrainer.make_predict_function.<locals>.one_step_on_data_distributed at 0x78e7518f45e0> triggered tf.function retracing. Tracing is expensive and the excessive number of tracings could be due to (1) creating @tf.function repeatedly in a loop, (2) passing tensors with different shapes, (3) passing Python objects instead of tensors. For (1), please define your @tf.function outside of the loop. For (2), @tf.function has reduce_retracing=True option that can avoid unnecessary retracing. For (3), please refer to https://www.tensorflow.org/guide/function#controlling_retracing and https://www.tensorflow.org/api_docs/python/tf/function for  more details.\n"
          ]
        },
        {
          "output_type": "stream",
          "name": "stdout",
          "text": [
            "\u001b[1m2/2\u001b[0m \u001b[32m━━━━━━━━━━━━━━━━━━━━\u001b[0m\u001b[37m\u001b[0m \u001b[1m13s\u001b[0m 7s/step\n",
            "Classification Report for InceptionV3 model on Imbalanced Test Set:\n",
            "                             precision    recall  f1-score   support\n",
            "\n",
            "Arctocephalus_galapagoensis       0.00      0.00      0.00         6\n",
            "        Zalophus_wollebaeki       0.90      0.95      0.92        55\n",
            "\n",
            "                   accuracy                           0.85        61\n",
            "                  macro avg       0.45      0.47      0.46        61\n",
            "               weighted avg       0.81      0.85      0.83        61\n",
            "\n"
          ]
        },
        {
          "output_type": "display_data",
          "data": {
            "text/plain": [
              "<Figure size 800x600 with 2 Axes>"
            ],
            "image/png": "[encoded data removed]"
          },
          "metadata": {}
        },
        {
          "output_type": "stream",
          "name": "stdout",
          "text": [
            "\u001b[1m2/2\u001b[0m \u001b[32m━━━━━━━━━━━━━━━━━━━━\u001b[0m\u001b[37m\u001b[0m \u001b[1m5s\u001b[0m 5s/step\n",
            "\n",
            "Classification Report for InceptionV3 model on Imbalanced Validation Set:\n",
            "                             precision    recall  f1-score   support\n",
            "\n",
            "Arctocephalus_galapagoensis       0.50      0.25      0.33         4\n",
            "        Zalophus_wollebaeki       0.95      0.98      0.96        56\n",
            "\n",
            "                   accuracy                           0.93        60\n",
            "                  macro avg       0.72      0.62      0.65        60\n",
            "               weighted avg       0.92      0.93      0.92        60\n",
            "\n"
          ]
        },
        {
          "output_type": "display_data",
          "data": {
            "text/plain": [
              "<Figure size 800x600 with 2 Axes>"
            ],
            "image/png": "[encoded data removed]"
          },
          "metadata": {}
        }
      ]
    },
    {
      "cell_type": "code",
      "metadata": {
        "id": "e52f6f8d"
      },
      "source": [],
      "execution_count": null,
      "outputs": []
    },
    {
      "cell_type": "code",
      "metadata": {
        "colab": {
          "base_uri": "https://localhost:8080/"
        },
        "id": "9ff6d663",
        "outputId": "22335263-408d-465d-8e89-991412d856fa"
      },
      "source": [
        "from tensorflow.keras.utils import Sequence\n",
        "import numpy as np\n",
        "import os\n",
        "import tensorflow as tf\n",
        "\n",
        "class CustomOversamplingGenerator(Sequence):\n",
        "    \"\"\"\n",
        "    Custom data generator for oversampling the minority class to a specified ratio.\n",
        "    \"\"\"\n",
        "    def __init__(self, dataset_base_path, subset, class_names, batch_size, minority_ratio=0.5, img_height=224, img_width=224):\n",
        "        self.dataset_base_path = dataset_base_path\n",
        "        self.subset = subset\n",
        "        self.class_names = class_names\n",
        "        self.batch_size = batch_size\n",
        "        self.minority_ratio = minority_ratio # Ratio of minority to majority class (e.g., 0.5 for 1:2)\n",
        "        self.img_height = img_height\n",
        "        self.img_width = img_width\n",
        "        self.class_indices = {name: i for i, name in enumerate(class_names)}\n",
        "        self.image_paths = []\n",
        "        self.labels = []\n",
        "\n",
        "        # Collect all image paths and labels from the specified subset directory\n",
        "        for class_name in self.class_names:\n",
        "            class_dir = os.path.join(self.dataset_base_path, self.subset, class_name)\n",
        "            if os.path.exists(class_dir):\n",
        "                for img_name in os.listdir(class_dir):\n",
        "                    if img_name.lower().endswith(('.png', '.jpg', '.jpeg')):\n",
        "                        self.image_paths.append(os.path.join(class_dir, img_name))\n",
        "                        self.labels.append(self.class_indices[class_name])\n",
        "            else:\n",
        "                print(f\"Directory not found: {class_dir}\")\n",
        "\n",
        "\n",
        "        # Separate indices for minority and majority classes\n",
        "        # Assuming the class with fewer images is the minority class\n",
        "        class_counts = {name: 0 for name in self.class_names}\n",
        "        for label in self.labels:\n",
        "            class_counts[self.class_names[label]] += 1\n",
        "\n",
        "        sorted_classes = sorted(class_counts.items(), key=lambda item: item[1])\n",
        "        self.minority_class_name = sorted_classes[0][0]\n",
        "        self.majority_class_name = sorted_classes[-1][0]\n",
        "        self.minority_count = sorted_classes[0][1]\n",
        "        self.majority_count = sorted_classes[-1][1]\n",
        "\n",
        "        self.minority_indices = [i for i, label in enumerate(self.labels) if self.class_names[label] == self.minority_class_name]\n",
        "        self.majority_indices = [i for i, label in enumerate(self.labels) if self.class_names[label] == self.majority_class_name]\n",
        "\n",
        "        print(f\"Original {self.subset} set distribution:\")\n",
        "        print(f\"  {self.minority_class_name}: {self.minority_count} images\")\n",
        "        print(f\"  {self.majority_class_name}: {self.majority_count} images\")\n",
        "\n",
        "\n",
        "        self.on_epoch_end() # Initialize indices\n",
        "\n",
        "    def __len__(self):\n",
        "        # Number of batches per epoch. We'll calculate this based on the\n",
        "        # target number of samples after oversampling.\n",
        "        # Target minority samples = majority_count * minority_ratio\n",
        "        # Total samples per epoch = majority_count + (majority_count * minority_ratio)\n",
        "        target_total_samples = self.majority_count + int(self.majority_count * self.minority_ratio)\n",
        "        return int(np.ceil(target_total_samples / self.batch_size))\n",
        "\n",
        "\n",
        "    def __getitem__(self, index):\n",
        "        # Generate one batch of data\n",
        "        batch_indices = self.indices[index * self.batch_size:(index + 1) * self.batch_size]\n",
        "        batch_image_paths = [self.image_paths[i] for i in batch_indices]\n",
        "        batch_labels = [self.labels[i] for i in batch_indices]\n",
        "\n",
        "        # Load and preprocess images\n",
        "        batch_images = []\n",
        "        batch_labels_one_hot = []\n",
        "        for img_path, label in zip(batch_image_paths, batch_labels):\n",
        "            img = tf.keras.utils.load_img(img_path, target_size=(self.img_height, self.img_width))\n",
        "            img_array = tf.keras.utils.img_to_array(img)\n",
        "            # Optional: Add preprocessing like normalization here\n",
        "            img_array = img_array / 255.0 # Normalize pixel values to [0, 1]\n",
        "            batch_images.append(img_array)\n",
        "\n",
        "            # Convert labels to one-hot encoding\n",
        "            one_hot_label = tf.keras.utils.to_categorical(label, num_classes=len(self.class_names))\n",
        "            batch_labels_one_hot.append(one_hot_label)\n",
        "\n",
        "\n",
        "        return np.array(batch_images), np.array(batch_labels_one_hot)\n",
        "\n",
        "    def on_epoch_end(self):\n",
        "        # Resample indices at the end of each epoch\n",
        "        # Calculate the number of minority samples needed for the target ratio\n",
        "        target_minority_samples = int(len(self.majority_indices) * self.minority_ratio)\n",
        "\n",
        "        # Oversample minority class\n",
        "        oversampled_minority_indices = np.random.choice(\n",
        "            self.minority_indices,\n",
        "            size=target_minority_samples,\n",
        "            replace=True # Sample with replacement\n",
        "        )\n",
        "\n",
        "        # Combine oversampled minority indices with majority indices\n",
        "        self.indices = np.concatenate([oversampled_minority_indices, self.majority_indices])\n",
        "\n",
        "        # Shuffle the combined indices\n",
        "        np.random.shuffle(self.indices)\n",
        "\n",
        "\n",
        "# Define the base path to the cropped dataset in Google Drive\n",
        "cropped_dataset_base_path = '/content/drive/MyDrive/my_galapagos_seals_cropped_dataset'\n",
        "\n",
        "# Define image dimensions (should match the input size of the models)\n",
        "img_height = 224\n",
        "img_width = 224\n",
        "\n",
        "# Define batch size\n",
        "batch_size = 32\n",
        "\n",
        "# Get class names from the previously loaded dataset or define them\n",
        "# Assuming class_names are already defined from the initial dataset loading\n",
        "if 'class_names' not in locals():\n",
        "     class_names = ['Arctocephalus_galapagoensis', 'Zalophus_wollebaeki']\n",
        "\n",
        "\n",
        "# Create the oversampled training generator with a 1:2 ratio (minority_ratio=0.5)\n",
        "oversampled_train_generator_1_2 = CustomOversamplingGenerator(\n",
        "    dataset_base_path=cropped_dataset_base_path,\n",
        "    subset='train',\n",
        "    class_names=class_names,\n",
        "    batch_size=batch_size,\n",
        "    minority_ratio=0.5, # 1:2 ratio\n",
        "    img_height=img_height,\n",
        "    img_width=img_width\n",
        ")\n",
        "\n",
        "print(\"\\nOversampled training generator (1:2 ratio) created.\")\n",
        "print(f\"Number of batches per epoch in oversampled generator: {len(oversampled_train_generator_1_2)}\")\n",
        "\n",
        "# We will still use the original imbalanced validation and test sets for evaluation\n",
        "# These were loaded as tf.data.Dataset objects in a previous step (train_ds, val_ds, test_ds)\n",
        "# Let's ensure they are available or remind the user to load them if needed.\n",
        "# Assuming train_ds, val_ds, test_ds are already loaded from the initial step.\n",
        "# If not, you would need to regenerate that cell."
      ],
      "execution_count": null,
      "outputs": [
        {
          "output_type": "stream",
          "name": "stdout",
          "text": [
            "Original train set distribution:\n",
            "  Arctocephalus_galapagoensis: 45 images\n",
            "  Zalophus_wollebaeki: 404 images\n",
            "\n",
            "Oversampled training generator (1:2 ratio) created.\n",
            "Number of batches per epoch in oversampled generator: 19\n"
          ]
        }
      ]
    },
    {
      "cell_type": "code",
      "metadata": {
        "colab": {
          "base_uri": "https://localhost:8080/",
          "height": 819
        },
        "id": "045cc1be",
        "outputId": "0528f803-88dc-47eb-89e6-8f0b3b5fbaf6"
      },
      "source": [
        "import tensorflow as tf\n",
        "from tensorflow.keras.models import Sequential\n",
        "from tensorflow.keras.layers import Dense, Flatten, Dropout\n",
        "from tensorflow.keras.applications import VGG16\n",
        "from tensorflow.keras.optimizers import Adam\n",
        "import json\n",
        "import os\n",
        "\n",
        "# Define the number of classes (assuming class_names is defined)\n",
        "num_classes = len(class_names)\n",
        "\n",
        "# Define the path to save the VGG16 model trained on oversampled data\n",
        "save_dir_vgg16_oversampled = '/content/drive/MyDrive/GalapagosSealsMerged/classification_models/vgg16_oversampled_1_2_ratio'\n",
        "os.makedirs(save_dir_vgg16_oversampled, exist_ok=True)\n",
        "\n",
        "# Load the VGG16 model with pre-trained weights (excluding the top classification layer)\n",
        "vgg16_base_oversampled = VGG16(weights='imagenet', include_top=False, input_shape=(img_height, img_width, 3))\n",
        "\n",
        "# Freeze the convolutional base\n",
        "vgg16_base_oversampled.trainable = False\n",
        "\n",
        "# Create the VGG16 classification model for oversampled data\n",
        "vgg16_model_oversampled = Sequential([\n",
        "    vgg16_base_oversampled,\n",
        "    Flatten(),\n",
        "    Dense(256, activation='relu'),\n",
        "    Dropout(0.5),\n",
        "    Dense(num_classes, activation='softmax') # Output layer with softmax for classification\n",
        "])\n",
        "\n",
        "# Compile the model\n",
        "vgg16_model_oversampled.compile(optimizer=Adam(learning_rate=0.001),\n",
        "                                 loss='categorical_crossentropy',\n",
        "                                 metrics=['accuracy'])\n",
        "\n",
        "# Print the model summary\n",
        "vgg16_model_oversampled.summary()\n",
        "\n",
        "\n",
        "# Define callbacks for training (optional but recommended)\n",
        "callbacks_vgg16_oversampled = [\n",
        "    tf.keras.callbacks.EarlyStopping(monitor='val_loss', patience=10, restore_best_weights=True),\n",
        "    tf.keras.callbacks.ModelCheckpoint(filepath=os.path.join(save_dir_vgg16_oversampled, 'best_vgg16_oversampled_model.h5'),\n",
        "                                       monitor='val_loss',\n",
        "                                       save_best_only=True)\n",
        "]\n",
        "\n",
        "print(\"\\nTraining VGG16 model on oversampled dataset (1:2 ratio)...\")\n",
        "\n",
        "# Train the VGG16 model on the oversampled dataset using the custom generator\n",
        "history_vgg16_oversampled = vgg16_model_oversampled.fit(\n",
        "    oversampled_train_generator_1_2, # Use the oversampled generator\n",
        "    epochs=50, # You can adjust the number of epochs\n",
        "    validation_data=val_ds, # Use the original imbalanced validation set\n",
        "    callbacks=callbacks_vgg16_oversampled\n",
        ")\n",
        "\n",
        "# Save the trained model (best weights)\n",
        "vgg16_model_oversampled.save(os.path.join(save_dir_vgg16_oversampled, 'final_vgg16_oversampled_model.h5'))\n",
        "\n",
        "# Save the model configuration\n",
        "model_config_vgg16_oversampled = vgg16_model_oversampled.to_json()\n",
        "with open(os.path.join(save_dir_vgg16_oversampled, 'vgg16_oversampled_config.json'), 'w') as f:\n",
        "    json.dump(json.loads(model_config_vgg16_oversampled), f, indent=4)\n",
        "\n",
        "print(f\"\\nVGG16 model for oversampled dataset trained and saved to {save_dir_vgg16_oversampled}\")"
      ],
      "execution_count": null,
      "outputs": [
        {
          "output_type": "display_data",
          "data": {
            "text/plain": [
              "\u001b[1mModel: \"sequential_5\"\u001b[0m\n"
            ],
            "text/html": [
              "<pre style=\"white-space:pre;overflow-x:auto;line-height:normal;font-family:Menlo,'DejaVu Sans Mono',consolas,'Courier New',monospace\"><span style=\"font-weight: bold\">Model: \"sequential_5\"</span>\n",
              "</pre>\n"
            ]
          },
          "metadata": {}
        },
        {
          "output_type": "display_data",
          "data": {
            "text/plain": [
              "┏━━━━━━━━━━━━━━━━━━━━━━━━━━━━━━━━━┳━━━━━━━━━━━━━━━━━━━━━━━━┳━━━━━━━━━━━━━━━┓\n",
              "┃\u001b[1m \u001b[0m\u001b[1mLayer (type)                   \u001b[0m\u001b[1m \u001b[0m┃\u001b[1m \u001b[0m\u001b[1mOutput Shape          \u001b[0m\u001b[1m \u001b[0m┃\u001b[1m \u001b[0m\u001b[1m      Param #\u001b[0m\u001b[1m \u001b[0m┃\n",
              "┡━━━━━━━━━━━━━━━━━━━━━━━━━━━━━━━━━╇━━━━━━━━━━━━━━━━━━━━━━━━╇━━━━━━━━━━━━━━━┩\n",
              "│ vgg16 (\u001b[38;5;33mFunctional\u001b[0m)              │ (\u001b[38;5;45mNone\u001b[0m, \u001b[38;5;34m7\u001b[0m, \u001b[38;5;34m7\u001b[0m, \u001b[38;5;34m512\u001b[0m)      │    \u001b[38;5;34m14,714,688\u001b[0m │\n",
              "├─────────────────────────────────┼────────────────────────┼───────────────┤\n",
              "│ flatten_5 (\u001b[38;5;33mFlatten\u001b[0m)             │ (\u001b[38;5;45mNone\u001b[0m, \u001b[38;5;34m25088\u001b[0m)          │             \u001b[38;5;34m0\u001b[0m │\n",
              "├─────────────────────────────────┼────────────────────────┼───────────────┤\n",
              "│ dense_10 (\u001b[38;5;33mDense\u001b[0m)                │ (\u001b[38;5;45mNone\u001b[0m, \u001b[38;5;34m256\u001b[0m)            │     \u001b[38;5;34m6,422,784\u001b[0m │\n",
              "├─────────────────────────────────┼────────────────────────┼───────────────┤\n",
              "│ dropout_5 (\u001b[38;5;33mDropout\u001b[0m)             │ (\u001b[38;5;45mNone\u001b[0m, \u001b[38;5;34m256\u001b[0m)            │             \u001b[38;5;34m0\u001b[0m │\n",
              "├─────────────────────────────────┼────────────────────────┼───────────────┤\n",
              "│ dense_11 (\u001b[38;5;33mDense\u001b[0m)                │ (\u001b[38;5;45mNone\u001b[0m, \u001b[38;5;34m2\u001b[0m)              │           \u001b[38;5;34m514\u001b[0m │\n",
              "└─────────────────────────────────┴────────────────────────┴───────────────┘\n"
            ],
            "text/html": [
              "<pre style=\"white-space:pre;overflow-x:auto;line-height:normal;font-family:Menlo,'DejaVu Sans Mono',consolas,'Courier New',monospace\">┏━━━━━━━━━━━━━━━━━━━━━━━━━━━━━━━━━┳━━━━━━━━━━━━━━━━━━━━━━━━┳━━━━━━━━━━━━━━━┓\n",
              "┃<span style=\"font-weight: bold\"> Layer (type)                    </span>┃<span style=\"font-weight: bold\"> Output Shape           </span>┃<span style=\"font-weight: bold\">       Param # </span>┃\n",
              "┡━━━━━━━━━━━━━━━━━━━━━━━━━━━━━━━━━╇━━━━━━━━━━━━━━━━━━━━━━━━╇━━━━━━━━━━━━━━━┩\n",
              "│ vgg16 (<span style=\"color: #0087ff; text-decoration-color: #0087ff\">Functional</span>)              │ (<span style=\"color: #00d7ff; text-decoration-color: #00d7ff\">None</span>, <span style=\"color: #00af00; text-decoration-color: #00af00\">7</span>, <span style=\"color: #00af00; text-decoration-color: #00af00\">7</span>, <span style=\"color: #00af00; text-decoration-color: #00af00\">512</span>)      │    <span style=\"color: #00af00; text-decoration-color: #00af00\">14,714,688</span> │\n",
              "├─────────────────────────────────┼────────────────────────┼───────────────┤\n",
              "│ flatten_5 (<span style=\"color: #0087ff; text-decoration-color: #0087ff\">Flatten</span>)             │ (<span style=\"color: #00d7ff; text-decoration-color: #00d7ff\">None</span>, <span style=\"color: #00af00; text-decoration-color: #00af00\">25088</span>)          │             <span style=\"color: #00af00; text-decoration-color: #00af00\">0</span> │\n",
              "├─────────────────────────────────┼────────────────────────┼───────────────┤\n",
              "│ dense_10 (<span style=\"color: #0087ff; text-decoration-color: #0087ff\">Dense</span>)                │ (<span style=\"color: #00d7ff; text-decoration-color: #00d7ff\">None</span>, <span style=\"color: #00af00; text-decoration-color: #00af00\">256</span>)            │     <span style=\"color: #00af00; text-decoration-color: #00af00\">6,422,784</span> │\n",
              "├─────────────────────────────────┼────────────────────────┼───────────────┤\n",
              "│ dropout_5 (<span style=\"color: #0087ff; text-decoration-color: #0087ff\">Dropout</span>)             │ (<span style=\"color: #00d7ff; text-decoration-color: #00d7ff\">None</span>, <span style=\"color: #00af00; text-decoration-color: #00af00\">256</span>)            │             <span style=\"color: #00af00; text-decoration-color: #00af00\">0</span> │\n",
              "├─────────────────────────────────┼────────────────────────┼───────────────┤\n",
              "│ dense_11 (<span style=\"color: #0087ff; text-decoration-color: #0087ff\">Dense</span>)                │ (<span style=\"color: #00d7ff; text-decoration-color: #00d7ff\">None</span>, <span style=\"color: #00af00; text-decoration-color: #00af00\">2</span>)              │           <span style=\"color: #00af00; text-decoration-color: #00af00\">514</span> │\n",
              "└─────────────────────────────────┴────────────────────────┴───────────────┘\n",
              "</pre>\n"
            ]
          },
          "metadata": {}
        },
        {
          "output_type": "display_data",
          "data": {
            "text/plain": [
              "\u001b[1m Total params: \u001b[0m\u001b[38;5;34m21,137,986\u001b[0m (80.64 MB)\n"
            ],
            "text/html": [
              "<pre style=\"white-space:pre;overflow-x:auto;line-height:normal;font-family:Menlo,'DejaVu Sans Mono',consolas,'Courier New',monospace\"><span style=\"font-weight: bold\"> Total params: </span><span style=\"color: #00af00; text-decoration-color: #00af00\">21,137,986</span> (80.64 MB)\n",
              "</pre>\n"
            ]
          },
          "metadata": {}
        },
        {
          "output_type": "display_data",
          "data": {
            "text/plain": [
              "\u001b[1m Trainable params: \u001b[0m\u001b[38;5;34m6,423,298\u001b[0m (24.50 MB)\n"
            ],
            "text/html": [
              "<pre style=\"white-space:pre;overflow-x:auto;line-height:normal;font-family:Menlo,'DejaVu Sans Mono',consolas,'Courier New',monospace\"><span style=\"font-weight: bold\"> Trainable params: </span><span style=\"color: #00af00; text-decoration-color: #00af00\">6,423,298</span> (24.50 MB)\n",
              "</pre>\n"
            ]
          },
          "metadata": {}
        },
        {
          "output_type": "display_data",
          "data": {
            "text/plain": [
              "\u001b[1m Non-trainable params: \u001b[0m\u001b[38;5;34m14,714,688\u001b[0m (56.13 MB)\n"
            ],
            "text/html": [
              "<pre style=\"white-space:pre;overflow-x:auto;line-height:normal;font-family:Menlo,'DejaVu Sans Mono',consolas,'Courier New',monospace\"><span style=\"font-weight: bold\"> Non-trainable params: </span><span style=\"color: #00af00; text-decoration-color: #00af00\">14,714,688</span> (56.13 MB)\n",
              "</pre>\n"
            ]
          },
          "metadata": {}
        },
        {
          "output_type": "stream",
          "name": "stdout",
          "text": [
            "\n",
            "Training VGG16 model on oversampled dataset (1:2 ratio)...\n"
          ]
        },
        {
          "output_type": "stream",
          "name": "stderr",
          "text": [
            "/usr/local/lib/python3.12/dist-packages/keras/src/trainers/data_adapters/py_dataset_adapter.py:121: UserWarning: Your `PyDataset` class should call `super().__init__(**kwargs)` in its constructor. `**kwargs` can include `workers`, `use_multiprocessing`, `max_queue_size`. Do not pass these arguments to `fit()`, as they will be ignored.\n",
            "  self._warn_if_super_not_called()\n"
          ]
        },
        {
          "output_type": "stream",
          "name": "stdout",
          "text": [
            "Epoch 1/50\n",
            "\u001b[1m19/19\u001b[0m \u001b[32m━━━━━━━━━━━━━━━━━━━━\u001b[0m\u001b[37m\u001b[0m \u001b[1m0s\u001b[0m 934ms/step - accuracy: 0.6121 - loss: 2.9873"
          ]
        },
        {
          "output_type": "stream",
          "name": "stderr",
          "text": [
            "WARNING:absl:You are saving your model as an HDF5 file via `model.save()` or `keras.saving.save_model(model)`. This file format is considered legacy. We recommend using instead the native Keras format, e.g. `model.save('my_model.keras')` or `keras.saving.save_model(model, 'my_model.keras')`. \n"
          ]
        },
        {
          "output_type": "stream",
          "name": "stdout",
          "text": [
            "\b\b\b\b\b\b\b\b\b\b\b\b\b\b\b\b\b\b\b\b\b\b\b\b\b\b\b\b\b\b\b\b\b\b\b\b\b\b\b\b\b\b\b\b\b\b\b\b\b\b\b\b\b\b\b\b\b\b\b\b\b\b\b\b\b\b\b\b\b\b\b\b\b\b\r\u001b[1m19/19\u001b[0m \u001b[32m━━━━━━━━━━━━━━━━━━━━\u001b[0m\u001b[37m\u001b[0m \u001b[1m22s\u001b[0m 1s/step - accuracy: 0.6151 - loss: 2.9315 - val_accuracy: 0.9500 - val_loss: 1.2490\n",
            "Epoch 2/50\n",
            "\u001b[1m19/19\u001b[0m \u001b[32m━━━━━━━━━━━━━━━━━━━━\u001b[0m\u001b[37m\u001b[0m \u001b[1m4s\u001b[0m 202ms/step - accuracy: 0.8738 - loss: 0.2728 - val_accuracy: 0.9333 - val_loss: 6.6463\n",
            "Epoch 3/50\n",
            "\u001b[1m19/19\u001b[0m \u001b[32m━━━━━━━━━━━━━━━━━━━━\u001b[0m\u001b[37m\u001b[0m \u001b[1m4s\u001b[0m 189ms/step - accuracy: 0.9446 - loss: 0.1632 - val_accuracy: 0.9333 - val_loss: 7.7509\n",
            "Epoch 4/50\n",
            "\u001b[1m19/19\u001b[0m \u001b[32m━━━━━━━━━━━━━━━━━━━━\u001b[0m\u001b[37m\u001b[0m \u001b[1m4s\u001b[0m 210ms/step - accuracy: 0.9762 - loss: 0.0823 - val_accuracy: 0.9333 - val_loss: 7.4110\n",
            "Epoch 5/50\n",
            "\u001b[1m19/19\u001b[0m \u001b[32m━━━━━━━━━━━━━━━━━━━━\u001b[0m\u001b[37m\u001b[0m \u001b[1m4s\u001b[0m 202ms/step - accuracy: 0.9936 - loss: 0.0413 - val_accuracy: 0.9333 - val_loss: 8.7281\n",
            "Epoch 6/50\n",
            "\u001b[1m19/19\u001b[0m \u001b[32m━━━━━━━━━━━━━━━━━━━━\u001b[0m\u001b[37m\u001b[0m \u001b[1m4s\u001b[0m 187ms/step - accuracy: 0.9961 - loss: 0.0311 - val_accuracy: 0.9333 - val_loss: 8.5096\n",
            "Epoch 7/50\n",
            "\u001b[1m19/19\u001b[0m \u001b[32m━━━━━━━━━━━━━━━━━━━━\u001b[0m\u001b[37m\u001b[0m \u001b[1m4s\u001b[0m 187ms/step - accuracy: 0.9984 - loss: 0.0273 - val_accuracy: 0.9333 - val_loss: 9.2423\n",
            "Epoch 8/50\n",
            "\u001b[1m19/19\u001b[0m \u001b[32m━━━━━━━━━━━━━━━━━━━━\u001b[0m\u001b[37m\u001b[0m \u001b[1m4s\u001b[0m 189ms/step - accuracy: 0.9982 - loss: 0.0170 - val_accuracy: 0.9333 - val_loss: 7.9716\n",
            "Epoch 9/50\n",
            "\u001b[1m19/19\u001b[0m \u001b[32m━━━━━━━━━━━━━━━━━━━━\u001b[0m\u001b[37m\u001b[0m \u001b[1m4s\u001b[0m 190ms/step - accuracy: 1.0000 - loss: 0.0131 - val_accuracy: 0.9333 - val_loss: 8.6216\n",
            "Epoch 10/50\n",
            "\u001b[1m19/19\u001b[0m \u001b[32m━━━━━━━━━━━━━━━━━━━━\u001b[0m\u001b[37m\u001b[0m \u001b[1m4s\u001b[0m 187ms/step - accuracy: 0.9976 - loss: 0.0132 - val_accuracy: 0.9333 - val_loss: 9.0223\n",
            "Epoch 11/50\n",
            "\u001b[1m19/19\u001b[0m \u001b[32m━━━━━━━━━━━━━━━━━━━━\u001b[0m\u001b[37m\u001b[0m \u001b[1m4s\u001b[0m 197ms/step - accuracy: 0.9989 - loss: 0.0086 - val_accuracy: 0.9333 - val_loss: 8.7272\n"
          ]
        },
        {
          "output_type": "stream",
          "name": "stderr",
          "text": [
            "WARNING:absl:You are saving your model as an HDF5 file via `model.save()` or `keras.saving.save_model(model)`. This file format is considered legacy. We recommend using instead the native Keras format, e.g. `model.save('my_model.keras')` or `keras.saving.save_model(model, 'my_model.keras')`. \n"
          ]
        },
        {
          "output_type": "stream",
          "name": "stdout",
          "text": [
            "\n",
            "VGG16 model for oversampled dataset trained and saved to /content/drive/MyDrive/GalapagosSealsMerged/classification_models/vgg16_oversampled_1_2_ratio\n"
          ]
        }
      ]
    },
    {
      "cell_type": "code",
      "metadata": {
        "colab": {
          "base_uri": "https://localhost:8080/"
        },
        "id": "4088989f",
        "outputId": "4dea93d0-29ee-4958-b37c-265fa7722aaf"
      },
      "source": [
        "# Evaluate the VGG16 model on the oversampled validation set\n",
        "print(\"Evaluating VGG16 model on the oversampled validation set:\")\n",
        "val_loss_vgg16_oversampled, val_accuracy_vgg16_oversampled = vgg16_model_oversampled.evaluate(val_ds)\n",
        "print(f\"Validation Loss (Oversampled): {val_loss_vgg16_oversampled:.4f}\")\n",
        "print(f\"Validation Accuracy (Oversampled): {val_accuracy_vgg16_oversampled:.4f}\")\n",
        "\n",
        "# Evaluate the VGG16 model on the oversampled test set\n",
        "print(\"\\nEvaluating VGG16 model on the oversampled test set:\")\n",
        "test_loss_vgg16_oversampled, test_accuracy_vgg16_oversampled = vgg16_model_oversampled.evaluate(test_ds)\n",
        "print(f\"Test Loss (Oversampled): {test_loss_vgg16_oversampled:.4f}\")\n",
        "print(f\"Test Accuracy (Oversampled): {test_accuracy_vgg16_oversampled:.4f}\")"
      ],
      "execution_count": null,
      "outputs": [
        {
          "output_type": "stream",
          "name": "stdout",
          "text": [
            "Evaluating VGG16 model on the oversampled validation set:\n",
            "\u001b[1m2/2\u001b[0m \u001b[32m━━━━━━━━━━━━━━━━━━━━\u001b[0m\u001b[37m\u001b[0m \u001b[1m0s\u001b[0m 193ms/step - accuracy: 0.9563 - loss: 1.1891\n",
            "Validation Loss (Oversampled): 1.2490\n",
            "Validation Accuracy (Oversampled): 0.9500\n",
            "\n",
            "Evaluating VGG16 model on the oversampled test set:\n",
            "\u001b[1m2/2\u001b[0m \u001b[32m━━━━━━━━━━━━━━━━━━━━\u001b[0m\u001b[37m\u001b[0m \u001b[1m1s\u001b[0m 702ms/step - accuracy: 0.8600 - loss: 5.5128\n",
            "Test Loss (Oversampled): 5.4538\n",
            "Test Accuracy (Oversampled): 0.8525\n"
          ]
        }
      ]
    },
    {
      "cell_type": "code",
      "metadata": {
        "colab": {
          "base_uri": "https://localhost:8080/",
          "height": 1000
        },
        "id": "2d76fef9",
        "outputId": "7455695b-a75b-4136-f4d3-0f68e42961b5"
      },
      "source": [
        "from sklearn.metrics import classification_report, confusion_matrix\n",
        "import numpy as np\n",
        "import seaborn as sns\n",
        "import matplotlib.pyplot as plt\n",
        "\n",
        "# Get class names (assuming class_names is defined from previous steps)\n",
        "if 'class_names' not in locals():\n",
        "    class_names = ['Arctocephalus_galapagoensis', 'Zalophus_wollebaeki']\n",
        "    print(f\"Using default class names: {class_names}\")\n",
        "\n",
        "# --- Evaluate on Test Set ---\n",
        "# Get true labels from the test dataset\n",
        "test_true_labels = []\n",
        "for images, labels in test_ds:\n",
        "    test_true_labels.extend(np.argmax(labels.numpy(), axis=1))\n",
        "test_true_labels = np.array(test_true_labels)\n",
        "\n",
        "# Get predicted labels from the VGG16 oversampled model on the test dataset\n",
        "test_predictions_oversampled_vgg16 = vgg16_model_oversampled.predict(test_ds)\n",
        "test_predicted_labels_oversampled_vgg16 = np.argmax(test_predictions_oversampled_vgg16, axis=1)\n",
        "\n",
        "# Generate and print the classification report for the test set\n",
        "print(\"Classification Report for VGG16 model on Oversampled Test Set:\")\n",
        "print(classification_report(test_true_labels, test_predicted_labels_oversampled_vgg16, target_names=class_names))\n",
        "\n",
        "# Generate confusion matrix for the test set\n",
        "test_cm_oversampled_vgg16 = confusion_matrix(test_true_labels, test_predicted_labels_oversampled_vgg16)\n",
        "\n",
        "# Plot confusion matrix for the test set using seaborn\n",
        "plt.figure(figsize=(8, 6))\n",
        "sns.heatmap(test_cm_oversampled_vgg16, annot=True, fmt='d', cmap='Blues', xticklabels=class_names, yticklabels=class_names)\n",
        "plt.title('Confusion Matrix - VGG16 on Oversampled Test Set')\n",
        "plt.xlabel('Predicted Label')\n",
        "plt.ylabel('True Label')\n",
        "plt.show()\n",
        "\n",
        "\n",
        "# --- Evaluate on Validation Set ---\n",
        "# Get true labels from the validation dataset\n",
        "val_true_labels = []\n",
        "for images, labels in val_ds:\n",
        "    val_true_labels.extend(np.argmax(labels.numpy(), axis=1))\n",
        "val_true_labels = np.array(val_true_labels)\n",
        "\n",
        "# Get predicted labels from the VGG16 oversampled model on the validation dataset\n",
        "val_predictions_oversampled_vgg16 = vgg16_model_oversampled.predict(val_ds)\n",
        "val_predicted_labels_oversampled_vgg16 = np.argmax(val_predictions_oversampled_vgg16, axis=1)\n",
        "\n",
        "# Generate and print the classification report for the validation set\n",
        "print(\"\\nClassification Report for VGG16 model on Oversampled Validation Set:\")\n",
        "print(classification_report(val_true_labels, val_predicted_labels_oversampled_vgg16, target_names=class_names))\n",
        "\n",
        "# Generate confusion matrix for the validation set\n",
        "val_cm_oversampled_vgg16 = confusion_matrix(val_true_labels, val_predicted_labels_oversampled_vgg16)\n",
        "\n",
        "# Plot confusion matrix for the validation set using seaborn\n",
        "plt.figure(figsize=(8, 6))\n",
        "sns.heatmap(val_cm_oversampled_vgg16, annot=True, fmt='d', cmap='Blues', xticklabels=class_names, yticklabels=class_names)\n",
        "plt.title('Confusion Matrix - VGG16 on Oversampled Validation Set')\n",
        "plt.xlabel('Predicted Label')\n",
        "plt.ylabel('True Label')\n",
        "plt.show()"
      ],
      "execution_count": null,
      "outputs": [
        {
          "output_type": "stream",
          "name": "stdout",
          "text": [
            "\u001b[1m2/2\u001b[0m \u001b[32m━━━━━━━━━━━━━━━━━━━━\u001b[0m\u001b[37m\u001b[0m \u001b[1m2s\u001b[0m 771ms/step\n",
            "Classification Report for VGG16 model on Oversampled Test Set:\n",
            "                             precision    recall  f1-score   support\n",
            "\n",
            "Arctocephalus_galapagoensis       0.36      0.67      0.47         6\n",
            "        Zalophus_wollebaeki       0.96      0.87      0.91        55\n",
            "\n",
            "                   accuracy                           0.85        61\n",
            "                  macro avg       0.66      0.77      0.69        61\n",
            "               weighted avg       0.90      0.85      0.87        61\n",
            "\n"
          ]
        },
        {
          "output_type": "display_data",
          "data": {
            "text/plain": [
              "<Figure size 800x600 with 2 Axes>"
            ],
            "image/png": "[encoded data removed]"
          },
          "metadata": {}
        },
        {
          "output_type": "stream",
          "name": "stdout",
          "text": [
            "\u001b[1m2/2\u001b[0m \u001b[32m━━━━━━━━━━━━━━━━━━━━\u001b[0m\u001b[37m\u001b[0m \u001b[1m1s\u001b[0m 572ms/step\n",
            "\n",
            "Classification Report for VGG16 model on Oversampled Validation Set:\n",
            "                             precision    recall  f1-score   support\n",
            "\n",
            "Arctocephalus_galapagoensis       0.57      1.00      0.73         4\n",
            "        Zalophus_wollebaeki       1.00      0.95      0.97        56\n",
            "\n",
            "                   accuracy                           0.95        60\n",
            "                  macro avg       0.79      0.97      0.85        60\n",
            "               weighted avg       0.97      0.95      0.96        60\n",
            "\n"
          ]
        },
        {
          "output_type": "display_data",
          "data": {
            "text/plain": [
              "<Figure size 800x600 with 2 Axes>"
            ],
            "image/png": "[encoded data removed]"
          },
          "metadata": {}
        }
      ]
    },
    {
      "cell_type": "code",
      "metadata": {
        "colab": {
          "base_uri": "https://localhost:8080/",
          "height": 836
        },
        "id": "928f1b50",
        "outputId": "3010c212-395d-4982-e815-18b8f55c400d"
      },
      "source": [
        "import tensorflow as tf\n",
        "from tensorflow.keras.models import Sequential\n",
        "from tensorflow.keras.layers import Dense, Flatten, Dropout\n",
        "from tensorflow.keras.applications import ResNet50V2\n",
        "from tensorflow.keras.optimizers import Adam\n",
        "import json\n",
        "import os\n",
        "\n",
        "# Define the number of classes (assuming class_names is defined)\n",
        "num_classes = len(class_names)\n",
        "\n",
        "# Define the path to save the ResNet50V2 model trained on oversampled data\n",
        "save_dir_resnet_oversampled = '/content/drive/MyDrive/GalapagosSealsMerged/classification_models/resnet50v2_oversampled_1_2_ratio'\n",
        "os.makedirs(save_dir_resnet_oversampled, exist_ok=True)\n",
        "\n",
        "# Load the ResNet50V2 model with pre-trained weights (excluding the top classification layer)\n",
        "resnet_base_oversampled = ResNet50V2(weights='imagenet', include_top=False, input_shape=(img_height, img_width, 3))\n",
        "\n",
        "# Freeze the convolutional base\n",
        "resnet_base_oversampled.trainable = False\n",
        "\n",
        "# Create the ResNet50V2 classification model for oversampled data\n",
        "resnet_model_oversampled = Sequential([\n",
        "    resnet_base_oversampled,\n",
        "    Flatten(),\n",
        "    Dense(256, activation='relu'),\n",
        "    Dropout(0.5),\n",
        "    Dense(num_classes, activation='softmax') # Output layer with softmax for classification\n",
        "])\n",
        "\n",
        "# Compile the model\n",
        "resnet_model_oversampled.compile(optimizer=Adam(learning_rate=0.001),\n",
        "                                 loss='categorical_crossentropy',\n",
        "                                 metrics=['accuracy'])\n",
        "\n",
        "# Print the model summary\n",
        "resnet_model_oversampled.summary()\n",
        "\n",
        "\n",
        "# Define callbacks for training (optional but recommended)\n",
        "callbacks_resnet_oversampled = [\n",
        "    tf.keras.callbacks.EarlyStopping(monitor='val_loss', patience=10, restore_best_weights=True),\n",
        "    tf.keras.callbacks.ModelCheckpoint(filepath=os.path.join(save_dir_resnet_oversampled, 'best_resnet50v2_oversampled_model.h5'),\n",
        "                                       monitor='val_loss',\n",
        "                                       save_best_only=True)\n",
        "]\n",
        "\n",
        "print(\"\\nTraining ResNet50V2 model on oversampled dataset (1:2 ratio)...\")\n",
        "\n",
        "# Train the ResNet50V2 model on the oversampled dataset using the custom generator\n",
        "history_resnet_oversampled = resnet_model_oversampled.fit(\n",
        "    oversampled_train_generator_1_2, # Use the oversampled generator\n",
        "    epochs=50, # You can adjust the number of epochs\n",
        "    validation_data=val_ds, # Use the original imbalanced validation set\n",
        "    callbacks=callbacks_resnet_oversampled\n",
        ")\n",
        "\n",
        "# Save the trained model (best weights)\n",
        "resnet_model_oversampled.save(os.path.join(save_dir_resnet_oversampled, 'final_resnet50v2_oversampled_model.h5'))\n",
        "\n",
        "# Save the model configuration\n",
        "model_config_resnet_oversampled = resnet_model_oversampled.to_json()\n",
        "with open(os.path.join(save_dir_resnet_oversampled, 'resnet50v2_oversampled_config.json'), 'w') as f:\n",
        "    json.dump(json.loads(model_config_resnet_oversampled), f, indent=4)\n",
        "\n",
        "print(f\"\\nResNet50V2 model for oversampled dataset trained and saved to {save_dir_resnet_oversampled}\")"
      ],
      "execution_count": null,
      "outputs": [
        {
          "output_type": "display_data",
          "data": {
            "text/plain": [
              "\u001b[1mModel: \"sequential_6\"\u001b[0m\n"
            ],
            "text/html": [
              "<pre style=\"white-space:pre;overflow-x:auto;line-height:normal;font-family:Menlo,'DejaVu Sans Mono',consolas,'Courier New',monospace\"><span style=\"font-weight: bold\">Model: \"sequential_6\"</span>\n",
              "</pre>\n"
            ]
          },
          "metadata": {}
        },
        {
          "output_type": "display_data",
          "data": {
            "text/plain": [
              "┏━━━━━━━━━━━━━━━━━━━━━━━━━━━━━━━━━┳━━━━━━━━━━━━━━━━━━━━━━━━┳━━━━━━━━━━━━━━━┓\n",
              "┃\u001b[1m \u001b[0m\u001b[1mLayer (type)                   \u001b[0m\u001b[1m \u001b[0m┃\u001b[1m \u001b[0m\u001b[1mOutput Shape          \u001b[0m\u001b[1m \u001b[0m┃\u001b[1m \u001b[0m\u001b[1m      Param #\u001b[0m\u001b[1m \u001b[0m┃\n",
              "┡━━━━━━━━━━━━━━━━━━━━━━━━━━━━━━━━━╇━━━━━━━━━━━━━━━━━━━━━━━━╇━━━━━━━━━━━━━━━┩\n",
              "│ resnet50v2 (\u001b[38;5;33mFunctional\u001b[0m)         │ (\u001b[38;5;45mNone\u001b[0m, \u001b[38;5;34m7\u001b[0m, \u001b[38;5;34m7\u001b[0m, \u001b[38;5;34m2048\u001b[0m)     │    \u001b[38;5;34m23,564,800\u001b[0m │\n",
              "├─────────────────────────────────┼────────────────────────┼───────────────┤\n",
              "│ flatten_6 (\u001b[38;5;33mFlatten\u001b[0m)             │ (\u001b[38;5;45mNone\u001b[0m, \u001b[38;5;34m100352\u001b[0m)         │             \u001b[38;5;34m0\u001b[0m │\n",
              "├─────────────────────────────────┼────────────────────────┼───────────────┤\n",
              "│ dense_12 (\u001b[38;5;33mDense\u001b[0m)                │ (\u001b[38;5;45mNone\u001b[0m, \u001b[38;5;34m256\u001b[0m)            │    \u001b[38;5;34m25,690,368\u001b[0m │\n",
              "├─────────────────────────────────┼────────────────────────┼───────────────┤\n",
              "│ dropout_6 (\u001b[38;5;33mDropout\u001b[0m)             │ (\u001b[38;5;45mNone\u001b[0m, \u001b[38;5;34m256\u001b[0m)            │             \u001b[38;5;34m0\u001b[0m │\n",
              "├─────────────────────────────────┼────────────────────────┼───────────────┤\n",
              "│ dense_13 (\u001b[38;5;33mDense\u001b[0m)                │ (\u001b[38;5;45mNone\u001b[0m, \u001b[38;5;34m2\u001b[0m)              │           \u001b[38;5;34m514\u001b[0m │\n",
              "└─────────────────────────────────┴────────────────────────┴───────────────┘\n"
            ],
            "text/html": [
              "<pre style=\"white-space:pre;overflow-x:auto;line-height:normal;font-family:Menlo,'DejaVu Sans Mono',consolas,'Courier New',monospace\">┏━━━━━━━━━━━━━━━━━━━━━━━━━━━━━━━━━┳━━━━━━━━━━━━━━━━━━━━━━━━┳━━━━━━━━━━━━━━━┓\n",
              "┃<span style=\"font-weight: bold\"> Layer (type)                    </span>┃<span style=\"font-weight: bold\"> Output Shape           </span>┃<span style=\"font-weight: bold\">       Param # </span>┃\n",
              "┡━━━━━━━━━━━━━━━━━━━━━━━━━━━━━━━━━╇━━━━━━━━━━━━━━━━━━━━━━━━╇━━━━━━━━━━━━━━━┩\n",
              "│ resnet50v2 (<span style=\"color: #0087ff; text-decoration-color: #0087ff\">Functional</span>)         │ (<span style=\"color: #00d7ff; text-decoration-color: #00d7ff\">None</span>, <span style=\"color: #00af00; text-decoration-color: #00af00\">7</span>, <span style=\"color: #00af00; text-decoration-color: #00af00\">7</span>, <span style=\"color: #00af00; text-decoration-color: #00af00\">2048</span>)     │    <span style=\"color: #00af00; text-decoration-color: #00af00\">23,564,800</span> │\n",
              "├─────────────────────────────────┼────────────────────────┼───────────────┤\n",
              "│ flatten_6 (<span style=\"color: #0087ff; text-decoration-color: #0087ff\">Flatten</span>)             │ (<span style=\"color: #00d7ff; text-decoration-color: #00d7ff\">None</span>, <span style=\"color: #00af00; text-decoration-color: #00af00\">100352</span>)         │             <span style=\"color: #00af00; text-decoration-color: #00af00\">0</span> │\n",
              "├─────────────────────────────────┼────────────────────────┼───────────────┤\n",
              "│ dense_12 (<span style=\"color: #0087ff; text-decoration-color: #0087ff\">Dense</span>)                │ (<span style=\"color: #00d7ff; text-decoration-color: #00d7ff\">None</span>, <span style=\"color: #00af00; text-decoration-color: #00af00\">256</span>)            │    <span style=\"color: #00af00; text-decoration-color: #00af00\">25,690,368</span> │\n",
              "├─────────────────────────────────┼────────────────────────┼───────────────┤\n",
              "│ dropout_6 (<span style=\"color: #0087ff; text-decoration-color: #0087ff\">Dropout</span>)             │ (<span style=\"color: #00d7ff; text-decoration-color: #00d7ff\">None</span>, <span style=\"color: #00af00; text-decoration-color: #00af00\">256</span>)            │             <span style=\"color: #00af00; text-decoration-color: #00af00\">0</span> │\n",
              "├─────────────────────────────────┼────────────────────────┼───────────────┤\n",
              "│ dense_13 (<span style=\"color: #0087ff; text-decoration-color: #0087ff\">Dense</span>)                │ (<span style=\"color: #00d7ff; text-decoration-color: #00d7ff\">None</span>, <span style=\"color: #00af00; text-decoration-color: #00af00\">2</span>)              │           <span style=\"color: #00af00; text-decoration-color: #00af00\">514</span> │\n",
              "└─────────────────────────────────┴────────────────────────┴───────────────┘\n",
              "</pre>\n"
            ]
          },
          "metadata": {}
        },
        {
          "output_type": "display_data",
          "data": {
            "text/plain": [
              "\u001b[1m Total params: \u001b[0m\u001b[38;5;34m49,255,682\u001b[0m (187.90 MB)\n"
            ],
            "text/html": [
              "<pre style=\"white-space:pre;overflow-x:auto;line-height:normal;font-family:Menlo,'DejaVu Sans Mono',consolas,'Courier New',monospace\"><span style=\"font-weight: bold\"> Total params: </span><span style=\"color: #00af00; text-decoration-color: #00af00\">49,255,682</span> (187.90 MB)\n",
              "</pre>\n"
            ]
          },
          "metadata": {}
        },
        {
          "output_type": "display_data",
          "data": {
            "text/plain": [
              "\u001b[1m Trainable params: \u001b[0m\u001b[38;5;34m25,690,882\u001b[0m (98.00 MB)\n"
            ],
            "text/html": [
              "<pre style=\"white-space:pre;overflow-x:auto;line-height:normal;font-family:Menlo,'DejaVu Sans Mono',consolas,'Courier New',monospace\"><span style=\"font-weight: bold\"> Trainable params: </span><span style=\"color: #00af00; text-decoration-color: #00af00\">25,690,882</span> (98.00 MB)\n",
              "</pre>\n"
            ]
          },
          "metadata": {}
        },
        {
          "output_type": "display_data",
          "data": {
            "text/plain": [
              "\u001b[1m Non-trainable params: \u001b[0m\u001b[38;5;34m23,564,800\u001b[0m (89.89 MB)\n"
            ],
            "text/html": [
              "<pre style=\"white-space:pre;overflow-x:auto;line-height:normal;font-family:Menlo,'DejaVu Sans Mono',consolas,'Courier New',monospace\"><span style=\"font-weight: bold\"> Non-trainable params: </span><span style=\"color: #00af00; text-decoration-color: #00af00\">23,564,800</span> (89.89 MB)\n",
              "</pre>\n"
            ]
          },
          "metadata": {}
        },
        {
          "output_type": "stream",
          "name": "stdout",
          "text": [
            "\n",
            "Training ResNet50V2 model on oversampled dataset (1:2 ratio)...\n",
            "Epoch 1/50\n",
            "\u001b[1m19/19\u001b[0m \u001b[32m━━━━━━━━━━━━━━━━━━━━\u001b[0m\u001b[37m\u001b[0m \u001b[1m0s\u001b[0m 502ms/step - accuracy: 0.6391 - loss: 21.4459"
          ]
        },
        {
          "output_type": "stream",
          "name": "stderr",
          "text": [
            "WARNING:absl:You are saving your model as an HDF5 file via `model.save()` or `keras.saving.save_model(model)`. This file format is considered legacy. We recommend using instead the native Keras format, e.g. `model.save('my_model.keras')` or `keras.saving.save_model(model, 'my_model.keras')`. \n"
          ]
        },
        {
          "output_type": "stream",
          "name": "stdout",
          "text": [
            "\b\b\b\b\b\b\b\b\b\b\b\b\b\b\b\b\b\b\b\b\b\b\b\b\b\b\b\b\b\b\b\b\b\b\b\b\b\b\b\b\b\b\b\b\b\b\b\b\b\b\b\b\b\b\b\b\b\b\b\b\b\b\b\b\b\b\b\b\b\b\b\b\b\b\b\r\u001b[1m19/19\u001b[0m \u001b[32m━━━━━━━━━━━━━━━━━━━━\u001b[0m\u001b[37m\u001b[0m \u001b[1m32s\u001b[0m 1s/step - accuracy: 0.6439 - loss: 20.9451 - val_accuracy: 0.9333 - val_loss: 85.5001\n",
            "Epoch 2/50\n",
            "\u001b[1m19/19\u001b[0m \u001b[32m━━━━━━━━━━━━━━━━━━━━\u001b[0m\u001b[37m\u001b[0m \u001b[1m0s\u001b[0m 163ms/step - accuracy: 0.9087 - loss: 0.7443"
          ]
        },
        {
          "output_type": "stream",
          "name": "stderr",
          "text": [
            "WARNING:absl:You are saving your model as an HDF5 file via `model.save()` or `keras.saving.save_model(model)`. This file format is considered legacy. We recommend using instead the native Keras format, e.g. `model.save('my_model.keras')` or `keras.saving.save_model(model, 'my_model.keras')`. \n"
          ]
        },
        {
          "output_type": "stream",
          "name": "stdout",
          "text": [
            "\b\b\b\b\b\b\b\b\b\b\b\b\b\b\b\b\b\b\b\b\b\b\b\b\b\b\b\b\b\b\b\b\b\b\b\b\b\b\b\b\b\b\b\b\b\b\b\b\b\b\b\b\b\b\b\b\b\b\b\b\b\b\b\b\b\b\b\b\b\b\b\b\b\b\r\u001b[1m19/19\u001b[0m \u001b[32m━━━━━━━━━━━━━━━━━━━━\u001b[0m\u001b[37m\u001b[0m \u001b[1m22s\u001b[0m 356ms/step - accuracy: 0.9092 - loss: 0.7312 - val_accuracy: 0.9333 - val_loss: 55.4357\n",
            "Epoch 3/50\n",
            "\u001b[1m19/19\u001b[0m \u001b[32m━━━━━━━━━━━━━━━━━━━━\u001b[0m\u001b[37m\u001b[0m \u001b[1m4s\u001b[0m 193ms/step - accuracy: 0.9592 - loss: 0.1040 - val_accuracy: 0.9333 - val_loss: 79.0002\n",
            "Epoch 4/50\n",
            "\u001b[1m19/19\u001b[0m \u001b[32m━━━━━━━━━━━━━━━━━━━━\u001b[0m\u001b[37m\u001b[0m \u001b[1m4s\u001b[0m 155ms/step - accuracy: 0.9863 - loss: 0.0643 - val_accuracy: 0.9333 - val_loss: 93.8345\n",
            "Epoch 5/50\n",
            "\u001b[1m19/19\u001b[0m \u001b[32m━━━━━━━━━━━━━━━━━━━━\u001b[0m\u001b[37m\u001b[0m \u001b[1m11s\u001b[0m 582ms/step - accuracy: 0.9804 - loss: 0.0492 - val_accuracy: 0.9333 - val_loss: 103.8308\n",
            "Epoch 6/50\n",
            "\u001b[1m19/19\u001b[0m \u001b[32m━━━━━━━━━━━━━━━━━━━━\u001b[0m\u001b[37m\u001b[0m \u001b[1m3s\u001b[0m 154ms/step - accuracy: 0.9832 - loss: 0.0570 - val_accuracy: 0.9333 - val_loss: 111.3699\n",
            "Epoch 7/50\n",
            "\u001b[1m19/19\u001b[0m \u001b[32m━━━━━━━━━━━━━━━━━━━━\u001b[0m\u001b[37m\u001b[0m \u001b[1m3s\u001b[0m 164ms/step - accuracy: 0.9890 - loss: 0.0460 - val_accuracy: 0.9333 - val_loss: 116.6188\n",
            "Epoch 8/50\n",
            "\u001b[1m19/19\u001b[0m \u001b[32m━━━━━━━━━━━━━━━━━━━━\u001b[0m\u001b[37m\u001b[0m \u001b[1m4s\u001b[0m 191ms/step - accuracy: 0.9901 - loss: 0.0361 - val_accuracy: 0.9333 - val_loss: 124.9758\n",
            "Epoch 9/50\n",
            "\u001b[1m19/19\u001b[0m \u001b[32m━━━━━━━━━━━━━━━━━━━━\u001b[0m\u001b[37m\u001b[0m \u001b[1m3s\u001b[0m 173ms/step - accuracy: 0.9943 - loss: 0.0435 - val_accuracy: 0.9333 - val_loss: 130.5260\n",
            "Epoch 10/50\n",
            "\u001b[1m19/19\u001b[0m \u001b[32m━━━━━━━━━━━━━━━━━━━━\u001b[0m\u001b[37m\u001b[0m \u001b[1m3s\u001b[0m 159ms/step - accuracy: 0.9912 - loss: 0.0272 - val_accuracy: 0.9333 - val_loss: 135.1110\n",
            "Epoch 11/50\n",
            "\u001b[1m19/19\u001b[0m \u001b[32m━━━━━━━━━━━━━━━━━━━━\u001b[0m\u001b[37m\u001b[0m \u001b[1m3s\u001b[0m 161ms/step - accuracy: 0.9930 - loss: 0.0346 - val_accuracy: 0.9333 - val_loss: 139.1588\n",
            "Epoch 12/50\n",
            "\u001b[1m19/19\u001b[0m \u001b[32m━━━━━━━━━━━━━━━━━━━━\u001b[0m\u001b[37m\u001b[0m \u001b[1m3s\u001b[0m 183ms/step - accuracy: 0.9931 - loss: 0.0468 - val_accuracy: 0.9333 - val_loss: 147.7069\n"
          ]
        },
        {
          "output_type": "stream",
          "name": "stderr",
          "text": [
            "WARNING:absl:You are saving your model as an HDF5 file via `model.save()` or `keras.saving.save_model(model)`. This file format is considered legacy. We recommend using instead the native Keras format, e.g. `model.save('my_model.keras')` or `keras.saving.save_model(model, 'my_model.keras')`. \n"
          ]
        },
        {
          "output_type": "stream",
          "name": "stdout",
          "text": [
            "\n",
            "ResNet50V2 model for oversampled dataset trained and saved to /content/drive/MyDrive/GalapagosSealsMerged/classification_models/resnet50v2_oversampled_1_2_ratio\n"
          ]
        }
      ]
    },
    {
      "cell_type": "code",
      "metadata": {
        "colab": {
          "base_uri": "https://localhost:8080/"
        },
        "id": "32335ef4",
        "outputId": "4a7151c9-9c3a-4923-c58b-ebe91d4d48e2"
      },
      "source": [
        "# Evaluate the ResNet50V2 model on the imbalanced validation set\n",
        "print(\"Evaluating ResNet50V2 model on the imbalanced validation set:\")\n",
        "val_loss_resnet_oversampled, val_accuracy_resnet_oversampled = resnet_model_oversampled.evaluate(val_ds)\n",
        "print(f\"Validation Loss (Oversampled): {val_loss_resnet_oversampled:.4f}\")\n",
        "print(f\"Validation Accuracy (Oversampled): {val_accuracy_resnet_oversampled:.4f}\")\n",
        "\n",
        "# Evaluate the ResNet50V2 model on the imbalanced test set\n",
        "print(\"\\nEvaluating ResNet50V2 model on the imbalanced test set:\")\n",
        "test_loss_resnet_oversampled, test_accuracy_resnet_oversampled = resnet_model_oversampled.evaluate(test_ds)\n",
        "print(f\"Test Loss (Oversampled): {test_loss_resnet_oversampled:.4f}\")\n",
        "print(f\"Test Accuracy (Oversampled): {test_accuracy_resnet_oversampled:.4f}\")"
      ],
      "execution_count": null,
      "outputs": [
        {
          "output_type": "stream",
          "name": "stdout",
          "text": [
            "Evaluating ResNet50V2 model on the imbalanced validation set:\n",
            "\u001b[1m2/2\u001b[0m \u001b[32m━━━━━━━━━━━━━━━━━━━━\u001b[0m\u001b[37m\u001b[0m \u001b[1m0s\u001b[0m 161ms/step - accuracy: 0.9139 - loss: 71.6045\n",
            "Validation Loss (Oversampled): 55.4357\n",
            "Validation Accuracy (Oversampled): 0.9333\n",
            "\n",
            "Evaluating ResNet50V2 model on the imbalanced test set:\n",
            "\u001b[1m2/2\u001b[0m \u001b[32m━━━━━━━━━━━━━━━━━━━━\u001b[0m\u001b[37m\u001b[0m \u001b[1m2s\u001b[0m 2s/step - accuracy: 0.8719 - loss: 158.9463\n",
            "Test Loss (Oversampled): 122.0708\n",
            "Test Accuracy (Oversampled): 0.9016\n"
          ]
        }
      ]
    },
    {
      "cell_type": "code",
      "metadata": {
        "colab": {
          "base_uri": "https://localhost:8080/",
          "height": 1000
        },
        "id": "10385da2",
        "outputId": "c733dddd-bd8e-48d9-8313-fb46b7890a53"
      },
      "source": [
        "from sklearn.metrics import classification_report, confusion_matrix\n",
        "import numpy as np\n",
        "import seaborn as sns\n",
        "import matplotlib.pyplot as plt\n",
        "\n",
        "# Get class names (assuming class_names is defined from previous steps)\n",
        "if 'class_names' not in locals():\n",
        "    class_names = ['Arctocephalus_galapagoensis', 'Zalophus_wollebaeki']\n",
        "    print(f\"Using default class names: {class_names}\")\n",
        "\n",
        "# --- Evaluate on Test Set ---\n",
        "# Get true labels from the test dataset\n",
        "test_true_labels = []\n",
        "for images, labels in test_ds:\n",
        "    test_true_labels.extend(np.argmax(labels.numpy(), axis=1))\n",
        "test_true_labels = np.array(test_true_labels)\n",
        "\n",
        "# Get predicted labels from the ResNet50V2 oversampled model on the test dataset\n",
        "test_predictions_oversampled_resnet = resnet_model_oversampled.predict(test_ds)\n",
        "test_predicted_labels_oversampled_resnet = np.argmax(test_predictions_oversampled_resnet, axis=1)\n",
        "\n",
        "# Generate and print the classification report for the test set\n",
        "print(\"Classification Report for ResNet50V2 model on Oversampled Test Set:\")\n",
        "print(classification_report(test_true_labels, test_predicted_labels_oversampled_resnet, target_names=class_names))\n",
        "\n",
        "# Generate confusion matrix for the test set\n",
        "test_cm_oversampled_resnet = confusion_matrix(test_true_labels, test_predicted_labels_oversampled_resnet)\n",
        "\n",
        "# Plot confusion matrix for the test set using seaborn\n",
        "plt.figure(figsize=(8, 6))\n",
        "sns.heatmap(test_cm_oversampled_resnet, annot=True, fmt='d', cmap='Blues', xticklabels=class_names, yticklabels=class_names)\n",
        "plt.title('Confusion Matrix - ResNet50V2 on Oversampled Test Set')\n",
        "plt.xlabel('Predicted Label')\n",
        "plt.ylabel('True Label')\n",
        "plt.show()\n",
        "\n",
        "\n",
        "# --- Evaluate on Validation Set ---\n",
        "# Get true labels from the validation dataset\n",
        "val_true_labels = []\n",
        "for images, labels in val_ds:\n",
        "    val_true_labels.extend(np.argmax(labels.numpy(), axis=1))\n",
        "val_true_labels = np.array(val_true_labels)\n",
        "\n",
        "# Get predicted labels from the ResNet50V2 oversampled model on the validation dataset\n",
        "val_predictions_oversampled_resnet = resnet_model_oversampled.predict(val_ds)\n",
        "val_predicted_labels_oversampled_resnet = np.argmax(val_predictions_oversampled_resnet, axis=1)\n",
        "\n",
        "# Generate and print the classification report for the validation set\n",
        "print(\"\\nClassification Report for ResNet50V2 model on Oversampled Validation Set:\")\n",
        "print(classification_report(val_true_labels, val_predicted_labels_oversampled_resnet, target_names=class_names))\n",
        "\n",
        "# Generate confusion matrix for the validation set\n",
        "val_cm_oversampled_resnet = confusion_matrix(val_true_labels, val_predicted_labels_oversampled_resnet)\n",
        "\n",
        "# Plot confusion matrix for the validation set using seaborn\n",
        "plt.figure(figsize=(8, 6))\n",
        "sns.heatmap(val_cm_oversampled_resnet, annot=True, fmt='d', cmap='Blues', xticklabels=class_names, yticklabels=class_names)\n",
        "plt.title('Confusion Matrix - ResNet50V2 on Oversampled Validation Set')\n",
        "plt.xlabel('Predicted Label')\n",
        "plt.ylabel('True Label')\n",
        "plt.show()"
      ],
      "execution_count": null,
      "outputs": [
        {
          "output_type": "stream",
          "name": "stdout",
          "text": [
            "\u001b[1m2/2\u001b[0m \u001b[32m━━━━━━━━━━━━━━━━━━━━\u001b[0m\u001b[37m\u001b[0m \u001b[1m7s\u001b[0m 3s/step\n",
            "Classification Report for ResNet50V2 model on Oversampled Test Set:\n",
            "                             precision    recall  f1-score   support\n",
            "\n",
            "Arctocephalus_galapagoensis       0.00      0.00      0.00         6\n",
            "        Zalophus_wollebaeki       0.90      1.00      0.95        55\n",
            "\n",
            "                   accuracy                           0.90        61\n",
            "                  macro avg       0.45      0.50      0.47        61\n",
            "               weighted avg       0.81      0.90      0.86        61\n",
            "\n"
          ]
        },
        {
          "output_type": "stream",
          "name": "stderr",
          "text": [
            "/usr/local/lib/python3.12/dist-packages/sklearn/metrics/_classification.py:1565: UndefinedMetricWarning: Precision is ill-defined and being set to 0.0 in labels with no predicted samples. Use `zero_division` parameter to control this behavior.\n",
            "  _warn_prf(average, modifier, f\"{metric.capitalize()} is\", len(result))\n",
            "/usr/local/lib/python3.12/dist-packages/sklearn/metrics/_classification.py:1565: UndefinedMetricWarning: Precision is ill-defined and being set to 0.0 in labels with no predicted samples. Use `zero_division` parameter to control this behavior.\n",
            "  _warn_prf(average, modifier, f\"{metric.capitalize()} is\", len(result))\n",
            "/usr/local/lib/python3.12/dist-packages/sklearn/metrics/_classification.py:1565: UndefinedMetricWarning: Precision is ill-defined and being set to 0.0 in labels with no predicted samples. Use `zero_division` parameter to control this behavior.\n",
            "  _warn_prf(average, modifier, f\"{metric.capitalize()} is\", len(result))\n"
          ]
        },
        {
          "output_type": "display_data",
          "data": {
            "text/plain": [
              "<Figure size 800x600 with 2 Axes>"
            ],
            "image/png": "[encoded data removed]"
          },
          "metadata": {}
        },
        {
          "output_type": "stream",
          "name": "stdout",
          "text": [
            "\u001b[1m2/2\u001b[0m \u001b[32m━━━━━━━━━━━━━━━━━━━━\u001b[0m\u001b[37m\u001b[0m \u001b[1m3s\u001b[0m 2s/step\n",
            "\n",
            "Classification Report for ResNet50V2 model on Oversampled Validation Set:\n",
            "                             precision    recall  f1-score   support\n",
            "\n",
            "Arctocephalus_galapagoensis       0.00      0.00      0.00         4\n",
            "        Zalophus_wollebaeki       0.93      1.00      0.97        56\n",
            "\n",
            "                   accuracy                           0.93        60\n",
            "                  macro avg       0.47      0.50      0.48        60\n",
            "               weighted avg       0.87      0.93      0.90        60\n",
            "\n"
          ]
        },
        {
          "output_type": "stream",
          "name": "stderr",
          "text": [
            "/usr/local/lib/python3.12/dist-packages/sklearn/metrics/_classification.py:1565: UndefinedMetricWarning: Precision is ill-defined and being set to 0.0 in labels with no predicted samples. Use `zero_division` parameter to control this behavior.\n",
            "  _warn_prf(average, modifier, f\"{metric.capitalize()} is\", len(result))\n",
            "/usr/local/lib/python3.12/dist-packages/sklearn/metrics/_classification.py:1565: UndefinedMetricWarning: Precision is ill-defined and being set to 0.0 in labels with no predicted samples. Use `zero_division` parameter to control this behavior.\n",
            "  _warn_prf(average, modifier, f\"{metric.capitalize()} is\", len(result))\n",
            "/usr/local/lib/python3.12/dist-packages/sklearn/metrics/_classification.py:1565: UndefinedMetricWarning: Precision is ill-defined and being set to 0.0 in labels with no predicted samples. Use `zero_division` parameter to control this behavior.\n",
            "  _warn_prf(average, modifier, f\"{metric.capitalize()} is\", len(result))\n"
          ]
        },
        {
          "output_type": "display_data",
          "data": {
            "text/plain": [
              "<Figure size 800x600 with 2 Axes>"
            ],
            "image/png": "[encoded data removed]"
          },
          "metadata": {}
        }
      ]
    },
    {
      "cell_type": "code",
      "metadata": {
        "colab": {
          "base_uri": "https://localhost:8080/",
          "height": 785
        },
        "id": "9cd0de25",
        "outputId": "ddaf6a58-ee0e-421b-b89d-fe75bdf0dc1f"
      },
      "source": [
        "import tensorflow as tf\n",
        "from tensorflow.keras.models import Sequential\n",
        "from tensorflow.keras.layers import Dense, Flatten, Dropout\n",
        "from tensorflow.keras.applications import InceptionV3\n",
        "from tensorflow.keras.optimizers import Adam\n",
        "import json\n",
        "import os\n",
        "\n",
        "# Define the number of classes (assuming class_names is defined)\n",
        "num_classes = len(class_names)\n",
        "\n",
        "# Define the path to save the InceptionV3 model trained on oversampled data\n",
        "save_dir_inceptionv3_oversampled = '/content/drive/MyDrive/GalapagosSealsMerged/classification_models/inceptionv3_oversampled_1_2_ratio'\n",
        "os.makedirs(save_dir_inceptionv3_oversampled, exist_ok=True)\n",
        "\n",
        "# Load the InceptionV3 model with pre-trained weights (excluding the top classification layer)\n",
        "# InceptionV3 expects input shape of at least 75x75\n",
        "inceptionv3_base_oversampled = InceptionV3(weights='imagenet', include_top=False, input_shape=(img_height, img_width, 3))\n",
        "\n",
        "# Freeze the convolutional base\n",
        "inceptionv3_base_oversampled.trainable = False\n",
        "\n",
        "# Create the InceptionV3 classification model for oversampled data\n",
        "inceptionv3_model_oversampled = Sequential([\n",
        "    inceptionv3_base_oversampled,\n",
        "    Flatten(),\n",
        "    Dense(256, activation='relu'),\n",
        "    Dropout(0.5),\n",
        "    Dense(num_classes, activation='softmax') # Output layer with softmax for classification\n",
        "])\n",
        "\n",
        "# Compile the model\n",
        "inceptionv3_model_oversampled.compile(optimizer=Adam(learning_rate=0.001),\n",
        "                                     loss='categorical_crossentropy',\n",
        "                                     metrics=['accuracy'])\n",
        "\n",
        "# Print the model summary\n",
        "inceptionv3_model_oversampled.summary()\n",
        "\n",
        "\n",
        "# Define callbacks for training (optional but recommended)\n",
        "callbacks_inceptionv3_oversampled = [\n",
        "    tf.keras.callbacks.EarlyStopping(monitor='val_loss', patience=10, restore_best_weights=True),\n",
        "    tf.keras.callbacks.ModelCheckpoint(filepath=os.path.join(save_dir_inceptionv3_oversampled, 'best_inceptionv3_oversampled_model.h5'),\n",
        "                                       monitor='val_loss',\n",
        "                                       save_best_only=True)\n",
        "]\n",
        "\n",
        "print(\"\\nTraining InceptionV3 model on oversampled dataset (1:2 ratio)...\")\n",
        "\n",
        "# Train the InceptionV3 model on the oversampled dataset using the custom generator\n",
        "history_inceptionv3_oversampled = inceptionv3_model_oversampled.fit(\n",
        "    oversampled_train_generator_1_2, # Use the oversampled generator\n",
        "    epochs=50, # You can adjust the number of epochs\n",
        "    validation_data=val_ds, # Use the original imbalanced validation set\n",
        "    callbacks=callbacks_inceptionv3_oversampled\n",
        ")\n",
        "\n",
        "# Save the trained model (best weights)\n",
        "inceptionv3_model_oversampled.save(os.path.join(save_dir_inceptionv3_oversampled, 'final_inceptionv3_oversampled_model.h5'))\n",
        "\n",
        "# Save the model configuration\n",
        "model_config_inceptionv3_oversampled = inceptionv3_model_oversampled.to_json()\n",
        "with open(os.path.join(save_dir_inceptionv3_oversampled, 'inceptionv3_oversampled_config.json'), 'w') as f:\n",
        "    json.dump(json.loads(model_config_inceptionv3_oversampled), f, indent=4)\n",
        "\n",
        "print(f\"\\nInceptionV3 model for oversampled dataset trained and saved to {save_dir_inceptionv3_oversampled}\")"
      ],
      "execution_count": null,
      "outputs": [
        {
          "output_type": "display_data",
          "data": {
            "text/plain": [
              "\u001b[1mModel: \"sequential_8\"\u001b[0m\n"
            ],
            "text/html": [
              "<pre style=\"white-space:pre;overflow-x:auto;line-height:normal;font-family:Menlo,'DejaVu Sans Mono',consolas,'Courier New',monospace\"><span style=\"font-weight: bold\">Model: \"sequential_8\"</span>\n",
              "</pre>\n"
            ]
          },
          "metadata": {}
        },
        {
          "output_type": "display_data",
          "data": {
            "text/plain": [
              "┏━━━━━━━━━━━━━━━━━━━━━━━━━━━━━━━━━┳━━━━━━━━━━━━━━━━━━━━━━━━┳━━━━━━━━━━━━━━━┓\n",
              "┃\u001b[1m \u001b[0m\u001b[1mLayer (type)                   \u001b[0m\u001b[1m \u001b[0m┃\u001b[1m \u001b[0m\u001b[1mOutput Shape          \u001b[0m\u001b[1m \u001b[0m┃\u001b[1m \u001b[0m\u001b[1m      Param #\u001b[0m\u001b[1m \u001b[0m┃\n",
              "┡━━━━━━━━━━━━━━━━━━━━━━━━━━━━━━━━━╇━━━━━━━━━━━━━━━━━━━━━━━━╇━━━━━━━━━━━━━━━┩\n",
              "│ inception_v3 (\u001b[38;5;33mFunctional\u001b[0m)       │ (\u001b[38;5;45mNone\u001b[0m, \u001b[38;5;34m5\u001b[0m, \u001b[38;5;34m5\u001b[0m, \u001b[38;5;34m2048\u001b[0m)     │    \u001b[38;5;34m21,802,784\u001b[0m │\n",
              "├─────────────────────────────────┼────────────────────────┼───────────────┤\n",
              "│ flatten_8 (\u001b[38;5;33mFlatten\u001b[0m)             │ (\u001b[38;5;45mNone\u001b[0m, \u001b[38;5;34m51200\u001b[0m)          │             \u001b[38;5;34m0\u001b[0m │\n",
              "├─────────────────────────────────┼────────────────────────┼───────────────┤\n",
              "│ dense_16 (\u001b[38;5;33mDense\u001b[0m)                │ (\u001b[38;5;45mNone\u001b[0m, \u001b[38;5;34m256\u001b[0m)            │    \u001b[38;5;34m13,107,456\u001b[0m │\n",
              "├─────────────────────────────────┼────────────────────────┼───────────────┤\n",
              "│ dropout_8 (\u001b[38;5;33mDropout\u001b[0m)             │ (\u001b[38;5;45mNone\u001b[0m, \u001b[38;5;34m256\u001b[0m)            │             \u001b[38;5;34m0\u001b[0m │\n",
              "├─────────────────────────────────┼────────────────────────┼───────────────┤\n",
              "│ dense_17 (\u001b[38;5;33mDense\u001b[0m)                │ (\u001b[38;5;45mNone\u001b[0m, \u001b[38;5;34m2\u001b[0m)              │           \u001b[38;5;34m514\u001b[0m │\n",
              "└─────────────────────────────────┴────────────────────────┴───────────────┘\n"
            ],
            "text/html": [
              "<pre style=\"white-space:pre;overflow-x:auto;line-height:normal;font-family:Menlo,'DejaVu Sans Mono',consolas,'Courier New',monospace\">┏━━━━━━━━━━━━━━━━━━━━━━━━━━━━━━━━━┳━━━━━━━━━━━━━━━━━━━━━━━━┳━━━━━━━━━━━━━━━┓\n",
              "┃<span style=\"font-weight: bold\"> Layer (type)                    </span>┃<span style=\"font-weight: bold\"> Output Shape           </span>┃<span style=\"font-weight: bold\">       Param # </span>┃\n",
              "┡━━━━━━━━━━━━━━━━━━━━━━━━━━━━━━━━━╇━━━━━━━━━━━━━━━━━━━━━━━━╇━━━━━━━━━━━━━━━┩\n",
              "│ inception_v3 (<span style=\"color: #0087ff; text-decoration-color: #0087ff\">Functional</span>)       │ (<span style=\"color: #00d7ff; text-decoration-color: #00d7ff\">None</span>, <span style=\"color: #00af00; text-decoration-color: #00af00\">5</span>, <span style=\"color: #00af00; text-decoration-color: #00af00\">5</span>, <span style=\"color: #00af00; text-decoration-color: #00af00\">2048</span>)     │    <span style=\"color: #00af00; text-decoration-color: #00af00\">21,802,784</span> │\n",
              "├─────────────────────────────────┼────────────────────────┼───────────────┤\n",
              "│ flatten_8 (<span style=\"color: #0087ff; text-decoration-color: #0087ff\">Flatten</span>)             │ (<span style=\"color: #00d7ff; text-decoration-color: #00d7ff\">None</span>, <span style=\"color: #00af00; text-decoration-color: #00af00\">51200</span>)          │             <span style=\"color: #00af00; text-decoration-color: #00af00\">0</span> │\n",
              "├─────────────────────────────────┼────────────────────────┼───────────────┤\n",
              "│ dense_16 (<span style=\"color: #0087ff; text-decoration-color: #0087ff\">Dense</span>)                │ (<span style=\"color: #00d7ff; text-decoration-color: #00d7ff\">None</span>, <span style=\"color: #00af00; text-decoration-color: #00af00\">256</span>)            │    <span style=\"color: #00af00; text-decoration-color: #00af00\">13,107,456</span> │\n",
              "├─────────────────────────────────┼────────────────────────┼───────────────┤\n",
              "│ dropout_8 (<span style=\"color: #0087ff; text-decoration-color: #0087ff\">Dropout</span>)             │ (<span style=\"color: #00d7ff; text-decoration-color: #00d7ff\">None</span>, <span style=\"color: #00af00; text-decoration-color: #00af00\">256</span>)            │             <span style=\"color: #00af00; text-decoration-color: #00af00\">0</span> │\n",
              "├─────────────────────────────────┼────────────────────────┼───────────────┤\n",
              "│ dense_17 (<span style=\"color: #0087ff; text-decoration-color: #0087ff\">Dense</span>)                │ (<span style=\"color: #00d7ff; text-decoration-color: #00d7ff\">None</span>, <span style=\"color: #00af00; text-decoration-color: #00af00\">2</span>)              │           <span style=\"color: #00af00; text-decoration-color: #00af00\">514</span> │\n",
              "└─────────────────────────────────┴────────────────────────┴───────────────┘\n",
              "</pre>\n"
            ]
          },
          "metadata": {}
        },
        {
          "output_type": "display_data",
          "data": {
            "text/plain": [
              "\u001b[1m Total params: \u001b[0m\u001b[38;5;34m34,910,754\u001b[0m (133.17 MB)\n"
            ],
            "text/html": [
              "<pre style=\"white-space:pre;overflow-x:auto;line-height:normal;font-family:Menlo,'DejaVu Sans Mono',consolas,'Courier New',monospace\"><span style=\"font-weight: bold\"> Total params: </span><span style=\"color: #00af00; text-decoration-color: #00af00\">34,910,754</span> (133.17 MB)\n",
              "</pre>\n"
            ]
          },
          "metadata": {}
        },
        {
          "output_type": "display_data",
          "data": {
            "text/plain": [
              "\u001b[1m Trainable params: \u001b[0m\u001b[38;5;34m13,107,970\u001b[0m (50.00 MB)\n"
            ],
            "text/html": [
              "<pre style=\"white-space:pre;overflow-x:auto;line-height:normal;font-family:Menlo,'DejaVu Sans Mono',consolas,'Courier New',monospace\"><span style=\"font-weight: bold\"> Trainable params: </span><span style=\"color: #00af00; text-decoration-color: #00af00\">13,107,970</span> (50.00 MB)\n",
              "</pre>\n"
            ]
          },
          "metadata": {}
        },
        {
          "output_type": "display_data",
          "data": {
            "text/plain": [
              "\u001b[1m Non-trainable params: \u001b[0m\u001b[38;5;34m21,802,784\u001b[0m (83.17 MB)\n"
            ],
            "text/html": [
              "<pre style=\"white-space:pre;overflow-x:auto;line-height:normal;font-family:Menlo,'DejaVu Sans Mono',consolas,'Courier New',monospace\"><span style=\"font-weight: bold\"> Non-trainable params: </span><span style=\"color: #00af00; text-decoration-color: #00af00\">21,802,784</span> (83.17 MB)\n",
              "</pre>\n"
            ]
          },
          "metadata": {}
        },
        {
          "output_type": "stream",
          "name": "stdout",
          "text": [
            "\n",
            "Training InceptionV3 model on oversampled dataset (1:2 ratio)...\n",
            "Epoch 1/50\n",
            "\u001b[1m19/19\u001b[0m \u001b[32m━━━━━━━━━━━━━━━━━━━━\u001b[0m\u001b[37m\u001b[0m \u001b[1m0s\u001b[0m 434ms/step - accuracy: 0.6621 - loss: 12.6451"
          ]
        },
        {
          "output_type": "stream",
          "name": "stderr",
          "text": [
            "WARNING:absl:You are saving your model as an HDF5 file via `model.save()` or `keras.saving.save_model(model)`. This file format is considered legacy. We recommend using instead the native Keras format, e.g. `model.save('my_model.keras')` or `keras.saving.save_model(model, 'my_model.keras')`. \n"
          ]
        },
        {
          "output_type": "stream",
          "name": "stdout",
          "text": [
            "\b\b\b\b\b\b\b\b\b\b\b\b\b\b\b\b\b\b\b\b\b\b\b\b\b\b\b\b\b\b\b\b\b\b\b\b\b\b\b\b\b\b\b\b\b\b\b\b\b\b\b\b\b\b\b\b\b\b\b\b\b\b\b\b\b\b\b\b\b\b\b\b\b\b\b\r\u001b[1m19/19\u001b[0m \u001b[32m━━━━━━━━━━━━━━━━━━━━\u001b[0m\u001b[37m\u001b[0m \u001b[1m39s\u001b[0m 1s/step - accuracy: 0.6647 - loss: 12.5623 - val_accuracy: 0.9333 - val_loss: 21.0672\n",
            "Epoch 2/50\n",
            "\u001b[1m19/19\u001b[0m \u001b[32m━━━━━━━━━━━━━━━━━━━━\u001b[0m\u001b[37m\u001b[0m \u001b[1m4s\u001b[0m 206ms/step - accuracy: 0.8937 - loss: 2.5960 - val_accuracy: 0.9333 - val_loss: 23.2778\n",
            "Epoch 3/50\n",
            "\u001b[1m19/19\u001b[0m \u001b[32m━━━━━━━━━━━━━━━━━━━━\u001b[0m\u001b[37m\u001b[0m \u001b[1m4s\u001b[0m 154ms/step - accuracy: 0.9765 - loss: 0.2206 - val_accuracy: 0.9333 - val_loss: 30.8663\n",
            "Epoch 4/50\n",
            "\u001b[1m19/19\u001b[0m \u001b[32m━━━━━━━━━━━━━━━━━━━━\u001b[0m\u001b[37m\u001b[0m \u001b[1m3s\u001b[0m 173ms/step - accuracy: 0.9853 - loss: 0.0960 - val_accuracy: 0.9333 - val_loss: 38.5387\n",
            "Epoch 5/50\n",
            "\u001b[1m19/19\u001b[0m \u001b[32m━━━━━━━━━━━━━━━━━━━━\u001b[0m\u001b[37m\u001b[0m \u001b[1m4s\u001b[0m 209ms/step - accuracy: 0.9913 - loss: 0.0764 - val_accuracy: 0.9333 - val_loss: 34.1818\n",
            "Epoch 6/50\n",
            "\u001b[1m19/19\u001b[0m \u001b[32m━━━━━━━━━━━━━━━━━━━━\u001b[0m\u001b[37m\u001b[0m \u001b[1m4s\u001b[0m 155ms/step - accuracy: 0.9851 - loss: 0.0551 - val_accuracy: 0.9333 - val_loss: 30.3726\n",
            "Epoch 7/50\n",
            "\u001b[1m19/19\u001b[0m \u001b[32m━━━━━━━━━━━━━━━━━━━━\u001b[0m\u001b[37m\u001b[0m \u001b[1m3s\u001b[0m 151ms/step - accuracy: 1.0000 - loss: 5.7142e-04 - val_accuracy: 0.9333 - val_loss: 30.4398\n",
            "Epoch 8/50\n",
            "\u001b[1m19/19\u001b[0m \u001b[32m━━━━━━━━━━━━━━━━━━━━\u001b[0m\u001b[37m\u001b[0m \u001b[1m3s\u001b[0m 153ms/step - accuracy: 1.0000 - loss: 7.6383e-04 - val_accuracy: 0.9333 - val_loss: 28.7637\n",
            "Epoch 9/50\n",
            "\u001b[1m19/19\u001b[0m \u001b[32m━━━━━━━━━━━━━━━━━━━━\u001b[0m\u001b[37m\u001b[0m \u001b[1m4s\u001b[0m 189ms/step - accuracy: 0.9986 - loss: 0.0033 - val_accuracy: 0.9333 - val_loss: 25.5505\n",
            "Epoch 10/50\n",
            "\u001b[1m19/19\u001b[0m \u001b[32m━━━━━━━━━━━━━━━━━━━━\u001b[0m\u001b[37m\u001b[0m \u001b[1m3s\u001b[0m 158ms/step - accuracy: 0.9936 - loss: 0.0108 - val_accuracy: 0.9333 - val_loss: 26.6205\n",
            "Epoch 11/50\n",
            "\u001b[1m19/19\u001b[0m \u001b[32m━━━━━━━━━━━━━━━━━━━━\u001b[0m\u001b[37m\u001b[0m \u001b[1m3s\u001b[0m 158ms/step - accuracy: 0.9984 - loss: 0.0041 - val_accuracy: 0.9333 - val_loss: 30.3178\n"
          ]
        },
        {
          "output_type": "stream",
          "name": "stderr",
          "text": [
            "WARNING:absl:You are saving your model as an HDF5 file via `model.save()` or `keras.saving.save_model(model)`. This file format is considered legacy. We recommend using instead the native Keras format, e.g. `model.save('my_model.keras')` or `keras.saving.save_model(model, 'my_model.keras')`. \n"
          ]
        },
        {
          "output_type": "stream",
          "name": "stdout",
          "text": [
            "\n",
            "InceptionV3 model for oversampled dataset trained and saved to /content/drive/MyDrive/GalapagosSealsMerged/classification_models/inceptionv3_oversampled_1_2_ratio\n"
          ]
        }
      ]
    },
    {
      "cell_type": "code",
      "source": [
        "# Evaluate the InceptionV3 model on the imbalanced validation set\n",
        "print(\"Evaluating InceptionV3 model on the imbalanced validation set:\")\n",
        "val_loss_inceptionv3_oversampled, val_accuracy_inceptionv3_oversampled = inceptionv3_model_oversampled.evaluate(val_ds)\n",
        "print(f\"Validation Loss (Oversampled): {val_loss_inceptionv3_oversampled:.4f}\")\n",
        "print(f\"Validation Accuracy (Oversampled): {val_accuracy_inceptionv3_oversampled:.4f}\")\n",
        "\n",
        "# Evaluate the InceptionV3 model on the imbalanced test set\n",
        "print(\"\\nEvaluating InceptionV3 model on the imbalanced test set:\")\n",
        "test_loss_inceptionv3_oversampled, test_accuracy_inceptionv3_oversampled = inceptionv3_model_oversampled.evaluate(test_ds)\n",
        "print(f\"Test Loss (Oversampled): {test_loss_inceptionv3_oversampled:.4f}\")\n",
        "print(f\"Test Accuracy (Oversampled): {test_accuracy_inceptionv3_oversampled:.4f}\")"
      ],
      "metadata": {
        "colab": {
          "base_uri": "https://localhost:8080/"
        },
        "id": "61jz-PB9inDj",
        "outputId": "266db495-0b92-4bd2-967b-67a400bd9d42"
      },
      "execution_count": null,
      "outputs": [
        {
          "output_type": "stream",
          "name": "stdout",
          "text": [
            "Evaluating InceptionV3 model on the imbalanced validation set:\n",
            "\u001b[1m2/2\u001b[0m \u001b[32m━━━━━━━━━━━━━━━━━━━━\u001b[0m\u001b[37m\u001b[0m \u001b[1m0s\u001b[0m 125ms/step - accuracy: 0.9139 - loss: 27.2117\n",
            "Validation Loss (Oversampled): 21.0672\n",
            "Validation Accuracy (Oversampled): 0.9333\n",
            "\n",
            "Evaluating InceptionV3 model on the imbalanced test set:\n",
            "\u001b[1m2/2\u001b[0m \u001b[32m━━━━━━━━━━━━━━━━━━━━\u001b[0m\u001b[37m\u001b[0m \u001b[1m5s\u001b[0m 5s/step - accuracy: 0.8610 - loss: 40.7390\n",
            "Test Loss (Oversampled): 31.3479\n",
            "Test Accuracy (Oversampled): 0.8852\n"
          ]
        }
      ]
    },
    {
      "cell_type": "code",
      "source": [
        "from sklearn.metrics import classification_report, confusion_matrix\n",
        "import numpy as np\n",
        "import seaborn as sns\n",
        "import matplotlib.pyplot as plt\n",
        "\n",
        "# Get class names (assuming class_names is defined from previous steps)\n",
        "if 'class_names' not in locals():\n",
        "    class_names = ['Arctocephalus_galapagoensis', 'Zalophus_wollebaeki']\n",
        "    print(f\"Using default class names: {class_names}\")\n",
        "\n",
        "# --- Evaluate on Test Set ---\n",
        "# Get true labels from the test dataset\n",
        "test_true_labels = []\n",
        "for images, labels in test_ds:\n",
        "    test_true_labels.extend(np.argmax(labels.numpy(), axis=1))\n",
        "test_true_labels = np.array(test_true_labels)\n",
        "\n",
        "# Get predicted labels from the InceptionV3 oversampled model on the test dataset\n",
        "test_predictions_oversampled_inceptionv3 = inceptionv3_model_oversampled.predict(test_ds)\n",
        "test_predicted_labels_oversampled_inceptionv3 = np.argmax(test_predictions_oversampled_inceptionv3, axis=1)\n",
        "\n",
        "# Generate and print the classification report for the test set\n",
        "print(\"Classification Report for InceptionV3 model on Oversampled Test Set:\")\n",
        "print(classification_report(test_true_labels, test_predicted_labels_oversampled_inceptionv3, target_names=class_names))\n",
        "\n",
        "# Generate confusion matrix for the test set\n",
        "test_cm_oversampled_inceptionv3 = confusion_matrix(test_true_labels, test_predicted_labels_oversampled_inceptionv3)\n",
        "\n",
        "# Plot confusion matrix for the test set using seaborn\n",
        "plt.figure(figsize=(8, 6))\n",
        "sns.heatmap(test_cm_oversampled_inceptionv3, annot=True, fmt='d', cmap='Blues', xticklabels=class_names, yticklabels=class_names)\n",
        "plt.title('Confusion Matrix - InceptionV3 on Oversampled Test Set')\n",
        "plt.xlabel('Predicted Label')\n",
        "plt.ylabel('True Label')\n",
        "plt.show()\n",
        "\n",
        "\n",
        "# --- Evaluate on Validation Set ---\n",
        "# Get true labels from the validation dataset\n",
        "val_true_labels = []\n",
        "for images, labels in val_ds:\n",
        "    val_true_labels.extend(np.argmax(labels.numpy(), axis=1))\n",
        "val_true_labels = np.array(val_true_labels)\n",
        "\n",
        "# Get predicted labels from the InceptionV3 oversampled model on the validation dataset\n",
        "val_predictions_oversampled_inceptionv3 = inceptionv3_model_oversampled.predict(val_ds)\n",
        "val_predicted_labels_oversampled_inceptionv3 = np.argmax(val_predictions_oversampled_inceptionv3, axis=1)\n",
        "\n",
        "# Generate and print the classification report for the validation set\n",
        "print(\"\\nClassification Report for InceptionV3 model on Oversampled Validation Set:\")\n",
        "print(classification_report(val_true_labels, val_predicted_labels_oversampled_inceptionv3, target_names=class_names))\n",
        "\n",
        "# Generate confusion matrix for the validation set\n",
        "val_cm_oversampled_inceptionv3 = confusion_matrix(val_true_labels, val_predicted_labels_oversampled_inceptionv3)\n",
        "\n",
        "# Plot confusion matrix for the validation set using seaborn\n",
        "plt.figure(figsize=(8, 6))\n",
        "sns.heatmap(val_cm_oversampled_inceptionv3, annot=True, fmt='d', cmap='Blues', xticklabels=class_names, yticklabels=class_names)\n",
        "plt.title('Confusion Matrix - InceptionV3 on Oversampled Validation Set')\n",
        "plt.xlabel('Predicted Label')\n",
        "plt.ylabel('True Label')\n",
        "plt.show()"
      ],
      "metadata": {
        "colab": {
          "base_uri": "https://localhost:8080/",
          "height": 1000
        },
        "id": "sjI8LTLkjeX6",
        "outputId": "b0c209ae-bfe6-4fb4-dda5-5408a235ab83"
      },
      "execution_count": null,
      "outputs": [
        {
          "output_type": "stream",
          "name": "stdout",
          "text": [
            "\u001b[1m2/2\u001b[0m \u001b[32m━━━━━━━━━━━━━━━━━━━━\u001b[0m\u001b[37m\u001b[0m \u001b[1m13s\u001b[0m 6s/step\n",
            "Classification Report for InceptionV3 model on Oversampled Test Set:\n",
            "                             precision    recall  f1-score   support\n",
            "\n",
            "Arctocephalus_galapagoensis       0.00      0.00      0.00         6\n",
            "        Zalophus_wollebaeki       0.90      0.98      0.94        55\n",
            "\n",
            "                   accuracy                           0.89        61\n",
            "                  macro avg       0.45      0.49      0.47        61\n",
            "               weighted avg       0.81      0.89      0.85        61\n",
            "\n"
          ]
        },
        {
          "output_type": "display_data",
          "data": {
            "text/plain": [
              "<Figure size 800x600 with 2 Axes>"
            ],
            "image/png": "[encoded data removed]"
          },
          "metadata": {}
        },
        {
          "output_type": "stream",
          "name": "stdout",
          "text": [
            "\u001b[1m2/2\u001b[0m \u001b[32m━━━━━━━━━━━━━━━━━━━━\u001b[0m\u001b[37m\u001b[0m \u001b[1m4s\u001b[0m 4s/step\n",
            "\n",
            "Classification Report for InceptionV3 model on Oversampled Validation Set:\n",
            "                             precision    recall  f1-score   support\n",
            "\n",
            "Arctocephalus_galapagoensis       0.00      0.00      0.00         4\n",
            "        Zalophus_wollebaeki       0.93      1.00      0.97        56\n",
            "\n",
            "                   accuracy                           0.93        60\n",
            "                  macro avg       0.47      0.50      0.48        60\n",
            "               weighted avg       0.87      0.93      0.90        60\n",
            "\n"
          ]
        },
        {
          "output_type": "stream",
          "name": "stderr",
          "text": [
            "/usr/local/lib/python3.12/dist-packages/sklearn/metrics/_classification.py:1565: UndefinedMetricWarning: Precision is ill-defined and being set to 0.0 in labels with no predicted samples. Use `zero_division` parameter to control this behavior.\n",
            "  _warn_prf(average, modifier, f\"{metric.capitalize()} is\", len(result))\n",
            "/usr/local/lib/python3.12/dist-packages/sklearn/metrics/_classification.py:1565: UndefinedMetricWarning: Precision is ill-defined and being set to 0.0 in labels with no predicted samples. Use `zero_division` parameter to control this behavior.\n",
            "  _warn_prf(average, modifier, f\"{metric.capitalize()} is\", len(result))\n",
            "/usr/local/lib/python3.12/dist-packages/sklearn/metrics/_classification.py:1565: UndefinedMetricWarning: Precision is ill-defined and being set to 0.0 in labels with no predicted samples. Use `zero_division` parameter to control this behavior.\n",
            "  _warn_prf(average, modifier, f\"{metric.capitalize()} is\", len(result))\n"
          ]
        },
        {
          "output_type": "display_data",
          "data": {
            "text/plain": [
              "<Figure size 800x600 with 2 Axes>"
            ],
            "image/png": "[encoded data removed]"
          },
          "metadata": {}
        }
      ]
    }
  ]
}